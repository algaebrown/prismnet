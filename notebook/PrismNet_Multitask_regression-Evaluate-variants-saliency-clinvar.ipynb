{
 "cells": [
  {
   "cell_type": "markdown",
   "id": "b649278e",
   "metadata": {},
   "source": [
    "#follow this to install prismnet\n",
    "https://github.com/kuixu/PrismNet"
   ]
  },
  {
   "cell_type": "code",
   "execution_count": 1,
   "id": "0e17a279",
   "metadata": {},
   "outputs": [],
   "source": [
    "import argparse, os, random\n",
    "import torch\n",
    "import torch.nn as nn\n",
    "import torch.nn.functional as F\n",
    "import torch.optim as optim\n",
    "from torch.optim import lr_scheduler\n",
    "from sklearn import metrics\n",
    "import numpy as np\n",
    "from prismnet.model.utils import GradualWarmupScheduler\n",
    "from prismnet.utils import datautils\n",
    "\n",
    "# modified code\n",
    "from model import PrismNet_Multitask\n",
    "from dataloader_unmask import SeqicSHAPE_Multitask\n",
    "\n",
    "import pandas as pd\n",
    "import seaborn as sns\n",
    "import matplotlib.pyplot as plt"
   ]
  },
  {
   "cell_type": "code",
   "execution_count": 2,
   "id": "1cdfc960",
   "metadata": {},
   "outputs": [],
   "source": [
    "def train(model, device, train_loader, criterion, optimizer):\n",
    "    ''' train for one epoch'''\n",
    "    model.train()\n",
    "    epoch_loss = 0\n",
    "    for batch_idx, (x0, y0) in enumerate(train_loader):\n",
    "        x, y = x0.float().to(device), y0.to(device).float()\n",
    "        \n",
    "        optimizer.zero_grad()\n",
    "        output = model(x)\n",
    "        \n",
    "        loss = criterion(output, y)\n",
    "        epoch_loss+=loss.item()\n",
    "        loss.backward()\n",
    "        \n",
    "        torch.nn.utils.clip_grad_norm_(model.parameters(), 5)\n",
    "        optimizer.step()\n",
    "\n",
    "    return epoch_loss\n",
    "def validate(model, device, test_loader, criterion):\n",
    "    model.eval()\n",
    "    y_all = []\n",
    "    p_all = []\n",
    "    l_all = []\n",
    "    epoch_loss = 0\n",
    "    with torch.no_grad():\n",
    "        for batch_idx, (x0, y0) in enumerate(test_loader):\n",
    "            x, y = x0.float().to(device), y0.to(device).float()\n",
    "            \n",
    "            \n",
    "            output  = model(x)\n",
    "            loss = criterion(output, y)\n",
    "            \n",
    "            epoch_loss += loss.item()\n",
    "            y_np = output.to(device='cpu', dtype=torch.float32).numpy()\n",
    "            y_all.append(y_np)\n",
    "            \n",
    "    y_pred=np.concatenate(y_all)\n",
    "    return epoch_loss, y_pred"
   ]
  },
  {
   "cell_type": "code",
   "execution_count": 3,
   "id": "1218a44d",
   "metadata": {},
   "outputs": [
    {
     "name": "stdout",
     "output_type": "stream",
     "text": [
      "Test  set: 88\n",
      "Test  set: 403\n"
     ]
    },
    {
     "name": "stderr",
     "output_type": "stream",
     "text": [
      "[W pthreadpool-cpp.cc:90] Warning: Leaking Caffe2 thread-pool after fork. (function pthreadpool)\n",
      "[W pthreadpool-cpp.cc:90] Warning: Leaking Caffe2 thread-pool after fork. (function pthreadpool)\n"
     ]
    }
   ],
   "source": [
    "outstem = 'K562_rep6'\n",
    "rbp = 'PUM2'\n",
    "megaoutput = pd.read_csv(f'../data/ABC_data/{outstem}.megaoutputs_masked.tsv', sep = '\\t')\n",
    "seq = pd.read_csv(f'../data/ABC_data/tsv/{outstem}.DDX3.tsv', sep = '\\t', names = ['chrom', 'name', \n",
    "                                                                                 'seq', 'struct', 'label', 'start'])\n",
    "# read variants\n",
    "variants = pd.read_csv(f'../data/variant_clinvar/{outstem}.{rbp}.csv')\n",
    "max_length=seq['seq'].str.len().max()\n",
    "variants = variants.loc[variants['variant_seq'].str.len()<=max_length]\n",
    "\n",
    "# also score normal things\n",
    "seq = seq.loc[seq['name'].isin(variants['name'])]\n",
    "\n",
    "# convert to neural network input formats\n",
    "one_hot_wt = datautils.convert_one_hot(seq['seq'], max_length)\n",
    "one_hot_var = datautils.convert_one_hot(variants['variant_seq'], max_length)\n",
    "\n",
    "# targets: predict binary\n",
    "target_col = megaoutput.columns[(megaoutput.columns.str.startswith('logLR'))&(megaoutput.columns.str.contains(outstem))]\n",
    "target_df = megaoutput.set_index('name').loc[seq['name'],target_col]\n",
    "targets_wt = target_df.values\n",
    "targets_var = variants.merge(target_df, left_on = 'name', right_index = True)[target_df.columns].values\n",
    "\n",
    "# load model\n",
    "model = PrismNet_Multitask(mode = 'seq', output_dim = targets_wt.shape[1])\n",
    "use_cuda = torch.cuda.is_available()\n",
    "device = torch.device(\"cuda\" if use_cuda else \"cpu\")\n",
    "model = model.to(device)\n",
    "model.load_state_dict(torch.load(f'../data/ABC_data/{outstem}.maskw.model.pt'))\n",
    "\n",
    "# load into dataloader\n",
    "kwargs = {'num_workers': 2, 'pin_memory': True} if use_cuda else {}\n",
    "test_loader  = torch.utils.data.DataLoader(\n",
    "    SeqicSHAPE_Multitask(one_hot_wt, targets_wt, is_infer=False, use_structure=False),\n",
    "batch_size=64*8, shuffle=False, **kwargs)\n",
    "\n",
    "test_loader_var  = torch.utils.data.DataLoader(\n",
    "    SeqicSHAPE_Multitask(one_hot_var, targets_var, is_infer=False, use_structure=False),\n",
    "batch_size=64*8, shuffle=False, **kwargs)\n",
    "\n",
    "\n",
    "print(\"Test  set:\", len(test_loader.dataset))\n",
    "print(\"Test  set:\", len(test_loader_var.dataset))\n",
    "\n",
    "\n",
    "criterion = torch.nn.MSELoss()\n",
    "\n",
    "# inference\n",
    "loss_test, y_pred = validate(model, device, test_loader, criterion)\n",
    "loss_test_var, y_pred_var = validate(model, device, test_loader_var, criterion)\n",
    "\n",
    "# join variant scores\n",
    "y_pred_var_df = pd.DataFrame(y_pred_var, index = variants.index, columns = target_df.columns)\n",
    "y_pred_wt_df = pd.DataFrame(y_pred, index = seq['name'], columns = target_df.columns)\n",
    "variants[f'variant_score_{rbp}'] = y_pred_var_df[f'logLR:{outstem}.{rbp}']\n",
    "variants[f'wt_score_{rbp}'] = variants['name'].map(y_pred_wt_df[f'logLR:{outstem}.{rbp}'])\n",
    "variants['delta_score'] = (variants[f'variant_score_{rbp}']-variants[f'wt_score_{rbp}'])"
   ]
  },
  {
   "cell_type": "code",
   "execution_count": 4,
   "id": "e6ae85cf",
   "metadata": {},
   "outputs": [
    {
     "name": "stderr",
     "output_type": "stream",
     "text": [
      "/tmp/ipykernel_4112/1490969642.py:8: SettingWithCopyWarning: \n",
      "A value is trying to be set on a copy of a slice from a DataFrame.\n",
      "Try using .loc[row_indexer,col_indexer] = value instead\n",
      "\n",
      "See the caveats in the documentation: https://pandas.pydata.org/pandas-docs/stable/user_guide/indexing.html#returning-a-view-versus-a-copy\n",
      "  neg_selected_var['rbp_idx'] = np.arange(neg_selected_var.shape[0])\n"
     ]
    }
   ],
   "source": [
    "from saliency import get_saliency\n",
    "\n",
    "# making saliency is slow, make smaller subset\n",
    "neg_selected_var = variants.loc[(variants['delta_score']<-0.5)]\n",
    "gof_var = variants.loc[(variants['delta_score']>1)]\n",
    "\n",
    "# calculate index in tensor\n",
    "neg_selected_var['rbp_idx'] = np.arange(neg_selected_var.shape[0])\n",
    "seq['rbp_idx'] = np.arange(seq.shape[0])\n",
    "gof_var['rbp_idx'] = np.arange(gof_var.shape[0])\n",
    "\n"
   ]
  },
  {
   "cell_type": "code",
   "execution_count": 8,
   "id": "c7ba177f",
   "metadata": {},
   "outputs": [
    {
     "data": {
      "text/plain": [
       "True"
      ]
     },
     "execution_count": 8,
     "metadata": {},
     "output_type": "execute_result"
    }
   ],
   "source": []
  },
  {
   "cell_type": "code",
   "execution_count": 9,
   "id": "9784c9ba",
   "metadata": {},
   "outputs": [],
   "source": [
    "# get into dataloader\n",
    "one_hot_negvar = datautils.convert_one_hot(neg_selected_var['variant_seq'], max_length)\n",
    "targets_var = neg_selected_var.merge(target_df, left_on = 'name', right_index = True)[target_df.columns].values\n",
    "\n",
    "\n",
    "test_loader_negvar  = torch.utils.data.DataLoader(\n",
    "    SeqicSHAPE_Multitask(one_hot_negvar, targets_var, is_infer=False, use_structure=False),\n",
    "batch_size=64*8, shuffle=False, **kwargs)\n",
    "\n",
    "# get into dataloader\n",
    "if not gof_var.empty:\n",
    "    one_hot_gofvar = datautils.convert_one_hot(gof_var['variant_seq'], max_length)\n",
    "    targets_gofvar = gof_var.merge(target_df, left_on = 'name', right_index = True)[target_df.columns].values\n",
    "\n",
    "    test_loader_gofvar  = torch.utils.data.DataLoader(\n",
    "        SeqicSHAPE_Multitask(one_hot_gofvar, targets_gofvar, is_infer=False, use_structure=False),\n",
    "    batch_size=64*8, shuffle=False, **kwargs)\n"
   ]
  },
  {
   "cell_type": "code",
   "execution_count": 10,
   "id": "b2d14ed6",
   "metadata": {},
   "outputs": [
    {
     "name": "stderr",
     "output_type": "stream",
     "text": [
      "[W pthreadpool-cpp.cc:90] Warning: Leaking Caffe2 thread-pool after fork. (function pthreadpool)\n",
      "[W pthreadpool-cpp.cc:90] Warning: Leaking Caffe2 thread-pool after fork. (function pthreadpool)\n",
      "[W pthreadpool-cpp.cc:90] Warning: Leaking Caffe2 thread-pool after fork. (function pthreadpool)\n",
      "[W pthreadpool-cpp.cc:90] Warning: Leaking Caffe2 thread-pool after fork. (function pthreadpool)\n"
     ]
    }
   ],
   "source": [
    "saliency_wt = get_saliency(model, test_loader, rbp, target_col)\n",
    "saliency_var = get_saliency(model, test_loader_negvar, rbp, target_col)\n",
    "if not gof_var.empty:\n",
    "    saliency_gofvar = get_saliency(model, test_loader_gofvar, rbp, target_col)"
   ]
  },
  {
   "cell_type": "code",
   "execution_count": 11,
   "id": "a178abf5",
   "metadata": {},
   "outputs": [
    {
     "name": "stdout",
     "output_type": "stream",
     "text": [
      "Requirement already satisfied: pybigwig in /opt/conda/lib/python3.9/site-packages (0.3.22)\n",
      "\u001b[33mWARNING: You are using pip version 22.0.3; however, version 23.3.1 is available.\n",
      "You should consider upgrading via the '/opt/conda/bin/python3.9 -m pip install --upgrade pip' command.\u001b[0m\u001b[33m\n",
      "\u001b[0mRequirement already satisfied: logomaker in /opt/conda/lib/python3.9/site-packages (0.8)\n",
      "Requirement already satisfied: pandas in /opt/conda/lib/python3.9/site-packages (from logomaker) (1.3.4)\n",
      "Requirement already satisfied: numpy in /home/hsher/.local/lib/python3.9/site-packages (from logomaker) (1.22.2)\n",
      "Requirement already satisfied: matplotlib in /opt/conda/lib/python3.9/site-packages (from logomaker) (3.4.2)\n",
      "Requirement already satisfied: pillow>=6.2.0 in /opt/conda/lib/python3.9/site-packages (from matplotlib->logomaker) (6.2.2)\n",
      "Requirement already satisfied: pyparsing>=2.2.1 in /opt/conda/lib/python3.9/site-packages (from matplotlib->logomaker) (2.4.7)\n",
      "Requirement already satisfied: kiwisolver>=1.0.1 in /opt/conda/lib/python3.9/site-packages (from matplotlib->logomaker) (1.3.1)\n",
      "Requirement already satisfied: python-dateutil>=2.7 in /opt/conda/lib/python3.9/site-packages (from matplotlib->logomaker) (2.8.2)\n",
      "Requirement already satisfied: cycler>=0.10 in /opt/conda/lib/python3.9/site-packages (from matplotlib->logomaker) (0.10.0)\n",
      "Requirement already satisfied: pytz>=2017.3 in /opt/conda/lib/python3.9/site-packages (from pandas->logomaker) (2021.1)\n",
      "Requirement already satisfied: six in /opt/conda/lib/python3.9/site-packages (from cycler>=0.10->matplotlib->logomaker) (1.15.0)\n",
      "\u001b[33mWARNING: You are using pip version 22.0.3; however, version 23.3.1 is available.\n",
      "You should consider upgrading via the '/opt/conda/bin/python3.9 -m pip install --upgrade pip' command.\u001b[0m\u001b[33m\n",
      "\u001b[0m"
     ]
    }
   ],
   "source": [
    "# visualization\n",
    "!pip install pybigwig\n",
    "!pip install logomaker"
   ]
  },
  {
   "cell_type": "code",
   "execution_count": 12,
   "id": "868970a1",
   "metadata": {},
   "outputs": [],
   "source": [
    "\n",
    "import pyBigWig\n",
    "import numpy as np\n",
    "\n",
    "class strand_specific_wig:\n",
    "    def __init__(self, plus, minus):\n",
    "        self.plus = pyBigWig.open(plus)\n",
    "        self.minus = pyBigWig.open(minus)\n",
    "        \n",
    "    def fetch(self, chrom = None, start= None, end=None, strand= None, interval = None):\n",
    "        ''' return icSHAPE reacitivity for a bedtool interval or chrom, start, end, strand'''\n",
    "        if interval:\n",
    "            start = interval.start\n",
    "            end = interval.end\n",
    "            strand = interval.strand\n",
    "            chrom = interval.chrom\n",
    "        if strand == '-':\n",
    "            icshape_data = self.minus\n",
    "        else:\n",
    "            icshape_data = self.plus\n",
    "        values = icshape_data.values(chrom, start, end)\n",
    "        if strand == '-':\n",
    "            values = values[::-1]\n",
    "        return np.nan_to_num(np.array(values), 0)"
   ]
  },
  {
   "cell_type": "code",
   "execution_count": 13,
   "id": "88337251",
   "metadata": {},
   "outputs": [],
   "source": [
    "rbp_wig_cits = strand_specific_wig(f'../data/CITS/{rbp}.pos.bw',\n",
    "                                 f'../data/CITS/{rbp}.neg.bw'\n",
    "                                 )\n",
    "rbp_wig_cov = strand_specific_wig(f'../data/COV/{rbp}.pos.bw',\n",
    "                             f'../data/COV/{rbp}.neg.bw'\n",
    "                             )"
   ]
  },
  {
   "cell_type": "code",
   "execution_count": 14,
   "id": "b0af877f",
   "metadata": {},
   "outputs": [],
   "source": [
    "import seaborn as sns\n",
    "import logomaker\n",
    "import matplotlib.pyplot as plt\n",
    "\n",
    "def plot_saliency(gs, index, subset_seq_df, one_hot):\n",
    "    index2seq = 'ACGU'\n",
    "    \n",
    "\n",
    "    # find coverage\n",
    "    window_name = subset_seq_df.iloc[index]['name']\n",
    "    print(window_name)\n",
    "    row = megaoutput.loc[megaoutput['name']==window_name].iloc[0]\n",
    "    wig_values = rbp_wig_cov.fetch(row['chrom'], row['start'], row['end'], row['strand'])\n",
    "    wig_values_cits = rbp_wig_cits.fetch(row['chrom'], row['start'], row['end'], row['strand'])\n",
    "\n",
    "    seq_values = one_hot[index,:,:] # [1,4,100]\n",
    "    gradient_values = gs[index,0,:,:].cpu().numpy() # [1,1,100,4]\n",
    "    saliency_values = gradient_values * seq_values.T # 4*100\n",
    "    saliency_df = pd.DataFrame(saliency_values.T)\n",
    "    saliency_df.index = list(index2seq)\n",
    "\n",
    "    saliency_df = saliency_df.loc[:, seq_values.sum(axis = 0)!=0].T\n",
    "    saliency_df.index = np.arange(saliency_df.shape[0])\n",
    "\n",
    "    f, ax = plt.subplots(2,1, sharex = True, figsize = (12,4))\n",
    "    logomaker.Logo(saliency_df, # only plot places with sequence\n",
    "                              shade_below=.5,\n",
    "                              fade_below=.5,\n",
    "                              font_name='Arial Rounded MT Bold', \n",
    "                  ax = ax[0])\n",
    "\n",
    "\n",
    "    ax[0].set_ylabel('saliency')\n",
    "    ax[1].bar(np.arange(len(wig_values)), wig_values, color = 'lightgrey')\n",
    "    ax[1].set_ylabel('coverage')\n",
    "    ax[0].set_title(row['chrom'] + ':'+str(row['start'])+'-'+str(row['end'])+':'+row['strand'])\n",
    "    sns.despine()\n",
    "    \n",
    "    if 'POS' in subset_seq_df.iloc[index]:\n",
    "        print(subset_seq_df.iloc[index]['POS']-row['start'])\n",
    "        if row['strand']=='+':\n",
    "            index = subset_seq_df.iloc[index]['POS']-row['start']\n",
    "            \n",
    "        else:\n",
    "            index = row['end']-subset_seq_df.iloc[index]['POS']\n",
    "        ax[0].text(index-0.5, max(saliency_values[index,:]), '*')"
   ]
  },
  {
   "cell_type": "markdown",
   "id": "95f5ebd0",
   "metadata": {},
   "source": [
    "# Visualize saliency"
   ]
  },
  {
   "cell_type": "code",
   "execution_count": 15,
   "id": "f352ed72",
   "metadata": {},
   "outputs": [
    {
     "data": {
      "text/html": [
       "<div>\n",
       "<style scoped>\n",
       "    .dataframe tbody tr th:only-of-type {\n",
       "        vertical-align: middle;\n",
       "    }\n",
       "\n",
       "    .dataframe tbody tr th {\n",
       "        vertical-align: top;\n",
       "    }\n",
       "\n",
       "    .dataframe thead th {\n",
       "        text-align: right;\n",
       "    }\n",
       "</style>\n",
       "<table border=\"1\" class=\"dataframe\">\n",
       "  <thead>\n",
       "    <tr style=\"text-align: right;\">\n",
       "      <th></th>\n",
       "      <th>Unnamed: 0</th>\n",
       "      <th>CHROM</th>\n",
       "      <th>POS</th>\n",
       "      <th>ID</th>\n",
       "      <th>REF</th>\n",
       "      <th>ALT</th>\n",
       "      <th>name</th>\n",
       "      <th>variant_seq</th>\n",
       "      <th>feature_type_top</th>\n",
       "      <th>feature_types</th>\n",
       "      <th>gene_name</th>\n",
       "      <th>transcript_types</th>\n",
       "      <th>transcript_type_top</th>\n",
       "      <th>INFO/CLNDN</th>\n",
       "      <th>INFO/CLNVC</th>\n",
       "      <th>INFO/CLNSIG</th>\n",
       "      <th>variant_score_PUM2</th>\n",
       "      <th>wt_score_PUM2</th>\n",
       "      <th>delta_score</th>\n",
       "      <th>rbp_idx</th>\n",
       "    </tr>\n",
       "  </thead>\n",
       "  <tbody>\n",
       "    <tr>\n",
       "      <th>31</th>\n",
       "      <td>61</td>\n",
       "      <td>chr12</td>\n",
       "      <td>12722100</td>\n",
       "      <td>307690</td>\n",
       "      <td>C</td>\n",
       "      <td>T</td>\n",
       "      <td>3778767</td>\n",
       "      <td>AACCATTTGAAGTGTACCTGTGTATATAACTCTGTAAAAACACTGA...</td>\n",
       "      <td>UTR3</td>\n",
       "      <td>UTR3:EXON_MRNA</td>\n",
       "      <td>CDKN1B</td>\n",
       "      <td>protein_coding</td>\n",
       "      <td>protein_coding</td>\n",
       "      <td>Multiple_endocrine_neoplasia_type_4</td>\n",
       "      <td>single_nucleotide_variant</td>\n",
       "      <td>Uncertain_significance</td>\n",
       "      <td>0.937332</td>\n",
       "      <td>2.057527</td>\n",
       "      <td>-1.120195</td>\n",
       "      <td>1</td>\n",
       "    </tr>\n",
       "  </tbody>\n",
       "</table>\n",
       "</div>"
      ],
      "text/plain": [
       "    Unnamed: 0  CHROM       POS      ID REF ALT     name  \\\n",
       "31          61  chr12  12722100  307690   C   T  3778767   \n",
       "\n",
       "                                          variant_seq feature_type_top  \\\n",
       "31  AACCATTTGAAGTGTACCTGTGTATATAACTCTGTAAAAACACTGA...             UTR3   \n",
       "\n",
       "     feature_types gene_name transcript_types transcript_type_top  \\\n",
       "31  UTR3:EXON_MRNA    CDKN1B   protein_coding      protein_coding   \n",
       "\n",
       "                             INFO/CLNDN                 INFO/CLNVC  \\\n",
       "31  Multiple_endocrine_neoplasia_type_4  single_nucleotide_variant   \n",
       "\n",
       "               INFO/CLNSIG  variant_score_PUM2  wt_score_PUM2  delta_score  \\\n",
       "31  Uncertain_significance            0.937332       2.057527    -1.120195   \n",
       "\n",
       "    rbp_idx  \n",
       "31        1  "
      ]
     },
     "execution_count": 15,
     "metadata": {},
     "output_type": "execute_result"
    }
   ],
   "source": [
    "#neg_selected_var.loc[neg_selected_var['gene_name']=='POLD1'] # RBFOX2\n",
    "neg_selected_var.loc[neg_selected_var['gene_name']=='CDKN1B'] # RBFOX2"
   ]
  },
  {
   "cell_type": "code",
   "execution_count": 24,
   "id": "63805e2a",
   "metadata": {},
   "outputs": [
    {
     "data": {
      "text/html": [
       "<div>\n",
       "<style scoped>\n",
       "    .dataframe tbody tr th:only-of-type {\n",
       "        vertical-align: middle;\n",
       "    }\n",
       "\n",
       "    .dataframe tbody tr th {\n",
       "        vertical-align: top;\n",
       "    }\n",
       "\n",
       "    .dataframe thead th {\n",
       "        text-align: right;\n",
       "    }\n",
       "</style>\n",
       "<table border=\"1\" class=\"dataframe\">\n",
       "  <thead>\n",
       "    <tr style=\"text-align: right;\">\n",
       "      <th></th>\n",
       "      <th>Unnamed: 0</th>\n",
       "      <th>CHROM</th>\n",
       "      <th>POS</th>\n",
       "      <th>ID</th>\n",
       "      <th>REF</th>\n",
       "      <th>ALT</th>\n",
       "      <th>name</th>\n",
       "      <th>variant_seq</th>\n",
       "      <th>feature_type_top</th>\n",
       "      <th>feature_types</th>\n",
       "      <th>gene_name</th>\n",
       "      <th>transcript_types</th>\n",
       "      <th>transcript_type_top</th>\n",
       "      <th>INFO/CLNDN</th>\n",
       "      <th>INFO/CLNVC</th>\n",
       "      <th>INFO/CLNSIG</th>\n",
       "      <th>variant_score_PUM2</th>\n",
       "      <th>wt_score_PUM2</th>\n",
       "      <th>delta_score</th>\n",
       "      <th>rbp_idx</th>\n",
       "    </tr>\n",
       "  </thead>\n",
       "  <tbody>\n",
       "    <tr>\n",
       "      <th>13</th>\n",
       "      <td>31</td>\n",
       "      <td>chr10</td>\n",
       "      <td>110604338</td>\n",
       "      <td>879046</td>\n",
       "      <td>A</td>\n",
       "      <td>G</td>\n",
       "      <td>3345901</td>\n",
       "      <td>TTGGAAAATACTACCTACTGGTTTGGGAGATGTATGTAGTAATATG...</td>\n",
       "      <td>UTR3</td>\n",
       "      <td>UTR3:EXON_MRNA</td>\n",
       "      <td>SMC3</td>\n",
       "      <td>protein_coding</td>\n",
       "      <td>protein_coding</td>\n",
       "      <td>Cornelia_de_Lange_syndrome_3</td>\n",
       "      <td>single_nucleotide_variant</td>\n",
       "      <td>Uncertain_significance</td>\n",
       "      <td>-0.188689</td>\n",
       "      <td>1.541439</td>\n",
       "      <td>-1.730128</td>\n",
       "      <td>0</td>\n",
       "    </tr>\n",
       "    <tr>\n",
       "      <th>31</th>\n",
       "      <td>61</td>\n",
       "      <td>chr12</td>\n",
       "      <td>12722100</td>\n",
       "      <td>307690</td>\n",
       "      <td>C</td>\n",
       "      <td>T</td>\n",
       "      <td>3778767</td>\n",
       "      <td>AACCATTTGAAGTGTACCTGTGTATATAACTCTGTAAAAACACTGA...</td>\n",
       "      <td>UTR3</td>\n",
       "      <td>UTR3:EXON_MRNA</td>\n",
       "      <td>CDKN1B</td>\n",
       "      <td>protein_coding</td>\n",
       "      <td>protein_coding</td>\n",
       "      <td>Multiple_endocrine_neoplasia_type_4</td>\n",
       "      <td>single_nucleotide_variant</td>\n",
       "      <td>Uncertain_significance</td>\n",
       "      <td>0.937332</td>\n",
       "      <td>2.057527</td>\n",
       "      <td>-1.120195</td>\n",
       "      <td>1</td>\n",
       "    </tr>\n",
       "    <tr>\n",
       "      <th>91</th>\n",
       "      <td>214</td>\n",
       "      <td>chr3</td>\n",
       "      <td>38484965</td>\n",
       "      <td>902008</td>\n",
       "      <td>C</td>\n",
       "      <td>G</td>\n",
       "      <td>1077073</td>\n",
       "      <td>AAAGTTTGCATCTTCTAGGGAGTGCTACCATTTTTGTTTGATAACG...</td>\n",
       "      <td>UTR3</td>\n",
       "      <td>UTR3:EXON_MRNA</td>\n",
       "      <td>ACVR2B</td>\n",
       "      <td>protein_coding</td>\n",
       "      <td>protein_coding</td>\n",
       "      <td>Heterotaxy,_visceral,_4,_autosomal</td>\n",
       "      <td>single_nucleotide_variant</td>\n",
       "      <td>Uncertain_significance</td>\n",
       "      <td>0.289342</td>\n",
       "      <td>0.974820</td>\n",
       "      <td>-0.685477</td>\n",
       "      <td>2</td>\n",
       "    </tr>\n",
       "    <tr>\n",
       "      <th>121</th>\n",
       "      <td>248</td>\n",
       "      <td>chr3</td>\n",
       "      <td>197951294</td>\n",
       "      <td>2070883</td>\n",
       "      <td>T</td>\n",
       "      <td>C</td>\n",
       "      <td>1221347</td>\n",
       "      <td>GCACACAGCTCTTCTTAAAATTGAAGGTGTTTACGCCCGAGATGAA...</td>\n",
       "      <td>CDS_STOP</td>\n",
       "      <td>CDS_STOP:CDS:EXON_MRNA:EXON_LNCRNA:SS5_ADJ:SS5...</td>\n",
       "      <td>RPL35A</td>\n",
       "      <td>protein_coding:retained_intron:nonsense_mediat...</td>\n",
       "      <td>protein_coding</td>\n",
       "      <td>Diamond-Blackfan_anemia_5</td>\n",
       "      <td>single_nucleotide_variant</td>\n",
       "      <td>Likely_benign</td>\n",
       "      <td>-0.018414</td>\n",
       "      <td>0.986099</td>\n",
       "      <td>-1.004513</td>\n",
       "      <td>3</td>\n",
       "    </tr>\n",
       "    <tr>\n",
       "      <th>312</th>\n",
       "      <td>177</td>\n",
       "      <td>chr2</td>\n",
       "      <td>96274951</td>\n",
       "      <td>337522</td>\n",
       "      <td>A</td>\n",
       "      <td>G</td>\n",
       "      <td>917623</td>\n",
       "      <td>GTCCTGAGGCATTTACTTTTGGGTAAAGGAGAGTTGAGCCTGAATT...</td>\n",
       "      <td>UTR3</td>\n",
       "      <td>UTR3:EXON_MRNA</td>\n",
       "      <td>SNRNP200</td>\n",
       "      <td>protein_coding:retained_intron</td>\n",
       "      <td>protein_coding</td>\n",
       "      <td>Retinitis_pigmentosa</td>\n",
       "      <td>single_nucleotide_variant</td>\n",
       "      <td>Uncertain_significance</td>\n",
       "      <td>-0.294685</td>\n",
       "      <td>0.239152</td>\n",
       "      <td>-0.533837</td>\n",
       "      <td>4</td>\n",
       "    </tr>\n",
       "  </tbody>\n",
       "</table>\n",
       "</div>"
      ],
      "text/plain": [
       "     Unnamed: 0  CHROM        POS       ID REF ALT     name  \\\n",
       "13           31  chr10  110604338   879046   A   G  3345901   \n",
       "31           61  chr12   12722100   307690   C   T  3778767   \n",
       "91          214   chr3   38484965   902008   C   G  1077073   \n",
       "121         248   chr3  197951294  2070883   T   C  1221347   \n",
       "312         177   chr2   96274951   337522   A   G   917623   \n",
       "\n",
       "                                           variant_seq feature_type_top  \\\n",
       "13   TTGGAAAATACTACCTACTGGTTTGGGAGATGTATGTAGTAATATG...             UTR3   \n",
       "31   AACCATTTGAAGTGTACCTGTGTATATAACTCTGTAAAAACACTGA...             UTR3   \n",
       "91   AAAGTTTGCATCTTCTAGGGAGTGCTACCATTTTTGTTTGATAACG...             UTR3   \n",
       "121  GCACACAGCTCTTCTTAAAATTGAAGGTGTTTACGCCCGAGATGAA...         CDS_STOP   \n",
       "312  GTCCTGAGGCATTTACTTTTGGGTAAAGGAGAGTTGAGCCTGAATT...             UTR3   \n",
       "\n",
       "                                         feature_types gene_name  \\\n",
       "13                                      UTR3:EXON_MRNA      SMC3   \n",
       "31                                      UTR3:EXON_MRNA    CDKN1B   \n",
       "91                                      UTR3:EXON_MRNA    ACVR2B   \n",
       "121  CDS_STOP:CDS:EXON_MRNA:EXON_LNCRNA:SS5_ADJ:SS5...    RPL35A   \n",
       "312                                     UTR3:EXON_MRNA  SNRNP200   \n",
       "\n",
       "                                      transcript_types transcript_type_top  \\\n",
       "13                                      protein_coding      protein_coding   \n",
       "31                                      protein_coding      protein_coding   \n",
       "91                                      protein_coding      protein_coding   \n",
       "121  protein_coding:retained_intron:nonsense_mediat...      protein_coding   \n",
       "312                     protein_coding:retained_intron      protein_coding   \n",
       "\n",
       "                              INFO/CLNDN                 INFO/CLNVC  \\\n",
       "13          Cornelia_de_Lange_syndrome_3  single_nucleotide_variant   \n",
       "31   Multiple_endocrine_neoplasia_type_4  single_nucleotide_variant   \n",
       "91    Heterotaxy,_visceral,_4,_autosomal  single_nucleotide_variant   \n",
       "121            Diamond-Blackfan_anemia_5  single_nucleotide_variant   \n",
       "312                 Retinitis_pigmentosa  single_nucleotide_variant   \n",
       "\n",
       "                INFO/CLNSIG  variant_score_PUM2  wt_score_PUM2  delta_score  \\\n",
       "13   Uncertain_significance           -0.188689       1.541439    -1.730128   \n",
       "31   Uncertain_significance            0.937332       2.057527    -1.120195   \n",
       "91   Uncertain_significance            0.289342       0.974820    -0.685477   \n",
       "121           Likely_benign           -0.018414       0.986099    -1.004513   \n",
       "312  Uncertain_significance           -0.294685       0.239152    -0.533837   \n",
       "\n",
       "     rbp_idx  \n",
       "13         0  \n",
       "31         1  \n",
       "91         2  \n",
       "121        3  \n",
       "312        4  "
      ]
     },
     "execution_count": 24,
     "metadata": {},
     "output_type": "execute_result"
    }
   ],
   "source": [
    "neg_selected_var"
   ]
  },
  {
   "cell_type": "code",
   "execution_count": 36,
   "id": "820c78f0",
   "metadata": {},
   "outputs": [
    {
     "name": "stdout",
     "output_type": "stream",
     "text": [
      "3778767\n",
      "25\n",
      "3778767\n"
     ]
    },
    {
     "data": {
      "image/png": "[encoded data removed]",
      "text/plain": [
       "<Figure size 864x288 with 2 Axes>"
      ]
     },
     "metadata": {
      "needs_background": "light"
     },
     "output_type": "display_data"
    },
    {
     "data": {
      "image/png": "[encoded data removed]",
      "text/plain": [
       "<Figure size 864x288 with 2 Axes>"
      ]
     },
     "metadata": {
      "needs_background": "light"
     },
     "output_type": "display_data"
    }
   ],
   "source": [
    "var_idx = 1\n",
    "\n",
    "# ALT\n",
    "plot_saliency(saliency_var, var_idx, neg_selected_var, one_hot_negvar)\n",
    "\n",
    "# REF\n",
    "plot_saliency(saliency_wt, seq.loc[seq['name']==neg_selected_var.iloc[var_idx]['name'], 'rbp_idx'].values[0],\n",
    "              seq, one_hot_wt)"
   ]
  },
  {
   "cell_type": "code",
   "execution_count": 29,
   "id": "bedcef61",
   "metadata": {},
   "outputs": [],
   "source": [
    "def plot_saliency_wt_vs_var(gs, index, subset_seq_df, one_hot, # REF\n",
    "                           gs_var, index_var, subset_seq_df_var, one_hot_var, # ALT\n",
    "                            figsize = (10,4)\n",
    "                           ):\n",
    "    # metadata\n",
    "    index2seq = 'ACGU'\n",
    "    window_name = subset_seq_df.iloc[index]['name']\n",
    "    print(window_name)\n",
    "    row = megaoutput.loc[megaoutput['name']==window_name].iloc[0]\n",
    "    print(row['gene_name'])\n",
    "    \n",
    "\n",
    "    # find coverage\n",
    "#     \n",
    "#     wig_values = rbp_wig_cov.fetch(row['chrom'], row['start'], row['end'], row['strand'])\n",
    "#     wig_values_cits = rbp_wig_cits.fetch(row['chrom'], row['start'], row['end'], row['strand'])\n",
    "    \n",
    "    f, ax = plt.subplots(2,1, sharex = True, figsize = figsize)\n",
    "    # REF\n",
    "    seq_values = one_hot[index,:,:] # [1,4,100]\n",
    "    gradient_values = gs[index,0,:,:].cpu().numpy() # [1,1,100,4]\n",
    "    saliency_values = gradient_values * seq_values.T # 4*100\n",
    "    saliency_df = pd.DataFrame(saliency_values.T)\n",
    "    saliency_df.index = list(index2seq)\n",
    "    saliency_df = saliency_df.loc[:, seq_values.sum(axis = 0)!=0].T\n",
    "    saliency_df.index = np.arange(saliency_df.shape[0])\n",
    "    \n",
    "    # ALT\n",
    "    seq_values_var = one_hot_var[index_var,:,:] # [1,4,100]\n",
    "    gradient_values_var = gs_var[index_var,0,:,:].cpu().numpy() # [1,1,100,4]\n",
    "    saliency_values_var = gradient_values_var * seq_values_var.T # 4*100\n",
    "    saliency_df_var = pd.DataFrame(saliency_values_var.T)\n",
    "    saliency_df_var.index = list(index2seq)\n",
    "    saliency_df_var = saliency_df_var.loc[:, seq_values_var.sum(axis = 0)!=0].T\n",
    "    saliency_df_var.index = np.arange(saliency_df_var.shape[0])\n",
    "    \n",
    "    \n",
    "\n",
    "    \n",
    "    \n",
    "    \n",
    "    logomaker.Logo(saliency_df_var, # only plot places with sequence\n",
    "                              shade_below=.5,\n",
    "                              fade_below=.5,\n",
    "                              font_name='Arial Rounded MT Bold', \n",
    "                  ax = ax[1])\n",
    "    \n",
    "    logomaker.Logo(saliency_df, # only plot places with sequence\n",
    "                              shade_below=.5,\n",
    "                              fade_below=.5,\n",
    "                              font_name='Arial Rounded MT Bold', \n",
    "                  ax = ax[0])\n",
    "\n",
    "\n",
    "    ax[0].set_ylabel('REF saliency')\n",
    "    ax[1].set_ylabel('ALT saliency')\n",
    "    \n",
    "    \n",
    "    ax[0].set_title(row['chrom'] + ':'+str(row['start'])+'-'+str(row['end'])+':'+row['strand'])\n",
    "    sns.despine()\n",
    "    \n",
    "    if 'POS' in subset_seq_df_var.iloc[index_var]:\n",
    "        \n",
    "        print(subset_seq_df_var.iloc[index_var]['POS']-row['start'])\n",
    "        if row['strand']=='+':\n",
    "            nu_index = subset_seq_df_var.iloc[index_var]['POS']-row['start']-1\n",
    "            \n",
    "        else:\n",
    "            nu_index = row['end']-subset_seq_df_var.iloc[index_var]['POS']\n",
    "        ax[1].text(nu_index-0.5, max(saliency_values_var[nu_index,:]), '*')"
   ]
  },
  {
   "cell_type": "code",
   "execution_count": null,
   "id": "5e4a1408",
   "metadata": {},
   "outputs": [],
   "source": []
  },
  {
   "cell_type": "code",
   "execution_count": 39,
   "id": "e167f318",
   "metadata": {},
   "outputs": [
    {
     "name": "stdout",
     "output_type": "stream",
     "text": [
      "3345901\n",
      "SMC3\n",
      "36\n"
     ]
    },
    {
     "data": {
      "image/png": "[encoded data removed]",
      "text/plain": [
       "<Figure size 720x288 with 2 Axes>"
      ]
     },
     "metadata": {
      "needs_background": "light"
     },
     "output_type": "display_data"
    }
   ],
   "source": [
    "import matplotlib.pyplot as plt\n",
    "plt.rcParams['pdf.fonttype'] = 42\n",
    "\n",
    "var_idx = 0\n",
    "\n",
    "# ALT\n",
    "plot_saliency_wt_vs_var(\n",
    "    saliency_wt, seq.loc[seq['name']==neg_selected_var.iloc[var_idx]['name'], 'rbp_idx'].values[0],\n",
    "              seq, one_hot_wt,\n",
    "    saliency_var, var_idx, neg_selected_var, one_hot_negvar)\n",
    "\n",
    "plt.savefig('PUM2_SMC3_variants.pdf')"
   ]
  },
  {
   "cell_type": "code",
   "execution_count": 40,
   "id": "4b9ce92d",
   "metadata": {},
   "outputs": [
    {
     "name": "stdout",
     "output_type": "stream",
     "text": [
      "3778767\n",
      "CDKN1B\n",
      "25\n"
     ]
    },
    {
     "data": {
      "image/png": "[encoded data removed]",
      "text/plain": [
       "<Figure size 720x288 with 2 Axes>"
      ]
     },
     "metadata": {
      "needs_background": "light"
     },
     "output_type": "display_data"
    }
   ],
   "source": [
    "\n",
    "var_idx = 1\n",
    "\n",
    "# ALT\n",
    "plot_saliency_wt_vs_var(\n",
    "    saliency_wt, seq.loc[seq['name']==neg_selected_var.iloc[var_idx]['name'], 'rbp_idx'].values[0],\n",
    "              seq, one_hot_wt,\n",
    "    saliency_var, var_idx, neg_selected_var, one_hot_negvar)\n",
    "\n",
    "plt.savefig('PUM2_CDKN1B_variants.pdf')"
   ]
  },
  {
   "cell_type": "code",
   "execution_count": 41,
   "id": "531550fc",
   "metadata": {},
   "outputs": [
    {
     "name": "stdout",
     "output_type": "stream",
     "text": [
      "917623\n",
      "SNRNP200\n",
      "37\n"
     ]
    },
    {
     "data": {
      "image/png": "[encoded data removed]",
      "text/plain": [
       "<Figure size 720x288 with 2 Axes>"
      ]
     },
     "metadata": {
      "needs_background": "light"
     },
     "output_type": "display_data"
    }
   ],
   "source": [
    "\n",
    "var_idx = 4\n",
    "\n",
    "# ALT\n",
    "plot_saliency_wt_vs_var(\n",
    "    saliency_wt, seq.loc[seq['name']==neg_selected_var.iloc[var_idx]['name'], 'rbp_idx'].values[0],\n",
    "              seq, one_hot_wt,\n",
    "    saliency_var, var_idx, neg_selected_var, one_hot_negvar)\n",
    "\n",
    "plt.savefig('PUM2_SNRNP200_variants.pdf')"
   ]
  },
  {
   "cell_type": "code",
   "execution_count": null,
   "id": "4bd79500",
   "metadata": {},
   "outputs": [],
   "source": []
  }
 ],
 "metadata": {
  "kernelspec": {
   "display_name": "Python 3 (ipykernel)",
   "language": "python",
   "name": "python3"
  },
  "language_info": {
   "codemirror_mode": {
    "name": "ipython",
    "version": 3
   },
   "file_extension": ".py",
   "mimetype": "text/x-python",
   "name": "python",
   "nbconvert_exporter": "python",
   "pygments_lexer": "ipython3",
   "version": "3.9.5"
  }
 },
 "nbformat": 4,
 "nbformat_minor": 5
}
