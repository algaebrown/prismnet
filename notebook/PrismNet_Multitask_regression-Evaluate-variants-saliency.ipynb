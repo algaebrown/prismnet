{
 "cells": [
  {
   "cell_type": "markdown",
   "id": "b649278e",
   "metadata": {},
   "source": [
    "#follow this to install prismnet\n",
    "https://github.com/kuixu/PrismNet"
   ]
  },
  {
   "cell_type": "code",
   "execution_count": 1,
   "id": "0e17a279",
   "metadata": {},
   "outputs": [],
   "source": [
    "import argparse, os, random\n",
    "import torch\n",
    "import torch.nn as nn\n",
    "import torch.nn.functional as F\n",
    "import torch.optim as optim\n",
    "from torch.optim import lr_scheduler\n",
    "\n",
    "\n",
    "\n",
    "from sklearn import metrics\n",
    "import numpy as np\n",
    "\n",
    "import prismnet.model as arch\n",
    "from prismnet import train, validate, inference, log_print, compute_saliency, compute_saliency_img, compute_high_attention_region\n",
    "#compute_high_attention_region\n",
    "\n",
    "# from prismnet.engine.train_loop import \n",
    "from prismnet.model.utils import GradualWarmupScheduler\n",
    "from prismnet.loader import SeqicSHAPE\n",
    "from prismnet.utils import datautils"
   ]
  },
  {
   "cell_type": "code",
   "execution_count": 2,
   "id": "1218a44d",
   "metadata": {},
   "outputs": [],
   "source": [
    "import pandas as pd\n",
    "outstem = 'K562_rep6'\n",
    "outstem2 = 'K562_rep6.region_type'\n",
    "rbp = 'RBFOX2'\n",
    "megaoutput = pd.read_csv(f'../data/ABC_data/{outstem}.megaoutputs_masked.tsv', sep = '\\t')\n",
    "seq = pd.read_csv(f'../data/ABC_data/tsv/{outstem}.DDX3.tsv', sep = '\\t', names = ['chrom', 'name', \n",
    "                                                                                 'seq', 'struct', 'label', 'start'])"
   ]
  },
  {
   "cell_type": "code",
   "execution_count": 3,
   "id": "8f62d431",
   "metadata": {},
   "outputs": [],
   "source": [
    "variants = pd.read_csv(f'../data/variants/{outstem}.{rbp}.chr22.csv')"
   ]
  },
  {
   "cell_type": "code",
   "execution_count": 4,
   "id": "aa595cc4",
   "metadata": {},
   "outputs": [],
   "source": [
    "max_length=seq['seq'].str.len().max()"
   ]
  },
  {
   "cell_type": "code",
   "execution_count": 5,
   "id": "5126acf7",
   "metadata": {},
   "outputs": [],
   "source": [
    "variants = variants.loc[variants['variant_seq'].str.len()<=max_length]"
   ]
  },
  {
   "cell_type": "code",
   "execution_count": 6,
   "id": "1fff7700",
   "metadata": {},
   "outputs": [],
   "source": [
    "# also score normal things\n",
    "seq = seq.loc[seq['name'].isin(variants['name'])]"
   ]
  },
  {
   "cell_type": "code",
   "execution_count": 7,
   "id": "3b0696d9",
   "metadata": {},
   "outputs": [],
   "source": [
    "from prismnet.utils import datautils"
   ]
  },
  {
   "cell_type": "code",
   "execution_count": 8,
   "id": "651132bd",
   "metadata": {},
   "outputs": [],
   "source": [
    "one_hot_wt = datautils.convert_one_hot(seq['seq'], max_length)\n",
    "one_hot_var = datautils.convert_one_hot(variants['variant_seq'], max_length)"
   ]
  },
  {
   "cell_type": "code",
   "execution_count": 9,
   "id": "54c692bb",
   "metadata": {},
   "outputs": [],
   "source": [
    "# targets: predict binary\n",
    "target_col = megaoutput.columns[(megaoutput.columns.str.startswith('logLR'))&(megaoutput.columns.str.contains(outstem))]\n",
    "target_df = megaoutput.set_index('name').loc[seq['name'],target_col]\n",
    "targets_wt = target_df.values\n"
   ]
  },
  {
   "cell_type": "code",
   "execution_count": 10,
   "id": "338f2822",
   "metadata": {},
   "outputs": [],
   "source": [
    "one_hot_var = datautils.convert_one_hot(variants['variant_seq'], max_length)\n",
    "targets_var = variants.merge(target_df, left_on = 'name', right_index = True)[target_df.columns].values"
   ]
  },
  {
   "cell_type": "code",
   "execution_count": 11,
   "id": "89910e8d",
   "metadata": {},
   "outputs": [
    {
     "data": {
      "text/plain": [
       "((435, 4, 100), (8686, 4, 100), (435, 10))"
      ]
     },
     "execution_count": 11,
     "metadata": {},
     "output_type": "execute_result"
    }
   ],
   "source": [
    "one_hot_wt.shape, one_hot_var.shape, targets_wt.shape"
   ]
  },
  {
   "cell_type": "code",
   "execution_count": 12,
   "id": "90b10c26",
   "metadata": {},
   "outputs": [],
   "source": [
    "from prismnet.model.PrismNet import *\n",
    "class PrismNet_Multitask(nn.Module):\n",
    "    def __init__(self, mode=\"pu\", output_dim=10):\n",
    "        super(PrismNet_Multitask, self).__init__()\n",
    "        self.mode = mode\n",
    "        h_p, h_k = 2, 5 \n",
    "        if mode==\"pu\":\n",
    "            self.n_features = 5\n",
    "        elif mode==\"seq\":\n",
    "            self.n_features = 4\n",
    "            h_p, h_k = 1, 3 \n",
    "        elif mode==\"str\":\n",
    "            self.n_features = 1\n",
    "            h_p, h_k = 0, 1\n",
    "        else:\n",
    "            raise \"mode error\"\n",
    "        \n",
    "        base_channel = 8\n",
    "        self.conv    = Conv2d(1, base_channel, kernel_size=(11, h_k), bn = True, same_padding=True)\n",
    "        self.se      = SEBlock(base_channel)\n",
    "        self.res2d   = ResidualBlock2D(base_channel, kernel_size=(11, h_k), padding=(5, h_p)) \n",
    "        self.res1d   = ResidualBlock1D(base_channel*4) \n",
    "        self.avgpool = nn.AvgPool2d((1,self.n_features))\n",
    "        self.gpool   = nn.AdaptiveAvgPool1d(1)\n",
    "        self.fc      = nn.Linear(base_channel*4*8, output_dim)\n",
    "        self._initialize_weights()\n",
    "\n",
    "    def _initialize_weights(self):\n",
    "        for m in self.modules():\n",
    "            if isinstance(m, nn.Conv2d):\n",
    "                nn.init.kaiming_normal_(m.weight, mode='fan_out', nonlinearity='relu')\n",
    "                if m.bias is not None:\n",
    "                    nn.init.constant_(m.bias, 0)\n",
    "            elif isinstance(m, nn.Conv1d):\n",
    "                nn.init.kaiming_normal_(m.weight, mode='fan_out', nonlinearity='relu')\n",
    "                if m.bias is not None:\n",
    "                    nn.init.constant_(m.bias, 0)\n",
    "            elif isinstance(m, nn.BatchNorm2d):\n",
    "                nn.init.constant_(m.weight, 1)\n",
    "                nn.init.constant_(m.bias, 0)\n",
    "            elif isinstance(m, nn.BatchNorm1d):\n",
    "                nn.init.constant_(m.weight, 1)\n",
    "                nn.init.constant_(m.bias, 0)\n",
    "            elif isinstance(m, nn.Linear):\n",
    "                nn.init.normal_(m.weight, 0, 0.01)\n",
    "                nn.init.constant_(m.bias, 0)\n",
    "    \n",
    "    def forward(self, input):\n",
    "        \"\"\"[forward]\n",
    "        \n",
    "        Args:\n",
    "            input ([tensor],N,C,W,H): input features\n",
    "        \"\"\"\n",
    "        if self.mode==\"seq\":\n",
    "            input = input[:,:,:,:4]\n",
    "        elif self.mode==\"str\":\n",
    "            input = input[:,:,:,4:]\n",
    "        x = self.conv(input)\n",
    "        x = F.dropout(x, 0.1, training=self.training)\n",
    "        z = self.se(x)\n",
    "        x = self.res2d(x*z)\n",
    "        x = F.dropout(x, 0.5, training=self.training)\n",
    "        x = self.avgpool(x)\n",
    "        x = x.view(x.shape[0], x.shape[1], x.shape[2])\n",
    "        x = self.res1d(x)\n",
    "        x = F.dropout(x, 0.3, training=self.training)\n",
    "        x = self.gpool(x)\n",
    "        x = x.view(x.shape[0], x.shape[1])\n",
    "        x = self.fc(x)\n",
    "        return x\n"
   ]
  },
  {
   "cell_type": "code",
   "execution_count": 13,
   "id": "d15e2859",
   "metadata": {},
   "outputs": [
    {
     "data": {
      "text/plain": [
       "<All keys matched successfully>"
      ]
     },
     "execution_count": 13,
     "metadata": {},
     "output_type": "execute_result"
    }
   ],
   "source": [
    "model = PrismNet_Multitask(mode = 'seq', output_dim = targets_wt.shape[1])\n",
    "use_cuda = torch.cuda.is_available()\n",
    "device = torch.device(\"cuda\" if use_cuda else \"cpu\")\n",
    "model = model.to(device)\n",
    "model.load_state_dict(torch.load(f'../data/ABC_data/{outstem}.maskw.model.pt'))"
   ]
  },
  {
   "cell_type": "code",
   "execution_count": 14,
   "id": "bfcb7fc4",
   "metadata": {},
   "outputs": [],
   "source": [
    "class SeqicSHAPE_Multitask(torch.utils.data.Dataset):\n",
    "    def __init__(self, X, Y, is_infer=False, use_structure=True):\n",
    "        \"\"\"data loader\n",
    "        \n",
    "        Args:\n",
    "            data_path ([str]): h5 file path\n",
    "            is_test (bool, optional): testset or not. Defaults to False.\n",
    "        \"\"\"\n",
    "        if is_infer:\n",
    "            self.dataset = self.__load_infer_data__(data_path, use_structure=use_structure)\n",
    "            print(\"infer data: \", self.__len__(),\" use_structure: \", use_structure)\n",
    "        else:\n",
    "#             dataset = h5py.File(data_path, 'r')\n",
    "#             X_train = np.array(dataset['X_train']).astype(np.float32)\n",
    "#             Y_train = np.array(dataset['Y_train']).astype(np.int32)\n",
    "#             X_test  = np.array(dataset['X_test']).astype(np.float32)\n",
    "#             Y_test  = np.array(dataset['Y_test']).astype(np.int32)\n",
    "            X = np.array(X).astype(np.float32)\n",
    "            Y = np.array(Y).astype(np.float32)\n",
    "#             if len(Y_train.shape) == 1:\n",
    "#                 Y_train = np.expand_dims(Y_train, axis=1)\n",
    "#                 Y_test  = np.expand_dims(Y_test, axis=1)\n",
    "            X = np.expand_dims(X, axis=3).transpose([0, 3, 2, 1]) # N, 1, length, channel\n",
    "            \n",
    "\n",
    "            \n",
    "\n",
    "#             labels, nums = np.unique(Y_train,return_counts=True)\n",
    "#             print(\"train:\", labels, nums)\n",
    "#             labels, nums = np.unique(Y_test,return_counts=True)\n",
    "#             print(\"test:\", labels, nums)\n",
    "\n",
    "#             train = self.__prepare_data__(train)\n",
    "#             test  = self.__prepare_data__(test)\n",
    "\n",
    "            \n",
    "            self.dataset = {'inputs': X, 'targets': Y}\n",
    "            \n",
    "\n",
    "        \n",
    "\n",
    "    def __load_infer_data__(self, data_path, use_structure=True):\n",
    "        from prismnet.utils import datautils\n",
    "        dataset = datautils.load_testset_txt(data_path, use_structure=use_structure, seq_length=101)\n",
    "        return dataset\n",
    "       \n",
    "    \n",
    "    def __prepare_data__(self, data):\n",
    "        inputs    = data['inputs'][:,:,:,:4]\n",
    "        structure = data['inputs'][:,:,:,4:]\n",
    "        structure = np.expand_dims(structure[:,:,:,0], axis=3)\n",
    "        inputs    = np.concatenate([inputs, structure], axis=3)\n",
    "        data['inputs']  = inputs\n",
    "        return data\n",
    "\n",
    "    def __to_sequence__(self, x):\n",
    "        x1 = np.zeros_like(x[0,:,:1])\n",
    "        for i in range(x1.shape[0]):\n",
    "            # import pdb; pdb.set_trace()\n",
    "            x1[i] = np.argmax(x[0,i,:4])\n",
    "            # import pdb; pdb.set_trace()\n",
    "        return x1\n",
    "\n",
    "    def __getitem__(self, index):\n",
    "        \"\"\"\n",
    "        Args:\n",
    "            index (int): Index\n",
    "\n",
    "        Returns:\n",
    "            tuple: (image, target) where target is index of the target class.\n",
    "        \"\"\"\n",
    "        x = self.dataset['inputs'][index]\n",
    "        # x = self.__to_sequence__(x)\n",
    "        y = self.dataset['targets'][index]\n",
    "        return x, y\n",
    "\n",
    "\n",
    "    def __len__(self):\n",
    "        return len(self.dataset['inputs'])\n",
    "\n"
   ]
  },
  {
   "cell_type": "code",
   "execution_count": 15,
   "id": "59e3822a",
   "metadata": {},
   "outputs": [
    {
     "name": "stdout",
     "output_type": "stream",
     "text": [
      "Test  set: 435\n",
      "Test  set: 8686\n"
     ]
    }
   ],
   "source": [
    "kwargs = {'num_workers': 2, 'pin_memory': True} if use_cuda else {}\n",
    "# train_loader = torch.utils.data.DataLoader(\n",
    "    \n",
    "    \n",
    "#     SeqicSHAPE_Multitask(train[0], train[1], is_infer=False, use_structure=False), \n",
    "# batch_size=64, shuffle=True,  **kwargs)\n",
    "\n",
    "test_loader  = torch.utils.data.DataLoader(\n",
    "    SeqicSHAPE_Multitask(one_hot_wt, targets_wt, is_infer=False, use_structure=False),\n",
    "batch_size=64*8, shuffle=False, **kwargs)\n",
    "\n",
    "test_loader_var  = torch.utils.data.DataLoader(\n",
    "    SeqicSHAPE_Multitask(one_hot_var, targets_var, is_infer=False, use_structure=False),\n",
    "batch_size=64*8, shuffle=False, **kwargs)\n",
    "\n",
    "\n",
    "print(\"Test  set:\", len(test_loader.dataset))\n",
    "print(\"Test  set:\", len(test_loader_var.dataset))"
   ]
  },
  {
   "cell_type": "code",
   "execution_count": 16,
   "id": "e6ae85cf",
   "metadata": {},
   "outputs": [],
   "source": [
    "def train(model, device, train_loader, criterion, optimizer):\n",
    "    ''' train for one epoch'''\n",
    "    model.train()\n",
    "    epoch_loss = 0\n",
    "    for batch_idx, (x0, y0) in enumerate(train_loader):\n",
    "        x, y = x0.float().to(device), y0.to(device).float()\n",
    "        \n",
    "        optimizer.zero_grad()\n",
    "        output = model(x)\n",
    "        \n",
    "        loss = criterion(output, y)\n",
    "        epoch_loss+=loss.item()\n",
    "        loss.backward()\n",
    "        \n",
    "        torch.nn.utils.clip_grad_norm_(model.parameters(), 5)\n",
    "        optimizer.step()\n",
    "\n",
    "    return epoch_loss\n",
    "def validate(model, device, test_loader, criterion):\n",
    "    model.eval()\n",
    "    y_all = []\n",
    "    p_all = []\n",
    "    l_all = []\n",
    "    epoch_loss = 0\n",
    "    with torch.no_grad():\n",
    "        for batch_idx, (x0, y0) in enumerate(test_loader):\n",
    "            x, y = x0.float().to(device), y0.to(device).float()\n",
    "            \n",
    "            \n",
    "            output  = model(x)\n",
    "            loss = criterion(output, y)\n",
    "            \n",
    "            epoch_loss += loss.item()\n",
    "            y_np = output.to(device='cpu', dtype=torch.float32).numpy()\n",
    "            y_all.append(y_np)\n",
    "            \n",
    "    y_pred=np.concatenate(y_all)\n",
    "    return epoch_loss, y_pred"
   ]
  },
  {
   "cell_type": "code",
   "execution_count": 17,
   "id": "9784c9ba",
   "metadata": {},
   "outputs": [],
   "source": [
    "optimizer = torch.optim.Adam(model.parameters(), lr=0.0001, betas=(0.9, 0.999), weight_decay=1e-6)\n",
    "nepoch = 60\n",
    "scheduler = GradualWarmupScheduler(\n",
    "    optimizer, multiplier=8, total_epoch=nepoch, after_scheduler=None)\n",
    "criterion = torch.nn.MSELoss()\n",
    "batch_size= 64"
   ]
  },
  {
   "cell_type": "code",
   "execution_count": 18,
   "id": "614f8678",
   "metadata": {},
   "outputs": [
    {
     "name": "stderr",
     "output_type": "stream",
     "text": [
      "[W pthreadpool-cpp.cc:90] Warning: Leaking Caffe2 thread-pool after fork. (function pthreadpool)\n",
      "[W pthreadpool-cpp.cc:90] Warning: Leaking Caffe2 thread-pool after fork. (function pthreadpool)\n"
     ]
    }
   ],
   "source": [
    "loss_test, y_pred = validate(model, device, test_loader, criterion)\n",
    "loss_test_var, y_pred_var = validate(model, device, test_loader_var, criterion)"
   ]
  },
  {
   "cell_type": "code",
   "execution_count": 19,
   "id": "a1753baa",
   "metadata": {},
   "outputs": [
    {
     "name": "stderr",
     "output_type": "stream",
     "text": [
      "<>:150: SyntaxWarning: \"is\" with a literal. Did you mean \"==\"?\n",
      "<>:150: SyntaxWarning: \"is\" with a literal. Did you mean \"==\"?\n",
      "/tmp/ipykernel_2852/2063606002.py:150: SyntaxWarning: \"is\" with a literal. Did you mean \"==\"?\n",
      "  if module.__class__.__name__ is 'ReLU':\n"
     ]
    }
   ],
   "source": [
    "#!/usr/bin/env python\n",
    "# \n",
    "# Kui Xu, xukui.cs@gmail.com\n",
    "# 2019-02-25\n",
    "# ref smoothGrad\n",
    "\n",
    "import torch\n",
    "import torch.nn as nn\n",
    "import torch.nn.functional as F\n",
    "from torch.autograd import grad,Variable\n",
    "import numpy as np\n",
    "\n",
    "class SmoothGrad(object):\n",
    "    def __init__(self, model, device='cpu', only_seq=False, train=False, \n",
    "        x_stddev=0.015, t_stddev=0.015, nsamples=20, magnitude=2):\n",
    "        self.model     = model\n",
    "        self.device    = device\n",
    "        self.train     = train\n",
    "        self.only_seq  = only_seq\n",
    "        self.x_stddev  = x_stddev\n",
    "        self.t_stddev  = t_stddev\n",
    "        self.nsamples  = nsamples\n",
    "        self.magnitude = magnitude\n",
    "        self.features  = model\n",
    "        # import pdb; pdb.set_trace()\n",
    "\n",
    "    def get_gradients(self, z, pred_label=None, rbp_idx = 0):\n",
    "        self.model.eval()\n",
    "        self.model.zero_grad()\n",
    "        z = z.to(self.device)\n",
    "        z.requires_grad=True\n",
    "        output = self.model(z)\n",
    "        \n",
    "        output[:,rbp_idx].backward() # now it is a multioutput.... maybe sum is not the right way tho!\n",
    "        return z.grad\n",
    "\n",
    "    def get_smooth_gradients(self, z, y=None, rbp_idx=0):\n",
    "        return self.__call__(z, y, rbp_idx = rbp_idx)\n",
    "        \n",
    "    def __call__(self, z, y=None,rbp_idx = 0):\n",
    "        \"\"\"[summary]\n",
    "        \n",
    "        Args:\n",
    "            z ([type]): [description] X\n",
    "            y ([type]): [description] Y\n",
    "            x_stddev (float, optional): [description]. Defaults to 0.15.\n",
    "            t_stddev (float, optional): [description]. Defaults to 0.15.\n",
    "            nsamples (int, optional):   [description]. Defaults to 20.\n",
    "            magnitude (int, optional):  magnitude:0,1,2; 0: original gradient, 1: absolute value of the gradient,\n",
    "                                        2: square value of the gradient. Defaults to 2.\n",
    "        \n",
    "        Returns:\n",
    "            [type]: [description]\n",
    "        \"\"\"\n",
    "\n",
    "        # 1. for sequece\n",
    "        x = z[:,:,:,:4] # .data.cpu()\n",
    "        x_stddev   = (self.x_stddev * (x.max()-x.min())).to(self.device).item() \n",
    "\n",
    "        total_grad = torch.zeros(z.shape).to(self.device)\n",
    "        x_noise    = torch.zeros(x.shape).to(self.device)\n",
    "        if not self.only_seq:\n",
    "            # 2. for structure  \n",
    "            t = z[:,:,:,4:] #.data.cpu()\n",
    "            t_stddev = (self.t_stddev * (t.max()-t.min())).to(self.device).item() \n",
    "            #t_total_grad = torch.zeros(t.shape)\n",
    "            t_noise = torch.zeros(t.shape).to(self.device)\n",
    "\n",
    "        for i in range(self.nsamples):\n",
    "            x_plus_noise = x + x_noise.zero_().normal_(0, x_stddev)\n",
    "            if self.only_seq:\n",
    "                z_plus_noise = x_plus_noise\n",
    "            else:\n",
    "                t_plus_noise = t + t_noise.zero_().normal_(0, t_stddev)\n",
    "                z_plus_noise = torch.cat((x_plus_noise, t_plus_noise), dim=3)\n",
    "            #print(\"z_plus_noise:\",z_plus_noise.size())\n",
    "            grad = self.get_gradients(z_plus_noise, y, rbp_idx = rbp_idx)\n",
    "            if self.magnitude == 1:\n",
    "                total_grad += torch.abs(grad)\n",
    "            elif self.magnitude == 2:\n",
    "                total_grad += grad * grad\n",
    "            \n",
    "            # total_grad += grad * grad\n",
    "        total_grad /= self.nsamples\n",
    "        return total_grad\n",
    "\n",
    "    def get_batch_gradients(self, X, Y=None, rbp_idx = 0):\n",
    "        if Y is not None:\n",
    "            assert len(X) == len(Y), \"The size of input {} and target {} are not matched.\".format(len(X), len(Y))\n",
    "        g = torch.zeros_like(X)\n",
    "        for i in range(X.shape[0]):\n",
    "            x        = X[i:i+1]\n",
    "            if Y is not None:\n",
    "                y    = Y[i:i+1]\n",
    "            else:\n",
    "                y    = None\n",
    "            g[i:i+1] =  self.get_smooth_gradients(x, y, rbp_idx = rbp_idx)\n",
    "            # g[i:i+1] =  self.get_gradients(x, y)\n",
    "        return g\n",
    "\n",
    "\n",
    "def generate_saliency(model, x, y=None, smooth=False, nsamples=2, stddev=0.15, only_seq=False, \\\n",
    "    train=False):\n",
    "    saliency = SmoothGrad(model, only_seq, train)\n",
    "    x_grad   = saliency.get_smooth_gradients(x, y, nsamples=nsamples, x_stddev=stddev, t_stddev=stddev)\n",
    "    return x_grad\n",
    "\n",
    "\n",
    "\n",
    "class GuidedBackpropReLU(torch.autograd.Function):\n",
    "\n",
    "    def __init__(self, inplace=False):\n",
    "        super(GuidedBackpropReLU, self).__init__()\n",
    "        self.inplace = inplace\n",
    "\n",
    "    def forward(self, input):\n",
    "        pos_mask = (input > 0).type_as(input)\n",
    "        output = torch.addcmul(\n",
    "            torch.zeros(input.size()).type_as(input),\n",
    "            input,\n",
    "            pos_mask)\n",
    "        self.save_for_backward(input, output)\n",
    "        return output\n",
    "\n",
    "    def backward(self, grad_output):\n",
    "        input, output = self.saved_tensors\n",
    "\n",
    "        pos_mask_1 = (input > 0).type_as(grad_output)\n",
    "        pos_mask_2 = (grad_output > 0).type_as(grad_output)\n",
    "        grad_input = torch.addcmul(\n",
    "            torch.zeros(input.size()).type_as(input),\n",
    "            torch.addcmul(\n",
    "                torch.zeros(input.size()).type_as(input), grad_output, pos_mask_1),\n",
    "                pos_mask_2)\n",
    "\n",
    "        return grad_input\n",
    "\n",
    "    def __repr__(self):\n",
    "        inplace_str = ', inplace' if self.inplace else ''\n",
    "        return self.__class__.__name__ + ' (' \\\n",
    "            + inplace_str + ')'\n",
    "\n",
    "class GuidedBackpropSmoothGrad(SmoothGrad):\n",
    "\n",
    "    def __init__(self, model, device='cpu', only_seq=False, train=False, \n",
    "        x_stddev=0.15, t_stddev=0.15, nsamples=20, magnitude=2):\n",
    "        super(GuidedBackpropSmoothGrad, self).__init__(\n",
    "            model, device, only_seq, train, x_stddev, t_stddev, nsamples, magnitude)\n",
    "        for idx, module in self.features._modules.items():\n",
    "            if module.__class__.__name__ is 'ReLU':\n",
    "                self.features._modules[idx] = GuidedBackpropReLU()\n",
    "\n"
   ]
  },
  {
   "cell_type": "code",
   "execution_count": 20,
   "id": "53989681",
   "metadata": {},
   "outputs": [],
   "source": [
    "y_pred_var_df = pd.DataFrame(y_pred_var, index = variants.index, columns = target_df.columns)\n",
    "y_pred_wt_df = pd.DataFrame(y_pred, index = seq['name'], columns = target_df.columns)\n",
    "variants[f'variant_score_{rbp}'] = y_pred_var_df[f'logLR:{outstem}.{rbp}']\n",
    "variants[f'wt_score_{rbp}'] = variants['name'].map(y_pred_wt_df[f'logLR:{outstem}.{rbp}'])\n",
    "variants['delta_score'] = (variants[f'variant_score_{rbp}']-variants[f'wt_score_{rbp}'])\n",
    "variants['MAF']=(variants['INFO/AC']/variants['INFO/AN'])"
   ]
  },
  {
   "cell_type": "code",
   "execution_count": 21,
   "id": "c4bbc2e4",
   "metadata": {},
   "outputs": [],
   "source": [
    "neg_selected_var = variants.loc[(variants['MAF']<0.001)&(variants['delta_score']<-0.2)]"
   ]
  },
  {
   "cell_type": "code",
   "execution_count": 22,
   "id": "f2ee8843",
   "metadata": {},
   "outputs": [],
   "source": [
    "gof_var = variants.loc[(variants['MAF']<0.001)&(variants['delta_score']>0.2)]"
   ]
  },
  {
   "cell_type": "code",
   "execution_count": 23,
   "id": "4d7263ff",
   "metadata": {},
   "outputs": [
    {
     "data": {
      "text/plain": [
       "(13, 19)"
      ]
     },
     "execution_count": 23,
     "metadata": {},
     "output_type": "execute_result"
    }
   ],
   "source": [
    "gof_var.shape"
   ]
  },
  {
   "cell_type": "code",
   "execution_count": 24,
   "id": "e8832462",
   "metadata": {},
   "outputs": [
    {
     "data": {
      "text/plain": [
       "(74, 19)"
      ]
     },
     "execution_count": 24,
     "metadata": {},
     "output_type": "execute_result"
    }
   ],
   "source": [
    "neg_selected_var.shape"
   ]
  },
  {
   "cell_type": "code",
   "execution_count": 25,
   "id": "8f1aa4be",
   "metadata": {},
   "outputs": [],
   "source": [
    "# make a much smaller subset\n",
    "one_hot_negvar = datautils.convert_one_hot(neg_selected_var['variant_seq'], max_length)\n",
    "targets_var = neg_selected_var.merge(target_df, left_on = 'name', right_index = True)[target_df.columns].values\n",
    "\n",
    "test_loader_negvar  = torch.utils.data.DataLoader(\n",
    "    SeqicSHAPE_Multitask(one_hot_negvar, targets_var, is_infer=False, use_structure=False),\n",
    "batch_size=64*8, shuffle=False, **kwargs)\n"
   ]
  },
  {
   "cell_type": "code",
   "execution_count": 26,
   "id": "09ab1c28",
   "metadata": {},
   "outputs": [],
   "source": [
    "# make a much smaller subset\n",
    "one_hot_gofvar = datautils.convert_one_hot(gof_var['variant_seq'], max_length)\n",
    "targets_gofvar = gof_var.merge(target_df, left_on = 'name', right_index = True)[target_df.columns].values\n",
    "\n",
    "test_loader_gofvar  = torch.utils.data.DataLoader(\n",
    "    SeqicSHAPE_Multitask(one_hot_gofvar, targets_gofvar, is_infer=False, use_structure=False),\n",
    "batch_size=64*8, shuffle=False, **kwargs)\n"
   ]
  },
  {
   "cell_type": "code",
   "execution_count": null,
   "id": "66663fdf",
   "metadata": {},
   "outputs": [],
   "source": []
  },
  {
   "cell_type": "code",
   "execution_count": 27,
   "id": "f081f0b0",
   "metadata": {},
   "outputs": [],
   "source": [
    "def get_saliency(model, test_loader, rbp):\n",
    "    model.eval()\n",
    "    sgrad = GuidedBackpropSmoothGrad(model, device=device, only_seq = True)\n",
    "    rbp_idx=np.where(target_col.str.contains(rbp))[0][0]\n",
    "    gs = []\n",
    "    for batch_idx, (x0, y0) in enumerate(test_loader):\n",
    "        X, Y = x0.float().to(device), y0.to(device).float()\n",
    "        output = model(X)\n",
    "\n",
    "        guided_saliency = sgrad.get_batch_gradients(X, Y, rbp_idx = rbp_idx)\n",
    "        gs.append(guided_saliency)\n",
    "    gs = torch.cat(gs, axis = 0)\n",
    "    return gs"
   ]
  },
  {
   "cell_type": "code",
   "execution_count": 28,
   "id": "b2d14ed6",
   "metadata": {},
   "outputs": [
    {
     "name": "stderr",
     "output_type": "stream",
     "text": [
      "[W pthreadpool-cpp.cc:90] Warning: Leaking Caffe2 thread-pool after fork. (function pthreadpool)\n",
      "[W pthreadpool-cpp.cc:90] Warning: Leaking Caffe2 thread-pool after fork. (function pthreadpool)\n"
     ]
    }
   ],
   "source": [
    "saliency_wt = get_saliency(model, test_loader, rbp)"
   ]
  },
  {
   "cell_type": "code",
   "execution_count": 29,
   "id": "868970a1",
   "metadata": {},
   "outputs": [
    {
     "name": "stderr",
     "output_type": "stream",
     "text": [
      "[W pthreadpool-cpp.cc:90] Warning: Leaking Caffe2 thread-pool after fork. (function pthreadpool)\n",
      "[W pthreadpool-cpp.cc:90] Warning: Leaking Caffe2 thread-pool after fork. (function pthreadpool)\n"
     ]
    }
   ],
   "source": [
    "saliency_var = get_saliency(model, test_loader_negvar, rbp)"
   ]
  },
  {
   "cell_type": "code",
   "execution_count": 30,
   "id": "7cfaad45",
   "metadata": {},
   "outputs": [
    {
     "name": "stderr",
     "output_type": "stream",
     "text": [
      "[W pthreadpool-cpp.cc:90] Warning: Leaking Caffe2 thread-pool after fork. (function pthreadpool)\n",
      "[W pthreadpool-cpp.cc:90] Warning: Leaking Caffe2 thread-pool after fork. (function pthreadpool)\n"
     ]
    }
   ],
   "source": [
    "saliency_gofvar = get_saliency(model, test_loader_gofvar, rbp)"
   ]
  },
  {
   "cell_type": "code",
   "execution_count": 31,
   "id": "85c4d8a3",
   "metadata": {},
   "outputs": [
    {
     "data": {
      "text/plain": [
       "(torch.Size([435, 1, 100, 4]), torch.Size([74, 1, 100, 4]))"
      ]
     },
     "execution_count": 31,
     "metadata": {},
     "output_type": "execute_result"
    }
   ],
   "source": [
    "saliency_wt.shape, saliency_var.shape"
   ]
  },
  {
   "cell_type": "code",
   "execution_count": 32,
   "id": "a178abf5",
   "metadata": {},
   "outputs": [
    {
     "name": "stdout",
     "output_type": "stream",
     "text": [
      "Collecting pybigwig\n",
      "  Using cached pyBigWig-0.3.22-cp39-cp39-manylinux_2_17_x86_64.manylinux2014_x86_64.whl (217 kB)\n",
      "Installing collected packages: pybigwig\n",
      "Successfully installed pybigwig-0.3.22\n",
      "\u001b[33mWARNING: You are using pip version 22.0.3; however, version 23.2.1 is available.\n",
      "You should consider upgrading via the '/opt/conda/bin/python3.9 -m pip install --upgrade pip' command.\u001b[0m\u001b[33m\n",
      "\u001b[0m"
     ]
    }
   ],
   "source": [
    "!pip install pybigwig"
   ]
  },
  {
   "cell_type": "code",
   "execution_count": 33,
   "id": "ad2ffa18",
   "metadata": {},
   "outputs": [],
   "source": [
    "import pyBigWig\n",
    "import numpy as np\n",
    "\n",
    "class strand_specific_wig:\n",
    "    def __init__(self, plus, minus):\n",
    "        self.plus = pyBigWig.open(plus)\n",
    "        self.minus = pyBigWig.open(minus)\n",
    "        \n",
    "    def fetch(self, chrom = None, start= None, end=None, strand= None, interval = None):\n",
    "        ''' return icSHAPE reacitivity for a bedtool interval or chrom, start, end, strand'''\n",
    "        if interval:\n",
    "            start = interval.start\n",
    "            end = interval.end\n",
    "            strand = interval.strand\n",
    "            chrom = interval.chrom\n",
    "        if strand == '-':\n",
    "            icshape_data = self.minus\n",
    "        else:\n",
    "            icshape_data = self.plus\n",
    "        values = icshape_data.values(chrom, start, end)\n",
    "        if strand == '-':\n",
    "            values = values[::-1]\n",
    "        return np.nan_to_num(np.array(values), 0)"
   ]
  },
  {
   "cell_type": "code",
   "execution_count": 34,
   "id": "88337251",
   "metadata": {},
   "outputs": [],
   "source": [
    "rbp_wig_cits = strand_specific_wig(f'../data/CITS/{rbp}.pos.bw',\n",
    "                                 f'../data/CITS/{rbp}.neg.bw'\n",
    "                                 )\n",
    "rbp_wig_cov = strand_specific_wig(f'../data/COV/{rbp}.pos.bw',\n",
    "                             f'../data/COV/{rbp}.neg.bw'\n",
    "                             )"
   ]
  },
  {
   "cell_type": "code",
   "execution_count": 35,
   "id": "308bcf81",
   "metadata": {},
   "outputs": [
    {
     "name": "stdout",
     "output_type": "stream",
     "text": [
      "Collecting logomaker\n",
      "  Using cached logomaker-0.8-py2.py3-none-any.whl (11.8 MB)\n",
      "Requirement already satisfied: numpy in /home/hsher/.local/lib/python3.9/site-packages (from logomaker) (1.22.2)\n",
      "Requirement already satisfied: pandas in /opt/conda/lib/python3.9/site-packages (from logomaker) (1.3.4)\n",
      "Requirement already satisfied: matplotlib in /opt/conda/lib/python3.9/site-packages (from logomaker) (3.4.2)\n",
      "Requirement already satisfied: python-dateutil>=2.7 in /opt/conda/lib/python3.9/site-packages (from matplotlib->logomaker) (2.8.2)\n",
      "Requirement already satisfied: pyparsing>=2.2.1 in /opt/conda/lib/python3.9/site-packages (from matplotlib->logomaker) (2.4.7)\n",
      "Requirement already satisfied: cycler>=0.10 in /opt/conda/lib/python3.9/site-packages (from matplotlib->logomaker) (0.10.0)\n",
      "Requirement already satisfied: kiwisolver>=1.0.1 in /opt/conda/lib/python3.9/site-packages (from matplotlib->logomaker) (1.3.1)\n",
      "Requirement already satisfied: pillow>=6.2.0 in /opt/conda/lib/python3.9/site-packages (from matplotlib->logomaker) (6.2.2)\n",
      "Requirement already satisfied: pytz>=2017.3 in /opt/conda/lib/python3.9/site-packages (from pandas->logomaker) (2021.1)\n",
      "Requirement already satisfied: six in /opt/conda/lib/python3.9/site-packages (from cycler>=0.10->matplotlib->logomaker) (1.15.0)\n",
      "Installing collected packages: logomaker\n",
      "Successfully installed logomaker-0.8\n",
      "\u001b[33mWARNING: You are using pip version 22.0.3; however, version 23.2.1 is available.\n",
      "You should consider upgrading via the '/opt/conda/bin/python3.9 -m pip install --upgrade pip' command.\u001b[0m\u001b[33m\n",
      "\u001b[0m"
     ]
    }
   ],
   "source": [
    "!pip install logomaker"
   ]
  },
  {
   "cell_type": "code",
   "execution_count": 44,
   "id": "b0af877f",
   "metadata": {},
   "outputs": [],
   "source": [
    "import seaborn as sns\n",
    "import logomaker\n",
    "from scipy.ndimage import gaussian_filter1d\n",
    "import matplotlib.pyplot as plt\n",
    "\n",
    "def plot_saliency(gs, index, subset_seq_df, one_hot):\n",
    "    index2seq = 'ACGU'\n",
    "    \n",
    "\n",
    "    # find coverage\n",
    "    window_name = subset_seq_df.iloc[index]['name']\n",
    "    print(window_name)\n",
    "    row = megaoutput.loc[megaoutput['name']==window_name].iloc[0]\n",
    "    wig_values = rbp_wig_cov.fetch(row['chrom'], row['start'], row['end'], row['strand'])\n",
    "    wig_values_cits = rbp_wig_cits.fetch(row['chrom'], row['start'], row['end'], row['strand'])\n",
    "\n",
    "    seq_values = one_hot[index,:,:] # [1,4,100]\n",
    "    gradient_values = gs[index,0,:,:].cpu().numpy() # [1,1,100,4]\n",
    "    saliency_values = gradient_values * seq_values.T # 4*100\n",
    "    saliency_df = pd.DataFrame(saliency_values.T)\n",
    "    saliency_df.index = list(index2seq)\n",
    "\n",
    "    saliency_df = saliency_df.loc[:, seq_values.sum(axis = 0)!=0].T\n",
    "    saliency_df.index = np.arange(saliency_df.shape[0])\n",
    "\n",
    "    f, ax = plt.subplots(2,1, sharex = True, figsize = (12,4))\n",
    "    logomaker.Logo(saliency_df, # only plot places with sequence\n",
    "                              shade_below=.5,\n",
    "                              fade_below=.5,\n",
    "                              font_name='Arial Rounded MT Bold', \n",
    "                  ax = ax[0])\n",
    "\n",
    "\n",
    "    ax[0].set_ylabel('saliency')\n",
    "    ax[1].bar(np.arange(len(wig_values)), wig_values, color = 'lightgrey')\n",
    "    ax[1].set_ylabel('coverage')\n",
    "#     ax[2].bar(np.arange(len(wig_values_cits)), wig_values_cits, color = 'lightgrey')\n",
    "#     ax[2].plot(gaussian_filter1d(wig_values_cits, 3), color = 'tomato', label = 'smoothed CITS')\n",
    "#     ax[2].set_ylabel('#CITS')\n",
    "\n",
    "    ax[0].set_title(row['chrom'] + ':'+str(row['start'])+'-'+str(row['end'])+':'+row['strand'])\n",
    "    sns.despine()\n",
    "    \n",
    "    if 'POS' in subset_seq_df.iloc[index]:\n",
    "        print(subset_seq_df.iloc[index]['POS']-row['start'])\n",
    "        if row['strand']=='+':\n",
    "            index = subset_seq_df.iloc[index]['POS']-row['start']\n",
    "            \n",
    "        else:\n",
    "            index = row['end']-subset_seq_df.iloc[index]['POS']\n",
    "        ax[0].text(index-0.5, max(saliency_values[index,:]), '*')"
   ]
  },
  {
   "cell_type": "code",
   "execution_count": 37,
   "id": "ed25f6f5",
   "metadata": {},
   "outputs": [
    {
     "name": "stderr",
     "output_type": "stream",
     "text": [
      "/tmp/ipykernel_2852/994793822.py:1: SettingWithCopyWarning: \n",
      "A value is trying to be set on a copy of a slice from a DataFrame.\n",
      "Try using .loc[row_indexer,col_indexer] = value instead\n",
      "\n",
      "See the caveats in the documentation: https://pandas.pydata.org/pandas-docs/stable/user_guide/indexing.html#returning-a-view-versus-a-copy\n",
      "  neg_selected_var['rbp_idx'] = np.arange(neg_selected_var.shape[0])\n"
     ]
    }
   ],
   "source": [
    "neg_selected_var['rbp_idx'] = np.arange(neg_selected_var.shape[0])\n",
    "seq['rbp_idx'] = np.arange(seq.shape[0])\n"
   ]
  },
  {
   "cell_type": "code",
   "execution_count": 38,
   "id": "024e58db",
   "metadata": {},
   "outputs": [
    {
     "data": {
      "text/plain": [
       "C22orf34            1277\n",
       "DGCR8                882\n",
       "PI4KAP2              426\n",
       "PRAME                316\n",
       "PPP6R2               311\n",
       "                    ... \n",
       "RAC2                  14\n",
       "PICK1                 14\n",
       "PACSIN2               12\n",
       "TPTEP2:RP1-5O6.4       9\n",
       "XBP1                   7\n",
       "Name: gene_name, Length: 74, dtype: int64"
      ]
     },
     "execution_count": 38,
     "metadata": {},
     "output_type": "execute_result"
    }
   ],
   "source": [
    "variants['gene_name'].value_counts()"
   ]
  },
  {
   "cell_type": "code",
   "execution_count": 71,
   "id": "f9c126cb",
   "metadata": {},
   "outputs": [
    {
     "data": {
      "text/plain": [
       "C22orf34           20\n",
       "GRAMD4             12\n",
       "DGCR8               9\n",
       "PRAME               5\n",
       "CECR7               4\n",
       "PPP6R2              4\n",
       "MICAL3              4\n",
       "COMT                2\n",
       "BCR                 2\n",
       "EIF3L               2\n",
       "PLA2G6              2\n",
       "TPTEP1:KB-7G2.9     2\n",
       "MED15               1\n",
       "HIC2                1\n",
       "CABIN1              1\n",
       "DGCR2               1\n",
       "HIRA                1\n",
       "PI4KAP2             1\n",
       "Name: gene_name, dtype: int64"
      ]
     },
     "execution_count": 71,
     "metadata": {},
     "output_type": "execute_result"
    }
   ],
   "source": [
    "neg_selected_var['gene_name'].value_counts()"
   ]
  },
  {
   "cell_type": "code",
   "execution_count": 73,
   "id": "e63cc41c",
   "metadata": {},
   "outputs": [
    {
     "data": {
      "text/html": [
       "<div>\n",
       "<style scoped>\n",
       "    .dataframe tbody tr th:only-of-type {\n",
       "        vertical-align: middle;\n",
       "    }\n",
       "\n",
       "    .dataframe tbody tr th {\n",
       "        vertical-align: top;\n",
       "    }\n",
       "\n",
       "    .dataframe thead th {\n",
       "        text-align: right;\n",
       "    }\n",
       "</style>\n",
       "<table border=\"1\" class=\"dataframe\">\n",
       "  <thead>\n",
       "    <tr style=\"text-align: right;\">\n",
       "      <th></th>\n",
       "      <th>Unnamed: 0</th>\n",
       "      <th>CHROM</th>\n",
       "      <th>POS</th>\n",
       "      <th>ID</th>\n",
       "      <th>REF</th>\n",
       "      <th>ALT</th>\n",
       "      <th>name</th>\n",
       "      <th>variant_seq</th>\n",
       "      <th>feature_type_top</th>\n",
       "      <th>feature_types</th>\n",
       "      <th>gene_name</th>\n",
       "      <th>transcript_types</th>\n",
       "      <th>transcript_type_top</th>\n",
       "      <th>INFO/AC</th>\n",
       "      <th>INFO/AN</th>\n",
       "      <th>variant_score_RBFOX2</th>\n",
       "      <th>wt_score_RBFOX2</th>\n",
       "      <th>delta_score</th>\n",
       "      <th>MAF</th>\n",
       "      <th>rbp_idx</th>\n",
       "    </tr>\n",
       "  </thead>\n",
       "  <tbody>\n",
       "    <tr>\n",
       "      <th>4314</th>\n",
       "      <td>9608</td>\n",
       "      <td>chr22</td>\n",
       "      <td>50433669</td>\n",
       "      <td>rs1603399551</td>\n",
       "      <td>T</td>\n",
       "      <td>G</td>\n",
       "      <td>5633240</td>\n",
       "      <td>CGGGGGCATGGATGCTGGGCAGGGGCCGGGCATTTGCTCTGGAGGT...</td>\n",
       "      <td>INTRON</td>\n",
       "      <td>INTRON</td>\n",
       "      <td>PPP6R2</td>\n",
       "      <td>protein_coding</td>\n",
       "      <td>protein_coding</td>\n",
       "      <td>0</td>\n",
       "      <td>10930</td>\n",
       "      <td>0.177957</td>\n",
       "      <td>0.422550</td>\n",
       "      <td>-0.244594</td>\n",
       "      <td>0.000000</td>\n",
       "      <td>36</td>\n",
       "    </tr>\n",
       "    <tr>\n",
       "      <th>4364</th>\n",
       "      <td>9662</td>\n",
       "      <td>chr22</td>\n",
       "      <td>50434224</td>\n",
       "      <td>.</td>\n",
       "      <td>G</td>\n",
       "      <td>A</td>\n",
       "      <td>5633246</td>\n",
       "      <td>AGGGGCTGGGCATTTGCTCTGGAGGTGAACCTGGAGGAGGGCTGGG...</td>\n",
       "      <td>INTRON</td>\n",
       "      <td>INTRON</td>\n",
       "      <td>PPP6R2</td>\n",
       "      <td>protein_coding</td>\n",
       "      <td>protein_coding</td>\n",
       "      <td>1</td>\n",
       "      <td>75806</td>\n",
       "      <td>-0.010155</td>\n",
       "      <td>0.203920</td>\n",
       "      <td>-0.214075</td>\n",
       "      <td>0.000013</td>\n",
       "      <td>37</td>\n",
       "    </tr>\n",
       "    <tr>\n",
       "      <th>4399</th>\n",
       "      <td>9713</td>\n",
       "      <td>chr22</td>\n",
       "      <td>50434598</td>\n",
       "      <td>rs1398119780</td>\n",
       "      <td>T</td>\n",
       "      <td>G</td>\n",
       "      <td>5633250</td>\n",
       "      <td>CTGGAGGTGAACCTGGAGGAGGGCCGGGGGCAGGGATGCTGGGCAG...</td>\n",
       "      <td>SS3_PROX</td>\n",
       "      <td>SS3_PROX:INTRON</td>\n",
       "      <td>PPP6R2</td>\n",
       "      <td>protein_coding</td>\n",
       "      <td>protein_coding</td>\n",
       "      <td>9</td>\n",
       "      <td>57602</td>\n",
       "      <td>0.291540</td>\n",
       "      <td>0.529954</td>\n",
       "      <td>-0.238415</td>\n",
       "      <td>0.000156</td>\n",
       "      <td>38</td>\n",
       "    </tr>\n",
       "    <tr>\n",
       "      <th>4422</th>\n",
       "      <td>9741</td>\n",
       "      <td>chr22</td>\n",
       "      <td>50434645</td>\n",
       "      <td>rs1356307272</td>\n",
       "      <td>G</td>\n",
       "      <td>A</td>\n",
       "      <td>5633250</td>\n",
       "      <td>CTGGAGGTGAACCTGGAGGAGGGCCGGGGGCATGGATGCTGGGCAG...</td>\n",
       "      <td>SS3_PROX</td>\n",
       "      <td>SS3_PROX:INTRON</td>\n",
       "      <td>PPP6R2</td>\n",
       "      <td>protein_coding</td>\n",
       "      <td>protein_coding</td>\n",
       "      <td>1</td>\n",
       "      <td>100534</td>\n",
       "      <td>0.294349</td>\n",
       "      <td>0.529954</td>\n",
       "      <td>-0.235606</td>\n",
       "      <td>0.000010</td>\n",
       "      <td>39</td>\n",
       "    </tr>\n",
       "  </tbody>\n",
       "</table>\n",
       "</div>"
      ],
      "text/plain": [
       "      Unnamed: 0  CHROM       POS            ID REF ALT     name  \\\n",
       "4314        9608  chr22  50433669  rs1603399551   T   G  5633240   \n",
       "4364        9662  chr22  50434224             .   G   A  5633246   \n",
       "4399        9713  chr22  50434598  rs1398119780   T   G  5633250   \n",
       "4422        9741  chr22  50434645  rs1356307272   G   A  5633250   \n",
       "\n",
       "                                            variant_seq feature_type_top  \\\n",
       "4314  CGGGGGCATGGATGCTGGGCAGGGGCCGGGCATTTGCTCTGGAGGT...           INTRON   \n",
       "4364  AGGGGCTGGGCATTTGCTCTGGAGGTGAACCTGGAGGAGGGCTGGG...           INTRON   \n",
       "4399  CTGGAGGTGAACCTGGAGGAGGGCCGGGGGCAGGGATGCTGGGCAG...         SS3_PROX   \n",
       "4422  CTGGAGGTGAACCTGGAGGAGGGCCGGGGGCATGGATGCTGGGCAG...         SS3_PROX   \n",
       "\n",
       "        feature_types gene_name transcript_types transcript_type_top  INFO/AC  \\\n",
       "4314           INTRON    PPP6R2   protein_coding      protein_coding        0   \n",
       "4364           INTRON    PPP6R2   protein_coding      protein_coding        1   \n",
       "4399  SS3_PROX:INTRON    PPP6R2   protein_coding      protein_coding        9   \n",
       "4422  SS3_PROX:INTRON    PPP6R2   protein_coding      protein_coding        1   \n",
       "\n",
       "      INFO/AN  variant_score_RBFOX2  wt_score_RBFOX2  delta_score       MAF  \\\n",
       "4314    10930              0.177957         0.422550    -0.244594  0.000000   \n",
       "4364    75806             -0.010155         0.203920    -0.214075  0.000013   \n",
       "4399    57602              0.291540         0.529954    -0.238415  0.000156   \n",
       "4422   100534              0.294349         0.529954    -0.235606  0.000010   \n",
       "\n",
       "      rbp_idx  \n",
       "4314       36  \n",
       "4364       37  \n",
       "4399       38  \n",
       "4422       39  "
      ]
     },
     "execution_count": 73,
     "metadata": {},
     "output_type": "execute_result"
    }
   ],
   "source": [
    "neg_selected_var.loc[neg_selected_var['gene_name']=='PPP6R2']"
   ]
  },
  {
   "cell_type": "code",
   "execution_count": 40,
   "id": "adc8d5fc",
   "metadata": {
    "slideshow": {
     "slide_type": "fragment"
    }
   },
   "outputs": [
    {
     "data": {
      "text/plain": [
       "Unnamed: 0                                                            659\n",
       "CHROM                                                               chr22\n",
       "POS                                                              19116864\n",
       "ID                                                           rs1025053135\n",
       "REF                                                                     C\n",
       "ALT                                                                     T\n",
       "name                                                              5638977\n",
       "variant_seq             TCTTAGCAGTAGTGGCAGGTGATCCGGTTGTGTGCATGTCCTCTCA...\n",
       "feature_type_top                                                   INTRON\n",
       "feature_types                                                      INTRON\n",
       "gene_name                                                           DGCR2\n",
       "transcript_types                   protein_coding:nonsense_mediated_decay\n",
       "transcript_type_top                                        protein_coding\n",
       "INFO/AC                                                                16\n",
       "INFO/AN                                                            151940\n",
       "variant_score_RBFOX2                                             0.126438\n",
       "wt_score_RBFOX2                                                  0.432288\n",
       "delta_score                                                     -0.305849\n",
       "MAF                                                              0.000105\n",
       "rbp_idx                                                                44\n",
       "Name: 4933, dtype: object"
      ]
     },
     "execution_count": 40,
     "metadata": {},
     "output_type": "execute_result"
    }
   ],
   "source": [
    "neg_selected_var.iloc[44]"
   ]
  },
  {
   "cell_type": "code",
   "execution_count": 63,
   "id": "1061f193",
   "metadata": {},
   "outputs": [
    {
     "name": "stdout",
     "output_type": "stream",
     "text": [
      "5638977\n",
      "28\n"
     ]
    },
    {
     "data": {
      "image/png": "[encoded data removed]",
      "text/plain": [
       "<Figure size 864x288 with 2 Axes>"
      ]
     },
     "metadata": {
      "needs_background": "light"
     },
     "output_type": "display_data"
    }
   ],
   "source": [
    "plot_saliency(saliency_var, 44, neg_selected_var, one_hot_negvar)\n",
    "plt.savefig('DGCR8_rs1025053135.var.pdf')"
   ]
  },
  {
   "cell_type": "code",
   "execution_count": 59,
   "id": "fbc45fc0",
   "metadata": {},
   "outputs": [
    {
     "data": {
      "text/plain": [
       "242"
      ]
     },
     "execution_count": 59,
     "metadata": {},
     "output_type": "execute_result"
    }
   ],
   "source": [
    "seq.loc[seq['name']==neg_selected_var.iloc[44]['name'], 'rbp_idx'].values[0]"
   ]
  },
  {
   "cell_type": "code",
   "execution_count": 64,
   "id": "5490e3a5",
   "metadata": {},
   "outputs": [
    {
     "name": "stdout",
     "output_type": "stream",
     "text": [
      "5638977\n"
     ]
    },
    {
     "data": {
      "image/png": "[encoded data removed]",
      "text/plain": [
       "<Figure size 864x288 with 2 Axes>"
      ]
     },
     "metadata": {
      "needs_background": "light"
     },
     "output_type": "display_data"
    }
   ],
   "source": [
    "plot_saliency(saliency_wt, seq.loc[seq['name']==neg_selected_var.iloc[44]['name'], 'rbp_idx'].values[0], seq, one_hot_wt)\n",
    "plt.savefig('DGCR8_rs1025053135.wt.pdf')"
   ]
  },
  {
   "cell_type": "code",
   "execution_count": 61,
   "id": "f1dfd7d8",
   "metadata": {},
   "outputs": [],
   "source": [
    "def plot_many_saliency(gs, indices, subset_seq_df, one_hot):\n",
    "    index2seq = 'ACGU'\n",
    "    \n",
    "\n",
    "    # find coverage\n",
    "    all_wig_value = []\n",
    "    all_saliency_values = []\n",
    "    window_names = subset_seq_df.loc[subset_seq_df['rbp_idx'].isin(indices), 'name']\n",
    "    sub = megaoutput.loc[megaoutput['name'].isin(window_names)].iloc[0]\n",
    "    for index in indices:\n",
    "        window_name = subset_seq_df.iloc[index]['name']\n",
    "        row = megaoutput.loc[megaoutput['name']==window_name].iloc[0]\n",
    "        wig_values = rbp_wig_cov.fetch(row['chrom'], row['start'], row['end'], row['strand'])\n",
    "        wig_values_cits = rbp_wig_cits.fetch(row['chrom'], row['start'], row['end'], row['strand'])\n",
    "\n",
    "        seq_values = one_hot[index,:,:] # [1,4,100]\n",
    "        gradient_values = gs[index,0,:,:].cpu().numpy() # [1,1,100,4]\n",
    "        saliency_values = gradient_values * seq_values.T # 4*100\n",
    "        saliency_df = pd.DataFrame(saliency_values.T)\n",
    "        saliency_df.index = list(index2seq)\n",
    "\n",
    "        saliency_df = saliency_df.loc[:, seq_values.sum(axis = 0)!=0].T\n",
    "        saliency_df.index = np.arange(saliency_df.shape[0])\n",
    "        \n",
    "        all_wig_value.append(wig_values)\n",
    "        all_saliency_values.append(saliency_df)\n",
    "        \n",
    "    \n",
    "    all_wig_value = np.concatenate(all_wig_value)\n",
    "    all_saliency_df = pd.concat(all_saliency_values, axis = 0, ignore_index = True)\n",
    "    print(all_saliency_df)\n",
    "    \n",
    "    f, ax = plt.subplots(2,1, sharex = True, figsize = (60,4))\n",
    "    logomaker.Logo(all_saliency_df, # only plot places with sequence\n",
    "                              shade_below=.5,\n",
    "                              fade_below=.5,\n",
    "                              font_name='Arial Rounded MT Bold', \n",
    "                  ax = ax[0])\n",
    "\n",
    "\n",
    "    ax[0].set_ylabel('saliency')\n",
    "    ax[1].bar(np.arange(len(all_wig_value)), all_wig_value, color = 'lightgrey')\n",
    "    ax[1].set_ylabel('coverage')\n",
    "    \n",
    "\n",
    "    ax[0].set_title(row['chrom'] + ':'+str(sub['start'].min())+'-'+str(sub['end'].max())+':'+row['strand'])\n",
    "    print(row['chrom'] + ':'+str(sub['start'].min())+'-'+str(sub['end'].max())+':'+row['strand'])\n",
    "    sns.despine()"
   ]
  },
  {
   "cell_type": "code",
   "execution_count": 62,
   "id": "46c73d06",
   "metadata": {},
   "outputs": [
    {
     "name": "stdout",
     "output_type": "stream",
     "text": [
      "            A         C         G         U\n",
      "0    0.000000  0.000000  0.000000  0.000005\n",
      "1    0.000031  0.000000  0.000000  0.000000\n",
      "2    0.000000  0.000058  0.000000  0.000000\n",
      "3    0.000105  0.000000  0.000000  0.000000\n",
      "4    0.000000  0.000000  0.000000  0.000018\n",
      "..        ...       ...       ...       ...\n",
      "644  0.000000  0.000000  0.000023  0.000000\n",
      "645  0.000041  0.000000  0.000000  0.000000\n",
      "646  0.000000  0.000000  0.000196  0.000000\n",
      "647  0.000000  0.000016  0.000000  0.000000\n",
      "648  0.000000  0.000000  0.000066  0.000000\n",
      "\n",
      "[649 rows x 4 columns]\n",
      "chr22:17100881-17100981:+\n"
     ]
    },
    {
     "data": {
      "image/png": "[encoded data removed]",
      "text/plain": [
       "<Figure size 4320x288 with 2 Axes>"
      ]
     },
     "metadata": {
      "needs_background": "light"
     },
     "output_type": "display_data"
    }
   ],
   "source": [
    "plot_many_saliency(saliency_wt, [8,9,10,11,12,13,14], seq, one_hot_wt)"
   ]
  },
  {
   "cell_type": "code",
   "execution_count": null,
   "id": "e167f318",
   "metadata": {},
   "outputs": [],
   "source": []
  }
 ],
 "metadata": {
  "kernelspec": {
   "display_name": "Python 3 (ipykernel)",
   "language": "python",
   "name": "python3"
  },
  "language_info": {
   "codemirror_mode": {
    "name": "ipython",
    "version": 3
   },
   "file_extension": ".py",
   "mimetype": "text/x-python",
   "name": "python",
   "nbconvert_exporter": "python",
   "pygments_lexer": "ipython3",
   "version": "3.9.5"
  }
 },
 "nbformat": 4,
 "nbformat_minor": 5
}
