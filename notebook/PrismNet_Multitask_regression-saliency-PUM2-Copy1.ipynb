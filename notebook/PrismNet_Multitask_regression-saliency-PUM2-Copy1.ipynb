{
 "cells": [
  {
   "cell_type": "markdown",
   "id": "b649278e",
   "metadata": {},
   "source": [
    "#follow this to install prismnet\n",
    "https://github.com/kuixu/PrismNet"
   ]
  },
  {
   "cell_type": "code",
   "execution_count": 1,
   "id": "100ca6f3",
   "metadata": {},
   "outputs": [
    {
     "name": "stdout",
     "output_type": "stream",
     "text": [
      "Requirement already satisfied: logomaker in /opt/conda/lib/python3.9/site-packages (0.8)\n",
      "Requirement already satisfied: matplotlib in /opt/conda/lib/python3.9/site-packages (from logomaker) (3.4.2)\n",
      "Requirement already satisfied: pandas in /opt/conda/lib/python3.9/site-packages (from logomaker) (1.3.4)\n",
      "Requirement already satisfied: numpy in /home/hsher/.local/lib/python3.9/site-packages (from logomaker) (1.22.2)\n",
      "Requirement already satisfied: pillow>=6.2.0 in /opt/conda/lib/python3.9/site-packages (from matplotlib->logomaker) (6.2.2)\n",
      "Requirement already satisfied: kiwisolver>=1.0.1 in /opt/conda/lib/python3.9/site-packages (from matplotlib->logomaker) (1.3.1)\n",
      "Requirement already satisfied: python-dateutil>=2.7 in /opt/conda/lib/python3.9/site-packages (from matplotlib->logomaker) (2.8.2)\n",
      "Requirement already satisfied: cycler>=0.10 in /opt/conda/lib/python3.9/site-packages (from matplotlib->logomaker) (0.10.0)\n",
      "Requirement already satisfied: pyparsing>=2.2.1 in /opt/conda/lib/python3.9/site-packages (from matplotlib->logomaker) (2.4.7)\n",
      "Requirement already satisfied: pytz>=2017.3 in /opt/conda/lib/python3.9/site-packages (from pandas->logomaker) (2021.1)\n",
      "Requirement already satisfied: six in /opt/conda/lib/python3.9/site-packages (from cycler>=0.10->matplotlib->logomaker) (1.15.0)\n",
      "\u001b[33mWARNING: You are using pip version 22.0.3; however, version 23.2.1 is available.\n",
      "You should consider upgrading via the '/opt/conda/bin/python3.9 -m pip install --upgrade pip' command.\u001b[0m\u001b[33m\n",
      "\u001b[0mRequirement already satisfied: pyBigWig in /opt/conda/lib/python3.9/site-packages (0.3.22)\n",
      "\u001b[33mWARNING: You are using pip version 22.0.3; however, version 23.2.1 is available.\n",
      "You should consider upgrading via the '/opt/conda/bin/python3.9 -m pip install --upgrade pip' command.\u001b[0m\u001b[33m\n",
      "\u001b[0m"
     ]
    }
   ],
   "source": [
    "!pip install logomaker\n",
    "!pip install pyBigWig"
   ]
  },
  {
   "cell_type": "code",
   "execution_count": 2,
   "id": "0e17a279",
   "metadata": {},
   "outputs": [],
   "source": [
    "import argparse, os, random\n",
    "import torch\n",
    "import torch.nn as nn\n",
    "import torch.nn.functional as F\n",
    "import torch.optim as optim\n",
    "from torch.optim import lr_scheduler\n",
    "\n",
    "\n",
    "\n",
    "from sklearn import metrics\n",
    "import numpy as np\n",
    "\n",
    "import prismnet.model as arch\n",
    "from prismnet import train, validate, inference, log_print, compute_saliency, compute_saliency_img, compute_high_attention_region\n",
    "#compute_high_attention_region\n",
    "\n",
    "# from prismnet.engine.train_loop import \n",
    "from prismnet.model.utils import GradualWarmupScheduler\n",
    "from prismnet.loader import SeqicSHAPE\n",
    "from prismnet.utils import datautils"
   ]
  },
  {
   "cell_type": "code",
   "execution_count": 3,
   "id": "1218a44d",
   "metadata": {},
   "outputs": [],
   "source": [
    "import pandas as pd\n",
    "outstem = 'K562_rep6'\n",
    "rbp = 'RBFOX2'\n",
    "motif = 'GCATG'\n",
    "megaoutput = pd.read_csv(f'../data/ABC_data/{outstem}.megaoutputs_masked.tsv', sep = '\\t')\n",
    "seq = pd.read_csv(f'../data/ABC_data/tsv/{outstem}.DDX3.tsv', sep = '\\t', names = ['chrom', 'name', \n",
    "                                                                                 'seq', 'struct', 'label', 'start'])"
   ]
  },
  {
   "cell_type": "code",
   "execution_count": 4,
   "id": "791872bc",
   "metadata": {},
   "outputs": [
    {
     "data": {
      "text/html": [
       "<div>\n",
       "<style scoped>\n",
       "    .dataframe tbody tr th:only-of-type {\n",
       "        vertical-align: middle;\n",
       "    }\n",
       "\n",
       "    .dataframe tbody tr th {\n",
       "        vertical-align: top;\n",
       "    }\n",
       "\n",
       "    .dataframe thead th {\n",
       "        text-align: right;\n",
       "    }\n",
       "</style>\n",
       "<table border=\"1\" class=\"dataframe\">\n",
       "  <thead>\n",
       "    <tr style=\"text-align: right;\">\n",
       "      <th></th>\n",
       "      <th>chrom</th>\n",
       "      <th>name</th>\n",
       "      <th>seq</th>\n",
       "      <th>struct</th>\n",
       "      <th>label</th>\n",
       "      <th>start</th>\n",
       "    </tr>\n",
       "  </thead>\n",
       "  <tbody>\n",
       "    <tr>\n",
       "      <th>0</th>\n",
       "      <td>chr1</td>\n",
       "      <td>1</td>\n",
       "      <td>ATTAATCCCCTGGCCCAACCCGTCATCTACTCTACCATCTTTGCAG...</td>\n",
       "      <td>-1.0,-1.0,-1.0,-1.0,-1.0,0.5,0.4,0.2,0.2,0.3,0...</td>\n",
       "      <td>-1</td>\n",
       "      <td>629639</td>\n",
       "    </tr>\n",
       "    <tr>\n",
       "      <th>1</th>\n",
       "      <td>chr1</td>\n",
       "      <td>10</td>\n",
       "      <td>CACCCTCCTTAACCTCTACTTCTACCTGCGCCTAATCTACTCCACC...</td>\n",
       "      <td>0.5,0.1,0.2,0.0,0.0,0.0,0.1,0.0,0.0,0.0,0.3,0....</td>\n",
       "      <td>-1</td>\n",
       "      <td>630493</td>\n",
       "    </tr>\n",
       "    <tr>\n",
       "      <th>2</th>\n",
       "      <td>chr1</td>\n",
       "      <td>100013</td>\n",
       "      <td>GCCCGCCTCTGCCTCCCAAAGTGCTGGGATTACAGGCCTGAGCCAC...</td>\n",
       "      <td>NaN</td>\n",
       "      <td>-1</td>\n",
       "      <td>65435609</td>\n",
       "    </tr>\n",
       "    <tr>\n",
       "      <th>3</th>\n",
       "      <td>chr1</td>\n",
       "      <td>100014</td>\n",
       "      <td>CCAATAGAACCAAAATATTTATGAGGATGCTAGCATTTTCCAAGCA...</td>\n",
       "      <td>NaN</td>\n",
       "      <td>-1</td>\n",
       "      <td>65435708</td>\n",
       "    </tr>\n",
       "    <tr>\n",
       "      <th>4</th>\n",
       "      <td>chr1</td>\n",
       "      <td>100015</td>\n",
       "      <td>TGTGCATTTTAATTTAATTCTCCTTTTTCCATTTTGTCTCATGAAG...</td>\n",
       "      <td>NaN</td>\n",
       "      <td>-1</td>\n",
       "      <td>65435808</td>\n",
       "    </tr>\n",
       "  </tbody>\n",
       "</table>\n",
       "</div>"
      ],
      "text/plain": [
       "  chrom    name                                                seq  \\\n",
       "0  chr1       1  ATTAATCCCCTGGCCCAACCCGTCATCTACTCTACCATCTTTGCAG...   \n",
       "1  chr1      10  CACCCTCCTTAACCTCTACTTCTACCTGCGCCTAATCTACTCCACC...   \n",
       "2  chr1  100013  GCCCGCCTCTGCCTCCCAAAGTGCTGGGATTACAGGCCTGAGCCAC...   \n",
       "3  chr1  100014  CCAATAGAACCAAAATATTTATGAGGATGCTAGCATTTTCCAAGCA...   \n",
       "4  chr1  100015  TGTGCATTTTAATTTAATTCTCCTTTTTCCATTTTGTCTCATGAAG...   \n",
       "\n",
       "                                              struct  label     start  \n",
       "0  -1.0,-1.0,-1.0,-1.0,-1.0,0.5,0.4,0.2,0.2,0.3,0...     -1    629639  \n",
       "1  0.5,0.1,0.2,0.0,0.0,0.0,0.1,0.0,0.0,0.0,0.3,0....     -1    630493  \n",
       "2                                                NaN     -1  65435609  \n",
       "3                                                NaN     -1  65435708  \n",
       "4                                                NaN     -1  65435808  "
      ]
     },
     "execution_count": 4,
     "metadata": {},
     "output_type": "execute_result"
    }
   ],
   "source": [
    "seq.head()"
   ]
  },
  {
   "cell_type": "code",
   "execution_count": 5,
   "id": "aa595cc4",
   "metadata": {},
   "outputs": [],
   "source": [
    "max_length=seq['seq'].str.len().max()"
   ]
  },
  {
   "cell_type": "markdown",
   "id": "55ab7509",
   "metadata": {},
   "source": [
    "# Evaluate training"
   ]
  },
  {
   "cell_type": "code",
   "execution_count": 6,
   "id": "f42590f7",
   "metadata": {},
   "outputs": [],
   "source": [
    "# plot training curve\n",
    "curve = pd.read_csv(f'../data/ABC_data/{outstem}.training_curve.csv')"
   ]
  },
  {
   "cell_type": "code",
   "execution_count": 7,
   "id": "499a7bbc",
   "metadata": {},
   "outputs": [
    {
     "data": {
      "text/plain": [
       "type\n",
       "test     AxesSubplot(0.125,0.125;0.775x0.755)\n",
       "train    AxesSubplot(0.125,0.125;0.775x0.755)\n",
       "Name: loss, dtype: object"
      ]
     },
     "execution_count": 7,
     "metadata": {},
     "output_type": "execute_result"
    },
    {
     "data": {
      "image/png": "[encoded data removed]",
      "text/plain": [
       "<Figure size 432x288 with 1 Axes>"
      ]
     },
     "metadata": {
      "needs_background": "light"
     },
     "output_type": "display_data"
    }
   ],
   "source": [
    "curve.set_index('epoch').groupby(by = 'type')['loss'].plot(legend = True)"
   ]
  },
  {
   "cell_type": "markdown",
   "id": "d00f0a8b",
   "metadata": {},
   "source": [
    "# visualize"
   ]
  },
  {
   "cell_type": "code",
   "execution_count": 8,
   "id": "e21ced47",
   "metadata": {},
   "outputs": [
    {
     "data": {
      "text/plain": [
       "<AxesSubplot:>"
      ]
     },
     "execution_count": 8,
     "metadata": {},
     "output_type": "execute_result"
    },
    {
     "data": {
      "image/png": "[encoded data removed]",
      "text/plain": [
       "<Figure size 432x288 with 1 Axes>"
      ]
     },
     "metadata": {
      "needs_background": "light"
     },
     "output_type": "display_data"
    }
   ],
   "source": [
    "megaoutput[f'logLR:{outstem}.{rbp}'].hist()"
   ]
  },
  {
   "cell_type": "code",
   "execution_count": 9,
   "id": "8b419915",
   "metadata": {},
   "outputs": [],
   "source": [
    "positive = megaoutput.loc[megaoutput[f'logLR:{outstem}.{rbp}']>2]"
   ]
  },
  {
   "cell_type": "code",
   "execution_count": 10,
   "id": "a8b0b266",
   "metadata": {},
   "outputs": [
    {
     "name": "stderr",
     "output_type": "stream",
     "text": [
      "/tmp/ipykernel_2556/4225601108.py:1: SettingWithCopyWarning: \n",
      "A value is trying to be set on a copy of a slice from a DataFrame.\n",
      "Try using .loc[row_indexer,col_indexer] = value instead\n",
      "\n",
      "See the caveats in the documentation: https://pandas.pydata.org/pandas-docs/stable/user_guide/indexing.html#returning-a-view-versus-a-copy\n",
      "  positive['logLR_bin'] = pd.cut(positive[f'logLR:{outstem}.{rbp}'], bins = 5)\n"
     ]
    }
   ],
   "source": [
    "positive['logLR_bin'] = pd.cut(positive[f'logLR:{outstem}.{rbp}'], bins = 5)"
   ]
  },
  {
   "cell_type": "code",
   "execution_count": 11,
   "id": "bce37e7b",
   "metadata": {},
   "outputs": [
    {
     "data": {
      "text/plain": [
       "(1.981, 7.018]      6637\n",
       "(7.018, 12.029]     2135\n",
       "(12.029, 17.04]     1064\n",
       "(17.04, 22.052]      301\n",
       "(22.052, 27.063]      51\n",
       "Name: logLR_bin, dtype: int64"
      ]
     },
     "execution_count": 11,
     "metadata": {},
     "output_type": "execute_result"
    }
   ],
   "source": [
    "positive['logLR_bin'].value_counts()"
   ]
  },
  {
   "cell_type": "code",
   "execution_count": 12,
   "id": "13acdbe4",
   "metadata": {},
   "outputs": [
    {
     "data": {
      "text/plain": [
       "GSE1                             162\n",
       "NEAT1                            130\n",
       "CCDC200                          123\n",
       "PRKCB                             80\n",
       "C22orf34                          73\n",
       "DGCR8                             68\n",
       "RP11-719N9.1                      63\n",
       "DOT1L                             50\n",
       "LRCH4                             42\n",
       "HBG2:CTD-2643I7.5:HBE1:OR51B5     41\n",
       "EPB41                             40\n",
       "DNM2                              37\n",
       "UNKL                              36\n",
       "PFKP                              35\n",
       "SMPD4BP                           33\n",
       "PIEZO1                            33\n",
       "SCARB1                            32\n",
       "CAMK2G                            32\n",
       "PI4KAP2                           32\n",
       "MIR17HG                           30\n",
       "Name: gene_name, dtype: int64"
      ]
     },
     "execution_count": 12,
     "metadata": {},
     "output_type": "execute_result"
    }
   ],
   "source": [
    "positive['gene_name'].value_counts().iloc[:20]"
   ]
  },
  {
   "cell_type": "code",
   "execution_count": 13,
   "id": "d16d2863",
   "metadata": {},
   "outputs": [],
   "source": [
    "# # only plot specific outputs\n",
    "# sample_size = 64\n",
    "# subset = []\n",
    "# # select specific logLR as outputs\n",
    "# #subset = megaoutput.loc[megaoutput[f'{outstem}.{rbp}']].sample(sample_size)\n",
    "# for name,group in positive.groupby(by=['logLR_bin']):\n",
    "#     try:\n",
    "#         subset.append(group.sample(sample_size))\n",
    "#     except:\n",
    "#         subset.append(group)\n",
    "# subset = pd.concat(subset, axis = 0)           \n",
    "# subset[f'logLR:{outstem}.{rbp}'].hist()"
   ]
  },
  {
   "cell_type": "code",
   "execution_count": 14,
   "id": "592d0ec1",
   "metadata": {},
   "outputs": [],
   "source": [
    "subset = positive"
   ]
  },
  {
   "cell_type": "code",
   "execution_count": 15,
   "id": "3b0696d9",
   "metadata": {},
   "outputs": [],
   "source": [
    "from prismnet.utils import datautils"
   ]
  },
  {
   "cell_type": "code",
   "execution_count": 16,
   "id": "651c1c4e",
   "metadata": {},
   "outputs": [],
   "source": [
    "subset_seq_df = seq.set_index('name').loc[subset['name'].tolist(), ['seq']]"
   ]
  },
  {
   "cell_type": "code",
   "execution_count": 17,
   "id": "bb3ed170",
   "metadata": {},
   "outputs": [
    {
     "data": {
      "text/plain": [
       "(10188, 1)"
      ]
     },
     "execution_count": 17,
     "metadata": {},
     "output_type": "execute_result"
    }
   ],
   "source": [
    "subset_seq_df.shape"
   ]
  },
  {
   "cell_type": "code",
   "execution_count": 18,
   "id": "651132bd",
   "metadata": {},
   "outputs": [
    {
     "data": {
      "text/plain": [
       "(10188, 4, 100)"
      ]
     },
     "execution_count": 18,
     "metadata": {},
     "output_type": "execute_result"
    }
   ],
   "source": [
    "one_hot = datautils.convert_one_hot(subset_seq_df['seq'].tolist(), max_length)\n",
    "one_hot.shape # N, 4, max_length"
   ]
  },
  {
   "cell_type": "code",
   "execution_count": 19,
   "id": "4f56775e",
   "metadata": {},
   "outputs": [],
   "source": [
    "data = one_hot"
   ]
  },
  {
   "cell_type": "code",
   "execution_count": 20,
   "id": "54c692bb",
   "metadata": {},
   "outputs": [],
   "source": [
    "# targets: predict binary\n",
    "target_col = subset.columns[(subset.columns.str.startswith('logLR'))&(subset.columns.str.contains(outstem))]\n",
    "target_df = subset[target_col]"
   ]
  },
  {
   "cell_type": "code",
   "execution_count": 21,
   "id": "89910e8d",
   "metadata": {},
   "outputs": [
    {
     "data": {
      "text/plain": [
       "(10188, 10)"
      ]
     },
     "execution_count": 21,
     "metadata": {},
     "output_type": "execute_result"
    }
   ],
   "source": [
    "targets = target_df.values\n",
    "targets.shape"
   ]
  },
  {
   "cell_type": "code",
   "execution_count": 22,
   "id": "55fd1596",
   "metadata": {},
   "outputs": [],
   "source": [
    "import numpy as np\n",
    "train, test = datautils.split_dataset(data, targets, valid_frac=0.2)\n",
    "\n",
    "target_data_type = np.float32"
   ]
  },
  {
   "cell_type": "code",
   "execution_count": 23,
   "id": "90b10c26",
   "metadata": {},
   "outputs": [],
   "source": [
    "from prismnet.model.PrismNet import *\n",
    "class PrismNet_Multitask(nn.Module):\n",
    "    def __init__(self, mode=\"pu\", output_dim=10):\n",
    "        super(PrismNet_Multitask, self).__init__()\n",
    "        self.mode = mode\n",
    "        h_p, h_k = 2, 5 \n",
    "        if mode==\"pu\":\n",
    "            self.n_features = 5\n",
    "        elif mode==\"seq\":\n",
    "            self.n_features = 4\n",
    "            h_p, h_k = 1, 3 \n",
    "        elif mode==\"str\":\n",
    "            self.n_features = 1\n",
    "            h_p, h_k = 0, 1\n",
    "        else:\n",
    "            raise \"mode error\"\n",
    "        \n",
    "        base_channel = 8\n",
    "        self.conv    = Conv2d(1, base_channel, kernel_size=(11, h_k), bn = True, same_padding=True)\n",
    "        self.se      = SEBlock(base_channel)\n",
    "        self.res2d   = ResidualBlock2D(base_channel, kernel_size=(11, h_k), padding=(5, h_p)) \n",
    "        self.res1d   = ResidualBlock1D(base_channel*4) \n",
    "        self.avgpool = nn.AvgPool2d((1,self.n_features))\n",
    "        self.gpool   = nn.AdaptiveAvgPool1d(1)\n",
    "        self.fc      = nn.Linear(base_channel*4*8, output_dim)\n",
    "        self._initialize_weights()\n",
    "\n",
    "    def _initialize_weights(self):\n",
    "        for m in self.modules():\n",
    "            if isinstance(m, nn.Conv2d):\n",
    "                nn.init.kaiming_normal_(m.weight, mode='fan_out', nonlinearity='relu')\n",
    "                if m.bias is not None:\n",
    "                    nn.init.constant_(m.bias, 0)\n",
    "            elif isinstance(m, nn.Conv1d):\n",
    "                nn.init.kaiming_normal_(m.weight, mode='fan_out', nonlinearity='relu')\n",
    "                if m.bias is not None:\n",
    "                    nn.init.constant_(m.bias, 0)\n",
    "            elif isinstance(m, nn.BatchNorm2d):\n",
    "                nn.init.constant_(m.weight, 1)\n",
    "                nn.init.constant_(m.bias, 0)\n",
    "            elif isinstance(m, nn.BatchNorm1d):\n",
    "                nn.init.constant_(m.weight, 1)\n",
    "                nn.init.constant_(m.bias, 0)\n",
    "            elif isinstance(m, nn.Linear):\n",
    "                nn.init.normal_(m.weight, 0, 0.01)\n",
    "                nn.init.constant_(m.bias, 0)\n",
    "    \n",
    "    def forward(self, input):\n",
    "        \"\"\"[forward]\n",
    "        \n",
    "        Args:\n",
    "            input ([tensor],N,C,W,H): input features\n",
    "        \"\"\"\n",
    "        if self.mode==\"seq\":\n",
    "            input = input[:,:,:,:4]\n",
    "        elif self.mode==\"str\":\n",
    "            input = input[:,:,:,4:]\n",
    "        x = self.conv(input)\n",
    "        x = F.dropout(x, 0.1, training=self.training)\n",
    "        z = self.se(x)\n",
    "        x = self.res2d(x*z)\n",
    "        x = F.dropout(x, 0.5, training=self.training)\n",
    "        x = self.avgpool(x)\n",
    "        x = x.view(x.shape[0], x.shape[1], x.shape[2])\n",
    "        x = self.res1d(x)\n",
    "        x = F.dropout(x, 0.3, training=self.training)\n",
    "        x = self.gpool(x)\n",
    "        x = x.view(x.shape[0], x.shape[1])\n",
    "        x = self.fc(x)\n",
    "        return x"
   ]
  },
  {
   "cell_type": "code",
   "execution_count": 24,
   "id": "d15e2859",
   "metadata": {},
   "outputs": [
    {
     "data": {
      "text/plain": [
       "<All keys matched successfully>"
      ]
     },
     "execution_count": 24,
     "metadata": {},
     "output_type": "execute_result"
    }
   ],
   "source": [
    "model = PrismNet_Multitask(mode = 'seq', output_dim = targets.shape[1])\n",
    "use_cuda = torch.cuda.is_available()\n",
    "device = torch.device(\"cuda\" if use_cuda else \"cpu\")\n",
    "model = model.to(device)\n",
    "model.load_state_dict(torch.load(f'../data/ABC_data/{outstem}.maskw.model.pt'))"
   ]
  },
  {
   "cell_type": "code",
   "execution_count": 25,
   "id": "bfcb7fc4",
   "metadata": {},
   "outputs": [],
   "source": [
    "class SeqicSHAPE_Multitask(torch.utils.data.Dataset):\n",
    "    def __init__(self, X, Y, is_infer=False, use_structure=True):\n",
    "        \"\"\"data loader\n",
    "        \n",
    "        Args:\n",
    "            data_path ([str]): h5 file path\n",
    "            is_test (bool, optional): testset or not. Defaults to False.\n",
    "        \"\"\"\n",
    "        if is_infer:\n",
    "            self.dataset = self.__load_infer_data__(data_path, use_structure=use_structure)\n",
    "            print(\"infer data: \", self.__len__(),\" use_structure: \", use_structure)\n",
    "        else:\n",
    "#             dataset = h5py.File(data_path, 'r')\n",
    "#             X_train = np.array(dataset['X_train']).astype(np.float32)\n",
    "#             Y_train = np.array(dataset['Y_train']).astype(np.int32)\n",
    "#             X_test  = np.array(dataset['X_test']).astype(np.float32)\n",
    "#             Y_test  = np.array(dataset['Y_test']).astype(np.int32)\n",
    "            X = np.array(X).astype(np.float32)\n",
    "            Y = np.array(Y).astype(np.float32)\n",
    "#             if len(Y_train.shape) == 1:\n",
    "#                 Y_train = np.expand_dims(Y_train, axis=1)\n",
    "#                 Y_test  = np.expand_dims(Y_test, axis=1)\n",
    "            X = np.expand_dims(X, axis=3).transpose([0, 3, 2, 1]) # N, 1, length, channel\n",
    "            \n",
    "\n",
    "            \n",
    "\n",
    "#             labels, nums = np.unique(Y_train,return_counts=True)\n",
    "#             print(\"train:\", labels, nums)\n",
    "#             labels, nums = np.unique(Y_test,return_counts=True)\n",
    "#             print(\"test:\", labels, nums)\n",
    "\n",
    "#             train = self.__prepare_data__(train)\n",
    "#             test  = self.__prepare_data__(test)\n",
    "\n",
    "            \n",
    "            self.dataset = {'inputs': X, 'targets': Y}\n",
    "            \n",
    "\n",
    "        \n",
    "\n",
    "    def __load_infer_data__(self, data_path, use_structure=True):\n",
    "        from prismnet.utils import datautils\n",
    "        dataset = datautils.load_testset_txt(data_path, use_structure=use_structure, seq_length=101)\n",
    "        return dataset\n",
    "       \n",
    "    \n",
    "    def __prepare_data__(self, data):\n",
    "        inputs    = data['inputs'][:,:,:,:4]\n",
    "        structure = data['inputs'][:,:,:,4:]\n",
    "        structure = np.expand_dims(structure[:,:,:,0], axis=3)\n",
    "        inputs    = np.concatenate([inputs, structure], axis=3)\n",
    "        data['inputs']  = inputs\n",
    "        return data\n",
    "\n",
    "    def __to_sequence__(self, x):\n",
    "        x1 = np.zeros_like(x[0,:,:1])\n",
    "        for i in range(x1.shape[0]):\n",
    "            # import pdb; pdb.set_trace()\n",
    "            x1[i] = np.argmax(x[0,i,:4])\n",
    "            # import pdb; pdb.set_trace()\n",
    "        return x1\n",
    "\n",
    "    def __getitem__(self, index):\n",
    "        \"\"\"\n",
    "        Args:\n",
    "            index (int): Index\n",
    "\n",
    "        Returns:\n",
    "            tuple: (image, target) where target is index of the target class.\n",
    "        \"\"\"\n",
    "        x = self.dataset['inputs'][index]\n",
    "        # x = self.__to_sequence__(x)\n",
    "        y = self.dataset['targets'][index]\n",
    "        return x, y\n",
    "\n",
    "\n",
    "    def __len__(self):\n",
    "        return len(self.dataset['inputs'])\n",
    "\n"
   ]
  },
  {
   "cell_type": "code",
   "execution_count": 26,
   "id": "59e3822a",
   "metadata": {},
   "outputs": [
    {
     "name": "stdout",
     "output_type": "stream",
     "text": [
      "Test  set: 10188\n"
     ]
    }
   ],
   "source": [
    "import numpy as np\n",
    "kwargs = {'num_workers': 2, 'pin_memory': True} if use_cuda else {}\n",
    "# train_loader = torch.utils.data.DataLoader(\n",
    "    \n",
    "    \n",
    "#     SeqicSHAPE_Multitask(train[0], train[1], is_infer=False, use_structure=False), \n",
    "# batch_size=64, shuffle=True,  **kwargs)\n",
    "\n",
    "test_loader  = torch.utils.data.DataLoader(\n",
    "    SeqicSHAPE_Multitask(data, targets, is_infer=False, use_structure=False),\n",
    "batch_size=64*8, shuffle=False, **kwargs)\n",
    "\n",
    "#print(\"Train set:\", len(train_loader.dataset)) #X_train (example=91099, ATCGshape=5, length=101)\n",
    "#X_train (example=91099, ATCGshape=5, length=101)\n",
    "#Y_train (example=91099, binary_outcome=1))\n",
    "print(\"Test  set:\", len(test_loader.dataset))"
   ]
  },
  {
   "cell_type": "code",
   "execution_count": 27,
   "id": "e6ae85cf",
   "metadata": {},
   "outputs": [],
   "source": [
    "def train(model, device, train_loader, criterion, optimizer):\n",
    "    ''' train for one epoch'''\n",
    "    model.train()\n",
    "    epoch_loss = 0\n",
    "    for batch_idx, (x0, y0) in enumerate(train_loader):\n",
    "        x, y = x0.float().to(device), y0.to(device).float()\n",
    "        \n",
    "        optimizer.zero_grad()\n",
    "        output = model(x)\n",
    "        \n",
    "        loss = criterion(output, y)\n",
    "        epoch_loss+=loss.item()\n",
    "        loss.backward()\n",
    "        \n",
    "        torch.nn.utils.clip_grad_norm_(model.parameters(), 5)\n",
    "        optimizer.step()\n",
    "\n",
    "    return epoch_loss\n",
    "def validate(model, device, test_loader, criterion):\n",
    "    model.eval()\n",
    "    y_all = []\n",
    "    p_all = []\n",
    "    l_all = []\n",
    "    epoch_loss = 0\n",
    "    with torch.no_grad():\n",
    "        for batch_idx, (x0, y0) in enumerate(test_loader):\n",
    "            x, y = x0.float().to(device), y0.to(device).float()\n",
    "            \n",
    "            \n",
    "            output  = model(x)\n",
    "            loss = criterion(output, y)\n",
    "            \n",
    "            epoch_loss += loss.item()\n",
    "            y_np = output.to(device='cpu', dtype=torch.float32).numpy()\n",
    "            y_all.append(y_np)\n",
    "            \n",
    "\n",
    "    return epoch_loss, y_all"
   ]
  },
  {
   "cell_type": "code",
   "execution_count": 28,
   "id": "04293561",
   "metadata": {},
   "outputs": [],
   "source": [
    "optimizer = torch.optim.Adam(model.parameters(), lr=0.0001, betas=(0.9, 0.999), weight_decay=1e-6)\n",
    "nepoch = 60\n",
    "scheduler = GradualWarmupScheduler(\n",
    "    optimizer, multiplier=8, total_epoch=nepoch, after_scheduler=None)\n",
    "criterion = torch.nn.MSELoss()\n",
    "batch_size= 64"
   ]
  },
  {
   "cell_type": "code",
   "execution_count": 29,
   "id": "614f8678",
   "metadata": {},
   "outputs": [],
   "source": [
    "loss_test, y_test_pred = validate(model, device, test_loader, criterion)"
   ]
  },
  {
   "cell_type": "code",
   "execution_count": 30,
   "id": "a875117e",
   "metadata": {},
   "outputs": [
    {
     "name": "stdout",
     "output_type": "stream",
     "text": [
      "(0.03169494791811569, 0.8036512037199686)\n"
     ]
    },
    {
     "data": {
      "image/png": "[encoded data removed]",
      "text/plain": [
       "<Figure size 432x288 with 1 Axes>"
      ]
     },
     "metadata": {
      "needs_background": "light"
     },
     "output_type": "display_data"
    },
    {
     "name": "stdout",
     "output_type": "stream",
     "text": [
      "(0.1587932547091476, 0.2101045031473993)\n"
     ]
    },
    {
     "data": {
      "image/png": "[encoded data removed]",
      "text/plain": [
       "<Figure size 432x288 with 1 Axes>"
      ]
     },
     "metadata": {
      "needs_background": "light"
     },
     "output_type": "display_data"
    },
    {
     "name": "stdout",
     "output_type": "stream",
     "text": [
      "(-0.40802990478093326, 0.0008173685738568251)\n"
     ]
    },
    {
     "data": {
      "image/png": "[encoded data removed]",
      "text/plain": [
       "<Figure size 432x288 with 1 Axes>"
      ]
     },
     "metadata": {
      "needs_background": "light"
     },
     "output_type": "display_data"
    },
    {
     "name": "stdout",
     "output_type": "stream",
     "text": [
      "(0.11966163088407777, 0.34628716357926015)\n"
     ]
    },
    {
     "data": {
      "image/png": "[encoded data removed]",
      "text/plain": [
       "<Figure size 432x288 with 1 Axes>"
      ]
     },
     "metadata": {
      "needs_background": "light"
     },
     "output_type": "display_data"
    },
    {
     "name": "stdout",
     "output_type": "stream",
     "text": [
      "(-0.07310027384482974, 0.565937294700046)\n"
     ]
    },
    {
     "data": {
      "image/png": "[encoded data removed]",
      "text/plain": [
       "<Figure size 432x288 with 1 Axes>"
      ]
     },
     "metadata": {
      "needs_background": "light"
     },
     "output_type": "display_data"
    },
    {
     "name": "stdout",
     "output_type": "stream",
     "text": [
      "(-0.22284336019391693, 0.0767370965991842)\n"
     ]
    },
    {
     "data": {
      "image/png": "[encoded data removed]",
      "text/plain": [
       "<Figure size 432x288 with 1 Axes>"
      ]
     },
     "metadata": {
      "needs_background": "light"
     },
     "output_type": "display_data"
    },
    {
     "name": "stdout",
     "output_type": "stream",
     "text": [
      "(-0.04281182908334817, 0.7369474822131517)\n"
     ]
    },
    {
     "data": {
      "image/png": "[encoded data removed]",
      "text/plain": [
       "<Figure size 432x288 with 1 Axes>"
      ]
     },
     "metadata": {
      "needs_background": "light"
     },
     "output_type": "display_data"
    },
    {
     "name": "stdout",
     "output_type": "stream",
     "text": [
      "(-0.02053782148061296, 0.8720294125803196)\n"
     ]
    },
    {
     "data": {
      "image/png": "[encoded data removed]",
      "text/plain": [
       "<Figure size 432x288 with 1 Axes>"
      ]
     },
     "metadata": {
      "needs_background": "light"
     },
     "output_type": "display_data"
    },
    {
     "name": "stdout",
     "output_type": "stream",
     "text": [
      "(-0.12431158327019315, 0.3277307198008718)\n"
     ]
    },
    {
     "data": {
      "image/png": "[encoded data removed]",
      "text/plain": [
       "<Figure size 432x288 with 1 Axes>"
      ]
     },
     "metadata": {
      "needs_background": "light"
     },
     "output_type": "display_data"
    },
    {
     "name": "stdout",
     "output_type": "stream",
     "text": [
      "(0.19938087598466264, 0.1142181559739646)\n"
     ]
    },
    {
     "data": {
      "image/png": "[encoded data removed]",
      "text/plain": [
       "<Figure size 432x288 with 1 Axes>"
      ]
     },
     "metadata": {
      "needs_background": "light"
     },
     "output_type": "display_data"
    }
   ],
   "source": [
    "from scipy.stats import pearsonr\n",
    "import matplotlib.pyplot as plt\n",
    "y_pred=np.concatenate(y_test_pred)\n",
    "for rbp_idx, name in zip(range(test[1].shape[1]), target_df.columns):\n",
    "    plt.scatter(test[1][:64, rbp_idx], y_pred[:64, rbp_idx])\n",
    "    plt.ylabel('Y_pred')\n",
    "    plt.xlabel('test')\n",
    "    print(pearsonr(test[1][:64, rbp_idx],y_pred[:64, rbp_idx]))\n",
    "    plt.title(name)\n",
    "    plt.show()\n",
    "    "
   ]
  },
  {
   "cell_type": "code",
   "execution_count": 31,
   "id": "6d5ac1f1",
   "metadata": {},
   "outputs": [
    {
     "name": "stderr",
     "output_type": "stream",
     "text": [
      "<>:150: SyntaxWarning: \"is\" with a literal. Did you mean \"==\"?\n",
      "<>:150: SyntaxWarning: \"is\" with a literal. Did you mean \"==\"?\n",
      "/tmp/ipykernel_2556/2063606002.py:150: SyntaxWarning: \"is\" with a literal. Did you mean \"==\"?\n",
      "  if module.__class__.__name__ is 'ReLU':\n"
     ]
    }
   ],
   "source": [
    "#!/usr/bin/env python\n",
    "# \n",
    "# Kui Xu, xukui.cs@gmail.com\n",
    "# 2019-02-25\n",
    "# ref smoothGrad\n",
    "\n",
    "import torch\n",
    "import torch.nn as nn\n",
    "import torch.nn.functional as F\n",
    "from torch.autograd import grad,Variable\n",
    "import numpy as np\n",
    "\n",
    "class SmoothGrad(object):\n",
    "    def __init__(self, model, device='cpu', only_seq=False, train=False, \n",
    "        x_stddev=0.015, t_stddev=0.015, nsamples=20, magnitude=2):\n",
    "        self.model     = model\n",
    "        self.device    = device\n",
    "        self.train     = train\n",
    "        self.only_seq  = only_seq\n",
    "        self.x_stddev  = x_stddev\n",
    "        self.t_stddev  = t_stddev\n",
    "        self.nsamples  = nsamples\n",
    "        self.magnitude = magnitude\n",
    "        self.features  = model\n",
    "        # import pdb; pdb.set_trace()\n",
    "\n",
    "    def get_gradients(self, z, pred_label=None, rbp_idx = 0):\n",
    "        self.model.eval()\n",
    "        self.model.zero_grad()\n",
    "        z = z.to(self.device)\n",
    "        z.requires_grad=True\n",
    "        output = self.model(z)\n",
    "        \n",
    "        output[:,rbp_idx].backward() # now it is a multioutput.... maybe sum is not the right way tho!\n",
    "        return z.grad\n",
    "\n",
    "    def get_smooth_gradients(self, z, y=None, rbp_idx=0):\n",
    "        return self.__call__(z, y, rbp_idx = rbp_idx)\n",
    "        \n",
    "    def __call__(self, z, y=None,rbp_idx = 0):\n",
    "        \"\"\"[summary]\n",
    "        \n",
    "        Args:\n",
    "            z ([type]): [description] X\n",
    "            y ([type]): [description] Y\n",
    "            x_stddev (float, optional): [description]. Defaults to 0.15.\n",
    "            t_stddev (float, optional): [description]. Defaults to 0.15.\n",
    "            nsamples (int, optional):   [description]. Defaults to 20.\n",
    "            magnitude (int, optional):  magnitude:0,1,2; 0: original gradient, 1: absolute value of the gradient,\n",
    "                                        2: square value of the gradient. Defaults to 2.\n",
    "        \n",
    "        Returns:\n",
    "            [type]: [description]\n",
    "        \"\"\"\n",
    "\n",
    "        # 1. for sequece\n",
    "        x = z[:,:,:,:4] # .data.cpu()\n",
    "        x_stddev   = (self.x_stddev * (x.max()-x.min())).to(self.device).item() \n",
    "\n",
    "        total_grad = torch.zeros(z.shape).to(self.device)\n",
    "        x_noise    = torch.zeros(x.shape).to(self.device)\n",
    "        if not self.only_seq:\n",
    "            # 2. for structure  \n",
    "            t = z[:,:,:,4:] #.data.cpu()\n",
    "            t_stddev = (self.t_stddev * (t.max()-t.min())).to(self.device).item() \n",
    "            #t_total_grad = torch.zeros(t.shape)\n",
    "            t_noise = torch.zeros(t.shape).to(self.device)\n",
    "\n",
    "        for i in range(self.nsamples):\n",
    "            x_plus_noise = x + x_noise.zero_().normal_(0, x_stddev)\n",
    "            if self.only_seq:\n",
    "                z_plus_noise = x_plus_noise\n",
    "            else:\n",
    "                t_plus_noise = t + t_noise.zero_().normal_(0, t_stddev)\n",
    "                z_plus_noise = torch.cat((x_plus_noise, t_plus_noise), dim=3)\n",
    "            #print(\"z_plus_noise:\",z_plus_noise.size())\n",
    "            grad = self.get_gradients(z_plus_noise, y, rbp_idx = rbp_idx)\n",
    "            if self.magnitude == 1:\n",
    "                total_grad += torch.abs(grad)\n",
    "            elif self.magnitude == 2:\n",
    "                total_grad += grad * grad\n",
    "            \n",
    "            # total_grad += grad * grad\n",
    "        total_grad /= self.nsamples\n",
    "        return total_grad\n",
    "\n",
    "    def get_batch_gradients(self, X, Y=None, rbp_idx = 0):\n",
    "        if Y is not None:\n",
    "            assert len(X) == len(Y), \"The size of input {} and target {} are not matched.\".format(len(X), len(Y))\n",
    "        g = torch.zeros_like(X)\n",
    "        for i in range(X.shape[0]):\n",
    "            x        = X[i:i+1]\n",
    "            if Y is not None:\n",
    "                y    = Y[i:i+1]\n",
    "            else:\n",
    "                y    = None\n",
    "            g[i:i+1] =  self.get_smooth_gradients(x, y, rbp_idx = rbp_idx)\n",
    "            # g[i:i+1] =  self.get_gradients(x, y)\n",
    "        return g\n",
    "\n",
    "\n",
    "def generate_saliency(model, x, y=None, smooth=False, nsamples=2, stddev=0.15, only_seq=False, \\\n",
    "    train=False):\n",
    "    saliency = SmoothGrad(model, only_seq, train)\n",
    "    x_grad   = saliency.get_smooth_gradients(x, y, nsamples=nsamples, x_stddev=stddev, t_stddev=stddev)\n",
    "    return x_grad\n",
    "\n",
    "\n",
    "\n",
    "class GuidedBackpropReLU(torch.autograd.Function):\n",
    "\n",
    "    def __init__(self, inplace=False):\n",
    "        super(GuidedBackpropReLU, self).__init__()\n",
    "        self.inplace = inplace\n",
    "\n",
    "    def forward(self, input):\n",
    "        pos_mask = (input > 0).type_as(input)\n",
    "        output = torch.addcmul(\n",
    "            torch.zeros(input.size()).type_as(input),\n",
    "            input,\n",
    "            pos_mask)\n",
    "        self.save_for_backward(input, output)\n",
    "        return output\n",
    "\n",
    "    def backward(self, grad_output):\n",
    "        input, output = self.saved_tensors\n",
    "\n",
    "        pos_mask_1 = (input > 0).type_as(grad_output)\n",
    "        pos_mask_2 = (grad_output > 0).type_as(grad_output)\n",
    "        grad_input = torch.addcmul(\n",
    "            torch.zeros(input.size()).type_as(input),\n",
    "            torch.addcmul(\n",
    "                torch.zeros(input.size()).type_as(input), grad_output, pos_mask_1),\n",
    "                pos_mask_2)\n",
    "\n",
    "        return grad_input\n",
    "\n",
    "    def __repr__(self):\n",
    "        inplace_str = ', inplace' if self.inplace else ''\n",
    "        return self.__class__.__name__ + ' (' \\\n",
    "            + inplace_str + ')'\n",
    "\n",
    "class GuidedBackpropSmoothGrad(SmoothGrad):\n",
    "\n",
    "    def __init__(self, model, device='cpu', only_seq=False, train=False, \n",
    "        x_stddev=0.15, t_stddev=0.15, nsamples=20, magnitude=2):\n",
    "        super(GuidedBackpropSmoothGrad, self).__init__(\n",
    "            model, device, only_seq, train, x_stddev, t_stddev, nsamples, magnitude)\n",
    "        for idx, module in self.features._modules.items():\n",
    "            if module.__class__.__name__ is 'ReLU':\n",
    "                self.features._modules[idx] = GuidedBackpropReLU()\n",
    "\n"
   ]
  },
  {
   "cell_type": "code",
   "execution_count": 32,
   "id": "dc1d8d30",
   "metadata": {},
   "outputs": [],
   "source": [
    "\n",
    "model.eval()\n",
    "sgrad = GuidedBackpropSmoothGrad(model, device=device, only_seq = True)"
   ]
  },
  {
   "cell_type": "code",
   "execution_count": 33,
   "id": "6c3f2221",
   "metadata": {},
   "outputs": [
    {
     "name": "stderr",
     "output_type": "stream",
     "text": [
      "[W pthreadpool-cpp.cc:90] Warning: Leaking Caffe2 thread-pool after fork. (function pthreadpool)\n",
      "[W pthreadpool-cpp.cc:90] Warning: Leaking Caffe2 thread-pool after fork. (function pthreadpool)\n"
     ]
    }
   ],
   "source": [
    "\n",
    "model.eval()\n",
    "sgrad = GuidedBackpropSmoothGrad(model, device=device, only_seq = True)\n",
    "rbp_idx=np.where(target_col.str.contains(rbp))[0][0]\n",
    "gs = []\n",
    "for batch_idx, (x0, y0) in enumerate(test_loader):\n",
    "    X, Y = x0.float().to(device), y0.to(device).float()\n",
    "    output = model(X)\n",
    "    \n",
    "    guided_saliency = sgrad.get_batch_gradients(X, Y, rbp_idx = rbp_idx)\n",
    "    gs.append(guided_saliency)\n",
    "gs = torch.cat(gs, axis = 0)"
   ]
  },
  {
   "cell_type": "code",
   "execution_count": 34,
   "id": "8d8d5e35",
   "metadata": {},
   "outputs": [
    {
     "data": {
      "text/plain": [
       "torch.Size([10188, 1, 100, 4])"
      ]
     },
     "execution_count": 34,
     "metadata": {},
     "output_type": "execute_result"
    }
   ],
   "source": [
    "gs.shape"
   ]
  },
  {
   "cell_type": "code",
   "execution_count": 35,
   "id": "5b01caca",
   "metadata": {},
   "outputs": [],
   "source": [
    "# dot product of sequence and guided saliency\n",
    "max_saliency = (np.transpose(np.expand_dims(one_hot, axis =1), (0,1,3,2))*gs.cpu().numpy()\n",
    "               ).sum(axis = -1).max(axis = -1).squeeze(-1)"
   ]
  },
  {
   "cell_type": "code",
   "execution_count": 36,
   "id": "0bb2d376",
   "metadata": {},
   "outputs": [],
   "source": [
    "subset_seq_df['is_motif']=subset_seq_df['seq'].str.contains(motif)\n",
    "subset_seq_df['n_motif']=subset_seq_df['seq'].str.count(motif)\n",
    "subset_seq_df['max_saliency'] = max_saliency\n",
    "subset_seq_df[f'logLR:{outstem}.{rbp}'] = subset.set_index('name')[f'logLR:{outstem}.{rbp}']\n",
    "subset_seq_df['rbp_idx'] = np.arange(subset_seq_df.shape[0])"
   ]
  },
  {
   "cell_type": "code",
   "execution_count": 37,
   "id": "d5ded0c6",
   "metadata": {},
   "outputs": [
    {
     "data": {
      "text/plain": [
       "True"
      ]
     },
     "execution_count": 37,
     "metadata": {},
     "output_type": "execute_result"
    }
   ],
   "source": [
    "subset_seq_df.index.tolist()==subset['name'].tolist()"
   ]
  },
  {
   "cell_type": "code",
   "execution_count": 38,
   "id": "38f76773",
   "metadata": {},
   "outputs": [
    {
     "data": {
      "text/plain": [
       "array([<AxesSubplot:title={'center':'max_saliency'}, xlabel='is_motif'>,\n",
       "       <AxesSubplot:title={'center':'logLR:K562_rep6.RBFOX2'}, xlabel='is_motif'>],\n",
       "      dtype=object)"
      ]
     },
     "execution_count": 38,
     "metadata": {},
     "output_type": "execute_result"
    },
    {
     "data": {
      "image/png": "[encoded data removed]",
      "text/plain": [
       "<Figure size 432x288 with 2 Axes>"
      ]
     },
     "metadata": {
      "needs_background": "light"
     },
     "output_type": "display_data"
    }
   ],
   "source": [
    "subset_seq_df.boxplot(by = 'is_motif', column = ['max_saliency', f'logLR:{outstem}.{rbp}'])"
   ]
  },
  {
   "cell_type": "code",
   "execution_count": 39,
   "id": "72c5c7d8",
   "metadata": {},
   "outputs": [
    {
     "data": {
      "text/html": [
       "<div>\n",
       "<style scoped>\n",
       "    .dataframe tbody tr th:only-of-type {\n",
       "        vertical-align: middle;\n",
       "    }\n",
       "\n",
       "    .dataframe tbody tr th {\n",
       "        vertical-align: top;\n",
       "    }\n",
       "\n",
       "    .dataframe thead th {\n",
       "        text-align: right;\n",
       "    }\n",
       "</style>\n",
       "<table border=\"1\" class=\"dataframe\">\n",
       "  <thead>\n",
       "    <tr style=\"text-align: right;\">\n",
       "      <th></th>\n",
       "      <th>seq</th>\n",
       "      <th>is_motif</th>\n",
       "      <th>n_motif</th>\n",
       "      <th>max_saliency</th>\n",
       "      <th>logLR:K562_rep6.RBFOX2</th>\n",
       "      <th>rbp_idx</th>\n",
       "    </tr>\n",
       "    <tr>\n",
       "      <th>name</th>\n",
       "      <th></th>\n",
       "      <th></th>\n",
       "      <th></th>\n",
       "      <th></th>\n",
       "      <th></th>\n",
       "      <th></th>\n",
       "    </tr>\n",
       "  </thead>\n",
       "  <tbody>\n",
       "    <tr>\n",
       "      <th>1004964</th>\n",
       "      <td>GTTGTCTTTAGCCCTTTGATTTTTTTTGGCATGCTTCTGAATTTGC...</td>\n",
       "      <td>True</td>\n",
       "      <td>1</td>\n",
       "      <td>4.103209</td>\n",
       "      <td>8.751351</td>\n",
       "      <td>0</td>\n",
       "    </tr>\n",
       "    <tr>\n",
       "      <th>4777875</th>\n",
       "      <td>GCATGGGGAGGGGGTCTCCCGCGCTGTCTCCTGGGCCGGGCTCTGC...</td>\n",
       "      <td>True</td>\n",
       "      <td>1</td>\n",
       "      <td>0.077674</td>\n",
       "      <td>6.515684</td>\n",
       "      <td>6188</td>\n",
       "    </tr>\n",
       "    <tr>\n",
       "      <th>4777902</th>\n",
       "      <td>CAGCATGGGAGCCTGTGAGTGCGGCGGGCGGATGGGGGTGTGTGGG...</td>\n",
       "      <td>True</td>\n",
       "      <td>1</td>\n",
       "      <td>0.238944</td>\n",
       "      <td>5.597941</td>\n",
       "      <td>6202</td>\n",
       "    </tr>\n",
       "    <tr>\n",
       "      <th>4777912</th>\n",
       "      <td>CAGCATGCGGGGCTCACTCCGGGTGGGCTGGCGGCACCGCCTCTTG...</td>\n",
       "      <td>True</td>\n",
       "      <td>1</td>\n",
       "      <td>1.203613</td>\n",
       "      <td>3.456492</td>\n",
       "      <td>6205</td>\n",
       "    </tr>\n",
       "    <tr>\n",
       "      <th>4777964</th>\n",
       "      <td>GCTGCAGCATGAGACACGTGTCAGATACCTCGGGCCGGCAGGCTGG...</td>\n",
       "      <td>True</td>\n",
       "      <td>1</td>\n",
       "      <td>0.275614</td>\n",
       "      <td>4.107711</td>\n",
       "      <td>6206</td>\n",
       "    </tr>\n",
       "    <tr>\n",
       "      <th>...</th>\n",
       "      <td>...</td>\n",
       "      <td>...</td>\n",
       "      <td>...</td>\n",
       "      <td>...</td>\n",
       "      <td>...</td>\n",
       "      <td>...</td>\n",
       "    </tr>\n",
       "    <tr>\n",
       "      <th>5626487</th>\n",
       "      <td>TATTGACCAGTGCTGAGCATGTCTGCATGGGCCTATGGCTGGTGCT...</td>\n",
       "      <td>True</td>\n",
       "      <td>5</td>\n",
       "      <td>3.507706</td>\n",
       "      <td>17.575029</td>\n",
       "      <td>8998</td>\n",
       "    </tr>\n",
       "    <tr>\n",
       "      <th>5626483</th>\n",
       "      <td>CTCTGCATGGGTTTATTGACCGGTGCTGAGCATGTCTGCATGGGCT...</td>\n",
       "      <td>True</td>\n",
       "      <td>5</td>\n",
       "      <td>3.563259</td>\n",
       "      <td>19.004421</td>\n",
       "      <td>8994</td>\n",
       "    </tr>\n",
       "    <tr>\n",
       "      <th>2242648</th>\n",
       "      <td>GCATGCTTGGTCTTCTGCATGCTTGGTCTTCTGCATGCTTGGTCTT...</td>\n",
       "      <td>True</td>\n",
       "      <td>5</td>\n",
       "      <td>5.554093</td>\n",
       "      <td>15.275724</td>\n",
       "      <td>1649</td>\n",
       "    </tr>\n",
       "    <tr>\n",
       "      <th>5680846</th>\n",
       "      <td>TGCATCTGCATGTTTGTGCTTCTGTGCATGTTTGTGCGTCTGTGTG...</td>\n",
       "      <td>True</td>\n",
       "      <td>5</td>\n",
       "      <td>2.133677</td>\n",
       "      <td>24.063398</td>\n",
       "      <td>9231</td>\n",
       "    </tr>\n",
       "    <tr>\n",
       "      <th>5680845</th>\n",
       "      <td>TGCATGTTTGTGTGTGCATGTTTGTGCATCTGTGTGCATGTTTGTG...</td>\n",
       "      <td>True</td>\n",
       "      <td>5</td>\n",
       "      <td>0.890743</td>\n",
       "      <td>20.364983</td>\n",
       "      <td>9230</td>\n",
       "    </tr>\n",
       "  </tbody>\n",
       "</table>\n",
       "<p>3267 rows × 6 columns</p>\n",
       "</div>"
      ],
      "text/plain": [
       "                                                       seq  is_motif  n_motif  \\\n",
       "name                                                                            \n",
       "1004964  GTTGTCTTTAGCCCTTTGATTTTTTTTGGCATGCTTCTGAATTTGC...      True        1   \n",
       "4777875  GCATGGGGAGGGGGTCTCCCGCGCTGTCTCCTGGGCCGGGCTCTGC...      True        1   \n",
       "4777902  CAGCATGGGAGCCTGTGAGTGCGGCGGGCGGATGGGGGTGTGTGGG...      True        1   \n",
       "4777912  CAGCATGCGGGGCTCACTCCGGGTGGGCTGGCGGCACCGCCTCTTG...      True        1   \n",
       "4777964  GCTGCAGCATGAGACACGTGTCAGATACCTCGGGCCGGCAGGCTGG...      True        1   \n",
       "...                                                    ...       ...      ...   \n",
       "5626487  TATTGACCAGTGCTGAGCATGTCTGCATGGGCCTATGGCTGGTGCT...      True        5   \n",
       "5626483  CTCTGCATGGGTTTATTGACCGGTGCTGAGCATGTCTGCATGGGCT...      True        5   \n",
       "2242648  GCATGCTTGGTCTTCTGCATGCTTGGTCTTCTGCATGCTTGGTCTT...      True        5   \n",
       "5680846  TGCATCTGCATGTTTGTGCTTCTGTGCATGTTTGTGCGTCTGTGTG...      True        5   \n",
       "5680845  TGCATGTTTGTGTGTGCATGTTTGTGCATCTGTGTGCATGTTTGTG...      True        5   \n",
       "\n",
       "         max_saliency  logLR:K562_rep6.RBFOX2  rbp_idx  \n",
       "name                                                    \n",
       "1004964      4.103209                8.751351        0  \n",
       "4777875      0.077674                6.515684     6188  \n",
       "4777902      0.238944                5.597941     6202  \n",
       "4777912      1.203613                3.456492     6205  \n",
       "4777964      0.275614                4.107711     6206  \n",
       "...               ...                     ...      ...  \n",
       "5626487      3.507706               17.575029     8998  \n",
       "5626483      3.563259               19.004421     8994  \n",
       "2242648      5.554093               15.275724     1649  \n",
       "5680846      2.133677               24.063398     9231  \n",
       "5680845      0.890743               20.364983     9230  \n",
       "\n",
       "[3267 rows x 6 columns]"
      ]
     },
     "execution_count": 39,
     "metadata": {},
     "output_type": "execute_result"
    }
   ],
   "source": [
    "subset_seq_df.loc[(subset_seq_df['is_motif'])].sort_values(by = 'n_motif')"
   ]
  },
  {
   "cell_type": "code",
   "execution_count": 40,
   "id": "e64792ee",
   "metadata": {},
   "outputs": [],
   "source": [
    "subset_seq_df = subset_seq_df.merge(megaoutput[['name','gene_name', 'feature_type_top', 'start']], left_index = True,\n",
    "                    right_on = 'name')"
   ]
  },
  {
   "cell_type": "code",
   "execution_count": 41,
   "id": "8bd28ce0",
   "metadata": {},
   "outputs": [],
   "source": [
    "import pyBigWig\n",
    "import numpy as np\n",
    "\n",
    "class strand_specific_wig:\n",
    "    def __init__(self, plus, minus):\n",
    "        self.plus = pyBigWig.open(plus)\n",
    "        self.minus = pyBigWig.open(minus)\n",
    "        \n",
    "    def fetch(self, chrom = None, start= None, end=None, strand= None, interval = None):\n",
    "        ''' return icSHAPE reacitivity for a bedtool interval or chrom, start, end, strand'''\n",
    "        if interval:\n",
    "            start = interval.start\n",
    "            end = interval.end\n",
    "            strand = interval.strand\n",
    "            chrom = interval.chrom\n",
    "        if strand == '-':\n",
    "            icshape_data = self.minus\n",
    "        else:\n",
    "            icshape_data = self.plus\n",
    "        values = icshape_data.values(chrom, start, end)\n",
    "        if strand == '-':\n",
    "            values = values[::-1]\n",
    "        return np.nan_to_num(np.array(values), 0)"
   ]
  },
  {
   "cell_type": "code",
   "execution_count": 42,
   "id": "17011fec",
   "metadata": {},
   "outputs": [],
   "source": [
    "rbp_wig_cits = strand_specific_wig(f'../data/CITS/{rbp}.pos.bw',\n",
    "                                 f'../data/CITS/{rbp}.neg.bw'\n",
    "                                 )\n",
    "rbp_wig_cov = strand_specific_wig(f'../data/COV/{rbp}.pos.bw',\n",
    "                             f'../data/COV/{rbp}.neg.bw'\n",
    "                             )"
   ]
  },
  {
   "cell_type": "code",
   "execution_count": null,
   "id": "242b60de",
   "metadata": {},
   "outputs": [],
   "source": []
  },
  {
   "cell_type": "code",
   "execution_count": 43,
   "id": "8bd5d49c",
   "metadata": {},
   "outputs": [],
   "source": [
    "import seaborn as sns\n",
    "import logomaker\n",
    "from scipy.ndimage import gaussian_filter1d\n",
    "\n",
    "def plot_saliency(index):\n",
    "    index2seq = 'ACGU'\n",
    "    \n",
    "\n",
    "    # find coverage\n",
    "    window_name = subset_seq_df.loc[subset_seq_df['rbp_idx']==index, 'name'].values[0]\n",
    "    row = megaoutput.loc[megaoutput['name']==window_name].iloc[0]\n",
    "    wig_values = rbp_wig_cov.fetch(row['chrom'], row['start'], row['end'], row['strand'])\n",
    "    wig_values_cits = rbp_wig_cits.fetch(row['chrom'], row['start'], row['end'], row['strand'])\n",
    "\n",
    "    seq_values = one_hot[index,:,:] # [1,4,100]\n",
    "    gradient_values = gs[index,0,:,:].cpu().numpy() # [1,1,100,4]\n",
    "    saliency_values = gradient_values * seq_values.T # 4*100\n",
    "    saliency_df = pd.DataFrame(saliency_values.T)\n",
    "    saliency_df.index = list(index2seq)\n",
    "\n",
    "    saliency_df = saliency_df.loc[:, seq_values.sum(axis = 0)!=0].T\n",
    "    saliency_df.index = np.arange(saliency_df.shape[0])\n",
    "\n",
    "    f, ax = plt.subplots(2,1, sharex = True, figsize = (12,4))\n",
    "    logomaker.Logo(saliency_df, # only plot places with sequence\n",
    "                              shade_below=.5,\n",
    "                              fade_below=.5,\n",
    "                              font_name='Arial Rounded MT Bold', \n",
    "                  ax = ax[0])\n",
    "\n",
    "\n",
    "    ax[0].set_ylabel('saliency')\n",
    "    ax[1].bar(np.arange(len(wig_values)), wig_values, color = 'lightgrey')\n",
    "    ax[1].set_ylabel('coverage')\n",
    "#     ax[2].bar(np.arange(len(wig_values_cits)), wig_values_cits, color = 'lightgrey')\n",
    "#     ax[2].plot(gaussian_filter1d(wig_values_cits, 3), color = 'tomato', label = 'smoothed CITS')\n",
    "#     ax[2].set_ylabel('#CITS')\n",
    "\n",
    "    ax[0].set_title(row['chrom'] + ':'+str(row['start'])+'-'+str(row['end'])+':'+row['strand'])\n",
    "    sns.despine()"
   ]
  },
  {
   "cell_type": "code",
   "execution_count": 57,
   "id": "f2a84a37",
   "metadata": {},
   "outputs": [
    {
     "data": {
      "text/plain": [
       "gene_name\n",
       "MAD1L1                           13\n",
       "HPCAL1                           13\n",
       "HBG2:CTD-2643I7.5:HBE1:OR51B5    13\n",
       "LINC02476                        14\n",
       "ADGRD1                           15\n",
       "DGCR8                            16\n",
       "STXBP5                           17\n",
       "LINC00884                        18\n",
       "SMYD3                            18\n",
       "MBNL1                            18\n",
       "GAK                              20\n",
       "NEAT1                            20\n",
       "PRKCB                            22\n",
       "GMEB2                            27\n",
       "ATP9B                            32\n",
       "RP11-719N9.1                     34\n",
       "GSE1                             34\n",
       "GRAMD4                           40\n",
       "ABCC5                            43\n",
       "C22orf34                         49\n",
       "Name: n_motif, dtype: int64"
      ]
     },
     "execution_count": 57,
     "metadata": {},
     "output_type": "execute_result"
    }
   ],
   "source": [
    "subset_seq_df.groupby(by = 'gene_name')['n_motif'].sum().sort_values().iloc[-20:]"
   ]
  },
  {
   "cell_type": "code",
   "execution_count": 60,
   "id": "6b84687f",
   "metadata": {},
   "outputs": [
    {
     "data": {
      "text/html": [
       "<div>\n",
       "<style scoped>\n",
       "    .dataframe tbody tr th:only-of-type {\n",
       "        vertical-align: middle;\n",
       "    }\n",
       "\n",
       "    .dataframe tbody tr th {\n",
       "        vertical-align: top;\n",
       "    }\n",
       "\n",
       "    .dataframe thead th {\n",
       "        text-align: right;\n",
       "    }\n",
       "</style>\n",
       "<table border=\"1\" class=\"dataframe\">\n",
       "  <thead>\n",
       "    <tr style=\"text-align: right;\">\n",
       "      <th></th>\n",
       "      <th>seq</th>\n",
       "      <th>is_motif</th>\n",
       "      <th>n_motif</th>\n",
       "      <th>max_saliency</th>\n",
       "      <th>logLR:K562_rep6.RBFOX2</th>\n",
       "      <th>rbp_idx</th>\n",
       "      <th>name</th>\n",
       "      <th>gene_name</th>\n",
       "      <th>feature_type_top</th>\n",
       "      <th>start</th>\n",
       "    </tr>\n",
       "  </thead>\n",
       "  <tbody>\n",
       "    <tr>\n",
       "      <th>39362</th>\n",
       "      <td>AGAGATGTTATATATATATGCACACATACACACACACACACACACA...</td>\n",
       "      <td>True</td>\n",
       "      <td>1</td>\n",
       "      <td>6.302416</td>\n",
       "      <td>5.978170</td>\n",
       "      <td>2469</td>\n",
       "      <td>2695142</td>\n",
       "      <td>LINC02476</td>\n",
       "      <td>INTRON</td>\n",
       "      <td>119570990</td>\n",
       "    </tr>\n",
       "    <tr>\n",
       "      <th>39405</th>\n",
       "      <td>TTTTTTTTTTTTGTTTTTTGCTTTCTATTTGCATGGAATATCTTTT...</td>\n",
       "      <td>True</td>\n",
       "      <td>2</td>\n",
       "      <td>10.986816</td>\n",
       "      <td>9.578946</td>\n",
       "      <td>2471</td>\n",
       "      <td>2696118</td>\n",
       "      <td>LINC02476</td>\n",
       "      <td>INTRON</td>\n",
       "      <td>119668564</td>\n",
       "    </tr>\n",
       "    <tr>\n",
       "      <th>39423</th>\n",
       "      <td>CTCTTGCACACAGCGAAAACAGAATCATTTCAGCATTCAGCCATAT...</td>\n",
       "      <td>True</td>\n",
       "      <td>1</td>\n",
       "      <td>3.908913</td>\n",
       "      <td>11.158971</td>\n",
       "      <td>2478</td>\n",
       "      <td>2696544</td>\n",
       "      <td>LINC02476</td>\n",
       "      <td>INTRON</td>\n",
       "      <td>119711064</td>\n",
       "    </tr>\n",
       "    <tr>\n",
       "      <th>39424</th>\n",
       "      <td>AACTTATATGAGTTTTATTATCTTCTTCTTTCCTGAATAGCTTCTC...</td>\n",
       "      <td>False</td>\n",
       "      <td>0</td>\n",
       "      <td>0.015753</td>\n",
       "      <td>5.978170</td>\n",
       "      <td>2479</td>\n",
       "      <td>2696545</td>\n",
       "      <td>LINC02476</td>\n",
       "      <td>INTRON</td>\n",
       "      <td>119711163</td>\n",
       "    </tr>\n",
       "    <tr>\n",
       "      <th>39427</th>\n",
       "      <td>CTCACATTAGTATAGCCATCCTTGTTCTCTTTTTGTAACTATTTGC...</td>\n",
       "      <td>True</td>\n",
       "      <td>1</td>\n",
       "      <td>3.309643</td>\n",
       "      <td>12.075125</td>\n",
       "      <td>2480</td>\n",
       "      <td>2696575</td>\n",
       "      <td>LINC02476</td>\n",
       "      <td>INTRON</td>\n",
       "      <td>119714159</td>\n",
       "    </tr>\n",
       "    <tr>\n",
       "      <th>39431</th>\n",
       "      <td>AGTGTGGAGATTCTGGTGACTGTTAGGTATGTCTATATAAAACGCA...</td>\n",
       "      <td>True</td>\n",
       "      <td>1</td>\n",
       "      <td>2.418946</td>\n",
       "      <td>5.687006</td>\n",
       "      <td>2481</td>\n",
       "      <td>2696673</td>\n",
       "      <td>LINC02476</td>\n",
       "      <td>INTRON</td>\n",
       "      <td>119723945</td>\n",
       "    </tr>\n",
       "    <tr>\n",
       "      <th>39432</th>\n",
       "      <td>GCCTTTCTCTGAAGATGATTTTGGGGGCTCAAAATTTAAAGGGTAA...</td>\n",
       "      <td>True</td>\n",
       "      <td>1</td>\n",
       "      <td>5.513775</td>\n",
       "      <td>5.687006</td>\n",
       "      <td>2482</td>\n",
       "      <td>2696713</td>\n",
       "      <td>LINC02476</td>\n",
       "      <td>INTRON</td>\n",
       "      <td>119727940</td>\n",
       "    </tr>\n",
       "    <tr>\n",
       "      <th>39442</th>\n",
       "      <td>AAATCAGCATTTTGGCTACCAGTTAGATTACAAAGAATTGCATGGC...</td>\n",
       "      <td>True</td>\n",
       "      <td>1</td>\n",
       "      <td>0.803402</td>\n",
       "      <td>10.508432</td>\n",
       "      <td>2483</td>\n",
       "      <td>2697039</td>\n",
       "      <td>LINC02476</td>\n",
       "      <td>INTRON</td>\n",
       "      <td>119760450</td>\n",
       "    </tr>\n",
       "    <tr>\n",
       "      <th>39443</th>\n",
       "      <td>CATTTTTACAGATATATGTGGGTAAATATAGCTTTCTCATATGCAG...</td>\n",
       "      <td>True</td>\n",
       "      <td>1</td>\n",
       "      <td>1.904366</td>\n",
       "      <td>9.697875</td>\n",
       "      <td>2484</td>\n",
       "      <td>2697040</td>\n",
       "      <td>LINC02476</td>\n",
       "      <td>INTRON</td>\n",
       "      <td>119760550</td>\n",
       "    </tr>\n",
       "    <tr>\n",
       "      <th>39444</th>\n",
       "      <td>TCAGAAAGCTGAGAGAAGCATGGTGAAGCTGCAGAACCCAAAGAAG...</td>\n",
       "      <td>True</td>\n",
       "      <td>1</td>\n",
       "      <td>0.177821</td>\n",
       "      <td>3.629617</td>\n",
       "      <td>2485</td>\n",
       "      <td>2697073</td>\n",
       "      <td>LINC02476</td>\n",
       "      <td>INTRON</td>\n",
       "      <td>119763839</td>\n",
       "    </tr>\n",
       "    <tr>\n",
       "      <th>39447</th>\n",
       "      <td>ATGCGGAAATCATCCCCATTATCTAATCATTTTCCACCAATTCCTC...</td>\n",
       "      <td>False</td>\n",
       "      <td>0</td>\n",
       "      <td>0.029089</td>\n",
       "      <td>7.527637</td>\n",
       "      <td>2486</td>\n",
       "      <td>2697098</td>\n",
       "      <td>LINC02476</td>\n",
       "      <td>INTRON</td>\n",
       "      <td>119766331</td>\n",
       "    </tr>\n",
       "    <tr>\n",
       "      <th>39448</th>\n",
       "      <td>GTACTATTCACACCAGAGGGGAGAGGATTATTCAAGGATGTAAATA...</td>\n",
       "      <td>False</td>\n",
       "      <td>0</td>\n",
       "      <td>0.386135</td>\n",
       "      <td>2.418185</td>\n",
       "      <td>2487</td>\n",
       "      <td>2697152</td>\n",
       "      <td>LINC02476</td>\n",
       "      <td>INTRON</td>\n",
       "      <td>119771714</td>\n",
       "    </tr>\n",
       "    <tr>\n",
       "      <th>39449</th>\n",
       "      <td>TTCTTTTCCATCTTTACTTGACTCTTTCTCTTGACTTTGTTCTCTC...</td>\n",
       "      <td>False</td>\n",
       "      <td>0</td>\n",
       "      <td>0.187868</td>\n",
       "      <td>2.418185</td>\n",
       "      <td>2488</td>\n",
       "      <td>2697188</td>\n",
       "      <td>LINC02476</td>\n",
       "      <td>INTRON</td>\n",
       "      <td>119775303</td>\n",
       "    </tr>\n",
       "    <tr>\n",
       "      <th>39450</th>\n",
       "      <td>GCATGCCACCATGCCTGGCTAAGTTTTGTATTTTTAGTAGAGATGG...</td>\n",
       "      <td>True</td>\n",
       "      <td>1</td>\n",
       "      <td>0.116274</td>\n",
       "      <td>3.629617</td>\n",
       "      <td>2489</td>\n",
       "      <td>2697198</td>\n",
       "      <td>LINC02476</td>\n",
       "      <td>INTRON</td>\n",
       "      <td>119776300</td>\n",
       "    </tr>\n",
       "    <tr>\n",
       "      <th>39452</th>\n",
       "      <td>ACTTACCTTCTTTCTCTGCTGCTTTTTTGTTTGATAGATTTGAGTT...</td>\n",
       "      <td>False</td>\n",
       "      <td>0</td>\n",
       "      <td>0.019395</td>\n",
       "      <td>4.495797</td>\n",
       "      <td>2490</td>\n",
       "      <td>2697211</td>\n",
       "      <td>LINC02476</td>\n",
       "      <td>INTRON</td>\n",
       "      <td>119777596</td>\n",
       "    </tr>\n",
       "    <tr>\n",
       "      <th>39453</th>\n",
       "      <td>ATTCTTTCATACATCTGTACTACAATTAGATTGTTTGGACATATTC...</td>\n",
       "      <td>False</td>\n",
       "      <td>0</td>\n",
       "      <td>0.095882</td>\n",
       "      <td>4.107711</td>\n",
       "      <td>2491</td>\n",
       "      <td>2697217</td>\n",
       "      <td>LINC02476</td>\n",
       "      <td>INTRON</td>\n",
       "      <td>119778194</td>\n",
       "    </tr>\n",
       "    <tr>\n",
       "      <th>39455</th>\n",
       "      <td>GAATTTTATAAAGGATCTCATTATTGACTCACGGCTACACCATCTC...</td>\n",
       "      <td>False</td>\n",
       "      <td>0</td>\n",
       "      <td>0.554139</td>\n",
       "      <td>4.858439</td>\n",
       "      <td>2492</td>\n",
       "      <td>2697255</td>\n",
       "      <td>LINC02476</td>\n",
       "      <td>SS5_PROX</td>\n",
       "      <td>119781983</td>\n",
       "    </tr>\n",
       "    <tr>\n",
       "      <th>39470</th>\n",
       "      <td>AAAAGATCATAATGGTATAGTGACCTCTGTGTGTCCCAGATGAAAA...</td>\n",
       "      <td>True</td>\n",
       "      <td>1</td>\n",
       "      <td>2.521590</td>\n",
       "      <td>7.687904</td>\n",
       "      <td>2494</td>\n",
       "      <td>2698165</td>\n",
       "      <td>LINC02476</td>\n",
       "      <td>INTRON</td>\n",
       "      <td>119872818</td>\n",
       "    </tr>\n",
       "    <tr>\n",
       "      <th>39471</th>\n",
       "      <td>ACATGGATACAGGGAGGGGAACATCACACACCAGGGCTTGTTAGGT...</td>\n",
       "      <td>False</td>\n",
       "      <td>0</td>\n",
       "      <td>0.060901</td>\n",
       "      <td>5.038288</td>\n",
       "      <td>2495</td>\n",
       "      <td>2698200</td>\n",
       "      <td>LINC02476</td>\n",
       "      <td>INTRON</td>\n",
       "      <td>119876315</td>\n",
       "    </tr>\n",
       "    <tr>\n",
       "      <th>39472</th>\n",
       "      <td>TTGTTAGATTTAAACTGATATGATTATGGGTTTTCAGGAAAGTAGT...</td>\n",
       "      <td>False</td>\n",
       "      <td>0</td>\n",
       "      <td>0.008485</td>\n",
       "      <td>2.418185</td>\n",
       "      <td>2496</td>\n",
       "      <td>2698230</td>\n",
       "      <td>LINC02476</td>\n",
       "      <td>INTRON</td>\n",
       "      <td>119879313</td>\n",
       "    </tr>\n",
       "    <tr>\n",
       "      <th>39473</th>\n",
       "      <td>AAGGCAGTGAAATGGGGTATTGTATCACCATGCATTGCCCAACATT...</td>\n",
       "      <td>True</td>\n",
       "      <td>1</td>\n",
       "      <td>3.123414</td>\n",
       "      <td>11.158971</td>\n",
       "      <td>2497</td>\n",
       "      <td>2698330</td>\n",
       "      <td>LINC02476</td>\n",
       "      <td>INTRON</td>\n",
       "      <td>119889305</td>\n",
       "    </tr>\n",
       "    <tr>\n",
       "      <th>39474</th>\n",
       "      <td>ATGACACTCTGGACATTTGAGTTACCAGAGTTCTTTTGTTTGTTCT...</td>\n",
       "      <td>True</td>\n",
       "      <td>1</td>\n",
       "      <td>4.093742</td>\n",
       "      <td>4.107711</td>\n",
       "      <td>2498</td>\n",
       "      <td>2698420</td>\n",
       "      <td>LINC02476</td>\n",
       "      <td>INTRON</td>\n",
       "      <td>119898298</td>\n",
       "    </tr>\n",
       "  </tbody>\n",
       "</table>\n",
       "</div>"
      ],
      "text/plain": [
       "                                                     seq  is_motif  n_motif  \\\n",
       "39362  AGAGATGTTATATATATATGCACACATACACACACACACACACACA...      True        1   \n",
       "39405  TTTTTTTTTTTTGTTTTTTGCTTTCTATTTGCATGGAATATCTTTT...      True        2   \n",
       "39423  CTCTTGCACACAGCGAAAACAGAATCATTTCAGCATTCAGCCATAT...      True        1   \n",
       "39424  AACTTATATGAGTTTTATTATCTTCTTCTTTCCTGAATAGCTTCTC...     False        0   \n",
       "39427  CTCACATTAGTATAGCCATCCTTGTTCTCTTTTTGTAACTATTTGC...      True        1   \n",
       "39431  AGTGTGGAGATTCTGGTGACTGTTAGGTATGTCTATATAAAACGCA...      True        1   \n",
       "39432  GCCTTTCTCTGAAGATGATTTTGGGGGCTCAAAATTTAAAGGGTAA...      True        1   \n",
       "39442  AAATCAGCATTTTGGCTACCAGTTAGATTACAAAGAATTGCATGGC...      True        1   \n",
       "39443  CATTTTTACAGATATATGTGGGTAAATATAGCTTTCTCATATGCAG...      True        1   \n",
       "39444  TCAGAAAGCTGAGAGAAGCATGGTGAAGCTGCAGAACCCAAAGAAG...      True        1   \n",
       "39447  ATGCGGAAATCATCCCCATTATCTAATCATTTTCCACCAATTCCTC...     False        0   \n",
       "39448  GTACTATTCACACCAGAGGGGAGAGGATTATTCAAGGATGTAAATA...     False        0   \n",
       "39449  TTCTTTTCCATCTTTACTTGACTCTTTCTCTTGACTTTGTTCTCTC...     False        0   \n",
       "39450  GCATGCCACCATGCCTGGCTAAGTTTTGTATTTTTAGTAGAGATGG...      True        1   \n",
       "39452  ACTTACCTTCTTTCTCTGCTGCTTTTTTGTTTGATAGATTTGAGTT...     False        0   \n",
       "39453  ATTCTTTCATACATCTGTACTACAATTAGATTGTTTGGACATATTC...     False        0   \n",
       "39455  GAATTTTATAAAGGATCTCATTATTGACTCACGGCTACACCATCTC...     False        0   \n",
       "39470  AAAAGATCATAATGGTATAGTGACCTCTGTGTGTCCCAGATGAAAA...      True        1   \n",
       "39471  ACATGGATACAGGGAGGGGAACATCACACACCAGGGCTTGTTAGGT...     False        0   \n",
       "39472  TTGTTAGATTTAAACTGATATGATTATGGGTTTTCAGGAAAGTAGT...     False        0   \n",
       "39473  AAGGCAGTGAAATGGGGTATTGTATCACCATGCATTGCCCAACATT...      True        1   \n",
       "39474  ATGACACTCTGGACATTTGAGTTACCAGAGTTCTTTTGTTTGTTCT...      True        1   \n",
       "\n",
       "       max_saliency  logLR:K562_rep6.RBFOX2  rbp_idx     name  gene_name  \\\n",
       "39362      6.302416                5.978170     2469  2695142  LINC02476   \n",
       "39405     10.986816                9.578946     2471  2696118  LINC02476   \n",
       "39423      3.908913               11.158971     2478  2696544  LINC02476   \n",
       "39424      0.015753                5.978170     2479  2696545  LINC02476   \n",
       "39427      3.309643               12.075125     2480  2696575  LINC02476   \n",
       "39431      2.418946                5.687006     2481  2696673  LINC02476   \n",
       "39432      5.513775                5.687006     2482  2696713  LINC02476   \n",
       "39442      0.803402               10.508432     2483  2697039  LINC02476   \n",
       "39443      1.904366                9.697875     2484  2697040  LINC02476   \n",
       "39444      0.177821                3.629617     2485  2697073  LINC02476   \n",
       "39447      0.029089                7.527637     2486  2697098  LINC02476   \n",
       "39448      0.386135                2.418185     2487  2697152  LINC02476   \n",
       "39449      0.187868                2.418185     2488  2697188  LINC02476   \n",
       "39450      0.116274                3.629617     2489  2697198  LINC02476   \n",
       "39452      0.019395                4.495797     2490  2697211  LINC02476   \n",
       "39453      0.095882                4.107711     2491  2697217  LINC02476   \n",
       "39455      0.554139                4.858439     2492  2697255  LINC02476   \n",
       "39470      2.521590                7.687904     2494  2698165  LINC02476   \n",
       "39471      0.060901                5.038288     2495  2698200  LINC02476   \n",
       "39472      0.008485                2.418185     2496  2698230  LINC02476   \n",
       "39473      3.123414               11.158971     2497  2698330  LINC02476   \n",
       "39474      4.093742                4.107711     2498  2698420  LINC02476   \n",
       "\n",
       "      feature_type_top      start  \n",
       "39362           INTRON  119570990  \n",
       "39405           INTRON  119668564  \n",
       "39423           INTRON  119711064  \n",
       "39424           INTRON  119711163  \n",
       "39427           INTRON  119714159  \n",
       "39431           INTRON  119723945  \n",
       "39432           INTRON  119727940  \n",
       "39442           INTRON  119760450  \n",
       "39443           INTRON  119760550  \n",
       "39444           INTRON  119763839  \n",
       "39447           INTRON  119766331  \n",
       "39448           INTRON  119771714  \n",
       "39449           INTRON  119775303  \n",
       "39450           INTRON  119776300  \n",
       "39452           INTRON  119777596  \n",
       "39453           INTRON  119778194  \n",
       "39455         SS5_PROX  119781983  \n",
       "39470           INTRON  119872818  \n",
       "39471           INTRON  119876315  \n",
       "39472           INTRON  119879313  \n",
       "39473           INTRON  119889305  \n",
       "39474           INTRON  119898298  "
      ]
     },
     "execution_count": 60,
     "metadata": {},
     "output_type": "execute_result"
    }
   ],
   "source": [
    "subset_seq_df.loc[subset_seq_df['gene_name']=='LINC02476']"
   ]
  },
  {
   "cell_type": "code",
   "execution_count": 64,
   "id": "76b00f93",
   "metadata": {},
   "outputs": [
    {
     "name": "stdout",
     "output_type": "stream",
     "text": [
      "            A         C    G         U\n",
      "0    0.000000  0.003799  0.0  0.000000\n",
      "1    0.000000  0.000000  0.0  0.002820\n",
      "2    0.000000  0.004091  0.0  0.000000\n",
      "3    0.001512  0.000000  0.0  0.000000\n",
      "4    0.000000  0.004385  0.0  0.000000\n",
      "..        ...       ...  ...       ...\n",
      "195  0.003106  0.000000  0.0  0.000000\n",
      "196  0.004156  0.000000  0.0  0.000000\n",
      "197  0.000000  0.004312  0.0  0.000000\n",
      "198  0.000000  0.006194  0.0  0.000000\n",
      "199  0.000000  0.000000  0.0  0.008389\n",
      "\n",
      "[200 rows x 4 columns]\n"
     ]
    },
    {
     "data": {
      "image/png": "[encoded data removed]",
      "text/plain": [
       "<Figure size 4320x288 with 2 Axes>"
      ]
     },
     "metadata": {
      "needs_background": "light"
     },
     "output_type": "display_data"
    }
   ],
   "source": [
    "plot_saliency([2480,2481])\n",
    "plt.savefig('LINC02476_RBFOX2.pdf')"
   ]
  },
  {
   "cell_type": "code",
   "execution_count": 50,
   "id": "8dca00e6",
   "metadata": {},
   "outputs": [
    {
     "data": {
      "text/plain": [
       "torch.Size([10188, 1, 100, 4])"
      ]
     },
     "execution_count": 50,
     "metadata": {},
     "output_type": "execute_result"
    }
   ],
   "source": [
    "gs.shape"
   ]
  },
  {
   "cell_type": "code",
   "execution_count": 46,
   "id": "9ec8a36f",
   "metadata": {},
   "outputs": [],
   "source": [
    "def plot_saliency(indices):\n",
    "    index2seq = 'ACGU'\n",
    "    \n",
    "\n",
    "    # find coverage\n",
    "    all_wig_value = []\n",
    "    all_saliency_values = []\n",
    "    window_names = subset_seq_df.loc[subset_seq_df['rbp_idx'].isin(indices), 'name']\n",
    "    sub = megaoutput.loc[megaoutput['name'].isin(window_names)].iloc[0]\n",
    "    for index in indices:\n",
    "        window_name = subset_seq_df.loc[subset_seq_df['rbp_idx']==index, 'name'].values[0]\n",
    "        row = megaoutput.loc[megaoutput['name']==window_name].iloc[0]\n",
    "        wig_values = rbp_wig_cov.fetch(row['chrom'], row['start'], row['end'], row['strand'])\n",
    "        wig_values_cits = rbp_wig_cits.fetch(row['chrom'], row['start'], row['end'], row['strand'])\n",
    "\n",
    "        seq_values = one_hot[index,:,:] # [1,4,100]\n",
    "        gradient_values = gs[index,0,:,:].cpu().numpy() # [1,1,100,4]\n",
    "        saliency_values = gradient_values * seq_values.T # 4*100\n",
    "        saliency_df = pd.DataFrame(saliency_values.T)\n",
    "        saliency_df.index = list(index2seq)\n",
    "\n",
    "        saliency_df = saliency_df.loc[:, seq_values.sum(axis = 0)!=0].T\n",
    "        saliency_df.index = np.arange(saliency_df.shape[0])\n",
    "        \n",
    "        all_wig_value.append(wig_values)\n",
    "        all_saliency_values.append(saliency_df)\n",
    "        \n",
    "    \n",
    "    all_wig_value = np.concatenate(all_wig_value)\n",
    "    all_saliency_df = pd.concat(all_saliency_values, axis = 0, ignore_index = True)\n",
    "    print(all_saliency_df)\n",
    "    \n",
    "    f, ax = plt.subplots(2,1, sharex = True, figsize = (60,4))\n",
    "    logomaker.Logo(all_saliency_df, # only plot places with sequence\n",
    "                              shade_below=.5,\n",
    "                              fade_below=.5,\n",
    "                              font_name='Arial Rounded MT Bold', \n",
    "                  ax = ax[0])\n",
    "\n",
    "\n",
    "    ax[0].set_ylabel('saliency')\n",
    "    ax[1].bar(np.arange(len(all_wig_value)), all_wig_value, color = 'lightgrey')\n",
    "    ax[1].set_ylabel('coverage')\n",
    "    \n",
    "\n",
    "    ax[0].set_title(row['chrom'] + ':'+str(sub['start'].min())+'-'+str(sub['end'].max())+':'+row['strand'])\n",
    "    sns.despine()"
   ]
  },
  {
   "cell_type": "code",
   "execution_count": 47,
   "id": "ab9b96aa",
   "metadata": {},
   "outputs": [
    {
     "name": "stdout",
     "output_type": "stream",
     "text": [
      "            A    C         G         U\n",
      "0    0.000284  0.0  0.000000  0.000000\n",
      "1    0.001687  0.0  0.000000  0.000000\n",
      "2    0.000000  0.0  0.000000  0.001487\n",
      "3    0.000000  0.0  0.000000  0.001765\n",
      "4    0.000000  0.0  0.000000  0.004433\n",
      "..        ...  ...       ...       ...\n",
      "177  0.000000  0.0  0.000000  0.000758\n",
      "178  0.000000  0.0  0.001164  0.000000\n",
      "179  0.001641  0.0  0.000000  0.000000\n",
      "180  0.000000  0.0  0.000000  0.002631\n",
      "181  0.000000  0.0  0.002904  0.000000\n",
      "\n",
      "[182 rows x 4 columns]\n"
     ]
    },
    {
     "data": {
      "image/png": "[encoded data removed]",
      "text/plain": [
       "<Figure size 4320x288 with 2 Axes>"
      ]
     },
     "metadata": {
      "needs_background": "light"
     },
     "output_type": "display_data"
    }
   ],
   "source": [
    "plt.rcParams['pdf.fonttype'] = 42\n",
    "plot_saliency([301,302])\n",
    "plt.suptitle('NORAD')\n",
    "plt.savefig('NORAD_PUM2.pdf')"
   ]
  },
  {
   "cell_type": "code",
   "execution_count": null,
   "id": "06f8b5d8",
   "metadata": {},
   "outputs": [],
   "source": []
  }
 ],
 "metadata": {
  "kernelspec": {
   "display_name": "Python 3 (ipykernel)",
   "language": "python",
   "name": "python3"
  },
  "language_info": {
   "codemirror_mode": {
    "name": "ipython",
    "version": 3
   },
   "file_extension": ".py",
   "mimetype": "text/x-python",
   "name": "python",
   "nbconvert_exporter": "python",
   "pygments_lexer": "ipython3",
   "version": "3.9.5"
  }
 },
 "nbformat": 4,
 "nbformat_minor": 5
}
