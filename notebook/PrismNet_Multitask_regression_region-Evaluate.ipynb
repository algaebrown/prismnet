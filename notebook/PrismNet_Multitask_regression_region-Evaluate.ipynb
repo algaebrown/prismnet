{
 "cells": [
  {
   "cell_type": "markdown",
   "id": "b649278e",
   "metadata": {},
   "source": [
    "#follow this to install prismnet\n",
    "https://github.com/kuixu/PrismNet"
   ]
  },
  {
   "cell_type": "code",
   "execution_count": 1,
   "id": "0e17a279",
   "metadata": {},
   "outputs": [],
   "source": [
    "import argparse, os, random\n",
    "import torch\n",
    "import torch.nn as nn\n",
    "import torch.nn.functional as F\n",
    "import torch.optim as optim\n",
    "from torch.optim import lr_scheduler\n",
    "\n",
    "\n",
    "\n",
    "from sklearn import metrics\n",
    "import numpy as np\n",
    "\n",
    "import prismnet.model as arch\n",
    "from prismnet import train, validate, inference, log_print, compute_saliency, compute_saliency_img, compute_high_attention_region\n",
    "#compute_high_attention_region\n",
    "\n",
    "# from prismnet.engine.train_loop import \n",
    "from prismnet.model.utils import GradualWarmupScheduler\n",
    "from prismnet.loader import SeqicSHAPE\n",
    "from prismnet.utils import datautils"
   ]
  },
  {
   "cell_type": "code",
   "execution_count": 2,
   "id": "f0830b22",
   "metadata": {},
   "outputs": [],
   "source": [
    "# # out dir\n",
    "\n",
    "# identity   = args.p_name+'_'+args.arch+\"_\"+args.mode # 441_PUM2_K562_sub4509_PrismNet_pu.metrics\n",
    "# datautils.make_directory(args.out_dir,\"out/\")\n",
    "# model_dir  = datautils.make_directory(args.out_dir,\"out/models\")\n",
    "# model_path = os.path.join(model_dir, identity+\"_{}.pth\")\n",
    "\n",
    "# if args.tfboard:\n",
    "#     tfb_dir  = datautils.make_directory(args.out_dir,\"out/tfb\")\n",
    "#     writer = SummaryWriter(tfb_dir)\n",
    "# else:\n",
    "#     writer = None\n",
    "# # fix random seed\n",
    "# fix_seed(args.seed)"
   ]
  },
  {
   "cell_type": "code",
   "execution_count": 3,
   "id": "1218a44d",
   "metadata": {},
   "outputs": [],
   "source": [
    "import pandas as pd\n",
    "outstem = 'K562_rep6'\n",
    "\n",
    "megaoutput = pd.read_csv(f'../data/ABC_data/{outstem}.megaoutputs_masked.tsv', sep = '\\t')\n",
    "seq = pd.read_csv(f'../data/ABC_data/tsv/{outstem}.DDX3.tsv', sep = '\\t', names = ['chrom', 'name', \n",
    "                                                                          'seq', 'struct', 'label', 'start'])\n",
    "outstem2= outstem+ '.region_type'"
   ]
  },
  {
   "cell_type": "code",
   "execution_count": 4,
   "id": "aa595cc4",
   "metadata": {},
   "outputs": [],
   "source": [
    "max_length=seq['seq'].str.len().max()"
   ]
  },
  {
   "cell_type": "code",
   "execution_count": 5,
   "id": "3b0696d9",
   "metadata": {},
   "outputs": [],
   "source": [
    "from prismnet.utils import datautils"
   ]
  },
  {
   "cell_type": "code",
   "execution_count": 6,
   "id": "651132bd",
   "metadata": {},
   "outputs": [],
   "source": [
    "one_hot = datautils.convert_one_hot(seq['seq'], max_length)"
   ]
  },
  {
   "cell_type": "code",
   "execution_count": 7,
   "id": "c1d53633",
   "metadata": {},
   "outputs": [
    {
     "data": {
      "text/plain": [
       "(138498, 4, 100)"
      ]
     },
     "execution_count": 7,
     "metadata": {},
     "output_type": "execute_result"
    }
   ],
   "source": [
    "one_hot.shape # N, 4, max_length"
   ]
  },
  {
   "cell_type": "code",
   "execution_count": 8,
   "id": "4f56775e",
   "metadata": {},
   "outputs": [],
   "source": [
    "data = one_hot"
   ]
  },
  {
   "cell_type": "code",
   "execution_count": 9,
   "id": "74d92ced",
   "metadata": {},
   "outputs": [],
   "source": [
    "# prepare region\n",
    "def make_binary(df, col):\n",
    "    binary_df = pd.DataFrame(False, index = df.index, columns = df[col[:-1]+'_top'].unique())\n",
    "    for index, row in df.iterrows():\n",
    "        binary_df.loc[index, row[col].split(':')] = True\n",
    "    \n",
    "    return binary_df\n",
    "    \n",
    "\n",
    "feature_binary = make_binary(megaoutput, 'feature_types')"
   ]
  },
  {
   "cell_type": "code",
   "execution_count": 10,
   "id": "54c692bb",
   "metadata": {},
   "outputs": [],
   "source": [
    "# targets: predict binary\n",
    "target_col = megaoutput.columns[(megaoutput.columns.str.startswith('logLR'))&(megaoutput.columns.str.contains(outstem))]\n",
    "target_df = megaoutput[target_col]"
   ]
  },
  {
   "cell_type": "code",
   "execution_count": 11,
   "id": "8641f12d",
   "metadata": {},
   "outputs": [
    {
     "data": {
      "text/plain": [
       "<AxesSubplot:>"
      ]
     },
     "execution_count": 11,
     "metadata": {},
     "output_type": "execute_result"
    },
    {
     "data": {
      "image/png": "[encoded data removed]",
      "text/plain": [
       "<Figure size 432x288 with 1 Axes>"
      ]
     },
     "metadata": {
      "needs_background": "light"
     },
     "output_type": "display_data"
    }
   ],
   "source": [
    "target_df[f'logLR:{outstem}.PUM2'].hist()"
   ]
  },
  {
   "cell_type": "code",
   "execution_count": 12,
   "id": "89910e8d",
   "metadata": {},
   "outputs": [
    {
     "data": {
      "text/plain": [
       "(138498, 10)"
      ]
     },
     "execution_count": 12,
     "metadata": {},
     "output_type": "execute_result"
    }
   ],
   "source": [
    "targets = target_df.values\n",
    "targets.shape"
   ]
  },
  {
   "cell_type": "code",
   "execution_count": 13,
   "id": "02b07adf",
   "metadata": {},
   "outputs": [],
   "source": [
    "def split_dataset(data, feature_binary, targets, valid_frac=0.2):\n",
    "    \n",
    "    ind0 = np.where(targets<0.5)[0]\n",
    "    ind1 = np.where(targets>=0.5)[0]\n",
    "    \n",
    "    n_neg = int(len(ind0)*valid_frac)\n",
    "    n_pos = int(len(ind1)*valid_frac)\n",
    "\n",
    "    shuf_neg = np.random.permutation(len(ind0))\n",
    "    shuf_pos = np.random.permutation(len(ind1))\n",
    "\n",
    "    X_train = np.concatenate((data[ind1[shuf_pos[n_pos:]]], \n",
    "                              data[ind0[shuf_neg[n_neg:]]]))\n",
    "    X_train_feature = np.concatenate((feature_binary[ind1[shuf_pos[n_pos:]]], \n",
    "                              feature_binary[ind0[shuf_neg[n_neg:]]]))\n",
    "    Y_train = np.concatenate((targets[ind1[shuf_pos[n_pos:]]], \n",
    "                              targets[ind0[shuf_neg[n_neg:]]]))\n",
    "    train = (X_train, X_train_feature, Y_train)\n",
    "\n",
    "    X_test = np.concatenate((data[ind1[shuf_pos[:n_pos]]], \n",
    "                             data[ind0[shuf_neg[:n_neg]]]))\n",
    "    X_test_feature = np.concatenate((feature_binary[ind1[shuf_pos[:n_pos]]], \n",
    "                             feature_binary[ind0[shuf_neg[:n_neg]]]))\n",
    "    Y_test = np.concatenate((targets[ind1[shuf_pos[:n_pos]]], \n",
    "                             targets[ind0[shuf_neg[:n_neg]]]))\n",
    "    test = (X_test, X_test_feature, Y_test)\n",
    "\n",
    "    return train, test"
   ]
  },
  {
   "cell_type": "code",
   "execution_count": 14,
   "id": "2731898a",
   "metadata": {},
   "outputs": [],
   "source": [
    "train, test = split_dataset(data, feature_binary.values, targets, valid_frac=0.2)\n",
    "\n",
    "target_data_type = np.float32"
   ]
  },
  {
   "cell_type": "code",
   "execution_count": 15,
   "id": "73f7fdba",
   "metadata": {},
   "outputs": [
    {
     "data": {
      "text/plain": [
       "((1107985, 4, 100), (1107985, 18), (276995, 4, 100), (276995, 18))"
      ]
     },
     "execution_count": 15,
     "metadata": {},
     "output_type": "execute_result"
    }
   ],
   "source": [
    "train[0].shape, train[1].shape, test[0].shape, test[1].shape"
   ]
  },
  {
   "cell_type": "code",
   "execution_count": 16,
   "id": "90b10c26",
   "metadata": {},
   "outputs": [],
   "source": [
    "from prismnet.model.PrismNet import *\n",
    "class PrismNet_Multitask_feature(nn.Module):\n",
    "    def __init__(self, mode=\"pu\", output_dim=10, n_feature = 18):\n",
    "        super(PrismNet_Multitask_feature, self).__init__()\n",
    "        self.mode = mode\n",
    "        h_p, h_k = 2, 5 \n",
    "        if mode==\"pu\":\n",
    "            self.n_features = 5\n",
    "        elif mode==\"seq\":\n",
    "            self.n_features = 4\n",
    "            h_p, h_k = 1, 3 \n",
    "        elif mode==\"str\":\n",
    "            self.n_features = 1\n",
    "            h_p, h_k = 0, 1\n",
    "        else:\n",
    "            raise \"mode error\"\n",
    "        \n",
    "        base_channel = 8\n",
    "        self.conv    = Conv2d(1, base_channel, kernel_size=(11, h_k), bn = True, same_padding=True)\n",
    "        self.se      = SEBlock(base_channel)\n",
    "        self.res2d   = ResidualBlock2D(base_channel, kernel_size=(11, h_k), padding=(5, h_p)) \n",
    "        self.res1d   = ResidualBlock1D(base_channel*4) \n",
    "        self.avgpool = nn.AvgPool2d((1,self.n_features))\n",
    "        self.gpool   = nn.AdaptiveAvgPool1d(1)\n",
    "        self.fc      = nn.Linear(base_channel*4*8, output_dim)\n",
    "        \n",
    "        \n",
    "        # take into feature\n",
    "        self.feature_fc = nn.Linear(n_feature, output_dim)\n",
    "        \n",
    "        # total score\n",
    "        self.total_fc = nn.Linear(output_dim*2, output_dim)\n",
    "        \n",
    "        self._initialize_weights()\n",
    "\n",
    "    def _initialize_weights(self):\n",
    "        for m in self.modules():\n",
    "            if isinstance(m, nn.Conv2d):\n",
    "                nn.init.kaiming_normal_(m.weight, mode='fan_out', nonlinearity='relu')\n",
    "                if m.bias is not None:\n",
    "                    nn.init.constant_(m.bias, 0)\n",
    "            elif isinstance(m, nn.Conv1d):\n",
    "                nn.init.kaiming_normal_(m.weight, mode='fan_out', nonlinearity='relu')\n",
    "                if m.bias is not None:\n",
    "                    nn.init.constant_(m.bias, 0)\n",
    "            elif isinstance(m, nn.BatchNorm2d):\n",
    "                nn.init.constant_(m.weight, 1)\n",
    "                nn.init.constant_(m.bias, 0)\n",
    "            elif isinstance(m, nn.BatchNorm1d):\n",
    "                nn.init.constant_(m.weight, 1)\n",
    "                nn.init.constant_(m.bias, 0)\n",
    "            elif isinstance(m, nn.Linear):\n",
    "                nn.init.normal_(m.weight, 0, 0.01)\n",
    "                nn.init.constant_(m.bias, 0)\n",
    "    \n",
    "    def forward(self, input, feat_input):\n",
    "        \"\"\"[forward]\n",
    "        \n",
    "        Args:\n",
    "            input ([tensor],N,C,W,H): input features\n",
    "            feat_input([tensor], N, n_feature): region types, 3UTR etc\n",
    "        \"\"\"\n",
    "        # sequence score\n",
    "        if self.mode==\"seq\":\n",
    "            input = input[:,:,:,:4]\n",
    "        elif self.mode==\"str\":\n",
    "            input = input[:,:,:,4:]\n",
    "        x = self.conv(input)\n",
    "        x = F.dropout(x, 0.1, training=self.training)\n",
    "        z = self.se(x)\n",
    "        x = self.res2d(x*z)\n",
    "        x = F.dropout(x, 0.5, training=self.training)\n",
    "        x = self.avgpool(x)\n",
    "        x = x.view(x.shape[0], x.shape[1], x.shape[2])\n",
    "        x = self.res1d(x)\n",
    "        x = F.dropout(x, 0.3, training=self.training)\n",
    "        x = self.gpool(x)\n",
    "        x = x.view(x.shape[0], x.shape[1])\n",
    "        x = self.fc(x) # 1107985, 10\n",
    "        \n",
    "        \n",
    "        # feature score\n",
    "        x_feat = self.feature_fc(feat_input) #1107985, 18 => 1107985, 10\n",
    "        \n",
    "        \n",
    "        \n",
    "        # total\n",
    "        x_total = self.total_fc(torch.cat([x, x_feat], dim=1))\n",
    "        return x"
   ]
  },
  {
   "cell_type": "code",
   "execution_count": 17,
   "id": "d15e2859",
   "metadata": {},
   "outputs": [],
   "source": [
    "model = PrismNet_Multitask_feature(mode = 'seq', output_dim = targets.shape[1], n_feature = train[1].shape[1])"
   ]
  },
  {
   "cell_type": "code",
   "execution_count": 18,
   "id": "718ce62d",
   "metadata": {},
   "outputs": [],
   "source": [
    "use_cuda = torch.cuda.is_available()\n",
    "device = torch.device(\"cuda\" if use_cuda else \"cpu\")"
   ]
  },
  {
   "cell_type": "code",
   "execution_count": 19,
   "id": "fe567b2a",
   "metadata": {},
   "outputs": [],
   "source": [
    "model = model.to(device)"
   ]
  },
  {
   "cell_type": "code",
   "execution_count": 20,
   "id": "bfcb7fc4",
   "metadata": {},
   "outputs": [],
   "source": [
    "class SeqicSHAPE_Multitask_feature(torch.utils.data.Dataset):\n",
    "    def __init__(self, X, X_feature, Y, is_infer=False, use_structure=True):\n",
    "        \"\"\"data loader\n",
    "        \n",
    "        Args:\n",
    "            data_path ([str]): h5 file path\n",
    "            is_test (bool, optional): testset or not. Defaults to False.\n",
    "        \"\"\"\n",
    "        if is_infer:\n",
    "            self.dataset = self.__load_infer_data__(data_path, use_structure=use_structure)\n",
    "            print(\"infer data: \", self.__len__(),\" use_structure: \", use_structure)\n",
    "        else:\n",
    "#             dataset = h5py.File(data_path, 'r')\n",
    "#             X_train = np.array(dataset['X_train']).astype(np.float32)\n",
    "#             Y_train = np.array(dataset['Y_train']).astype(np.int32)\n",
    "#             X_test  = np.array(dataset['X_test']).astype(np.float32)\n",
    "#             Y_test  = np.array(dataset['Y_test']).astype(np.int32)\n",
    "            X = np.array(X).astype(np.float32)\n",
    "            X_feature = np.array(X_feature).astype(np.float32)\n",
    "            Y = np.array(Y).astype(np.float32)\n",
    "#             if len(Y_train.shape) == 1:\n",
    "#                 Y_train = np.expand_dims(Y_train, axis=1)\n",
    "#                 Y_test  = np.expand_dims(Y_test, axis=1)\n",
    "            X = np.expand_dims(X, axis=3).transpose([0, 3, 2, 1]) # N, 1, length, channel\n",
    "            \n",
    "\n",
    "            \n",
    "\n",
    "#             labels, nums = np.unique(Y_train,return_counts=True)\n",
    "#             print(\"train:\", labels, nums)\n",
    "#             labels, nums = np.unique(Y_test,return_counts=True)\n",
    "#             print(\"test:\", labels, nums)\n",
    "\n",
    "#             train = self.__prepare_data__(train)\n",
    "#             test  = self.__prepare_data__(test)\n",
    "\n",
    "            \n",
    "            self.dataset = {'inputs': X, 'inputs_feat': X_feature, 'targets': Y}\n",
    "            \n",
    "\n",
    "        \n",
    "\n",
    "    def __load_infer_data__(self, data_path, use_structure=True):\n",
    "        from prismnet.utils import datautils\n",
    "        dataset = datautils.load_testset_txt(data_path, use_structure=use_structure, seq_length=101)\n",
    "        return dataset\n",
    "       \n",
    "    \n",
    "    def __prepare_data__(self, data):\n",
    "        inputs    = data['inputs'][:,:,:,:4]\n",
    "        structure = data['inputs'][:,:,:,4:]\n",
    "        structure = np.expand_dims(structure[:,:,:,0], axis=3)\n",
    "        inputs    = np.concatenate([inputs, structure], axis=3)\n",
    "        data['inputs']  = inputs\n",
    "        return data\n",
    "\n",
    "    def __to_sequence__(self, x):\n",
    "        x1 = np.zeros_like(x[0,:,:1])\n",
    "        for i in range(x1.shape[0]):\n",
    "            # import pdb; pdb.set_trace()\n",
    "            x1[i] = np.argmax(x[0,i,:4])\n",
    "            # import pdb; pdb.set_trace()\n",
    "        return x1\n",
    "\n",
    "    def __getitem__(self, index):\n",
    "        \"\"\"\n",
    "        Args:\n",
    "            index (int): Index\n",
    "\n",
    "        Returns:\n",
    "            tuple: (image, target) where target is index of the target class.\n",
    "        \"\"\"\n",
    "        x = self.dataset['inputs'][index]\n",
    "        x_feat = self.dataset['inputs_feat'][index]\n",
    "        # x = self.__to_sequence__(x)\n",
    "        y = self.dataset['targets'][index]\n",
    "        return x, x_feat, y\n",
    "\n",
    "\n",
    "    def __len__(self):\n",
    "        return len(self.dataset['inputs'])\n",
    "\n"
   ]
  },
  {
   "cell_type": "code",
   "execution_count": 21,
   "id": "e34e572a",
   "metadata": {},
   "outputs": [
    {
     "data": {
      "text/plain": [
       "(300, 4, 100)"
      ]
     },
     "execution_count": 21,
     "metadata": {},
     "output_type": "execute_result"
    }
   ],
   "source": [
    "train[0][:300].shape"
   ]
  },
  {
   "cell_type": "code",
   "execution_count": 22,
   "id": "59e3822a",
   "metadata": {},
   "outputs": [
    {
     "name": "stdout",
     "output_type": "stream",
     "text": [
      "Train set: 1107985\n",
      "Test  set: 276995\n"
     ]
    }
   ],
   "source": [
    "kwargs = {'num_workers': 2, 'pin_memory': True} if use_cuda else {}\n",
    "train_loader = torch.utils.data.DataLoader(\n",
    "    \n",
    "    \n",
    "    SeqicSHAPE_Multitask_feature(train[0], train[1], train[2], is_infer=False, use_structure=False), \n",
    "batch_size=64, shuffle=True,  **kwargs)\n",
    "\n",
    "test_loader  = torch.utils.data.DataLoader(\n",
    "    SeqicSHAPE_Multitask_feature(test[0], test[1], test[2], is_infer=False, use_structure=False),\n",
    "batch_size=64*8, shuffle=False, **kwargs)\n",
    "\n",
    "print(\"Train set:\", len(train_loader.dataset)) #X_train (example=91099, ATCGshape=5, length=101)\n",
    "#X_train (example=91099, ATCGshape=5, length=101)\n",
    "#Y_train (example=91099, binary_outcome=1))\n",
    "print(\"Test  set:\", len(test_loader.dataset))"
   ]
  },
  {
   "cell_type": "code",
   "execution_count": 23,
   "id": "e6ae85cf",
   "metadata": {},
   "outputs": [],
   "source": [
    "def train(model, device, train_loader, criterion, optimizer):\n",
    "    ''' train for one epoch'''\n",
    "    model.train()\n",
    "    epoch_loss = 0\n",
    "    for batch_idx, (x0, x_feat0, y0) in enumerate(train_loader):\n",
    "        x, x_feat, y = x0.float().to(device), x_feat0.to(device).float(), y0.to(device).float()\n",
    "        \n",
    "        optimizer.zero_grad()\n",
    "        output = model(x, x_feat)\n",
    "        \n",
    "        loss = criterion(output, y)\n",
    "        epoch_loss+=loss.item()\n",
    "        loss.backward()\n",
    "        \n",
    "        torch.nn.utils.clip_grad_norm_(model.parameters(), 5)\n",
    "        optimizer.step()\n",
    "\n",
    "    return epoch_loss\n",
    "def validate(model, device, test_loader, criterion):\n",
    "    model.eval()\n",
    "    y_all = []\n",
    "    p_all = []\n",
    "    l_all = []\n",
    "    epoch_loss = 0\n",
    "    with torch.no_grad():\n",
    "        for batch_idx, (x0, x_feat0, y0) in enumerate(test_loader):\n",
    "            x, x_feat, y = x0.float().to(device), x_feat0.to(device).float(), y0.to(device).float()\n",
    "            \n",
    "            \n",
    "            output  = model(x, x_feat)\n",
    "            loss = criterion(output, y)\n",
    "            \n",
    "            epoch_loss += loss.item()\n",
    "            y_np = output.to(device='cpu', dtype=torch.float32).numpy()\n",
    "            y_all.append(y_np)\n",
    "            \n",
    "\n",
    "    return epoch_loss, y_all"
   ]
  },
  {
   "cell_type": "code",
   "execution_count": 24,
   "id": "389dabb9",
   "metadata": {},
   "outputs": [],
   "source": [
    "try:\n",
    "    metric=pd.read_csv(f'../data/ABC_data/{outstem2}.training_curve.csv')\n",
    "except:\n",
    "    pass"
   ]
  },
  {
   "cell_type": "code",
   "execution_count": 25,
   "id": "f0ca275a",
   "metadata": {},
   "outputs": [],
   "source": [
    "# #from prismnet.utils import metrics\n",
    "# optimizer = torch.optim.Adam(model.parameters(), lr=0.0001, betas=(0.9, 0.999), weight_decay=1e-6)\n",
    "# nepoch = 60\n",
    "# scheduler = GradualWarmupScheduler(\n",
    "#     optimizer, multiplier=8, total_epoch=nepoch, after_scheduler=None)\n",
    "# criterion = torch.nn.MSELoss()\n",
    "# batch_size= 64\n",
    "\n",
    "# best_test_loss = np.inf\n",
    "\n",
    "# metric = []\n",
    "# current_epoch = 0\n",
    "\n",
    "# best_test_loss = np.inf\n",
    "# epoch = 0\n",
    "# current_epoch = epoch\n",
    "# for epoch in range(current_epoch, current_epoch + nepoch + 1):\n",
    "#     print(f'At epoch {epoch}')\n",
    "#     train_loss = train(model, device, train_loader, criterion, optimizer)\n",
    "#     metric.append(['train', epoch, train_loss])\n",
    "    \n",
    "#     test_loss, y_pred = validate(model, device, test_loader, criterion)\n",
    "#     metric.append(['test', epoch, test_loss])\n",
    "\n",
    "#     if test_loss < best_test_loss:\n",
    "#         filename = f'../data/ABC_data/{outstem}.model.pt'\n",
    "#         torch.save(model.state_dict(), filename)\n",
    "#         best_test_loss = test_loss\n",
    "        \n",
    "#     metric_df = pd.DataFrame(metric, columns = ['type', 'epoch', 'loss'])\n",
    "#     metric_df.to_csv(f'../data/ABC_data/{outstem}.training_curve.csv')\n",
    "    \n",
    "#     if epoch % 5 == 0:\n",
    "#         metric_df.groupby(by = 'type').plot(x = 'epoch', y = 'loss', subplots = False)\n",
    "    \n",
    "    "
   ]
  },
  {
   "cell_type": "code",
   "execution_count": 26,
   "id": "3a531187",
   "metadata": {},
   "outputs": [
    {
     "data": {
      "text/plain": [
       "<All keys matched successfully>"
      ]
     },
     "execution_count": 26,
     "metadata": {},
     "output_type": "execute_result"
    }
   ],
   "source": [
    "model.load_state_dict(torch.load(f'../data/ABC_data/{outstem2}.model.pt'))"
   ]
  },
  {
   "cell_type": "code",
   "execution_count": 27,
   "id": "fcd39f39",
   "metadata": {},
   "outputs": [],
   "source": [
    "#metric = pd.DataFrame(metric, columns = ['type', 'epoch', 'loss'])"
   ]
  },
  {
   "cell_type": "code",
   "execution_count": 28,
   "id": "3cf891c3",
   "metadata": {},
   "outputs": [
    {
     "data": {
      "text/plain": [
       "type\n",
       "test     AxesSubplot(0.125,0.125;0.775x0.755)\n",
       "train    AxesSubplot(0.125,0.125;0.775x0.755)\n",
       "Name: loss, dtype: object"
      ]
     },
     "execution_count": 28,
     "metadata": {},
     "output_type": "execute_result"
    },
    {
     "data": {
      "image/png": "[encoded data removed]",
      "text/plain": [
       "<Figure size 432x288 with 1 Axes>"
      ]
     },
     "metadata": {
      "needs_background": "light"
     },
     "output_type": "display_data"
    }
   ],
   "source": [
    "metric.set_index('epoch').groupby(by = 'type')['loss'].plot(legend = True)"
   ]
  },
  {
   "cell_type": "code",
   "execution_count": 29,
   "id": "a0f323ca",
   "metadata": {},
   "outputs": [],
   "source": [
    "#metric.to_csv(f'../data/ABC_data/{outstem}.training_curve.csv')"
   ]
  },
  {
   "cell_type": "code",
   "execution_count": 30,
   "id": "9784c9ba",
   "metadata": {},
   "outputs": [],
   "source": [
    "optimizer = torch.optim.Adam(model.parameters(), lr=0.0001, betas=(0.9, 0.999), weight_decay=1e-6)\n",
    "nepoch = 60\n",
    "scheduler = GradualWarmupScheduler(\n",
    "    optimizer, multiplier=8, total_epoch=nepoch, after_scheduler=None)\n",
    "criterion = torch.nn.MSELoss()\n",
    "batch_size= 64"
   ]
  },
  {
   "cell_type": "code",
   "execution_count": 31,
   "id": "614f8678",
   "metadata": {},
   "outputs": [],
   "source": [
    "loss_test, y_test_pred = validate(model, device, test_loader, criterion)"
   ]
  },
  {
   "cell_type": "code",
   "execution_count": 32,
   "id": "a7e4ce05",
   "metadata": {},
   "outputs": [],
   "source": [
    "# filename = f'../data/ABC_data/{outstem}.model.pt'\n",
    "# torch.save(model.state_dict(), filename)"
   ]
  },
  {
   "cell_type": "code",
   "execution_count": 38,
   "id": "aefd5fb7",
   "metadata": {},
   "outputs": [
    {
     "data": {
      "text/plain": [
       "array([False, False, False, ..., False, False, False])"
      ]
     },
     "execution_count": 38,
     "metadata": {},
     "output_type": "execute_result"
    }
   ],
   "source": [
    "ytest"
   ]
  },
  {
   "cell_type": "code",
   "execution_count": 40,
   "id": "bd25622d",
   "metadata": {},
   "outputs": [
    {
     "data": {
      "text/plain": [
       "(array([[[0., 0., 0., ..., 0., 0., 0.],\n",
       "         [0., 0., 0., ..., 0., 0., 0.],\n",
       "         [0., 0., 1., ..., 1., 0., 0.],\n",
       "         [0., 0., 0., ..., 0., 0., 0.]],\n",
       " \n",
       "        [[0., 1., 0., ..., 1., 0., 0.],\n",
       "         [0., 0., 0., ..., 0., 0., 0.],\n",
       "         [0., 0., 1., ..., 0., 0., 0.],\n",
       "         [0., 0., 0., ..., 0., 0., 0.]],\n",
       " \n",
       "        [[0., 0., 1., ..., 0., 0., 0.],\n",
       "         [0., 0., 0., ..., 0., 0., 1.],\n",
       "         [1., 0., 0., ..., 0., 1., 0.],\n",
       "         [0., 1., 0., ..., 1., 0., 0.]],\n",
       " \n",
       "        ...,\n",
       " \n",
       "        [[0., 0., 1., ..., 0., 0., 0.],\n",
       "         [0., 0., 0., ..., 0., 0., 0.],\n",
       "         [0., 0., 0., ..., 0., 0., 0.],\n",
       "         [0., 0., 0., ..., 0., 0., 0.]],\n",
       " \n",
       "        [[0., 0., 0., ..., 1., 0., 0.],\n",
       "         [0., 1., 0., ..., 0., 0., 0.],\n",
       "         [0., 0., 0., ..., 0., 0., 0.],\n",
       "         [1., 0., 1., ..., 0., 1., 0.]],\n",
       " \n",
       "        [[0., 1., 0., ..., 0., 0., 0.],\n",
       "         [1., 0., 0., ..., 1., 1., 0.],\n",
       "         [0., 0., 1., ..., 0., 0., 0.],\n",
       "         [0., 0., 0., ..., 0., 0., 0.]]]),\n",
       " array([[False, False, False, ..., False, False, False],\n",
       "        [False,  True, False, ..., False, False, False],\n",
       "        [False, False,  True, ..., False, False, False],\n",
       "        ...,\n",
       "        [False,  True, False, ..., False, False, False],\n",
       "        [False,  True, False, ..., False, False, False],\n",
       "        [False,  True, False, ..., False, False, False]]),\n",
       " array([[-1.92465075, -4.22151867,  0.89938213, ...,  3.11376947,\n",
       "         -0.73993062,  0.36207201],\n",
       "        [ 2.94970208, -6.78623031, -0.50308625, ..., -3.41160141,\n",
       "         -0.06804429, -3.08704127],\n",
       "        [-1.81200561,  0.82351589, -0.26069565, ...,  4.44870011,\n",
       "         -2.27394119, -3.75270727],\n",
       "        ...,\n",
       "        [-2.96164863, -7.90316625,  0.50633396, ..., -4.27815759,\n",
       "         -3.20170708, -4.29308115],\n",
       "        [ 1.54732454, -3.37977682, -0.20958237, ..., -2.48595724,\n",
       "         -1.86623861, -3.12120723],\n",
       "        [ 1.49109769, -4.80024562, -0.32573495, ..., -3.65242072,\n",
       "         -2.77858595, -2.58245939]]))"
      ]
     },
     "execution_count": 40,
     "metadata": {},
     "output_type": "execute_result"
    }
   ],
   "source": [
    "test"
   ]
  },
  {
   "cell_type": "code",
   "execution_count": 41,
   "id": "a875117e",
   "metadata": {},
   "outputs": [
    {
     "name": "stdout",
     "output_type": "stream",
     "text": [
      "0.13716662350822362\n",
      "0.3163099030262839\n",
      "0.008966898756535446\n",
      "0.543996016374757\n",
      "0.19830185688897473\n",
      "0.06174463701839095\n",
      "0.08004884020451097\n",
      "0.4497903377751482\n",
      "0.1442440566704083\n",
      "0.32791380575498974\n"
     ]
    },
    {
     "data": {
      "image/png": "[encoded data removed]",
      "text/plain": [
       "<Figure size 1080x432 with 10 Axes>"
      ]
     },
     "metadata": {},
     "output_type": "display_data"
    }
   ],
   "source": [
    "from scipy.stats import pearsonr\n",
    "import matplotlib.pyplot as plt\n",
    "import seaborn as sns\n",
    "plt.style.use('seaborn-white')\n",
    "plt.rcParams['pdf.fonttype'] = 42\n",
    "f, axes = plt.subplots(2,5, figsize = (15,6))\n",
    "pearsondf = []\n",
    "y_pred=np.concatenate(y_test_pred)\n",
    "for rbp_idx, name, ax in zip(range(test[1].shape[1]), target_df.columns, axes.flatten()):\n",
    "    ytest = test[2][:, rbp_idx]\n",
    "    yhat = y_pred[:, rbp_idx]\n",
    "    from sklearn.metrics import r2_score\n",
    "    r2 = r2_score(ytest,yhat)\n",
    "    print(r2)\n",
    "    min_val = min(ytest.min(), yhat.min())-1\n",
    "    max_val = max(ytest.max(), yhat.max())+1\n",
    "    ax.scatter(ytest, yhat, color = 'grey', marker = '+')\n",
    "    rbp = name.split('.')[-1]\n",
    "    ax.set_xlabel(f'logLR:{rbp}')\n",
    "    ax.set_ylabel(f'PredictedlogLR:{rbp}')\n",
    "    ax.set_xlim(min_val, max_val)\n",
    "    ax.set_ylim(min_val, max_val)\n",
    "    ax.plot([min_val, max_val],[min_val, max_val], '--', color = 'black')\n",
    "    r,p=pearsonr(ytest,yhat)\n",
    "    ax.set_title(f'pearson={r:.2f}, r2={r2:.2f}')\n",
    "    pearsondf.append([name, r, p])\n",
    "pearsondf = pd.DataFrame(pearsondf, columns = ['RBP', 'pearsonr', 'pvalue'])\n",
    "pearsondf.to_csv(f'../data/ABC_data/{outstem}.mask.pearsonr.csv')\n",
    "sns.despine()\n",
    "plt.tight_layout()\n"
   ]
  },
  {
   "cell_type": "code",
   "execution_count": 42,
   "id": "a715bf4c",
   "metadata": {},
   "outputs": [
    {
     "data": {
      "text/plain": [
       "<AxesSubplot:xlabel='epoch'>"
      ]
     },
     "execution_count": 42,
     "metadata": {},
     "output_type": "execute_result"
    },
    {
     "data": {
      "image/png": "[encoded data removed]",
      "text/plain": [
       "<Figure size 432x288 with 1 Axes>"
      ]
     },
     "metadata": {},
     "output_type": "display_data"
    }
   ],
   "source": [
    "metric.loc[metric['type']=='test'].set_index('epoch')['loss'].plot()"
   ]
  },
  {
   "cell_type": "code",
   "execution_count": 35,
   "id": "5261bc7d",
   "metadata": {},
   "outputs": [
    {
     "data": {
      "text/plain": [
       "type\n",
       "test     AxesSubplot(0.125,0.125;0.775x0.755)\n",
       "train    AxesSubplot(0.125,0.125;0.775x0.755)\n",
       "Name: loss, dtype: object"
      ]
     },
     "execution_count": 35,
     "metadata": {},
     "output_type": "execute_result"
    },
    {
     "data": {
      "image/png": "[encoded data removed]",
      "text/plain": [
       "<Figure size 432x288 with 1 Axes>"
      ]
     },
     "metadata": {},
     "output_type": "display_data"
    }
   ],
   "source": [
    "import pandas as pd\n",
    "outstem = 'K562_rep6'\n",
    "try:\n",
    "    metric=pd.read_csv(f'../data/ABC_data/{outstem}.mask.training_curve.csv', index_col = 0)\n",
    "except:\n",
    "    pass\n",
    "metric.set_index('epoch').groupby(by = 'type')['loss'].plot(legend = True)"
   ]
  }
 ],
 "metadata": {
  "kernelspec": {
   "display_name": "Python 3 (ipykernel)",
   "language": "python",
   "name": "python3"
  },
  "language_info": {
   "codemirror_mode": {
    "name": "ipython",
    "version": 3
   },
   "file_extension": ".py",
   "mimetype": "text/x-python",
   "name": "python",
   "nbconvert_exporter": "python",
   "pygments_lexer": "ipython3",
   "version": "3.9.5"
  }
 },
 "nbformat": 4,
 "nbformat_minor": 5
}
