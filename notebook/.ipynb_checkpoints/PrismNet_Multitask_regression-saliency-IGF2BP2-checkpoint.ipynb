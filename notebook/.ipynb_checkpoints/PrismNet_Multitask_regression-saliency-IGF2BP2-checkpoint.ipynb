{
 "cells": [
  {
   "cell_type": "markdown",
   "id": "b649278e",
   "metadata": {},
   "source": [
    "#follow this to install prismnet\n",
    "https://github.com/kuixu/PrismNet"
   ]
  },
  {
   "cell_type": "code",
   "execution_count": 1,
   "id": "100ca6f3",
   "metadata": {},
   "outputs": [
    {
     "name": "stdout",
     "output_type": "stream",
     "text": [
      "Requirement already satisfied: logomaker in /opt/conda/lib/python3.9/site-packages (0.8)\n",
      "Requirement already satisfied: numpy in /home/hsher/.local/lib/python3.9/site-packages (from logomaker) (1.22.2)\n",
      "Requirement already satisfied: matplotlib in /opt/conda/lib/python3.9/site-packages (from logomaker) (3.4.2)\n",
      "Requirement already satisfied: pandas in /opt/conda/lib/python3.9/site-packages (from logomaker) (1.3.4)\n",
      "Requirement already satisfied: pillow>=6.2.0 in /opt/conda/lib/python3.9/site-packages (from matplotlib->logomaker) (6.2.2)\n",
      "Requirement already satisfied: python-dateutil>=2.7 in /opt/conda/lib/python3.9/site-packages (from matplotlib->logomaker) (2.8.2)\n",
      "Requirement already satisfied: cycler>=0.10 in /opt/conda/lib/python3.9/site-packages (from matplotlib->logomaker) (0.10.0)\n",
      "Requirement already satisfied: pyparsing>=2.2.1 in /opt/conda/lib/python3.9/site-packages (from matplotlib->logomaker) (2.4.7)\n",
      "Requirement already satisfied: kiwisolver>=1.0.1 in /opt/conda/lib/python3.9/site-packages (from matplotlib->logomaker) (1.3.1)\n",
      "Requirement already satisfied: pytz>=2017.3 in /opt/conda/lib/python3.9/site-packages (from pandas->logomaker) (2021.1)\n",
      "Requirement already satisfied: six in /opt/conda/lib/python3.9/site-packages (from cycler>=0.10->matplotlib->logomaker) (1.15.0)\n",
      "\u001b[33mWARNING: You are using pip version 22.0.3; however, version 23.2.1 is available.\n",
      "You should consider upgrading via the '/opt/conda/bin/python3.9 -m pip install --upgrade pip' command.\u001b[0m\u001b[33m\n",
      "\u001b[0mRequirement already satisfied: pyBigWig in /opt/conda/lib/python3.9/site-packages (0.3.22)\n",
      "\u001b[33mWARNING: You are using pip version 22.0.3; however, version 23.2.1 is available.\n",
      "You should consider upgrading via the '/opt/conda/bin/python3.9 -m pip install --upgrade pip' command.\u001b[0m\u001b[33m\n",
      "\u001b[0m"
     ]
    }
   ],
   "source": [
    "!pip install logomaker\n",
    "!pip install pyBigWig"
   ]
  },
  {
   "cell_type": "code",
   "execution_count": 2,
   "id": "0e17a279",
   "metadata": {},
   "outputs": [],
   "source": [
    "import argparse, os, random\n",
    "import torch\n",
    "import torch.nn as nn\n",
    "import torch.nn.functional as F\n",
    "import torch.optim as optim\n",
    "from torch.optim import lr_scheduler\n",
    "\n",
    "\n",
    "\n",
    "from sklearn import metrics\n",
    "import numpy as np\n",
    "\n",
    "import prismnet.model as arch\n",
    "from prismnet import train, validate, inference, log_print, compute_saliency, compute_saliency_img, compute_high_attention_region\n",
    "#compute_high_attention_region\n",
    "\n",
    "# from prismnet.engine.train_loop import \n",
    "from prismnet.model.utils import GradualWarmupScheduler\n",
    "from prismnet.loader import SeqicSHAPE\n",
    "from prismnet.utils import datautils"
   ]
  },
  {
   "cell_type": "code",
   "execution_count": 3,
   "id": "1218a44d",
   "metadata": {},
   "outputs": [],
   "source": [
    "import pandas as pd\n",
    "outstem = 'K562_rep6'\n",
    "rbp = 'PUM2'\n",
    "motif = 'TGTA'\n",
    "megaoutput = pd.read_csv(f'../data/ABC_data/{outstem}.megaoutputs_masked.tsv', sep = '\\t')\n",
    "seq = pd.read_csv(f'../data/ABC_data/tsv/{outstem}.DDX3.tsv', sep = '\\t', names = ['chrom', 'name', \n",
    "                                                                                 'seq', 'struct', 'label', 'start'])"
   ]
  },
  {
   "cell_type": "code",
   "execution_count": 4,
   "id": "791872bc",
   "metadata": {},
   "outputs": [
    {
     "data": {
      "text/html": [
       "<div>\n",
       "<style scoped>\n",
       "    .dataframe tbody tr th:only-of-type {\n",
       "        vertical-align: middle;\n",
       "    }\n",
       "\n",
       "    .dataframe tbody tr th {\n",
       "        vertical-align: top;\n",
       "    }\n",
       "\n",
       "    .dataframe thead th {\n",
       "        text-align: right;\n",
       "    }\n",
       "</style>\n",
       "<table border=\"1\" class=\"dataframe\">\n",
       "  <thead>\n",
       "    <tr style=\"text-align: right;\">\n",
       "      <th></th>\n",
       "      <th>chrom</th>\n",
       "      <th>name</th>\n",
       "      <th>seq</th>\n",
       "      <th>struct</th>\n",
       "      <th>label</th>\n",
       "      <th>start</th>\n",
       "    </tr>\n",
       "  </thead>\n",
       "  <tbody>\n",
       "    <tr>\n",
       "      <th>0</th>\n",
       "      <td>chr1</td>\n",
       "      <td>1</td>\n",
       "      <td>ATTAATCCCCTGGCCCAACCCGTCATCTACTCTACCATCTTTGCAG...</td>\n",
       "      <td>-1.0,-1.0,-1.0,-1.0,-1.0,0.5,0.4,0.2,0.2,0.3,0...</td>\n",
       "      <td>-1</td>\n",
       "      <td>629639</td>\n",
       "    </tr>\n",
       "    <tr>\n",
       "      <th>1</th>\n",
       "      <td>chr1</td>\n",
       "      <td>10</td>\n",
       "      <td>CACCCTCCTTAACCTCTACTTCTACCTGCGCCTAATCTACTCCACC...</td>\n",
       "      <td>0.5,0.1,0.2,0.0,0.0,0.0,0.1,0.0,0.0,0.0,0.3,0....</td>\n",
       "      <td>-1</td>\n",
       "      <td>630493</td>\n",
       "    </tr>\n",
       "    <tr>\n",
       "      <th>2</th>\n",
       "      <td>chr1</td>\n",
       "      <td>100013</td>\n",
       "      <td>GCCCGCCTCTGCCTCCCAAAGTGCTGGGATTACAGGCCTGAGCCAC...</td>\n",
       "      <td>NaN</td>\n",
       "      <td>-1</td>\n",
       "      <td>65435609</td>\n",
       "    </tr>\n",
       "    <tr>\n",
       "      <th>3</th>\n",
       "      <td>chr1</td>\n",
       "      <td>100014</td>\n",
       "      <td>CCAATAGAACCAAAATATTTATGAGGATGCTAGCATTTTCCAAGCA...</td>\n",
       "      <td>NaN</td>\n",
       "      <td>-1</td>\n",
       "      <td>65435708</td>\n",
       "    </tr>\n",
       "    <tr>\n",
       "      <th>4</th>\n",
       "      <td>chr1</td>\n",
       "      <td>100015</td>\n",
       "      <td>TGTGCATTTTAATTTAATTCTCCTTTTTCCATTTTGTCTCATGAAG...</td>\n",
       "      <td>NaN</td>\n",
       "      <td>-1</td>\n",
       "      <td>65435808</td>\n",
       "    </tr>\n",
       "  </tbody>\n",
       "</table>\n",
       "</div>"
      ],
      "text/plain": [
       "  chrom    name                                                seq  \\\n",
       "0  chr1       1  ATTAATCCCCTGGCCCAACCCGTCATCTACTCTACCATCTTTGCAG...   \n",
       "1  chr1      10  CACCCTCCTTAACCTCTACTTCTACCTGCGCCTAATCTACTCCACC...   \n",
       "2  chr1  100013  GCCCGCCTCTGCCTCCCAAAGTGCTGGGATTACAGGCCTGAGCCAC...   \n",
       "3  chr1  100014  CCAATAGAACCAAAATATTTATGAGGATGCTAGCATTTTCCAAGCA...   \n",
       "4  chr1  100015  TGTGCATTTTAATTTAATTCTCCTTTTTCCATTTTGTCTCATGAAG...   \n",
       "\n",
       "                                              struct  label     start  \n",
       "0  -1.0,-1.0,-1.0,-1.0,-1.0,0.5,0.4,0.2,0.2,0.3,0...     -1    629639  \n",
       "1  0.5,0.1,0.2,0.0,0.0,0.0,0.1,0.0,0.0,0.0,0.3,0....     -1    630493  \n",
       "2                                                NaN     -1  65435609  \n",
       "3                                                NaN     -1  65435708  \n",
       "4                                                NaN     -1  65435808  "
      ]
     },
     "execution_count": 4,
     "metadata": {},
     "output_type": "execute_result"
    }
   ],
   "source": [
    "seq.head()"
   ]
  },
  {
   "cell_type": "code",
   "execution_count": 5,
   "id": "aa595cc4",
   "metadata": {},
   "outputs": [],
   "source": [
    "max_length=seq['seq'].str.len().max()"
   ]
  },
  {
   "cell_type": "markdown",
   "id": "55ab7509",
   "metadata": {},
   "source": [
    "# Evaluate training"
   ]
  },
  {
   "cell_type": "code",
   "execution_count": 6,
   "id": "f42590f7",
   "metadata": {},
   "outputs": [],
   "source": [
    "# plot training curve\n",
    "curve = pd.read_csv(f'../data/ABC_data/{outstem}.training_curve.csv')"
   ]
  },
  {
   "cell_type": "code",
   "execution_count": 7,
   "id": "499a7bbc",
   "metadata": {},
   "outputs": [
    {
     "data": {
      "text/plain": [
       "type\n",
       "test     AxesSubplot(0.125,0.125;0.775x0.755)\n",
       "train    AxesSubplot(0.125,0.125;0.775x0.755)\n",
       "Name: loss, dtype: object"
      ]
     },
     "execution_count": 7,
     "metadata": {},
     "output_type": "execute_result"
    },
    {
     "data": {
      "image/png": "[encoded data removed]",
      "text/plain": [
       "<Figure size 432x288 with 1 Axes>"
      ]
     },
     "metadata": {
      "needs_background": "light"
     },
     "output_type": "display_data"
    }
   ],
   "source": [
    "curve.set_index('epoch').groupby(by = 'type')['loss'].plot(legend = True)"
   ]
  },
  {
   "cell_type": "markdown",
   "id": "d00f0a8b",
   "metadata": {},
   "source": [
    "# visualize"
   ]
  },
  {
   "cell_type": "code",
   "execution_count": 8,
   "id": "e21ced47",
   "metadata": {},
   "outputs": [
    {
     "data": {
      "text/plain": [
       "<AxesSubplot:>"
      ]
     },
     "execution_count": 8,
     "metadata": {},
     "output_type": "execute_result"
    },
    {
     "data": {
      "image/png": "[encoded data removed]",
      "text/plain": [
       "<Figure size 432x288 with 1 Axes>"
      ]
     },
     "metadata": {
      "needs_background": "light"
     },
     "output_type": "display_data"
    }
   ],
   "source": [
    "megaoutput[f'logLR:{outstem}.{rbp}'].hist()"
   ]
  },
  {
   "cell_type": "code",
   "execution_count": 9,
   "id": "8b419915",
   "metadata": {},
   "outputs": [],
   "source": [
    "positive = megaoutput.loc[megaoutput[f'logLR:{outstem}.{rbp}']>2]"
   ]
  },
  {
   "cell_type": "code",
   "execution_count": 10,
   "id": "a8b0b266",
   "metadata": {},
   "outputs": [
    {
     "name": "stderr",
     "output_type": "stream",
     "text": [
      "/tmp/ipykernel_15836/4225601108.py:1: SettingWithCopyWarning: \n",
      "A value is trying to be set on a copy of a slice from a DataFrame.\n",
      "Try using .loc[row_indexer,col_indexer] = value instead\n",
      "\n",
      "See the caveats in the documentation: https://pandas.pydata.org/pandas-docs/stable/user_guide/indexing.html#returning-a-view-versus-a-copy\n",
      "  positive['logLR_bin'] = pd.cut(positive[f'logLR:{outstem}.{rbp}'], bins = 5)\n"
     ]
    }
   ],
   "source": [
    "positive['logLR_bin'] = pd.cut(positive[f'logLR:{outstem}.{rbp}'], bins = 5)"
   ]
  },
  {
   "cell_type": "code",
   "execution_count": 11,
   "id": "bce37e7b",
   "metadata": {},
   "outputs": [
    {
     "data": {
      "text/plain": [
       "(1.995, 3.439]    884\n",
       "(3.439, 4.876]     34\n",
       "(4.876, 6.313]      8\n",
       "(6.313, 7.75]       6\n",
       "(7.75, 9.186]       2\n",
       "Name: logLR_bin, dtype: int64"
      ]
     },
     "execution_count": 11,
     "metadata": {},
     "output_type": "execute_result"
    }
   ],
   "source": [
    "positive['logLR_bin'].value_counts()"
   ]
  },
  {
   "cell_type": "code",
   "execution_count": 12,
   "id": "13acdbe4",
   "metadata": {},
   "outputs": [
    {
     "data": {
      "text/plain": [
       "CCDC200    27\n",
       "NORAD      25\n",
       "MT-RNR2    11\n",
       "GAS5       11\n",
       "PUM1        8\n",
       "HCG11       8\n",
       "DHFR        7\n",
       "DDX6        6\n",
       "MT-RNR1     6\n",
       "PUM2        5\n",
       "MED13L      5\n",
       "SNHG1       5\n",
       "NUDT4       5\n",
       "BBC3        5\n",
       "SLC38A2     5\n",
       "MT-ND4      4\n",
       "HSP90B1     4\n",
       "BCOR        4\n",
       "PTTG1IP     4\n",
       "E2F3        4\n",
       "Name: gene_name, dtype: int64"
      ]
     },
     "execution_count": 12,
     "metadata": {},
     "output_type": "execute_result"
    }
   ],
   "source": [
    "positive['gene_name'].value_counts().iloc[:20]"
   ]
  },
  {
   "cell_type": "code",
   "execution_count": 13,
   "id": "d16d2863",
   "metadata": {},
   "outputs": [],
   "source": [
    "# # only plot specific outputs\n",
    "# sample_size = 64\n",
    "# subset = []\n",
    "# # select specific logLR as outputs\n",
    "# #subset = megaoutput.loc[megaoutput[f'{outstem}.{rbp}']].sample(sample_size)\n",
    "# for name,group in positive.groupby(by=['logLR_bin']):\n",
    "#     try:\n",
    "#         subset.append(group.sample(sample_size))\n",
    "#     except:\n",
    "#         subset.append(group)\n",
    "# subset = pd.concat(subset, axis = 0)           \n",
    "# subset[f'logLR:{outstem}.{rbp}'].hist()"
   ]
  },
  {
   "cell_type": "code",
   "execution_count": 14,
   "id": "592d0ec1",
   "metadata": {},
   "outputs": [],
   "source": [
    "subset = positive"
   ]
  },
  {
   "cell_type": "code",
   "execution_count": 15,
   "id": "3b0696d9",
   "metadata": {},
   "outputs": [],
   "source": [
    "from prismnet.utils import datautils"
   ]
  },
  {
   "cell_type": "code",
   "execution_count": 16,
   "id": "651c1c4e",
   "metadata": {},
   "outputs": [],
   "source": [
    "subset_seq_df = seq.set_index('name').loc[subset['name'].tolist(), ['seq']]"
   ]
  },
  {
   "cell_type": "code",
   "execution_count": 17,
   "id": "bb3ed170",
   "metadata": {},
   "outputs": [
    {
     "data": {
      "text/plain": [
       "(934, 1)"
      ]
     },
     "execution_count": 17,
     "metadata": {},
     "output_type": "execute_result"
    }
   ],
   "source": [
    "subset_seq_df.shape"
   ]
  },
  {
   "cell_type": "code",
   "execution_count": 18,
   "id": "651132bd",
   "metadata": {},
   "outputs": [
    {
     "data": {
      "text/plain": [
       "(934, 4, 100)"
      ]
     },
     "execution_count": 18,
     "metadata": {},
     "output_type": "execute_result"
    }
   ],
   "source": [
    "one_hot = datautils.convert_one_hot(subset_seq_df['seq'].tolist(), max_length)\n",
    "one_hot.shape # N, 4, max_length"
   ]
  },
  {
   "cell_type": "code",
   "execution_count": 19,
   "id": "4f56775e",
   "metadata": {},
   "outputs": [],
   "source": [
    "data = one_hot"
   ]
  },
  {
   "cell_type": "code",
   "execution_count": 20,
   "id": "54c692bb",
   "metadata": {},
   "outputs": [],
   "source": [
    "# targets: predict binary\n",
    "target_col = subset.columns[(subset.columns.str.startswith('logLR'))&(subset.columns.str.contains(outstem))]\n",
    "target_df = subset[target_col]"
   ]
  },
  {
   "cell_type": "code",
   "execution_count": 21,
   "id": "89910e8d",
   "metadata": {},
   "outputs": [
    {
     "data": {
      "text/plain": [
       "(934, 10)"
      ]
     },
     "execution_count": 21,
     "metadata": {},
     "output_type": "execute_result"
    }
   ],
   "source": [
    "targets = target_df.values\n",
    "targets.shape"
   ]
  },
  {
   "cell_type": "code",
   "execution_count": 22,
   "id": "55fd1596",
   "metadata": {},
   "outputs": [],
   "source": [
    "import numpy as np\n",
    "train, test = datautils.split_dataset(data, targets, valid_frac=0.2)\n",
    "\n",
    "target_data_type = np.float32"
   ]
  },
  {
   "cell_type": "code",
   "execution_count": 23,
   "id": "90b10c26",
   "metadata": {},
   "outputs": [],
   "source": [
    "from prismnet.model.PrismNet import *\n",
    "class PrismNet_Multitask(nn.Module):\n",
    "    def __init__(self, mode=\"pu\", output_dim=10):\n",
    "        super(PrismNet_Multitask, self).__init__()\n",
    "        self.mode = mode\n",
    "        h_p, h_k = 2, 5 \n",
    "        if mode==\"pu\":\n",
    "            self.n_features = 5\n",
    "        elif mode==\"seq\":\n",
    "            self.n_features = 4\n",
    "            h_p, h_k = 1, 3 \n",
    "        elif mode==\"str\":\n",
    "            self.n_features = 1\n",
    "            h_p, h_k = 0, 1\n",
    "        else:\n",
    "            raise \"mode error\"\n",
    "        \n",
    "        base_channel = 8\n",
    "        self.conv    = Conv2d(1, base_channel, kernel_size=(11, h_k), bn = True, same_padding=True)\n",
    "        self.se      = SEBlock(base_channel)\n",
    "        self.res2d   = ResidualBlock2D(base_channel, kernel_size=(11, h_k), padding=(5, h_p)) \n",
    "        self.res1d   = ResidualBlock1D(base_channel*4) \n",
    "        self.avgpool = nn.AvgPool2d((1,self.n_features))\n",
    "        self.gpool   = nn.AdaptiveAvgPool1d(1)\n",
    "        self.fc      = nn.Linear(base_channel*4*8, output_dim)\n",
    "        self._initialize_weights()\n",
    "\n",
    "    def _initialize_weights(self):\n",
    "        for m in self.modules():\n",
    "            if isinstance(m, nn.Conv2d):\n",
    "                nn.init.kaiming_normal_(m.weight, mode='fan_out', nonlinearity='relu')\n",
    "                if m.bias is not None:\n",
    "                    nn.init.constant_(m.bias, 0)\n",
    "            elif isinstance(m, nn.Conv1d):\n",
    "                nn.init.kaiming_normal_(m.weight, mode='fan_out', nonlinearity='relu')\n",
    "                if m.bias is not None:\n",
    "                    nn.init.constant_(m.bias, 0)\n",
    "            elif isinstance(m, nn.BatchNorm2d):\n",
    "                nn.init.constant_(m.weight, 1)\n",
    "                nn.init.constant_(m.bias, 0)\n",
    "            elif isinstance(m, nn.BatchNorm1d):\n",
    "                nn.init.constant_(m.weight, 1)\n",
    "                nn.init.constant_(m.bias, 0)\n",
    "            elif isinstance(m, nn.Linear):\n",
    "                nn.init.normal_(m.weight, 0, 0.01)\n",
    "                nn.init.constant_(m.bias, 0)\n",
    "    \n",
    "    def forward(self, input):\n",
    "        \"\"\"[forward]\n",
    "        \n",
    "        Args:\n",
    "            input ([tensor],N,C,W,H): input features\n",
    "        \"\"\"\n",
    "        if self.mode==\"seq\":\n",
    "            input = input[:,:,:,:4]\n",
    "        elif self.mode==\"str\":\n",
    "            input = input[:,:,:,4:]\n",
    "        x = self.conv(input)\n",
    "        x = F.dropout(x, 0.1, training=self.training)\n",
    "        z = self.se(x)\n",
    "        x = self.res2d(x*z)\n",
    "        x = F.dropout(x, 0.5, training=self.training)\n",
    "        x = self.avgpool(x)\n",
    "        x = x.view(x.shape[0], x.shape[1], x.shape[2])\n",
    "        x = self.res1d(x)\n",
    "        x = F.dropout(x, 0.3, training=self.training)\n",
    "        x = self.gpool(x)\n",
    "        x = x.view(x.shape[0], x.shape[1])\n",
    "        x = self.fc(x)\n",
    "        return x"
   ]
  },
  {
   "cell_type": "code",
   "execution_count": 24,
   "id": "d15e2859",
   "metadata": {},
   "outputs": [
    {
     "data": {
      "text/plain": [
       "<All keys matched successfully>"
      ]
     },
     "execution_count": 24,
     "metadata": {},
     "output_type": "execute_result"
    }
   ],
   "source": [
    "model = PrismNet_Multitask(mode = 'seq', output_dim = targets.shape[1])\n",
    "use_cuda = torch.cuda.is_available()\n",
    "device = torch.device(\"cuda\" if use_cuda else \"cpu\")\n",
    "model = model.to(device)\n",
    "model.load_state_dict(torch.load(f'../data/ABC_data/{outstem}.model.pt'))"
   ]
  },
  {
   "cell_type": "code",
   "execution_count": 25,
   "id": "bfcb7fc4",
   "metadata": {},
   "outputs": [],
   "source": [
    "class SeqicSHAPE_Multitask(torch.utils.data.Dataset):\n",
    "    def __init__(self, X, Y, is_infer=False, use_structure=True):\n",
    "        \"\"\"data loader\n",
    "        \n",
    "        Args:\n",
    "            data_path ([str]): h5 file path\n",
    "            is_test (bool, optional): testset or not. Defaults to False.\n",
    "        \"\"\"\n",
    "        if is_infer:\n",
    "            self.dataset = self.__load_infer_data__(data_path, use_structure=use_structure)\n",
    "            print(\"infer data: \", self.__len__(),\" use_structure: \", use_structure)\n",
    "        else:\n",
    "#             dataset = h5py.File(data_path, 'r')\n",
    "#             X_train = np.array(dataset['X_train']).astype(np.float32)\n",
    "#             Y_train = np.array(dataset['Y_train']).astype(np.int32)\n",
    "#             X_test  = np.array(dataset['X_test']).astype(np.float32)\n",
    "#             Y_test  = np.array(dataset['Y_test']).astype(np.int32)\n",
    "            X = np.array(X).astype(np.float32)\n",
    "            Y = np.array(Y).astype(np.float32)\n",
    "#             if len(Y_train.shape) == 1:\n",
    "#                 Y_train = np.expand_dims(Y_train, axis=1)\n",
    "#                 Y_test  = np.expand_dims(Y_test, axis=1)\n",
    "            X = np.expand_dims(X, axis=3).transpose([0, 3, 2, 1]) # N, 1, length, channel\n",
    "            \n",
    "\n",
    "            \n",
    "\n",
    "#             labels, nums = np.unique(Y_train,return_counts=True)\n",
    "#             print(\"train:\", labels, nums)\n",
    "#             labels, nums = np.unique(Y_test,return_counts=True)\n",
    "#             print(\"test:\", labels, nums)\n",
    "\n",
    "#             train = self.__prepare_data__(train)\n",
    "#             test  = self.__prepare_data__(test)\n",
    "\n",
    "            \n",
    "            self.dataset = {'inputs': X, 'targets': Y}\n",
    "            \n",
    "\n",
    "        \n",
    "\n",
    "    def __load_infer_data__(self, data_path, use_structure=True):\n",
    "        from prismnet.utils import datautils\n",
    "        dataset = datautils.load_testset_txt(data_path, use_structure=use_structure, seq_length=101)\n",
    "        return dataset\n",
    "       \n",
    "    \n",
    "    def __prepare_data__(self, data):\n",
    "        inputs    = data['inputs'][:,:,:,:4]\n",
    "        structure = data['inputs'][:,:,:,4:]\n",
    "        structure = np.expand_dims(structure[:,:,:,0], axis=3)\n",
    "        inputs    = np.concatenate([inputs, structure], axis=3)\n",
    "        data['inputs']  = inputs\n",
    "        return data\n",
    "\n",
    "    def __to_sequence__(self, x):\n",
    "        x1 = np.zeros_like(x[0,:,:1])\n",
    "        for i in range(x1.shape[0]):\n",
    "            # import pdb; pdb.set_trace()\n",
    "            x1[i] = np.argmax(x[0,i,:4])\n",
    "            # import pdb; pdb.set_trace()\n",
    "        return x1\n",
    "\n",
    "    def __getitem__(self, index):\n",
    "        \"\"\"\n",
    "        Args:\n",
    "            index (int): Index\n",
    "\n",
    "        Returns:\n",
    "            tuple: (image, target) where target is index of the target class.\n",
    "        \"\"\"\n",
    "        x = self.dataset['inputs'][index]\n",
    "        # x = self.__to_sequence__(x)\n",
    "        y = self.dataset['targets'][index]\n",
    "        return x, y\n",
    "\n",
    "\n",
    "    def __len__(self):\n",
    "        return len(self.dataset['inputs'])\n",
    "\n"
   ]
  },
  {
   "cell_type": "code",
   "execution_count": 26,
   "id": "59e3822a",
   "metadata": {},
   "outputs": [
    {
     "name": "stdout",
     "output_type": "stream",
     "text": [
      "Test  set: 934\n"
     ]
    }
   ],
   "source": [
    "import numpy as np\n",
    "kwargs = {'num_workers': 2, 'pin_memory': True} if use_cuda else {}\n",
    "# train_loader = torch.utils.data.DataLoader(\n",
    "    \n",
    "    \n",
    "#     SeqicSHAPE_Multitask(train[0], train[1], is_infer=False, use_structure=False), \n",
    "# batch_size=64, shuffle=True,  **kwargs)\n",
    "\n",
    "test_loader  = torch.utils.data.DataLoader(\n",
    "    SeqicSHAPE_Multitask(data, targets, is_infer=False, use_structure=False),\n",
    "batch_size=64*8, shuffle=False, **kwargs)\n",
    "\n",
    "#print(\"Train set:\", len(train_loader.dataset)) #X_train (example=91099, ATCGshape=5, length=101)\n",
    "#X_train (example=91099, ATCGshape=5, length=101)\n",
    "#Y_train (example=91099, binary_outcome=1))\n",
    "print(\"Test  set:\", len(test_loader.dataset))"
   ]
  },
  {
   "cell_type": "code",
   "execution_count": 27,
   "id": "e6ae85cf",
   "metadata": {},
   "outputs": [],
   "source": [
    "def train(model, device, train_loader, criterion, optimizer):\n",
    "    ''' train for one epoch'''\n",
    "    model.train()\n",
    "    epoch_loss = 0\n",
    "    for batch_idx, (x0, y0) in enumerate(train_loader):\n",
    "        x, y = x0.float().to(device), y0.to(device).float()\n",
    "        \n",
    "        optimizer.zero_grad()\n",
    "        output = model(x)\n",
    "        \n",
    "        loss = criterion(output, y)\n",
    "        epoch_loss+=loss.item()\n",
    "        loss.backward()\n",
    "        \n",
    "        torch.nn.utils.clip_grad_norm_(model.parameters(), 5)\n",
    "        optimizer.step()\n",
    "\n",
    "    return epoch_loss\n",
    "def validate(model, device, test_loader, criterion):\n",
    "    model.eval()\n",
    "    y_all = []\n",
    "    p_all = []\n",
    "    l_all = []\n",
    "    epoch_loss = 0\n",
    "    with torch.no_grad():\n",
    "        for batch_idx, (x0, y0) in enumerate(test_loader):\n",
    "            x, y = x0.float().to(device), y0.to(device).float()\n",
    "            \n",
    "            \n",
    "            output  = model(x)\n",
    "            loss = criterion(output, y)\n",
    "            \n",
    "            epoch_loss += loss.item()\n",
    "            y_np = output.to(device='cpu', dtype=torch.float32).numpy()\n",
    "            y_all.append(y_np)\n",
    "            \n",
    "\n",
    "    return epoch_loss, y_all"
   ]
  },
  {
   "cell_type": "code",
   "execution_count": 28,
   "id": "04293561",
   "metadata": {},
   "outputs": [],
   "source": [
    "optimizer = torch.optim.Adam(model.parameters(), lr=0.0001, betas=(0.9, 0.999), weight_decay=1e-6)\n",
    "nepoch = 60\n",
    "scheduler = GradualWarmupScheduler(\n",
    "    optimizer, multiplier=8, total_epoch=nepoch, after_scheduler=None)\n",
    "criterion = torch.nn.MSELoss()\n",
    "batch_size= 64"
   ]
  },
  {
   "cell_type": "code",
   "execution_count": 29,
   "id": "614f8678",
   "metadata": {},
   "outputs": [],
   "source": [
    "loss_test, y_test_pred = validate(model, device, test_loader, criterion)"
   ]
  },
  {
   "cell_type": "code",
   "execution_count": 31,
   "id": "a875117e",
   "metadata": {},
   "outputs": [
    {
     "name": "stdout",
     "output_type": "stream",
     "text": [
      "(-0.11906446724036843, 0.34871664851416084)\n"
     ]
    },
    {
     "data": {
      "image/png": "[encoded data removed]",
      "text/plain": [
       "<Figure size 432x288 with 1 Axes>"
      ]
     },
     "metadata": {
      "needs_background": "light"
     },
     "output_type": "display_data"
    },
    {
     "name": "stdout",
     "output_type": "stream",
     "text": [
      "(-0.18117034662930098, 0.1519484045080119)\n"
     ]
    },
    {
     "data": {
      "image/png": "[encoded data removed]",
      "text/plain": [
       "<Figure size 432x288 with 1 Axes>"
      ]
     },
     "metadata": {
      "needs_background": "light"
     },
     "output_type": "display_data"
    },
    {
     "name": "stdout",
     "output_type": "stream",
     "text": [
      "(-0.016732935972678775, 0.8955899708088946)\n"
     ]
    },
    {
     "data": {
      "image/png": "[encoded data removed]",
      "text/plain": [
       "<Figure size 432x288 with 1 Axes>"
      ]
     },
     "metadata": {
      "needs_background": "light"
     },
     "output_type": "display_data"
    },
    {
     "name": "stdout",
     "output_type": "stream",
     "text": [
      "(-0.06932359723934116, 0.5862255402447532)\n"
     ]
    },
    {
     "data": {
      "image/png": "[encoded data removed]",
      "text/plain": [
       "<Figure size 432x288 with 1 Axes>"
      ]
     },
     "metadata": {
      "needs_background": "light"
     },
     "output_type": "display_data"
    },
    {
     "name": "stdout",
     "output_type": "stream",
     "text": [
      "(-0.0948659899420689, 0.4558763992114349)\n"
     ]
    },
    {
     "data": {
      "image/png": "[encoded data removed]",
      "text/plain": [
       "<Figure size 432x288 with 1 Axes>"
      ]
     },
     "metadata": {
      "needs_background": "light"
     },
     "output_type": "display_data"
    },
    {
     "name": "stdout",
     "output_type": "stream",
     "text": [
      "(0.05781419193285969, 0.6499888749066739)\n"
     ]
    },
    {
     "data": {
      "image/png": "[encoded data removed]",
      "text/plain": [
       "<Figure size 432x288 with 1 Axes>"
      ]
     },
     "metadata": {
      "needs_background": "light"
     },
     "output_type": "display_data"
    },
    {
     "name": "stdout",
     "output_type": "stream",
     "text": [
      "(-0.14567382511432808, 0.2507370371878352)\n"
     ]
    },
    {
     "data": {
      "image/png": "[encoded data removed]",
      "text/plain": [
       "<Figure size 432x288 with 1 Axes>"
      ]
     },
     "metadata": {
      "needs_background": "light"
     },
     "output_type": "display_data"
    },
    {
     "name": "stdout",
     "output_type": "stream",
     "text": [
      "(-0.01126815283813061, 0.9295815675019774)\n"
     ]
    },
    {
     "data": {
      "image/png": "[encoded data removed]",
      "text/plain": [
       "<Figure size 432x288 with 1 Axes>"
      ]
     },
     "metadata": {
      "needs_background": "light"
     },
     "output_type": "display_data"
    },
    {
     "name": "stdout",
     "output_type": "stream",
     "text": [
      "(-0.22280712090233523, 0.07678630700597695)\n"
     ]
    },
    {
     "data": {
      "image/png": "[encoded data removed]",
      "text/plain": [
       "<Figure size 432x288 with 1 Axes>"
      ]
     },
     "metadata": {
      "needs_background": "light"
     },
     "output_type": "display_data"
    },
    {
     "name": "stdout",
     "output_type": "stream",
     "text": [
      "(-0.1403002164656011, 0.2688303673174538)\n"
     ]
    },
    {
     "data": {
      "image/png": "[encoded data removed]",
      "text/plain": [
       "<Figure size 432x288 with 1 Axes>"
      ]
     },
     "metadata": {
      "needs_background": "light"
     },
     "output_type": "display_data"
    }
   ],
   "source": [
    "from scipy.stats import pearsonr\n",
    "import matplotlib.pyplot as plt\n",
    "y_pred=np.concatenate(y_test_pred)\n",
    "for rbp_idx, name in zip(range(test[1].shape[1]), target_df.columns):\n",
    "    plt.scatter(test[1][:64, rbp_idx], y_pred[:64, rbp_idx])\n",
    "    plt.ylabel('Y_pred')\n",
    "    plt.xlabel('test')\n",
    "    print(pearsonr(test[1][:64, rbp_idx],y_pred[:64, rbp_idx]))\n",
    "    plt.title(name)\n",
    "    plt.show()\n",
    "    "
   ]
  },
  {
   "cell_type": "code",
   "execution_count": 32,
   "id": "6d5ac1f1",
   "metadata": {},
   "outputs": [
    {
     "name": "stderr",
     "output_type": "stream",
     "text": [
      "<>:150: SyntaxWarning: \"is\" with a literal. Did you mean \"==\"?\n",
      "<>:150: SyntaxWarning: \"is\" with a literal. Did you mean \"==\"?\n",
      "/tmp/ipykernel_15836/2063606002.py:150: SyntaxWarning: \"is\" with a literal. Did you mean \"==\"?\n",
      "  if module.__class__.__name__ is 'ReLU':\n"
     ]
    }
   ],
   "source": [
    "#!/usr/bin/env python\n",
    "# \n",
    "# Kui Xu, xukui.cs@gmail.com\n",
    "# 2019-02-25\n",
    "# ref smoothGrad\n",
    "\n",
    "import torch\n",
    "import torch.nn as nn\n",
    "import torch.nn.functional as F\n",
    "from torch.autograd import grad,Variable\n",
    "import numpy as np\n",
    "\n",
    "class SmoothGrad(object):\n",
    "    def __init__(self, model, device='cpu', only_seq=False, train=False, \n",
    "        x_stddev=0.015, t_stddev=0.015, nsamples=20, magnitude=2):\n",
    "        self.model     = model\n",
    "        self.device    = device\n",
    "        self.train     = train\n",
    "        self.only_seq  = only_seq\n",
    "        self.x_stddev  = x_stddev\n",
    "        self.t_stddev  = t_stddev\n",
    "        self.nsamples  = nsamples\n",
    "        self.magnitude = magnitude\n",
    "        self.features  = model\n",
    "        # import pdb; pdb.set_trace()\n",
    "\n",
    "    def get_gradients(self, z, pred_label=None, rbp_idx = 0):\n",
    "        self.model.eval()\n",
    "        self.model.zero_grad()\n",
    "        z = z.to(self.device)\n",
    "        z.requires_grad=True\n",
    "        output = self.model(z)\n",
    "        \n",
    "        output[:,rbp_idx].backward() # now it is a multioutput.... maybe sum is not the right way tho!\n",
    "        return z.grad\n",
    "\n",
    "    def get_smooth_gradients(self, z, y=None, rbp_idx=0):\n",
    "        return self.__call__(z, y, rbp_idx = rbp_idx)\n",
    "        \n",
    "    def __call__(self, z, y=None,rbp_idx = 0):\n",
    "        \"\"\"[summary]\n",
    "        \n",
    "        Args:\n",
    "            z ([type]): [description] X\n",
    "            y ([type]): [description] Y\n",
    "            x_stddev (float, optional): [description]. Defaults to 0.15.\n",
    "            t_stddev (float, optional): [description]. Defaults to 0.15.\n",
    "            nsamples (int, optional):   [description]. Defaults to 20.\n",
    "            magnitude (int, optional):  magnitude:0,1,2; 0: original gradient, 1: absolute value of the gradient,\n",
    "                                        2: square value of the gradient. Defaults to 2.\n",
    "        \n",
    "        Returns:\n",
    "            [type]: [description]\n",
    "        \"\"\"\n",
    "\n",
    "        # 1. for sequece\n",
    "        x = z[:,:,:,:4] # .data.cpu()\n",
    "        x_stddev   = (self.x_stddev * (x.max()-x.min())).to(self.device).item() \n",
    "\n",
    "        total_grad = torch.zeros(z.shape).to(self.device)\n",
    "        x_noise    = torch.zeros(x.shape).to(self.device)\n",
    "        if not self.only_seq:\n",
    "            # 2. for structure  \n",
    "            t = z[:,:,:,4:] #.data.cpu()\n",
    "            t_stddev = (self.t_stddev * (t.max()-t.min())).to(self.device).item() \n",
    "            #t_total_grad = torch.zeros(t.shape)\n",
    "            t_noise = torch.zeros(t.shape).to(self.device)\n",
    "\n",
    "        for i in range(self.nsamples):\n",
    "            x_plus_noise = x + x_noise.zero_().normal_(0, x_stddev)\n",
    "            if self.only_seq:\n",
    "                z_plus_noise = x_plus_noise\n",
    "            else:\n",
    "                t_plus_noise = t + t_noise.zero_().normal_(0, t_stddev)\n",
    "                z_plus_noise = torch.cat((x_plus_noise, t_plus_noise), dim=3)\n",
    "            #print(\"z_plus_noise:\",z_plus_noise.size())\n",
    "            grad = self.get_gradients(z_plus_noise, y, rbp_idx = rbp_idx)\n",
    "            if self.magnitude == 1:\n",
    "                total_grad += torch.abs(grad)\n",
    "            elif self.magnitude == 2:\n",
    "                total_grad += grad * grad\n",
    "            \n",
    "            # total_grad += grad * grad\n",
    "        total_grad /= self.nsamples\n",
    "        return total_grad\n",
    "\n",
    "    def get_batch_gradients(self, X, Y=None, rbp_idx = 0):\n",
    "        if Y is not None:\n",
    "            assert len(X) == len(Y), \"The size of input {} and target {} are not matched.\".format(len(X), len(Y))\n",
    "        g = torch.zeros_like(X)\n",
    "        for i in range(X.shape[0]):\n",
    "            x        = X[i:i+1]\n",
    "            if Y is not None:\n",
    "                y    = Y[i:i+1]\n",
    "            else:\n",
    "                y    = None\n",
    "            g[i:i+1] =  self.get_smooth_gradients(x, y, rbp_idx = rbp_idx)\n",
    "            # g[i:i+1] =  self.get_gradients(x, y)\n",
    "        return g\n",
    "\n",
    "\n",
    "def generate_saliency(model, x, y=None, smooth=False, nsamples=2, stddev=0.15, only_seq=False, \\\n",
    "    train=False):\n",
    "    saliency = SmoothGrad(model, only_seq, train)\n",
    "    x_grad   = saliency.get_smooth_gradients(x, y, nsamples=nsamples, x_stddev=stddev, t_stddev=stddev)\n",
    "    return x_grad\n",
    "\n",
    "\n",
    "\n",
    "class GuidedBackpropReLU(torch.autograd.Function):\n",
    "\n",
    "    def __init__(self, inplace=False):\n",
    "        super(GuidedBackpropReLU, self).__init__()\n",
    "        self.inplace = inplace\n",
    "\n",
    "    def forward(self, input):\n",
    "        pos_mask = (input > 0).type_as(input)\n",
    "        output = torch.addcmul(\n",
    "            torch.zeros(input.size()).type_as(input),\n",
    "            input,\n",
    "            pos_mask)\n",
    "        self.save_for_backward(input, output)\n",
    "        return output\n",
    "\n",
    "    def backward(self, grad_output):\n",
    "        input, output = self.saved_tensors\n",
    "\n",
    "        pos_mask_1 = (input > 0).type_as(grad_output)\n",
    "        pos_mask_2 = (grad_output > 0).type_as(grad_output)\n",
    "        grad_input = torch.addcmul(\n",
    "            torch.zeros(input.size()).type_as(input),\n",
    "            torch.addcmul(\n",
    "                torch.zeros(input.size()).type_as(input), grad_output, pos_mask_1),\n",
    "                pos_mask_2)\n",
    "\n",
    "        return grad_input\n",
    "\n",
    "    def __repr__(self):\n",
    "        inplace_str = ', inplace' if self.inplace else ''\n",
    "        return self.__class__.__name__ + ' (' \\\n",
    "            + inplace_str + ')'\n",
    "\n",
    "class GuidedBackpropSmoothGrad(SmoothGrad):\n",
    "\n",
    "    def __init__(self, model, device='cpu', only_seq=False, train=False, \n",
    "        x_stddev=0.15, t_stddev=0.15, nsamples=20, magnitude=2):\n",
    "        super(GuidedBackpropSmoothGrad, self).__init__(\n",
    "            model, device, only_seq, train, x_stddev, t_stddev, nsamples, magnitude)\n",
    "        for idx, module in self.features._modules.items():\n",
    "            if module.__class__.__name__ is 'ReLU':\n",
    "                self.features._modules[idx] = GuidedBackpropReLU()\n",
    "\n"
   ]
  },
  {
   "cell_type": "code",
   "execution_count": 33,
   "id": "dc1d8d30",
   "metadata": {},
   "outputs": [],
   "source": [
    "\n",
    "model.eval()\n",
    "sgrad = GuidedBackpropSmoothGrad(model, device=device, only_seq = True)"
   ]
  },
  {
   "cell_type": "code",
   "execution_count": null,
   "id": "606ddccb",
   "metadata": {},
   "outputs": [],
   "source": [
    "guided_saliency"
   ]
  },
  {
   "cell_type": "code",
   "execution_count": 37,
   "id": "6c3f2221",
   "metadata": {},
   "outputs": [
    {
     "name": "stderr",
     "output_type": "stream",
     "text": [
      "[W pthreadpool-cpp.cc:90] Warning: Leaking Caffe2 thread-pool after fork. (function pthreadpool)\n",
      "[W pthreadpool-cpp.cc:90] Warning: Leaking Caffe2 thread-pool after fork. (function pthreadpool)\n"
     ]
    }
   ],
   "source": [
    "rbp_idx=np.where(target_col.str.contains(rbp))[0][0]\n",
    "gs = []\n",
    "for batch_idx, (x0, y0) in enumerate(test_loader):\n",
    "    X, Y = x0.float().to(device), y0.to(device).float()\n",
    "    output = model(X)\n",
    "    \n",
    "    guided_saliency = sgrad.get_batch_gradients(X, Y, rbp_idx = rbp_idx)\n",
    "    gs.append(guided_saliency)\n",
    "gs = torch.cat(gs, axis = 0)"
   ]
  },
  {
   "cell_type": "code",
   "execution_count": 38,
   "id": "8d8d5e35",
   "metadata": {},
   "outputs": [
    {
     "data": {
      "text/plain": [
       "torch.Size([934, 1, 100, 4])"
      ]
     },
     "execution_count": 38,
     "metadata": {},
     "output_type": "execute_result"
    }
   ],
   "source": [
    "gs.shape"
   ]
  },
  {
   "cell_type": "code",
   "execution_count": 39,
   "id": "5b01caca",
   "metadata": {},
   "outputs": [],
   "source": [
    "# dot product of sequence and guided saliency\n",
    "max_saliency = (np.transpose(np.expand_dims(one_hot, axis =1), (0,1,3,2))*gs.cpu().numpy()\n",
    "               ).sum(axis = -1).max(axis = -1).squeeze(-1)"
   ]
  },
  {
   "cell_type": "code",
   "execution_count": 40,
   "id": "0bb2d376",
   "metadata": {},
   "outputs": [],
   "source": [
    "subset_seq_df['is_motif']=subset_seq_df['seq'].str.contains(motif)\n",
    "subset_seq_df['n_motif']=subset_seq_df['seq'].str.count(motif)\n",
    "subset_seq_df['max_saliency'] = max_saliency\n",
    "subset_seq_df[f'logLR:{outstem}.{rbp}'] = subset.set_index('name')[f'logLR:{outstem}.{rbp}']\n",
    "subset_seq_df['rbp_idx'] = np.arange(subset_seq_df.shape[0])"
   ]
  },
  {
   "cell_type": "code",
   "execution_count": 41,
   "id": "d5ded0c6",
   "metadata": {},
   "outputs": [
    {
     "data": {
      "text/plain": [
       "True"
      ]
     },
     "execution_count": 41,
     "metadata": {},
     "output_type": "execute_result"
    }
   ],
   "source": [
    "subset_seq_df.index.tolist()==subset['name'].tolist()"
   ]
  },
  {
   "cell_type": "code",
   "execution_count": 42,
   "id": "38f76773",
   "metadata": {},
   "outputs": [
    {
     "data": {
      "text/plain": [
       "array([<AxesSubplot:title={'center':'max_saliency'}, xlabel='is_motif'>,\n",
       "       <AxesSubplot:title={'center':'logLR:K562_rep6.PUM2'}, xlabel='is_motif'>],\n",
       "      dtype=object)"
      ]
     },
     "execution_count": 42,
     "metadata": {},
     "output_type": "execute_result"
    },
    {
     "data": {
      "image/png": "[encoded data removed]",
      "text/plain": [
       "<Figure size 432x288 with 2 Axes>"
      ]
     },
     "metadata": {
      "needs_background": "light"
     },
     "output_type": "display_data"
    }
   ],
   "source": [
    "subset_seq_df.boxplot(by = 'is_motif', column = ['max_saliency', f'logLR:{outstem}.{rbp}'])"
   ]
  },
  {
   "cell_type": "code",
   "execution_count": 43,
   "id": "72c5c7d8",
   "metadata": {},
   "outputs": [
    {
     "data": {
      "text/html": [
       "<div>\n",
       "<style scoped>\n",
       "    .dataframe tbody tr th:only-of-type {\n",
       "        vertical-align: middle;\n",
       "    }\n",
       "\n",
       "    .dataframe tbody tr th {\n",
       "        vertical-align: top;\n",
       "    }\n",
       "\n",
       "    .dataframe thead th {\n",
       "        text-align: right;\n",
       "    }\n",
       "</style>\n",
       "<table border=\"1\" class=\"dataframe\">\n",
       "  <thead>\n",
       "    <tr style=\"text-align: right;\">\n",
       "      <th></th>\n",
       "      <th>seq</th>\n",
       "      <th>is_motif</th>\n",
       "      <th>n_motif</th>\n",
       "      <th>max_saliency</th>\n",
       "      <th>logLR:K562_rep6.PUM2</th>\n",
       "      <th>rbp_idx</th>\n",
       "    </tr>\n",
       "    <tr>\n",
       "      <th>name</th>\n",
       "      <th></th>\n",
       "      <th></th>\n",
       "      <th></th>\n",
       "      <th></th>\n",
       "      <th></th>\n",
       "      <th></th>\n",
       "    </tr>\n",
       "  </thead>\n",
       "  <tbody>\n",
       "    <tr>\n",
       "      <th>993075</th>\n",
       "      <td>TTTGATAATGAAAAAAATCTTTGCTTGTTTATTTCTGAAAAAGAAC...</td>\n",
       "      <td>True</td>\n",
       "      <td>1</td>\n",
       "      <td>0.001165</td>\n",
       "      <td>2.492575</td>\n",
       "      <td>933</td>\n",
       "    </tr>\n",
       "    <tr>\n",
       "      <th>422561</th>\n",
       "      <td>TGTTCCCTAGGACCTTCTCTGTAAATAGTGAATTTTAGACGAGTAG...</td>\n",
       "      <td>True</td>\n",
       "      <td>1</td>\n",
       "      <td>0.002787</td>\n",
       "      <td>2.935345</td>\n",
       "      <td>495</td>\n",
       "    </tr>\n",
       "    <tr>\n",
       "      <th>5826125</th>\n",
       "      <td>GTTAGATCTGGTGGAATTCACGAACGAAATTCAGACTCTGCTGGGC...</td>\n",
       "      <td>True</td>\n",
       "      <td>1</td>\n",
       "      <td>0.001685</td>\n",
       "      <td>2.347302</td>\n",
       "      <td>842</td>\n",
       "    </tr>\n",
       "    <tr>\n",
       "      <th>4095388</th>\n",
       "      <td>ATTGGTTGTAACTGTTCATATCTTCTTACTTTTCTGTGTTGACTTC...</td>\n",
       "      <td>True</td>\n",
       "      <td>1</td>\n",
       "      <td>0.000903</td>\n",
       "      <td>2.134552</td>\n",
       "      <td>486</td>\n",
       "    </tr>\n",
       "    <tr>\n",
       "      <th>4095386</th>\n",
       "      <td>TAATGGCAGAATAGAGGAGGCCATATTAAATAATACTGATGAAAGG...</td>\n",
       "      <td>True</td>\n",
       "      <td>1</td>\n",
       "      <td>0.000673</td>\n",
       "      <td>2.839759</td>\n",
       "      <td>485</td>\n",
       "    </tr>\n",
       "    <tr>\n",
       "      <th>...</th>\n",
       "      <td>...</td>\n",
       "      <td>...</td>\n",
       "      <td>...</td>\n",
       "      <td>...</td>\n",
       "      <td>...</td>\n",
       "      <td>...</td>\n",
       "    </tr>\n",
       "    <tr>\n",
       "      <th>3270705</th>\n",
       "      <td>TTTCTTGTAGATGTATCCTTCACGTTGTAAATATGTTTTGTAGAGT...</td>\n",
       "      <td>True</td>\n",
       "      <td>5</td>\n",
       "      <td>0.000679</td>\n",
       "      <td>3.132867</td>\n",
       "      <td>328</td>\n",
       "    </tr>\n",
       "    <tr>\n",
       "      <th>1861668</th>\n",
       "      <td>AAATGTAATCCTTATATAGAAATTTTAATTTTGTAAAGTAGTGTAT...</td>\n",
       "      <td>True</td>\n",
       "      <td>5</td>\n",
       "      <td>0.001920</td>\n",
       "      <td>2.908418</td>\n",
       "      <td>105</td>\n",
       "    </tr>\n",
       "    <tr>\n",
       "      <th>2218167</th>\n",
       "      <td>TATAGCCATTTAATATATGTACAAATTGTAAAGAATATGTATAAAT...</td>\n",
       "      <td>True</td>\n",
       "      <td>5</td>\n",
       "      <td>0.001016</td>\n",
       "      <td>3.257652</td>\n",
       "      <td>180</td>\n",
       "    </tr>\n",
       "    <tr>\n",
       "      <th>4143507</th>\n",
       "      <td>CTTGGCTTCTGTTGGAGGCATGGGAAATTGTCTCAATTTGTACAGT...</td>\n",
       "      <td>True</td>\n",
       "      <td>6</td>\n",
       "      <td>0.001439</td>\n",
       "      <td>2.600851</td>\n",
       "      <td>491</td>\n",
       "    </tr>\n",
       "    <tr>\n",
       "      <th>1195668</th>\n",
       "      <td>TATTAAAACTGCCATATCAATTTTAATGTATAGATTTTGCAAATAT...</td>\n",
       "      <td>True</td>\n",
       "      <td>6</td>\n",
       "      <td>0.001717</td>\n",
       "      <td>3.248369</td>\n",
       "      <td>25</td>\n",
       "    </tr>\n",
       "  </tbody>\n",
       "</table>\n",
       "<p>432 rows × 6 columns</p>\n",
       "</div>"
      ],
      "text/plain": [
       "                                                       seq  is_motif  n_motif  \\\n",
       "name                                                                            \n",
       "993075   TTTGATAATGAAAAAAATCTTTGCTTGTTTATTTCTGAAAAAGAAC...      True        1   \n",
       "422561   TGTTCCCTAGGACCTTCTCTGTAAATAGTGAATTTTAGACGAGTAG...      True        1   \n",
       "5826125  GTTAGATCTGGTGGAATTCACGAACGAAATTCAGACTCTGCTGGGC...      True        1   \n",
       "4095388  ATTGGTTGTAACTGTTCATATCTTCTTACTTTTCTGTGTTGACTTC...      True        1   \n",
       "4095386  TAATGGCAGAATAGAGGAGGCCATATTAAATAATACTGATGAAAGG...      True        1   \n",
       "...                                                    ...       ...      ...   \n",
       "3270705  TTTCTTGTAGATGTATCCTTCACGTTGTAAATATGTTTTGTAGAGT...      True        5   \n",
       "1861668  AAATGTAATCCTTATATAGAAATTTTAATTTTGTAAAGTAGTGTAT...      True        5   \n",
       "2218167  TATAGCCATTTAATATATGTACAAATTGTAAAGAATATGTATAAAT...      True        5   \n",
       "4143507  CTTGGCTTCTGTTGGAGGCATGGGAAATTGTCTCAATTTGTACAGT...      True        6   \n",
       "1195668  TATTAAAACTGCCATATCAATTTTAATGTATAGATTTTGCAAATAT...      True        6   \n",
       "\n",
       "         max_saliency  logLR:K562_rep6.PUM2  rbp_idx  \n",
       "name                                                  \n",
       "993075       0.001165              2.492575      933  \n",
       "422561       0.002787              2.935345      495  \n",
       "5826125      0.001685              2.347302      842  \n",
       "4095388      0.000903              2.134552      486  \n",
       "4095386      0.000673              2.839759      485  \n",
       "...               ...                   ...      ...  \n",
       "3270705      0.000679              3.132867      328  \n",
       "1861668      0.001920              2.908418      105  \n",
       "2218167      0.001016              3.257652      180  \n",
       "4143507      0.001439              2.600851      491  \n",
       "1195668      0.001717              3.248369       25  \n",
       "\n",
       "[432 rows x 6 columns]"
      ]
     },
     "execution_count": 43,
     "metadata": {},
     "output_type": "execute_result"
    }
   ],
   "source": [
    "subset_seq_df.loc[(subset_seq_df['is_motif'])].sort_values(by = 'n_motif')"
   ]
  },
  {
   "cell_type": "code",
   "execution_count": 45,
   "id": "e64792ee",
   "metadata": {},
   "outputs": [],
   "source": [
    "subset_seq_df = subset_seq_df.merge(megaoutput[['name','gene_name', 'feature_type_top', 'start']], left_index = True,\n",
    "                    right_on = 'name')"
   ]
  },
  {
   "cell_type": "code",
   "execution_count": 46,
   "id": "8bd28ce0",
   "metadata": {},
   "outputs": [],
   "source": [
    "import pyBigWig\n",
    "import numpy as np\n",
    "\n",
    "class strand_specific_wig:\n",
    "    def __init__(self, plus, minus):\n",
    "        self.plus = pyBigWig.open(plus)\n",
    "        self.minus = pyBigWig.open(minus)\n",
    "        \n",
    "    def fetch(self, chrom = None, start= None, end=None, strand= None, interval = None):\n",
    "        ''' return icSHAPE reacitivity for a bedtool interval or chrom, start, end, strand'''\n",
    "        if interval:\n",
    "            start = interval.start\n",
    "            end = interval.end\n",
    "            strand = interval.strand\n",
    "            chrom = interval.chrom\n",
    "        if strand == '-':\n",
    "            icshape_data = self.minus\n",
    "        else:\n",
    "            icshape_data = self.plus\n",
    "        values = icshape_data.values(chrom, start, end)\n",
    "        if strand == '-':\n",
    "            values = values[::-1]\n",
    "        return np.nan_to_num(np.array(values), 0)"
   ]
  },
  {
   "cell_type": "code",
   "execution_count": 47,
   "id": "17011fec",
   "metadata": {},
   "outputs": [],
   "source": [
    "rbp_wig_cits = strand_specific_wig(f'../data/CITS/{rbp}.pos.bw',\n",
    "                                 f'../data/CITS/{rbp}.neg.bw'\n",
    "                                 )\n",
    "rbp_wig_cov = strand_specific_wig(f'../data/COV/{rbp}.pos.bw',\n",
    "                             f'../data/COV/{rbp}.neg.bw'\n",
    "                             )"
   ]
  },
  {
   "cell_type": "code",
   "execution_count": null,
   "id": "242b60de",
   "metadata": {},
   "outputs": [],
   "source": []
  },
  {
   "cell_type": "code",
   "execution_count": 51,
   "id": "8bd5d49c",
   "metadata": {},
   "outputs": [],
   "source": [
    "import seaborn as sns\n",
    "import logomaker\n",
    "from scipy.ndimage import gaussian_filter1d\n",
    "\n",
    "def plot_saliency(index):\n",
    "    index2seq = 'ACGU'\n",
    "    \n",
    "\n",
    "    # find coverage\n",
    "    window_name = subset_seq_df.loc[subset_seq_df['rbp_idx']==index, 'name'].values[0]\n",
    "    row = megaoutput.loc[megaoutput['name']==window_name].iloc[0]\n",
    "    wig_values = rbp_wig_cov.fetch(row['chrom'], row['start'], row['end'], row['strand'])\n",
    "    wig_values_cits = rbp_wig_cits.fetch(row['chrom'], row['start'], row['end'], row['strand'])\n",
    "\n",
    "    seq_values = one_hot[index,:,:] # [1,4,100]\n",
    "    gradient_values = gs[index,0,:,:].cpu().numpy() # [1,1,100,4]\n",
    "    saliency_values = gradient_values * seq_values.T # 4*100\n",
    "    saliency_df = pd.DataFrame(saliency_values.T)\n",
    "    saliency_df.index = list(index2seq)\n",
    "\n",
    "    saliency_df = saliency_df.loc[:, seq_values.sum(axis = 0)!=0].T\n",
    "    saliency_df.index = np.arange(saliency_df.shape[0])\n",
    "\n",
    "    f, ax = plt.subplots(2,1, sharex = True, figsize = (12,4))\n",
    "    logomaker.Logo(saliency_df, # only plot places with sequence\n",
    "                              shade_below=.5,\n",
    "                              fade_below=.5,\n",
    "                              font_name='Arial Rounded MT Bold', \n",
    "                  ax = ax[0])\n",
    "\n",
    "\n",
    "    ax[0].set_ylabel('saliency')\n",
    "    ax[1].bar(np.arange(len(wig_values)), wig_values, color = 'lightgrey')\n",
    "    ax[1].set_ylabel('coverage')\n",
    "#     ax[2].bar(np.arange(len(wig_values_cits)), wig_values_cits, color = 'lightgrey')\n",
    "#     ax[2].plot(gaussian_filter1d(wig_values_cits, 3), color = 'tomato', label = 'smoothed CITS')\n",
    "#     ax[2].set_ylabel('#CITS')\n",
    "\n",
    "    ax[0].set_title(row['chrom'] + ':'+str(row['start'])+'-'+str(row['end'])+':'+row['strand'])\n",
    "    sns.despine()"
   ]
  },
  {
   "cell_type": "code",
   "execution_count": 49,
   "id": "f2a84a37",
   "metadata": {},
   "outputs": [
    {
     "data": {
      "text/html": [
       "<div>\n",
       "<style scoped>\n",
       "    .dataframe tbody tr th:only-of-type {\n",
       "        vertical-align: middle;\n",
       "    }\n",
       "\n",
       "    .dataframe tbody tr th {\n",
       "        vertical-align: top;\n",
       "    }\n",
       "\n",
       "    .dataframe thead th {\n",
       "        text-align: right;\n",
       "    }\n",
       "</style>\n",
       "<table border=\"1\" class=\"dataframe\">\n",
       "  <thead>\n",
       "    <tr style=\"text-align: right;\">\n",
       "      <th></th>\n",
       "      <th>seq</th>\n",
       "      <th>is_motif</th>\n",
       "      <th>n_motif</th>\n",
       "      <th>max_saliency</th>\n",
       "      <th>logLR:K562_rep6.PUM2</th>\n",
       "      <th>rbp_idx</th>\n",
       "      <th>name</th>\n",
       "      <th>gene_name</th>\n",
       "      <th>feature_type_top</th>\n",
       "      <th>start</th>\n",
       "    </tr>\n",
       "  </thead>\n",
       "  <tbody>\n",
       "    <tr>\n",
       "      <th>117987</th>\n",
       "      <td>GAGCGAATGCAGACTATTCATTGGGTGTTTGGGGTGGGGGAAGGGG...</td>\n",
       "      <td>False</td>\n",
       "      <td>0</td>\n",
       "      <td>0.001122</td>\n",
       "      <td>2.666383</td>\n",
       "      <td>758</td>\n",
       "      <td>5476440</td>\n",
       "      <td>NORAD</td>\n",
       "      <td>EXON_LNCRNA</td>\n",
       "      <td>36046795</td>\n",
       "    </tr>\n",
       "    <tr>\n",
       "      <th>117992</th>\n",
       "      <td>TTATTCAATGCTACTGTGTATATAATGGAAAACTTAAGTCCAGTTT...</td>\n",
       "      <td>True</td>\n",
       "      <td>2</td>\n",
       "      <td>0.002373</td>\n",
       "      <td>2.482343</td>\n",
       "      <td>759</td>\n",
       "      <td>5476445</td>\n",
       "      <td>NORAD</td>\n",
       "      <td>EXON_LNCRNA</td>\n",
       "      <td>36047286</td>\n",
       "    </tr>\n",
       "    <tr>\n",
       "      <th>117995</th>\n",
       "      <td>AGTGTATATAAGCGGACATAGGAGTCCTAATTTACGTCTAGTCGAT...</td>\n",
       "      <td>True</td>\n",
       "      <td>1</td>\n",
       "      <td>0.000893</td>\n",
       "      <td>4.274035</td>\n",
       "      <td>760</td>\n",
       "      <td>5476448</td>\n",
       "      <td>NORAD</td>\n",
       "      <td>EXON_LNCRNA</td>\n",
       "      <td>36047581</td>\n",
       "    </tr>\n",
       "    <tr>\n",
       "      <th>117996</th>\n",
       "      <td>GTGCAAAGGGCTTTCTACCAGTGTCCAGTGTGTTTATGAGGAGGCA...</td>\n",
       "      <td>True</td>\n",
       "      <td>1</td>\n",
       "      <td>0.000554</td>\n",
       "      <td>2.925207</td>\n",
       "      <td>761</td>\n",
       "      <td>5476449</td>\n",
       "      <td>NORAD</td>\n",
       "      <td>EXON_LNCRNA</td>\n",
       "      <td>36047679</td>\n",
       "    </tr>\n",
       "    <tr>\n",
       "      <th>117998</th>\n",
       "      <td>ACTTAAGTCCTTATTTGAAACATCTAGTCTTTCTAGATGTTTAGAA...</td>\n",
       "      <td>True</td>\n",
       "      <td>1</td>\n",
       "      <td>0.001548</td>\n",
       "      <td>2.105770</td>\n",
       "      <td>762</td>\n",
       "      <td>5476451</td>\n",
       "      <td>NORAD</td>\n",
       "      <td>EXON_LNCRNA</td>\n",
       "      <td>36047875</td>\n",
       "    </tr>\n",
       "    <tr>\n",
       "      <th>117999</th>\n",
       "      <td>GTTCTAGACCAGAATGTTCGTATTTAGAAGACACTATCAGATATAA...</td>\n",
       "      <td>True</td>\n",
       "      <td>2</td>\n",
       "      <td>0.000664</td>\n",
       "      <td>3.250327</td>\n",
       "      <td>763</td>\n",
       "      <td>5476452</td>\n",
       "      <td>NORAD</td>\n",
       "      <td>EXON_LNCRNA</td>\n",
       "      <td>36047973</td>\n",
       "    </tr>\n",
       "    <tr>\n",
       "      <th>118001</th>\n",
       "      <td>CTCTAGATATTAAAGAGGTTGCCAATGTATGACAGAAGTAGAGTTA...</td>\n",
       "      <td>True</td>\n",
       "      <td>3</td>\n",
       "      <td>0.001659</td>\n",
       "      <td>4.476945</td>\n",
       "      <td>764</td>\n",
       "      <td>5476454</td>\n",
       "      <td>NORAD</td>\n",
       "      <td>EXON_LNCRNA</td>\n",
       "      <td>36048170</td>\n",
       "    </tr>\n",
       "    <tr>\n",
       "      <th>118002</th>\n",
       "      <td>CCATTGTGTATATGTTACATGCATTTCATTTAACTTTGCTATACTG...</td>\n",
       "      <td>True</td>\n",
       "      <td>3</td>\n",
       "      <td>0.003992</td>\n",
       "      <td>6.913287</td>\n",
       "      <td>765</td>\n",
       "      <td>5476455</td>\n",
       "      <td>NORAD</td>\n",
       "      <td>EXON_LNCRNA</td>\n",
       "      <td>36048268</td>\n",
       "    </tr>\n",
       "    <tr>\n",
       "      <th>118003</th>\n",
       "      <td>GCTGTTTGGAAGTGGAATTGTTGAACCACCTGGGAGGTGGGAGGGA...</td>\n",
       "      <td>False</td>\n",
       "      <td>0</td>\n",
       "      <td>0.001175</td>\n",
       "      <td>3.337901</td>\n",
       "      <td>766</td>\n",
       "      <td>5476456</td>\n",
       "      <td>NORAD</td>\n",
       "      <td>EXON_LNCRNA</td>\n",
       "      <td>36048366</td>\n",
       "    </tr>\n",
       "    <tr>\n",
       "      <th>118004</th>\n",
       "      <td>AAATATCTAGTCTTTCTAGATATTTGGAAGTGCTTGATGTATTTAA...</td>\n",
       "      <td>True</td>\n",
       "      <td>2</td>\n",
       "      <td>0.001313</td>\n",
       "      <td>4.700195</td>\n",
       "      <td>767</td>\n",
       "      <td>5476457</td>\n",
       "      <td>NORAD</td>\n",
       "      <td>EXON_LNCRNA</td>\n",
       "      <td>36048464</td>\n",
       "    </tr>\n",
       "    <tr>\n",
       "      <th>118006</th>\n",
       "      <td>TAGGAATTTGTTTGACCATCTCTAAGCATTACACGTGCCTGTACTT...</td>\n",
       "      <td>True</td>\n",
       "      <td>1</td>\n",
       "      <td>0.000834</td>\n",
       "      <td>3.071526</td>\n",
       "      <td>768</td>\n",
       "      <td>5476459</td>\n",
       "      <td>NORAD</td>\n",
       "      <td>EXON_LNCRNA</td>\n",
       "      <td>36048661</td>\n",
       "    </tr>\n",
       "    <tr>\n",
       "      <th>118007</th>\n",
       "      <td>GAGGTTGCCAGTGTATGACAAAGGAGTAAAATTAGCATATTTTGTA...</td>\n",
       "      <td>True</td>\n",
       "      <td>3</td>\n",
       "      <td>0.000869</td>\n",
       "      <td>3.482982</td>\n",
       "      <td>769</td>\n",
       "      <td>5476460</td>\n",
       "      <td>NORAD</td>\n",
       "      <td>EXON_LNCRNA</td>\n",
       "      <td>36048759</td>\n",
       "    </tr>\n",
       "    <tr>\n",
       "      <th>118008</th>\n",
       "      <td>TTTTCTATATGTTTTGTGCATTTTGTTTTGCTCTGTATATAGTATA...</td>\n",
       "      <td>True</td>\n",
       "      <td>1</td>\n",
       "      <td>0.000945</td>\n",
       "      <td>6.611103</td>\n",
       "      <td>770</td>\n",
       "      <td>5476461</td>\n",
       "      <td>NORAD</td>\n",
       "      <td>EXON_LNCRNA</td>\n",
       "      <td>36048857</td>\n",
       "    </tr>\n",
       "    <tr>\n",
       "      <th>118010</th>\n",
       "      <td>TAGTAAAATACCACTTTGTAAATATCTTTTTGCTAAAATTCATAGG...</td>\n",
       "      <td>True</td>\n",
       "      <td>1</td>\n",
       "      <td>0.001362</td>\n",
       "      <td>3.136501</td>\n",
       "      <td>771</td>\n",
       "      <td>5476463</td>\n",
       "      <td>NORAD</td>\n",
       "      <td>EXON_LNCRNA</td>\n",
       "      <td>36049054</td>\n",
       "    </tr>\n",
       "    <tr>\n",
       "      <th>118011</th>\n",
       "      <td>AAGACTGCTGTATACATAGTAGACAAATTAACTCCTTACTTGAAAC...</td>\n",
       "      <td>True</td>\n",
       "      <td>3</td>\n",
       "      <td>0.001753</td>\n",
       "      <td>2.292630</td>\n",
       "      <td>772</td>\n",
       "      <td>5476464</td>\n",
       "      <td>NORAD</td>\n",
       "      <td>EXON_LNCRNA</td>\n",
       "      <td>36049152</td>\n",
       "    </tr>\n",
       "    <tr>\n",
       "      <th>118013</th>\n",
       "      <td>GCCAGTGTATGACAAAAGTAGAGTTAGTAAACTAATATATTTTGTA...</td>\n",
       "      <td>True</td>\n",
       "      <td>2</td>\n",
       "      <td>0.000974</td>\n",
       "      <td>3.447216</td>\n",
       "      <td>773</td>\n",
       "      <td>5476466</td>\n",
       "      <td>NORAD</td>\n",
       "      <td>EXON_LNCRNA</td>\n",
       "      <td>36049348</td>\n",
       "    </tr>\n",
       "    <tr>\n",
       "      <th>118014</th>\n",
       "      <td>TCTGTGCATTTTGTTTTACTTATCTGTGTATATAGTGTACATAAAG...</td>\n",
       "      <td>True</td>\n",
       "      <td>2</td>\n",
       "      <td>0.001082</td>\n",
       "      <td>4.708891</td>\n",
       "      <td>774</td>\n",
       "      <td>5476467</td>\n",
       "      <td>NORAD</td>\n",
       "      <td>EXON_LNCRNA</td>\n",
       "      <td>36049446</td>\n",
       "    </tr>\n",
       "    <tr>\n",
       "      <th>118015</th>\n",
       "      <td>ATTGTGTTTGTGCAGTGGTTCAGGGGAGGAGAGAGGAGGGGGAGGT...</td>\n",
       "      <td>False</td>\n",
       "      <td>0</td>\n",
       "      <td>0.000606</td>\n",
       "      <td>3.106439</td>\n",
       "      <td>775</td>\n",
       "      <td>5476468</td>\n",
       "      <td>NORAD</td>\n",
       "      <td>EXON_LNCRNA</td>\n",
       "      <td>36049545</td>\n",
       "    </tr>\n",
       "    <tr>\n",
       "      <th>118016</th>\n",
       "      <td>AGAGGTAGCAAAATCACATTTTGTAAATACCTTTTTGTTACAATTC...</td>\n",
       "      <td>True</td>\n",
       "      <td>1</td>\n",
       "      <td>0.002160</td>\n",
       "      <td>2.739785</td>\n",
       "      <td>776</td>\n",
       "      <td>5476469</td>\n",
       "      <td>NORAD</td>\n",
       "      <td>EXON_LNCRNA</td>\n",
       "      <td>36049643</td>\n",
       "    </tr>\n",
       "    <tr>\n",
       "      <th>118017</th>\n",
       "      <td>TTTTATTCCTCACTACTGTGTATATAGTTGACAATGCTAAGCTTTT...</td>\n",
       "      <td>True</td>\n",
       "      <td>1</td>\n",
       "      <td>0.000988</td>\n",
       "      <td>3.846067</td>\n",
       "      <td>777</td>\n",
       "      <td>5476470</td>\n",
       "      <td>NORAD</td>\n",
       "      <td>EXON_LNCRNA</td>\n",
       "      <td>36049741</td>\n",
       "    </tr>\n",
       "    <tr>\n",
       "      <th>118018</th>\n",
       "      <td>TGGAGCTGGAAGACCTGAGAAGGAAGAGAAGAAGGTTCTATGCTAG...</td>\n",
       "      <td>False</td>\n",
       "      <td>0</td>\n",
       "      <td>0.000925</td>\n",
       "      <td>2.248005</td>\n",
       "      <td>778</td>\n",
       "      <td>5476471</td>\n",
       "      <td>NORAD</td>\n",
       "      <td>EXON_LNCRNA</td>\n",
       "      <td>36049839</td>\n",
       "    </tr>\n",
       "    <tr>\n",
       "      <th>118019</th>\n",
       "      <td>AGAAAATACATGTCTTCTGGAGATGACTTTTGGAAATGGAGTTGTT...</td>\n",
       "      <td>False</td>\n",
       "      <td>0</td>\n",
       "      <td>0.000658</td>\n",
       "      <td>3.182752</td>\n",
       "      <td>779</td>\n",
       "      <td>5476472</td>\n",
       "      <td>NORAD</td>\n",
       "      <td>EXON_LNCRNA</td>\n",
       "      <td>36049937</td>\n",
       "    </tr>\n",
       "    <tr>\n",
       "      <th>118020</th>\n",
       "      <td>TCTAGCCCTTCTAGATGGAAAGAGGTTGCCGACGTATGATAAAATA...</td>\n",
       "      <td>True</td>\n",
       "      <td>1</td>\n",
       "      <td>0.001393</td>\n",
       "      <td>3.096667</td>\n",
       "      <td>780</td>\n",
       "      <td>5476473</td>\n",
       "      <td>NORAD</td>\n",
       "      <td>EXON_LNCRNA</td>\n",
       "      <td>36050036</td>\n",
       "    </tr>\n",
       "    <tr>\n",
       "      <th>118021</th>\n",
       "      <td>GGAAGATTTACTGGCCGTTTATGGAAGGCCTGTGTATATAATATGA...</td>\n",
       "      <td>True</td>\n",
       "      <td>1</td>\n",
       "      <td>0.001272</td>\n",
       "      <td>3.168584</td>\n",
       "      <td>781</td>\n",
       "      <td>5476474</td>\n",
       "      <td>NORAD</td>\n",
       "      <td>EXON_LNCRNA</td>\n",
       "      <td>36050134</td>\n",
       "    </tr>\n",
       "    <tr>\n",
       "      <th>118023</th>\n",
       "      <td>CCTACCTAGTCCTGACGACAACGGACAAAGGCCTTAAGGGGCCTGG...</td>\n",
       "      <td>False</td>\n",
       "      <td>0</td>\n",
       "      <td>0.001701</td>\n",
       "      <td>2.092601</td>\n",
       "      <td>782</td>\n",
       "      <td>5476476</td>\n",
       "      <td>NORAD</td>\n",
       "      <td>EXON_LNCRNA</td>\n",
       "      <td>36050330</td>\n",
       "    </tr>\n",
       "  </tbody>\n",
       "</table>\n",
       "</div>"
      ],
      "text/plain": [
       "                                                      seq  is_motif  n_motif  \\\n",
       "117987  GAGCGAATGCAGACTATTCATTGGGTGTTTGGGGTGGGGGAAGGGG...     False        0   \n",
       "117992  TTATTCAATGCTACTGTGTATATAATGGAAAACTTAAGTCCAGTTT...      True        2   \n",
       "117995  AGTGTATATAAGCGGACATAGGAGTCCTAATTTACGTCTAGTCGAT...      True        1   \n",
       "117996  GTGCAAAGGGCTTTCTACCAGTGTCCAGTGTGTTTATGAGGAGGCA...      True        1   \n",
       "117998  ACTTAAGTCCTTATTTGAAACATCTAGTCTTTCTAGATGTTTAGAA...      True        1   \n",
       "117999  GTTCTAGACCAGAATGTTCGTATTTAGAAGACACTATCAGATATAA...      True        2   \n",
       "118001  CTCTAGATATTAAAGAGGTTGCCAATGTATGACAGAAGTAGAGTTA...      True        3   \n",
       "118002  CCATTGTGTATATGTTACATGCATTTCATTTAACTTTGCTATACTG...      True        3   \n",
       "118003  GCTGTTTGGAAGTGGAATTGTTGAACCACCTGGGAGGTGGGAGGGA...     False        0   \n",
       "118004  AAATATCTAGTCTTTCTAGATATTTGGAAGTGCTTGATGTATTTAA...      True        2   \n",
       "118006  TAGGAATTTGTTTGACCATCTCTAAGCATTACACGTGCCTGTACTT...      True        1   \n",
       "118007  GAGGTTGCCAGTGTATGACAAAGGAGTAAAATTAGCATATTTTGTA...      True        3   \n",
       "118008  TTTTCTATATGTTTTGTGCATTTTGTTTTGCTCTGTATATAGTATA...      True        1   \n",
       "118010  TAGTAAAATACCACTTTGTAAATATCTTTTTGCTAAAATTCATAGG...      True        1   \n",
       "118011  AAGACTGCTGTATACATAGTAGACAAATTAACTCCTTACTTGAAAC...      True        3   \n",
       "118013  GCCAGTGTATGACAAAAGTAGAGTTAGTAAACTAATATATTTTGTA...      True        2   \n",
       "118014  TCTGTGCATTTTGTTTTACTTATCTGTGTATATAGTGTACATAAAG...      True        2   \n",
       "118015  ATTGTGTTTGTGCAGTGGTTCAGGGGAGGAGAGAGGAGGGGGAGGT...     False        0   \n",
       "118016  AGAGGTAGCAAAATCACATTTTGTAAATACCTTTTTGTTACAATTC...      True        1   \n",
       "118017  TTTTATTCCTCACTACTGTGTATATAGTTGACAATGCTAAGCTTTT...      True        1   \n",
       "118018  TGGAGCTGGAAGACCTGAGAAGGAAGAGAAGAAGGTTCTATGCTAG...     False        0   \n",
       "118019  AGAAAATACATGTCTTCTGGAGATGACTTTTGGAAATGGAGTTGTT...     False        0   \n",
       "118020  TCTAGCCCTTCTAGATGGAAAGAGGTTGCCGACGTATGATAAAATA...      True        1   \n",
       "118021  GGAAGATTTACTGGCCGTTTATGGAAGGCCTGTGTATATAATATGA...      True        1   \n",
       "118023  CCTACCTAGTCCTGACGACAACGGACAAAGGCCTTAAGGGGCCTGG...     False        0   \n",
       "\n",
       "        max_saliency  logLR:K562_rep6.PUM2  rbp_idx     name gene_name  \\\n",
       "117987      0.001122              2.666383      758  5476440     NORAD   \n",
       "117992      0.002373              2.482343      759  5476445     NORAD   \n",
       "117995      0.000893              4.274035      760  5476448     NORAD   \n",
       "117996      0.000554              2.925207      761  5476449     NORAD   \n",
       "117998      0.001548              2.105770      762  5476451     NORAD   \n",
       "117999      0.000664              3.250327      763  5476452     NORAD   \n",
       "118001      0.001659              4.476945      764  5476454     NORAD   \n",
       "118002      0.003992              6.913287      765  5476455     NORAD   \n",
       "118003      0.001175              3.337901      766  5476456     NORAD   \n",
       "118004      0.001313              4.700195      767  5476457     NORAD   \n",
       "118006      0.000834              3.071526      768  5476459     NORAD   \n",
       "118007      0.000869              3.482982      769  5476460     NORAD   \n",
       "118008      0.000945              6.611103      770  5476461     NORAD   \n",
       "118010      0.001362              3.136501      771  5476463     NORAD   \n",
       "118011      0.001753              2.292630      772  5476464     NORAD   \n",
       "118013      0.000974              3.447216      773  5476466     NORAD   \n",
       "118014      0.001082              4.708891      774  5476467     NORAD   \n",
       "118015      0.000606              3.106439      775  5476468     NORAD   \n",
       "118016      0.002160              2.739785      776  5476469     NORAD   \n",
       "118017      0.000988              3.846067      777  5476470     NORAD   \n",
       "118018      0.000925              2.248005      778  5476471     NORAD   \n",
       "118019      0.000658              3.182752      779  5476472     NORAD   \n",
       "118020      0.001393              3.096667      780  5476473     NORAD   \n",
       "118021      0.001272              3.168584      781  5476474     NORAD   \n",
       "118023      0.001701              2.092601      782  5476476     NORAD   \n",
       "\n",
       "       feature_type_top     start  \n",
       "117987      EXON_LNCRNA  36046795  \n",
       "117992      EXON_LNCRNA  36047286  \n",
       "117995      EXON_LNCRNA  36047581  \n",
       "117996      EXON_LNCRNA  36047679  \n",
       "117998      EXON_LNCRNA  36047875  \n",
       "117999      EXON_LNCRNA  36047973  \n",
       "118001      EXON_LNCRNA  36048170  \n",
       "118002      EXON_LNCRNA  36048268  \n",
       "118003      EXON_LNCRNA  36048366  \n",
       "118004      EXON_LNCRNA  36048464  \n",
       "118006      EXON_LNCRNA  36048661  \n",
       "118007      EXON_LNCRNA  36048759  \n",
       "118008      EXON_LNCRNA  36048857  \n",
       "118010      EXON_LNCRNA  36049054  \n",
       "118011      EXON_LNCRNA  36049152  \n",
       "118013      EXON_LNCRNA  36049348  \n",
       "118014      EXON_LNCRNA  36049446  \n",
       "118015      EXON_LNCRNA  36049545  \n",
       "118016      EXON_LNCRNA  36049643  \n",
       "118017      EXON_LNCRNA  36049741  \n",
       "118018      EXON_LNCRNA  36049839  \n",
       "118019      EXON_LNCRNA  36049937  \n",
       "118020      EXON_LNCRNA  36050036  \n",
       "118021      EXON_LNCRNA  36050134  \n",
       "118023      EXON_LNCRNA  36050330  "
      ]
     },
     "execution_count": 49,
     "metadata": {},
     "output_type": "execute_result"
    }
   ],
   "source": [
    "subset_seq_df.loc[subset_seq_df['gene_name']=='NORAD']"
   ]
  },
  {
   "cell_type": "code",
   "execution_count": 52,
   "id": "76b00f93",
   "metadata": {},
   "outputs": [
    {
     "name": "stderr",
     "output_type": "stream",
     "text": [
      "findfont: Font family ['Arial Rounded MT Bold'] not found. Falling back to DejaVu Sans.\n"
     ]
    },
    {
     "data": {
      "image/png": "[encoded data removed]",
      "text/plain": [
       "<Figure size 864x288 with 2 Axes>"
      ]
     },
     "metadata": {
      "needs_background": "light"
     },
     "output_type": "display_data"
    }
   ],
   "source": [
    "plot_saliency(764)"
   ]
  },
  {
   "cell_type": "code",
   "execution_count": 55,
   "id": "9ec8a36f",
   "metadata": {},
   "outputs": [],
   "source": [
    "def plot_saliency(indices):\n",
    "    index2seq = 'ACGU'\n",
    "    \n",
    "\n",
    "    # find coverage\n",
    "    all_wig_value = []\n",
    "    all_saliency_values = []\n",
    "    window_names = subset_seq_df.loc[subset_seq_df['rbp_idx'].isin(indices), 'name']\n",
    "    sub = megaoutput.loc[megaoutput['name'].isin(window_names)].iloc[0]\n",
    "    for index in indices:\n",
    "        window_name = subset_seq_df.loc[subset_seq_df['rbp_idx']==index, 'name'].values[0]\n",
    "        row = megaoutput.loc[megaoutput['name']==window_name].iloc[0]\n",
    "        wig_values = rbp_wig_cov.fetch(row['chrom'], row['start'], row['end'], row['strand'])\n",
    "        wig_values_cits = rbp_wig_cits.fetch(row['chrom'], row['start'], row['end'], row['strand'])\n",
    "\n",
    "        seq_values = one_hot[index,:,:] # [1,4,100]\n",
    "        gradient_values = gs[index,0,:,:].cpu().numpy() # [1,1,100,4]\n",
    "        saliency_values = gradient_values * seq_values.T # 4*100\n",
    "        saliency_df = pd.DataFrame(saliency_values.T)\n",
    "        saliency_df.index = list(index2seq)\n",
    "\n",
    "        saliency_df = saliency_df.loc[:, seq_values.sum(axis = 0)!=0].T\n",
    "        saliency_df.index = np.arange(saliency_df.shape[0])\n",
    "        \n",
    "        all_wig_value.append(wig_values)\n",
    "        all_saliency_values.append(saliency_df)\n",
    "        \n",
    "    \n",
    "    all_wig_value = np.concatenate(all_wig_value)\n",
    "    all_saliency_df = pd.concat(all_saliency_values, axis = 0, ignore_index = True)\n",
    "    print(all_saliency_df)\n",
    "    \n",
    "    f, ax = plt.subplots(2,1, sharex = True, figsize = (60,4))\n",
    "    logomaker.Logo(all_saliency_df, # only plot places with sequence\n",
    "                              shade_below=.5,\n",
    "                              fade_below=.5,\n",
    "                              font_name='Arial Rounded MT Bold', \n",
    "                  ax = ax[0])\n",
    "\n",
    "\n",
    "    ax[0].set_ylabel('saliency')\n",
    "    ax[1].bar(np.arange(len(all_wig_value)), all_wig_value, color = 'lightgrey')\n",
    "    ax[1].set_ylabel('coverage')\n",
    "    \n",
    "\n",
    "    ax[0].set_title(row['chrom'] + ':'+str(sub['start'].min())+'-'+str(sub['end'].max())+':'+row['strand'])\n",
    "    sns.despine()"
   ]
  },
  {
   "cell_type": "code",
   "execution_count": 56,
   "id": "ab9b96aa",
   "metadata": {},
   "outputs": [
    {
     "name": "stdout",
     "output_type": "stream",
     "text": [
      "            A         C         G         U\n",
      "0    0.000023  0.000000  0.000000  0.000000\n",
      "1    0.000087  0.000000  0.000000  0.000000\n",
      "2    0.000000  0.000000  0.000276  0.000000\n",
      "3    0.000119  0.000000  0.000000  0.000000\n",
      "4    0.000000  0.000181  0.000000  0.000000\n",
      "..        ...       ...       ...       ...\n",
      "388  0.000000  0.000000  0.000000  0.000080\n",
      "389  0.000000  0.000000  0.000000  0.000207\n",
      "390  0.000178  0.000000  0.000000  0.000000\n",
      "391  0.000000  0.000000  0.000000  0.000316\n",
      "392  0.000000  0.000000  0.000606  0.000000\n",
      "\n",
      "[393 rows x 4 columns]\n"
     ]
    },
    {
     "data": {
      "image/png": "[encoded data removed]",
      "text/plain": [
       "<Figure size 4320x288 with 2 Axes>"
      ]
     },
     "metadata": {
      "needs_background": "light"
     },
     "output_type": "display_data"
    }
   ],
   "source": [
    "plt.rcParams['pdf.fonttype'] = 42\n",
    "plot_saliency([772,773,774,775])\n",
    "plt.suptitle('NORAD')\n",
    "plt.savefig('NORAD_PUM2.pdf')"
   ]
  },
  {
   "cell_type": "code",
   "execution_count": null,
   "id": "06f8b5d8",
   "metadata": {},
   "outputs": [],
   "source": []
  }
 ],
 "metadata": {
  "kernelspec": {
   "display_name": "Python 3 (ipykernel)",
   "language": "python",
   "name": "python3"
  },
  "language_info": {
   "codemirror_mode": {
    "name": "ipython",
    "version": 3
   },
   "file_extension": ".py",
   "mimetype": "text/x-python",
   "name": "python",
   "nbconvert_exporter": "python",
   "pygments_lexer": "ipython3",
   "version": "3.9.5"
  }
 },
 "nbformat": 4,
 "nbformat_minor": 5
}
