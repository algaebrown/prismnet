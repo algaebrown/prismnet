{
 "cells": [
  {
   "cell_type": "markdown",
   "id": "b649278e",
   "metadata": {},
   "source": [
    "#follow this to install prismnet\n",
    "https://github.com/kuixu/PrismNet"
   ]
  },
  {
   "cell_type": "code",
   "execution_count": 1,
   "id": "e9793f5b",
   "metadata": {},
   "outputs": [
    {
     "name": "stdout",
     "output_type": "stream",
     "text": [
      "Requirement already satisfied: pyBigWig in /opt/conda/lib/python3.9/site-packages (0.3.22)\n",
      "\u001b[33mWARNING: You are using pip version 22.0.3; however, version 23.1.2 is available.\n",
      "You should consider upgrading via the '/opt/conda/bin/python3.9 -m pip install --upgrade pip' command.\u001b[0m\u001b[33m\n",
      "\u001b[0m"
     ]
    }
   ],
   "source": [
    "!pip install pyBigWig"
   ]
  },
  {
   "cell_type": "code",
   "execution_count": 2,
   "id": "4d1bf395",
   "metadata": {},
   "outputs": [],
   "source": [
    "import pyBigWig\n",
    "import numpy as np\n",
    "\n",
    "class strand_specific_wig:\n",
    "    def __init__(self, plus, minus):\n",
    "        self.plus = pyBigWig.open(plus)\n",
    "        self.minus = pyBigWig.open(minus)\n",
    "        \n",
    "    def fetch(self, chrom = None, start= None, end=None, strand= None, interval = None):\n",
    "        ''' return icSHAPE reacitivity for a bedtool interval or chrom, start, end, strand'''\n",
    "        if interval:\n",
    "            start = interval.start\n",
    "            end = interval.end\n",
    "            strand = interval.strand\n",
    "            chrom = interval.chrom\n",
    "        if strand == '-':\n",
    "            icshape_data = self.minus\n",
    "        else:\n",
    "            icshape_data = self.plus\n",
    "        values = icshape_data.values(chrom, start, end)\n",
    "        if strand == '-':\n",
    "            values = values[::-1]\n",
    "        return np.nan_to_num(np.array(values), 0)\n"
   ]
  },
  {
   "cell_type": "code",
   "execution_count": 3,
   "id": "0e17a279",
   "metadata": {},
   "outputs": [],
   "source": [
    "import argparse, os, random\n",
    "import torch\n",
    "import torch.nn as nn\n",
    "import torch.nn.functional as F\n",
    "import torch.optim as optim\n",
    "from torch.optim import lr_scheduler\n",
    "\n",
    "\n",
    "\n",
    "from sklearn import metrics\n",
    "import numpy as np\n",
    "\n",
    "import prismnet.model as arch\n",
    "from prismnet import train, validate, inference, log_print, compute_saliency, compute_saliency_img, compute_high_attention_region\n",
    "#compute_high_attention_region\n",
    "\n",
    "# from prismnet.engine.train_loop import \n",
    "from prismnet.model.utils import GradualWarmupScheduler\n",
    "from prismnet.loader import SeqicSHAPE\n",
    "from prismnet.utils import datautils"
   ]
  },
  {
   "cell_type": "code",
   "execution_count": 4,
   "id": "f0830b22",
   "metadata": {},
   "outputs": [],
   "source": [
    "# # out dir\n",
    "\n",
    "# identity   = args.p_name+'_'+args.arch+\"_\"+args.mode # 441_PUM2_K562_sub4509_PrismNet_pu.metrics\n",
    "# datautils.make_directory(args.out_dir,\"out/\")\n",
    "# model_dir  = datautils.make_directory(args.out_dir,\"out/models\")\n",
    "# model_path = os.path.join(model_dir, identity+\"_{}.pth\")\n",
    "\n",
    "# if args.tfboard:\n",
    "#     tfb_dir  = datautils.make_directory(args.out_dir,\"out/tfb\")\n",
    "#     writer = SummaryWriter(tfb_dir)\n",
    "# else:\n",
    "#     writer = None\n",
    "# # fix random seed\n",
    "# fix_seed(args.seed)"
   ]
  },
  {
   "cell_type": "code",
   "execution_count": 5,
   "id": "1218a44d",
   "metadata": {},
   "outputs": [],
   "source": [
    "import pandas as pd\n",
    "outstem = 'K562_rep6'\n",
    "signal = 'COV'\n",
    "megaoutput = pd.read_csv(f'../data/ABC_data/{outstem}.megaoutputs_masked.tsv', sep = '\\t')\n",
    "seq = pd.read_csv(f'../data/ABC_data/tsv/{outstem}.DDX3.tsv', sep = '\\t', names = ['chrom', 'name', \n",
    "                                                                                 'seq', 'struct', 'label', 'start'])"
   ]
  },
  {
   "cell_type": "code",
   "execution_count": 6,
   "id": "aa595cc4",
   "metadata": {},
   "outputs": [],
   "source": [
    "max_length=seq['seq'].str.len().max()"
   ]
  },
  {
   "cell_type": "code",
   "execution_count": 7,
   "id": "3b0696d9",
   "metadata": {},
   "outputs": [],
   "source": [
    "from prismnet.utils import datautils"
   ]
  },
  {
   "cell_type": "code",
   "execution_count": 8,
   "id": "651132bd",
   "metadata": {},
   "outputs": [],
   "source": [
    "one_hot = datautils.convert_one_hot(seq['seq'], max_length)"
   ]
  },
  {
   "cell_type": "code",
   "execution_count": 9,
   "id": "c1d53633",
   "metadata": {},
   "outputs": [
    {
     "data": {
      "text/plain": [
       "(138498, 4, 100)"
      ]
     },
     "execution_count": 9,
     "metadata": {},
     "output_type": "execute_result"
    }
   ],
   "source": [
    "one_hot.shape # N, 4, max_length"
   ]
  },
  {
   "cell_type": "code",
   "execution_count": 10,
   "id": "4f56775e",
   "metadata": {},
   "outputs": [],
   "source": [
    "data = one_hot"
   ]
  },
  {
   "cell_type": "code",
   "execution_count": 11,
   "id": "54c692bb",
   "metadata": {},
   "outputs": [],
   "source": [
    "# targets: predict binary\n",
    "target_col = megaoutput.columns[(megaoutput.columns.str.startswith('logLR'))&(megaoutput.columns.str.contains(outstem))]\n",
    "target_df = megaoutput[target_col]"
   ]
  },
  {
   "cell_type": "code",
   "execution_count": 12,
   "id": "d56a7f25",
   "metadata": {},
   "outputs": [
    {
     "data": {
      "text/plain": [
       "<AxesSubplot:>"
      ]
     },
     "execution_count": 12,
     "metadata": {},
     "output_type": "execute_result"
    },
    {
     "data": {
      "image/png": "[encoded data removed]",
      "text/plain": [
       "<Figure size 432x288 with 1 Axes>"
      ]
     },
     "metadata": {
      "needs_background": "light"
     },
     "output_type": "display_data"
    }
   ],
   "source": [
    "target_df[f'logLR:{outstem}.IGF2BP2'].hist()"
   ]
  },
  {
   "cell_type": "code",
   "execution_count": 13,
   "id": "8641f12d",
   "metadata": {},
   "outputs": [
    {
     "data": {
      "text/plain": [
       "<AxesSubplot:>"
      ]
     },
     "execution_count": 13,
     "metadata": {},
     "output_type": "execute_result"
    },
    {
     "data": {
      "image/png": "[encoded data removed]",
      "text/plain": [
       "<Figure size 432x288 with 1 Axes>"
      ]
     },
     "metadata": {
      "needs_background": "light"
     },
     "output_type": "display_data"
    }
   ],
   "source": [
    "target_df[f'logLR:{outstem}.PUM2'].hist()"
   ]
  },
  {
   "cell_type": "code",
   "execution_count": 14,
   "id": "89910e8d",
   "metadata": {},
   "outputs": [
    {
     "data": {
      "text/plain": [
       "(138498, 10)"
      ]
     },
     "execution_count": 14,
     "metadata": {},
     "output_type": "execute_result"
    }
   ],
   "source": [
    "targets = target_df.values\n",
    "targets.shape"
   ]
  },
  {
   "cell_type": "code",
   "execution_count": 15,
   "id": "510145c9",
   "metadata": {},
   "outputs": [
    {
     "data": {
      "text/plain": [
       "Index(['logLR:K562_rep6.IGF2BP2', 'logLR:K562_rep6.RBFOX2',\n",
       "       'logLR:K562_rep6.PUM2', 'logLR:K562_rep6.FAM120A',\n",
       "       'logLR:K562_rep6.DDX3', 'logLR:K562_rep6.ZC3H11A',\n",
       "       'logLR:K562_rep6.EIF3G', 'logLR:K562_rep6.PRPF8',\n",
       "       'logLR:K562_rep6.LIN28B', 'logLR:K562_rep6.SF3B4'],\n",
       "      dtype='object')"
      ]
     },
     "execution_count": 15,
     "metadata": {},
     "output_type": "execute_result"
    }
   ],
   "source": [
    "target_col"
   ]
  },
  {
   "cell_type": "code",
   "execution_count": 16,
   "id": "ba1b951d",
   "metadata": {},
   "outputs": [],
   "source": [
    "cits_target = np.load(f'../data/{signal}/{outstem}.cits_cnt.npz.npy')"
   ]
  },
  {
   "cell_type": "code",
   "execution_count": 17,
   "id": "4450c943",
   "metadata": {},
   "outputs": [],
   "source": [
    "def split_dataset(data, targets, cits_target, valid_frac=0.2):\n",
    "    \n",
    "    ind0 = np.where(targets<0.5)[0]\n",
    "    ind1 = np.where(targets>=0.5)[0]\n",
    "    \n",
    "    n_neg = int(len(ind0)*valid_frac)\n",
    "    n_pos = int(len(ind1)*valid_frac)\n",
    "\n",
    "    shuf_neg = np.random.permutation(len(ind0))\n",
    "    shuf_pos = np.random.permutation(len(ind1))\n",
    "    \n",
    "    train_index = np.concatenate([ind1[shuf_pos[n_pos:]],ind0[shuf_neg[n_neg:]]])\n",
    "    test_index = np.concatenate([ind1[shuf_pos[:n_pos]],ind0[shuf_neg[:n_neg]]])\n",
    "    \n",
    "    return train_index, test_index"
   ]
  },
  {
   "cell_type": "code",
   "execution_count": 18,
   "id": "2731898a",
   "metadata": {},
   "outputs": [],
   "source": [
    "train_index, test_index = split_dataset(data, targets, cits_target, valid_frac=0.2)\n",
    "\n",
    "# train_index = train_index[:107985]\n",
    "# test_index = test_index[:76995]"
   ]
  },
  {
   "cell_type": "code",
   "execution_count": 19,
   "id": "8cb54ccc",
   "metadata": {},
   "outputs": [
    {
     "data": {
      "text/plain": [
       "(1107985, 276995)"
      ]
     },
     "execution_count": 19,
     "metadata": {},
     "output_type": "execute_result"
    }
   ],
   "source": [
    "len(train_index), len(test_index)"
   ]
  },
  {
   "cell_type": "code",
   "execution_count": 20,
   "id": "ddf0cf18",
   "metadata": {},
   "outputs": [],
   "source": [
    "target_data_type = np.float32"
   ]
  },
  {
   "cell_type": "code",
   "execution_count": 21,
   "id": "1837dc6c",
   "metadata": {},
   "outputs": [],
   "source": [
    "total_rbp_cov = cits_target.sum(axis = 1).sum(axis = 0)"
   ]
  },
  {
   "cell_type": "code",
   "execution_count": 22,
   "id": "2950225a",
   "metadata": {},
   "outputs": [
    {
     "data": {
      "text/plain": [
       "([<matplotlib.axis.XTick at 0x7f634fe8fa00>,\n",
       "  <matplotlib.axis.XTick at 0x7f634fe8f9d0>,\n",
       "  <matplotlib.axis.XTick at 0x7f634fe86f70>,\n",
       "  <matplotlib.axis.XTick at 0x7f634fe53820>,\n",
       "  <matplotlib.axis.XTick at 0x7f634fe5e040>,\n",
       "  <matplotlib.axis.XTick at 0x7f634fe5e700>,\n",
       "  <matplotlib.axis.XTick at 0x7f634fe53a00>,\n",
       "  <matplotlib.axis.XTick at 0x7f634fe5e1c0>,\n",
       "  <matplotlib.axis.XTick at 0x7f634fe664c0>,\n",
       "  <matplotlib.axis.XTick at 0x7f634fe66c10>],\n",
       " [Text(0, 0, 'logLR:K562_rep6.IGF2BP2'),\n",
       "  Text(1, 0, 'logLR:K562_rep6.RBFOX2'),\n",
       "  Text(2, 0, 'logLR:K562_rep6.PUM2'),\n",
       "  Text(3, 0, 'logLR:K562_rep6.FAM120A'),\n",
       "  Text(4, 0, 'logLR:K562_rep6.DDX3'),\n",
       "  Text(5, 0, 'logLR:K562_rep6.ZC3H11A'),\n",
       "  Text(6, 0, 'logLR:K562_rep6.EIF3G'),\n",
       "  Text(7, 0, 'logLR:K562_rep6.PRPF8'),\n",
       "  Text(8, 0, 'logLR:K562_rep6.LIN28B'),\n",
       "  Text(9, 0, 'logLR:K562_rep6.SF3B4')])"
      ]
     },
     "execution_count": 22,
     "metadata": {},
     "output_type": "execute_result"
    },
    {
     "data": {
      "image/png": "[encoded data removed]",
      "text/plain": [
       "<Figure size 432x288 with 1 Axes>"
      ]
     },
     "metadata": {
      "needs_background": "light"
     },
     "output_type": "display_data"
    }
   ],
   "source": [
    "import seaborn as sns\n",
    "import matplotlib.pyplot as plt\n",
    "\n",
    "plt.bar(np.arange(10), total_rbp_cov)\n",
    "plt.xticks(np.arange(10),target_col, rotation = 90)"
   ]
  },
  {
   "cell_type": "code",
   "execution_count": 23,
   "id": "78496488",
   "metadata": {},
   "outputs": [],
   "source": [
    "global_dist_rbp_cov = total_rbp_cov/total_rbp_cov.sum()"
   ]
  },
  {
   "cell_type": "code",
   "execution_count": 24,
   "id": "4ebec0d4",
   "metadata": {},
   "outputs": [
    {
     "name": "stderr",
     "output_type": "stream",
     "text": [
      "/tmp/ipykernel_1344/2637860211.py:6: RuntimeWarning: invalid value encountered in true_divide\n",
      "  p_cits = (cits/cits.sum(axis = 0))\n"
     ]
    },
    {
     "data": {
      "text/plain": [
       "([<matplotlib.axis.YTick at 0x7f634fd8f790>,\n",
       "  <matplotlib.axis.YTick at 0x7f634fd88fd0>,\n",
       "  <matplotlib.axis.YTick at 0x7f634fcd79a0>,\n",
       "  <matplotlib.axis.YTick at 0x7f634fce5520>,\n",
       "  <matplotlib.axis.YTick at 0x7f634fce5c70>,\n",
       "  <matplotlib.axis.YTick at 0x7f634fc70400>,\n",
       "  <matplotlib.axis.YTick at 0x7f634fd885e0>,\n",
       "  <matplotlib.axis.YTick at 0x7f634fc03b80>,\n",
       "  <matplotlib.axis.YTick at 0x7f634fc0e310>,\n",
       "  <matplotlib.axis.YTick at 0x7f634fc0ea60>],\n",
       " [Text(0, 0, 'logLR:K562_rep6.IGF2BP2'),\n",
       "  Text(0, 1, 'logLR:K562_rep6.RBFOX2'),\n",
       "  Text(0, 2, 'logLR:K562_rep6.PUM2'),\n",
       "  Text(0, 3, 'logLR:K562_rep6.FAM120A'),\n",
       "  Text(0, 4, 'logLR:K562_rep6.DDX3'),\n",
       "  Text(0, 5, 'logLR:K562_rep6.ZC3H11A'),\n",
       "  Text(0, 6, 'logLR:K562_rep6.EIF3G'),\n",
       "  Text(0, 7, 'logLR:K562_rep6.PRPF8'),\n",
       "  Text(0, 8, 'logLR:K562_rep6.LIN28B'),\n",
       "  Text(0, 9, 'logLR:K562_rep6.SF3B4')])"
      ]
     },
     "execution_count": 24,
     "metadata": {},
     "output_type": "execute_result"
    },
    {
     "data": {
      "image/png": "[encoded data removed]",
      "text/plain": [
       "<Figure size 216x864 with 5 Axes>"
      ]
     },
     "metadata": {
      "needs_background": "light"
     },
     "output_type": "display_data"
    }
   ],
   "source": [
    "index = 24747\n",
    "f, ax = plt.subplots(3,1,figsize = (3,12) )\n",
    "sns.heatmap(data[index,:,:], cmap = 'Greys', ax = ax[0])\n",
    "cits = cits_target[index,:,:].T\n",
    "dist_rbp_cov = cits.sum(axis = 1)/cits.sum()\n",
    "p_cits = (cits/cits.sum(axis = 0))\n",
    "sns.heatmap(p_cits, cmap = 'Greys', ax = ax[1], yticklabels = target_col)\n",
    "\n",
    "plt.barh(np.arange(10), targets[24747])\n",
    "plt.yticks(np.arange(10),target_col, rotation = 0)"
   ]
  },
  {
   "cell_type": "code",
   "execution_count": 25,
   "id": "90b10c26",
   "metadata": {},
   "outputs": [],
   "source": [
    "from prismnet.model.PrismNet import *\n",
    "class PrismNet_Multitask_BP(nn.Module):\n",
    "    def __init__(self, mode=\"pu\", output_dim=10):\n",
    "        super(PrismNet_Multitask_BP, self).__init__()\n",
    "        self.mode = mode\n",
    "        h_p, h_k = 2, 5 \n",
    "        if mode==\"pu\":\n",
    "            self.n_features = 5\n",
    "        elif mode==\"seq\":\n",
    "            self.n_features = 4\n",
    "            h_p, h_k = 1, 3 \n",
    "        elif mode==\"str\":\n",
    "            self.n_features = 1\n",
    "            h_p, h_k = 0, 1\n",
    "        else:\n",
    "            raise \"mode error\"\n",
    "        \n",
    "        base_channel = 8\n",
    "        self.conv    = Conv2d(1, base_channel, kernel_size=(11, h_k), bn = True, same_padding=True)\n",
    "        self.se      = SEBlock(base_channel)\n",
    "        self.res2d   = ResidualBlock2D(base_channel, kernel_size=(11, h_k), padding=(5, h_p)) \n",
    "        self.res1d   = ResidualBlock1D(base_channel*4) \n",
    "        self.avgpool = nn.AvgPool2d((1,self.n_features))\n",
    "        self.gpool   = nn.AdaptiveAvgPool1d(1)\n",
    "        self.fc      = nn.Linear(base_channel*4*8, output_dim)\n",
    "        self._initialize_weights()\n",
    "        \n",
    "        self.bp_fc = nn.Linear(base_channel*self.n_features, output_dim)\n",
    "        self.bp_softmax = nn.Softmax(dim = -1)\n",
    "        \n",
    "\n",
    "    def _initialize_weights(self):\n",
    "        for m in self.modules():\n",
    "            if isinstance(m, nn.Conv2d):\n",
    "                nn.init.kaiming_normal_(m.weight, mode='fan_out', nonlinearity='relu')\n",
    "                if m.bias is not None:\n",
    "                    nn.init.constant_(m.bias, 0)\n",
    "            elif isinstance(m, nn.Conv1d):\n",
    "                nn.init.kaiming_normal_(m.weight, mode='fan_out', nonlinearity='relu')\n",
    "                if m.bias is not None:\n",
    "                    nn.init.constant_(m.bias, 0)\n",
    "            elif isinstance(m, nn.BatchNorm2d):\n",
    "                nn.init.constant_(m.weight, 1)\n",
    "                nn.init.constant_(m.bias, 0)\n",
    "            elif isinstance(m, nn.BatchNorm1d):\n",
    "                nn.init.constant_(m.weight, 1)\n",
    "                nn.init.constant_(m.bias, 0)\n",
    "            elif isinstance(m, nn.Linear):\n",
    "                nn.init.normal_(m.weight, 0, 0.01)\n",
    "                nn.init.constant_(m.bias, 0)\n",
    "    \n",
    "    def forward(self, input):\n",
    "        \"\"\"[forward]\n",
    "        \n",
    "        Args:\n",
    "            input ([tensor],N,C,W,H): input features\n",
    "        \"\"\"\n",
    "        if self.mode==\"seq\":\n",
    "            input = input[:,:,:,:4]\n",
    "        elif self.mode==\"str\":\n",
    "            input = input[:,:,:,4:]\n",
    "        x = self.conv(input) # batch_size, 8, max_length, 4(seq_channel)\n",
    "        \n",
    "        x = F.dropout(x, 0.1, training=self.training)\n",
    "        \n",
    "        bp_input = torch.permute(x, (0,2,1,3)).flatten(start_dim=2, end_dim = -1)\n",
    "        bp_output = self.bp_fc(bp_input)\n",
    "        bp_prob = self.bp_softmax(bp_output)\n",
    "        \n",
    "        z = self.se(x)\n",
    "        x = self.res2d(x*z)\n",
    "        x = F.dropout(x, 0.5, training=self.training)\n",
    "        x = self.avgpool(x)\n",
    "        x = x.view(x.shape[0], x.shape[1], x.shape[2])\n",
    "        x = self.res1d(x)\n",
    "        x = F.dropout(x, 0.3, training=self.training)\n",
    "        x = self.gpool(x)\n",
    "        x = x.view(x.shape[0], x.shape[1])\n",
    "        x = self.fc(x)\n",
    "        \n",
    "        \n",
    "        return x, bp_prob"
   ]
  },
  {
   "cell_type": "code",
   "execution_count": 26,
   "id": "d15e2859",
   "metadata": {},
   "outputs": [],
   "source": [
    "model = PrismNet_Multitask_BP(mode = 'seq', output_dim = targets.shape[1])"
   ]
  },
  {
   "cell_type": "code",
   "execution_count": 27,
   "id": "718ce62d",
   "metadata": {},
   "outputs": [],
   "source": [
    "use_cuda = torch.cuda.is_available()\n",
    "device = torch.device(\"cuda\" if use_cuda else \"cpu\")"
   ]
  },
  {
   "cell_type": "code",
   "execution_count": 28,
   "id": "fe567b2a",
   "metadata": {},
   "outputs": [],
   "source": [
    "model = model.to(device)"
   ]
  },
  {
   "cell_type": "code",
   "execution_count": 29,
   "id": "bfcb7fc4",
   "metadata": {},
   "outputs": [],
   "source": [
    "class SeqicSHAPE_Multitask_BP(torch.utils.data.Dataset):\n",
    "    def __init__(self, X, Y, Y_cits,indices, is_infer=False, use_structure=True):\n",
    "        \"\"\"data loader\n",
    "        \n",
    "        Args:\n",
    "            data_path ([str]): h5 file path\n",
    "            is_test (bool, optional): testset or not. Defaults to False.\n",
    "        \"\"\"\n",
    "        if is_infer:\n",
    "            self.dataset = self.__load_infer_data__(data_path, use_structure=use_structure)\n",
    "            print(\"infer data: \", self.__len__(),\" use_structure: \", use_structure)\n",
    "        else:\n",
    "#             dataset = h5py.File(data_path, 'r')\n",
    "#             X_train = np.array(dataset['X_train']).astype(np.float32)\n",
    "#             Y_train = np.array(dataset['Y_train']).astype(np.int32)\n",
    "#             X_test  = np.array(dataset['X_test']).astype(np.float32)\n",
    "#             Y_test  = np.array(dataset['Y_test']).astype(np.int32)\n",
    "            X = np.array(X).astype(np.int8)\n",
    "            Y = np.array(Y).astype(np.float32)\n",
    "            Y_cits = np.array(Y_cits).astype(np.int8)\n",
    "#             if len(Y_train.shape) == 1:\n",
    "#                 Y_train = np.expand_dims(Y_train, axis=1)\n",
    "#                 Y_test  = np.expand_dims(Y_test, axis=1)\n",
    "            print('expand')\n",
    "            X = np.expand_dims(X, axis=3).transpose([0, 3, 2, 1]) # N, 1, length, channel\n",
    "            \n",
    "\n",
    "            \n",
    "\n",
    "#             labels, nums = np.unique(Y_train,return_counts=True)\n",
    "#             print(\"train:\", labels, nums)\n",
    "#             labels, nums = np.unique(Y_test,return_counts=True)\n",
    "#             print(\"test:\", labels, nums)\n",
    "\n",
    "#             train = self.__prepare_data__(train)\n",
    "#             test  = self.__prepare_data__(test)\n",
    "\n",
    "            \n",
    "            self.dataset = {'inputs': X, 'targets': Y, 'targets_cits': Y_cits}\n",
    "            self.indices = indices\n",
    "            \n",
    "\n",
    "        \n",
    "\n",
    "    def __load_infer_data__(self, data_path, use_structure=True):\n",
    "        from prismnet.utils import datautils\n",
    "        dataset = datautils.load_testset_txt(data_path, use_structure=use_structure, seq_length=101)\n",
    "        return dataset\n",
    "       \n",
    "    \n",
    "    def __prepare_data__(self, data):\n",
    "        inputs    = data['inputs'][:,:,:,:4]\n",
    "        structure = data['inputs'][:,:,:,4:]\n",
    "        structure = np.expand_dims(structure[:,:,:,0], axis=3)\n",
    "        inputs    = np.concatenate([inputs, structure], axis=3)\n",
    "        data['inputs']  = inputs\n",
    "        return data\n",
    "\n",
    "    def __to_sequence__(self, x):\n",
    "        x1 = np.zeros_like(x[0,:,:1])\n",
    "        for i in range(x1.shape[0]):\n",
    "            # import pdb; pdb.set_trace()\n",
    "            x1[i] = np.argmax(x[0,i,:4])\n",
    "            # import pdb; pdb.set_trace()\n",
    "        return x1\n",
    "\n",
    "    def __getitem__(self, index):\n",
    "        \"\"\"\n",
    "        Args:\n",
    "            index (int): Index\n",
    "\n",
    "        Returns:\n",
    "            tuple: (image, target) where target is index of the target class.\n",
    "        \"\"\"\n",
    "        x = self.dataset['inputs'][self.indices[index]]\n",
    "        # x = self.__to_sequence__(x)\n",
    "        y = self.dataset['targets'][self.indices[index]]\n",
    "        y_cits = self.dataset['targets_cits'][self.indices[index]]\n",
    "        return x, y, y_cits\n",
    "\n",
    "\n",
    "    def __len__(self):\n",
    "        return len(self.indices)\n",
    "\n"
   ]
  },
  {
   "cell_type": "code",
   "execution_count": 30,
   "id": "324f5bf8",
   "metadata": {},
   "outputs": [],
   "source": [
    "# data[train_index], targets[train_index], cits_target[train_index]"
   ]
  },
  {
   "cell_type": "code",
   "execution_count": 31,
   "id": "59e3822a",
   "metadata": {},
   "outputs": [
    {
     "name": "stdout",
     "output_type": "stream",
     "text": [
      "expand\n",
      "expand\n",
      "Train set: 1107985\n",
      "Test  set: 276995\n"
     ]
    }
   ],
   "source": [
    "kwargs = {'num_workers': 2, 'pin_memory': True} if use_cuda else {}\n",
    "train_loader = torch.utils.data.DataLoader(\n",
    "    \n",
    "    \n",
    "    SeqicSHAPE_Multitask_BP(data, targets, cits_target, train_index,\n",
    "                            is_infer=False, use_structure=False), \n",
    "batch_size=32, shuffle=True,  **kwargs)\n",
    "\n",
    "test_loader  = torch.utils.data.DataLoader(\n",
    "    SeqicSHAPE_Multitask_BP(data, targets, cits_target, test_index, \n",
    "                         is_infer=False, use_structure=False),\n",
    "batch_size=32*8, shuffle=False, **kwargs)\n",
    "\n",
    "print(\"Train set:\", len(train_loader.dataset)) #X_train (example=91099, ATCGshape=5, length=101)\n",
    "#X_train (example=91099, ATCGshape=5, length=101)\n",
    "#Y_train (example=91099, binary_outcome=1))\n",
    "print(\"Test  set:\", len(test_loader.dataset))"
   ]
  },
  {
   "cell_type": "code",
   "execution_count": 32,
   "id": "e6ae85cf",
   "metadata": {},
   "outputs": [],
   "source": [
    "def train(model, device, train_loader, criterion, optimizer, multinomial_loss_weight = 100):\n",
    "    ''' train for one epoch'''\n",
    "    model.train()\n",
    "    epoch_loss = 0\n",
    "    epoch_loss_lr = 0\n",
    "    epoch_loss_multinomial = 0\n",
    "    for batch_idx, (x0, y0, y0_cits) in enumerate(train_loader):\n",
    "        x, y, y_cits = x0.float().to(device), y0.to(device).float(), y0_cits.to(device).float()\n",
    "        \n",
    "        optimizer.zero_grad()\n",
    "        output, bp_output = model(x)\n",
    "        multinomial_nll=-torch.distributions.Multinomial(probs=bp_output, validate_args = False).log_prob(y_cits).sum()\n",
    "        lr_mle_loss =criterion(output, y)\n",
    "        \n",
    "        loss = lr_mle_loss+multinomial_nll*multinomial_loss_weight\n",
    "            \n",
    "        epoch_loss+=loss.item()\n",
    "        epoch_loss_lr+=lr_mle_loss.item()\n",
    "        epoch_loss_multinomial+=multinomial_nll.item()\n",
    "        loss.backward()\n",
    "        \n",
    "        torch.nn.utils.clip_grad_norm_(model.parameters(), 5)\n",
    "        optimizer.step()\n",
    "\n",
    "    return epoch_loss, epoch_loss_lr, epoch_loss_multinomial\n",
    "def validate(model, device, test_loader, criterion, multinomial_loss_weight = 100):\n",
    "    model.eval()\n",
    "    y_all = []\n",
    "    p_cits_all = []\n",
    "    p_all = []\n",
    "    l_all = []\n",
    "    epoch_loss = 0\n",
    "    epoch_loss_lr = 0\n",
    "    epoch_loss_multinomial = 0\n",
    "    with torch.no_grad():\n",
    "        for batch_idx, (x0, y0, y0_cits) in enumerate(test_loader):\n",
    "            x, y, y_cits = x0.float().to(device), y0.to(device).float(), y0_cits.to(device).float()\n",
    "            \n",
    "            \n",
    "            output, bp_output  = model(x)\n",
    "            multinomial_nll=-torch.distributions.Multinomial(probs=bp_output, validate_args = False).log_prob(y_cits).sum()\n",
    "            \n",
    "            multinomial_nll=-torch.distributions.Multinomial(probs=bp_output, validate_args = False).log_prob(y_cits).sum()\n",
    "            lr_mle_loss =criterion(output, y)\n",
    "        \n",
    "            loss = lr_mle_loss+multinomial_nll*multinomial_loss_weight\n",
    "            \n",
    "            epoch_loss+=loss.item()\n",
    "            epoch_loss_lr+=lr_mle_loss.item()\n",
    "            epoch_loss_multinomial+=multinomial_nll.item()\n",
    "            y_np = output.to(device='cpu', dtype=torch.float32).numpy()\n",
    "            y_all.append(y_np)\n",
    "            p_cits = bp_output.to(device='cpu', dtype=torch.float32).numpy()\n",
    "            p_cits_all.append(p_cits)\n",
    "            \n",
    "\n",
    "    return epoch_loss, epoch_loss_lr, epoch_loss_multinomial, y_all, p_cits_all"
   ]
  },
  {
   "cell_type": "code",
   "execution_count": 33,
   "id": "389dabb9",
   "metadata": {},
   "outputs": [],
   "source": [
    "try:\n",
    "    metric=pd.read_csv(f'../data/ABC_data/{outstem}.BP.training_curve.csv')\n",
    "except:\n",
    "    pass"
   ]
  },
  {
   "cell_type": "code",
   "execution_count": 34,
   "id": "6a81b14c",
   "metadata": {},
   "outputs": [],
   "source": [
    "#from prismnet.utils import metrics\n",
    "optimizer = torch.optim.Adam(model.parameters(), lr=0.0001, betas=(0.9, 0.999), weight_decay=1e-6)\n",
    "nepoch = 120\n",
    "scheduler = GradualWarmupScheduler(\n",
    "    optimizer, multiplier=8, total_epoch=nepoch, after_scheduler=None)\n",
    "criterion = torch.nn.MSELoss()\n",
    "batch_size= 32\n",
    "\n",
    "best_test_loss = np.inf\n",
    "\n",
    "metric = []\n",
    "current_epoch = 0\n",
    "\n",
    "best_test_loss = np.inf\n",
    "epoch = 0\n",
    "current_epoch = epoch"
   ]
  },
  {
   "cell_type": "code",
   "execution_count": 35,
   "id": "0c565dec",
   "metadata": {},
   "outputs": [],
   "source": [
    "# for batch_idx, (x0, y0, y0_cits) in enumerate(train_loader):\n",
    "#     x, y, y_cits = x0.float().to(device), y0.to(device).float(), y0_cits.to(device).float()\n",
    "\n",
    "#     optimizer.zero_grad()\n",
    "#     output, bp_output = model(x)\n",
    "#     break"
   ]
  },
  {
   "cell_type": "code",
   "execution_count": 36,
   "id": "a82e1b00",
   "metadata": {},
   "outputs": [],
   "source": [
    "# train(model, device, train_loader, criterion, optimizer)"
   ]
  },
  {
   "cell_type": "code",
   "execution_count": 37,
   "id": "bc19edb2",
   "metadata": {},
   "outputs": [
    {
     "data": {
      "text/plain": [
       "0"
      ]
     },
     "execution_count": 37,
     "metadata": {},
     "output_type": "execute_result"
    }
   ],
   "source": [
    "epoch"
   ]
  },
  {
   "cell_type": "code",
   "execution_count": null,
   "id": "f0ca275a",
   "metadata": {},
   "outputs": [
    {
     "name": "stdout",
     "output_type": "stream",
     "text": [
      "At epoch 0\n"
     ]
    }
   ],
   "source": [
    "\n",
    "for epoch in range(current_epoch, current_epoch + nepoch + 1):\n",
    "    print(f'At epoch {epoch}')\n",
    "    train_loss, train_loss_lr, train_loss_multinomial_nll = train(model, device, train_loader, criterion, optimizer)\n",
    "    metric.append(['train', epoch, train_loss, train_loss_lr, train_loss_multinomial_nll])\n",
    "    \n",
    "    test_loss, test_loss_lr, test_loss_multinomial_nll, y_pred, p_cits_pred = validate(model, device, test_loader, criterion)\n",
    "    metric.append(['test', epoch, test_loss, test_loss_lr, test_loss_multinomial_nll])\n",
    "\n",
    "    if test_loss < best_test_loss:\n",
    "        filename = f'../data/ABC_data/{outstem}.BP.model.pt'\n",
    "        torch.save(model.state_dict(), filename)\n",
    "        best_test_loss = test_loss\n",
    "        \n",
    "    metric_df = pd.DataFrame(metric, columns = ['type', 'epoch', 'loss', 'lr_loss', 'multinom_loss'])\n",
    "    metric_df.to_csv(f'../data/ABC_data/{outstem}.BP.training_curve.csv')\n",
    "    \n",
    "    if epoch % 5 == 0:\n",
    "        metric_df.groupby(by = 'type').plot(x = 'epoch', y = 'loss', subplots = False)\n",
    "    \n",
    "        \n",
    "    \n",
    "    \n",
    "    "
   ]
  },
  {
   "cell_type": "code",
   "execution_count": null,
   "id": "a0f323ca",
   "metadata": {},
   "outputs": [],
   "source": [
    "#metric.to_csv(f'../data/ABC_data/{outstem}.training_curve.csv')"
   ]
  },
  {
   "cell_type": "code",
   "execution_count": null,
   "id": "614f8678",
   "metadata": {},
   "outputs": [],
   "source": [
    "loss_test, y_test_pred = validate(model, device, test_loader, criterion)"
   ]
  },
  {
   "cell_type": "code",
   "execution_count": null,
   "id": "a7e4ce05",
   "metadata": {},
   "outputs": [],
   "source": [
    "# filename = f'../data/ABC_data/{outstem}.model.pt'\n",
    "# torch.save(model.state_dict(), filename)"
   ]
  },
  {
   "cell_type": "code",
   "execution_count": null,
   "id": "a875117e",
   "metadata": {},
   "outputs": [],
   "source": [
    "from scipy.stats import pearsonr\n",
    "import matplotlib.pyplot as plt\n",
    "y_pred=np.concatenate(y_test_pred)\n",
    "for rbp_idx, name in zip(range(test[1].shape[1]), target_df.columns):\n",
    "    plt.scatter(test[1][:1000, rbp_idx], y_pred[:1000, rbp_idx])\n",
    "    print(pearsonr(test[1][:1000, rbp_idx],y_pred[:1000, rbp_idx]))\n",
    "    plt.title(name)\n",
    "    plt.show()\n",
    "    "
   ]
  },
  {
   "cell_type": "code",
   "execution_count": null,
   "id": "88e25b3f",
   "metadata": {},
   "outputs": [],
   "source": []
  }
 ],
 "metadata": {
  "kernelspec": {
   "display_name": "Python 3 (ipykernel)",
   "language": "python",
   "name": "python3"
  },
  "language_info": {
   "codemirror_mode": {
    "name": "ipython",
    "version": 3
   },
   "file_extension": ".py",
   "mimetype": "text/x-python",
   "name": "python",
   "nbconvert_exporter": "python",
   "pygments_lexer": "ipython3",
   "version": "3.9.5"
  }
 },
 "nbformat": 4,
 "nbformat_minor": 5
}
