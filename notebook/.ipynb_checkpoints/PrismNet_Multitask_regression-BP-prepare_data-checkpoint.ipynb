{
 "cells": [
  {
   "cell_type": "markdown",
   "id": "b649278e",
   "metadata": {},
   "source": [
    "#follow this to install prismnet\n",
    "https://github.com/kuixu/PrismNet"
   ]
  },
  {
   "cell_type": "code",
   "execution_count": 1,
   "id": "e9793f5b",
   "metadata": {},
   "outputs": [
    {
     "name": "stdout",
     "output_type": "stream",
     "text": [
      "Requirement already satisfied: pyBigWig in /opt/conda/lib/python3.9/site-packages (0.3.22)\n",
      "\u001b[33mWARNING: You are using pip version 22.0.3; however, version 23.1.2 is available.\n",
      "You should consider upgrading via the '/opt/conda/bin/python3.9 -m pip install --upgrade pip' command.\u001b[0m\u001b[33m\n",
      "\u001b[0m"
     ]
    }
   ],
   "source": [
    "!pip install pyBigWig"
   ]
  },
  {
   "cell_type": "code",
   "execution_count": null,
   "id": "a5193570",
   "metadata": {},
   "outputs": [],
   "source": [
    "signal = 'COV'"
   ]
  },
  {
   "cell_type": "code",
   "execution_count": 2,
   "id": "4d1bf395",
   "metadata": {},
   "outputs": [],
   "source": [
    "import pyBigWig\n",
    "import numpy as np\n",
    "\n",
    "class strand_specific_wig:\n",
    "    def __init__(self, plus, minus):\n",
    "        self.plus = pyBigWig.open(plus)\n",
    "        self.minus = pyBigWig.open(minus)\n",
    "        \n",
    "    def fetch(self, chrom = None, start= None, end=None, strand= None, interval = None):\n",
    "        ''' return icSHAPE reacitivity for a bedtool interval or chrom, start, end, strand'''\n",
    "        if interval:\n",
    "            start = interval.start\n",
    "            end = interval.end\n",
    "            strand = interval.strand\n",
    "            chrom = interval.chrom\n",
    "        if strand == '-':\n",
    "            icshape_data = self.minus\n",
    "        else:\n",
    "            icshape_data = self.plus\n",
    "        values = icshape_data.values(chrom, start, end)\n",
    "        if strand == '-':\n",
    "            values = values[::-1]\n",
    "        return np.nan_to_num(np.array(values), 0)\n"
   ]
  },
  {
   "cell_type": "code",
   "execution_count": 3,
   "id": "0e17a279",
   "metadata": {},
   "outputs": [],
   "source": [
    "import argparse, os, random\n",
    "import torch\n",
    "import torch.nn as nn\n",
    "import torch.nn.functional as F\n",
    "import torch.optim as optim\n",
    "from torch.optim import lr_scheduler\n",
    "\n",
    "\n",
    "\n",
    "from sklearn import metrics\n",
    "import numpy as np\n",
    "\n",
    "import prismnet.model as arch\n",
    "from prismnet import train, validate, inference, log_print, compute_saliency, compute_saliency_img, compute_high_attention_region\n",
    "#compute_high_attention_region\n",
    "\n",
    "# from prismnet.engine.train_loop import \n",
    "from prismnet.model.utils import GradualWarmupScheduler\n",
    "from prismnet.loader import SeqicSHAPE\n",
    "from prismnet.utils import datautils"
   ]
  },
  {
   "cell_type": "code",
   "execution_count": 4,
   "id": "f0830b22",
   "metadata": {},
   "outputs": [],
   "source": [
    "# # out dir\n",
    "\n",
    "# identity   = args.p_name+'_'+args.arch+\"_\"+args.mode # 441_PUM2_K562_sub4509_PrismNet_pu.metrics\n",
    "# datautils.make_directory(args.out_dir,\"out/\")\n",
    "# model_dir  = datautils.make_directory(args.out_dir,\"out/models\")\n",
    "# model_path = os.path.join(model_dir, identity+\"_{}.pth\")\n",
    "\n",
    "# if args.tfboard:\n",
    "#     tfb_dir  = datautils.make_directory(args.out_dir,\"out/tfb\")\n",
    "#     writer = SummaryWriter(tfb_dir)\n",
    "# else:\n",
    "#     writer = None\n",
    "# # fix random seed\n",
    "# fix_seed(args.seed)"
   ]
  },
  {
   "cell_type": "code",
   "execution_count": 5,
   "id": "1218a44d",
   "metadata": {},
   "outputs": [],
   "source": [
    "import pandas as pd\n",
    "outstem = 'K562_rep6'\n",
    "megaoutput = pd.read_csv(f'../data/ABC_data/{outstem}.megaoutputs_masked.tsv', sep = '\\t')\n",
    "seq = pd.read_csv(f'../data/ABC_data/tsv/{outstem}.DDX3.tsv', sep = '\\t', names = ['chrom', 'name', \n",
    "                                                                                 'seq', 'struct', 'label', 'start'])"
   ]
  },
  {
   "cell_type": "code",
   "execution_count": 6,
   "id": "aa595cc4",
   "metadata": {},
   "outputs": [],
   "source": [
    "max_length=seq['seq'].str.len().max()"
   ]
  },
  {
   "cell_type": "code",
   "execution_count": 7,
   "id": "3b0696d9",
   "metadata": {},
   "outputs": [],
   "source": [
    "from prismnet.utils import datautils"
   ]
  },
  {
   "cell_type": "code",
   "execution_count": 8,
   "id": "0bdfaf05",
   "metadata": {},
   "outputs": [],
   "source": [
    "def fetch_cits(megaoutput, rbp, max_length=None):\n",
    "    \"\"\"convert DNA/RNA sequences to a one-hot representation\"\"\"\n",
    "    \n",
    "    rbp_wig_cits = strand_specific_wig(f'../data/{signal}/{rbp}.pos.bw',\n",
    "                                     f'../data/{signal}/{rbp}.neg.bw'\n",
    "                                                               )\n",
    "\n",
    "    data = []\n",
    "    for index, row in megaoutput.iterrows():\n",
    "        wig_values_cits = rbp_wig_cits.fetch(row['chrom'], row['start'], row['end'], row['strand'])\n",
    "        seq_length = len(wig_values_cits)\n",
    "        \n",
    "    \n",
    "        # handle boundary conditions with zero-padding\n",
    "        if max_length:\n",
    "            offset1 = int((max_length - seq_length)/2)\n",
    "            offset2 = max_length - seq_length - offset1\n",
    "\n",
    "            if offset1:\n",
    "                wig_values_cits = np.hstack([np.zeros((offset1)), wig_values_cits])\n",
    "            if offset2:\n",
    "                wig_values_cits = np.hstack([wig_values_cits, np.zeros((offset2))])\n",
    "        if np.any(wig_values_cits < 0):\n",
    "            wig_values_cits = -wig_values_cits\n",
    "        data.append(wig_values_cits)\n",
    "\n",
    "    # convert to numpy array\n",
    "    data = np.array(data).astype(np.int32)\n",
    "\n",
    "    return data"
   ]
  },
  {
   "cell_type": "code",
   "execution_count": 9,
   "id": "651132bd",
   "metadata": {},
   "outputs": [],
   "source": [
    "one_hot = datautils.convert_one_hot(seq['seq'], max_length)"
   ]
  },
  {
   "cell_type": "code",
   "execution_count": 10,
   "id": "c1d53633",
   "metadata": {},
   "outputs": [
    {
     "data": {
      "text/plain": [
       "(138498, 4, 100)"
      ]
     },
     "execution_count": 10,
     "metadata": {},
     "output_type": "execute_result"
    }
   ],
   "source": [
    "one_hot.shape # N, 4, max_length"
   ]
  },
  {
   "cell_type": "code",
   "execution_count": 11,
   "id": "4f56775e",
   "metadata": {},
   "outputs": [],
   "source": [
    "data = one_hot"
   ]
  },
  {
   "cell_type": "code",
   "execution_count": 12,
   "id": "54c692bb",
   "metadata": {},
   "outputs": [],
   "source": [
    "# targets: predict binary\n",
    "target_col = megaoutput.columns[(megaoutput.columns.str.startswith('logLR'))&(megaoutput.columns.str.contains(outstem))]\n",
    "target_df = megaoutput[target_col]"
   ]
  },
  {
   "cell_type": "code",
   "execution_count": 13,
   "id": "d56a7f25",
   "metadata": {},
   "outputs": [
    {
     "data": {
      "text/plain": [
       "<AxesSubplot:>"
      ]
     },
     "execution_count": 13,
     "metadata": {},
     "output_type": "execute_result"
    },
    {
     "data": {
      "image/png": "[encoded data removed]",
      "text/plain": [
       "<Figure size 432x288 with 1 Axes>"
      ]
     },
     "metadata": {
      "needs_background": "light"
     },
     "output_type": "display_data"
    }
   ],
   "source": [
    "target_df[f'logLR:{outstem}.IGF2BP2'].hist()"
   ]
  },
  {
   "cell_type": "code",
   "execution_count": 14,
   "id": "8641f12d",
   "metadata": {},
   "outputs": [
    {
     "data": {
      "text/plain": [
       "<AxesSubplot:>"
      ]
     },
     "execution_count": 14,
     "metadata": {},
     "output_type": "execute_result"
    },
    {
     "data": {
      "image/png": "[encoded data removed]",
      "text/plain": [
       "<Figure size 432x288 with 1 Axes>"
      ]
     },
     "metadata": {
      "needs_background": "light"
     },
     "output_type": "display_data"
    }
   ],
   "source": [
    "target_df[f'logLR:{outstem}.PUM2'].hist()"
   ]
  },
  {
   "cell_type": "code",
   "execution_count": 15,
   "id": "89910e8d",
   "metadata": {},
   "outputs": [
    {
     "data": {
      "text/plain": [
       "(138498, 10)"
      ]
     },
     "execution_count": 15,
     "metadata": {},
     "output_type": "execute_result"
    }
   ],
   "source": [
    "targets = target_df.values\n",
    "targets.shape"
   ]
  },
  {
   "cell_type": "code",
   "execution_count": 16,
   "id": "510145c9",
   "metadata": {},
   "outputs": [
    {
     "data": {
      "text/plain": [
       "Index(['logLR:K562_rep6.IGF2BP2', 'logLR:K562_rep6.RBFOX2',\n",
       "       'logLR:K562_rep6.PUM2', 'logLR:K562_rep6.FAM120A',\n",
       "       'logLR:K562_rep6.DDX3', 'logLR:K562_rep6.ZC3H11A',\n",
       "       'logLR:K562_rep6.EIF3G', 'logLR:K562_rep6.PRPF8',\n",
       "       'logLR:K562_rep6.LIN28B', 'logLR:K562_rep6.SF3B4'],\n",
       "      dtype='object')"
      ]
     },
     "execution_count": 16,
     "metadata": {},
     "output_type": "execute_result"
    }
   ],
   "source": [
    "target_col"
   ]
  },
  {
   "cell_type": "code",
   "execution_count": null,
   "id": "b7a1157e",
   "metadata": {},
   "outputs": [],
   "source": [
    "# BP target\n",
    "cits_target = []\n",
    "for col in target_col:\n",
    "    rbp = col.split('.')[-1]\n",
    "    cits = fetch_cits(megaoutput, rbp, max_length)\n",
    "    cits_target.append(cits)"
   ]
  },
  {
   "cell_type": "code",
   "execution_count": null,
   "id": "7bd68750",
   "metadata": {},
   "outputs": [],
   "source": [
    "cits_target = np.stack(cits_target, axis = -1)\n"
   ]
  },
  {
   "cell_type": "code",
   "execution_count": null,
   "id": "ba1b951d",
   "metadata": {},
   "outputs": [],
   "source": [
    "np.save(f'../data/{signal}/{outstem}.cits_cnt.npz', cits_target)"
   ]
  }
 ],
 "metadata": {
  "kernelspec": {
   "display_name": "Python 3 (ipykernel)",
   "language": "python",
   "name": "python3"
  },
  "language_info": {
   "codemirror_mode": {
    "name": "ipython",
    "version": 3
   },
   "file_extension": ".py",
   "mimetype": "text/x-python",
   "name": "python",
   "nbconvert_exporter": "python",
   "pygments_lexer": "ipython3",
   "version": "3.9.5"
  }
 },
 "nbformat": 4,
 "nbformat_minor": 5
}
