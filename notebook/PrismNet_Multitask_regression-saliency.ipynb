{
 "cells": [
  {
   "cell_type": "markdown",
   "id": "b649278e",
   "metadata": {},
   "source": [
    "#follow this to install prismnet\n",
    "https://github.com/kuixu/PrismNet"
   ]
  },
  {
   "cell_type": "code",
   "execution_count": 1,
   "id": "100ca6f3",
   "metadata": {},
   "outputs": [
    {
     "name": "stdout",
     "output_type": "stream",
     "text": [
      "Collecting logomaker\n",
      "  Using cached logomaker-0.8-py2.py3-none-any.whl (11.8 MB)\n",
      "Requirement already satisfied: pandas in /opt/conda/lib/python3.9/site-packages (from logomaker) (1.3.4)\n",
      "Requirement already satisfied: matplotlib in /opt/conda/lib/python3.9/site-packages (from logomaker) (3.4.2)\n",
      "Requirement already satisfied: numpy in /home/hsher/.local/lib/python3.9/site-packages (from logomaker) (1.22.2)\n",
      "Requirement already satisfied: python-dateutil>=2.7 in /opt/conda/lib/python3.9/site-packages (from matplotlib->logomaker) (2.8.2)\n",
      "Requirement already satisfied: kiwisolver>=1.0.1 in /opt/conda/lib/python3.9/site-packages (from matplotlib->logomaker) (1.3.1)\n",
      "Requirement already satisfied: pyparsing>=2.2.1 in /opt/conda/lib/python3.9/site-packages (from matplotlib->logomaker) (2.4.7)\n",
      "Requirement already satisfied: pillow>=6.2.0 in /opt/conda/lib/python3.9/site-packages (from matplotlib->logomaker) (6.2.2)\n",
      "Requirement already satisfied: cycler>=0.10 in /opt/conda/lib/python3.9/site-packages (from matplotlib->logomaker) (0.10.0)\n",
      "Requirement already satisfied: pytz>=2017.3 in /opt/conda/lib/python3.9/site-packages (from pandas->logomaker) (2021.1)\n",
      "Requirement already satisfied: six in /opt/conda/lib/python3.9/site-packages (from cycler>=0.10->matplotlib->logomaker) (1.15.0)\n",
      "Installing collected packages: logomaker\n",
      "Successfully installed logomaker-0.8\n",
      "\u001b[33mWARNING: You are using pip version 22.0.3; however, version 23.2.1 is available.\n",
      "You should consider upgrading via the '/opt/conda/bin/python3.9 -m pip install --upgrade pip' command.\u001b[0m\u001b[33m\n",
      "\u001b[0mCollecting pyBigWig\n",
      "  Using cached pyBigWig-0.3.22-cp39-cp39-manylinux_2_17_x86_64.manylinux2014_x86_64.whl (217 kB)\n",
      "Installing collected packages: pyBigWig\n",
      "Successfully installed pyBigWig-0.3.22\n",
      "\u001b[33mWARNING: You are using pip version 22.0.3; however, version 23.2.1 is available.\n",
      "You should consider upgrading via the '/opt/conda/bin/python3.9 -m pip install --upgrade pip' command.\u001b[0m\u001b[33m\n",
      "\u001b[0m"
     ]
    }
   ],
   "source": [
    "!pip install logomaker\n",
    "!pip install pyBigWig"
   ]
  },
  {
   "cell_type": "code",
   "execution_count": 2,
   "id": "0e17a279",
   "metadata": {},
   "outputs": [],
   "source": [
    "import argparse, os, random\n",
    "import torch\n",
    "import torch.nn as nn\n",
    "import torch.nn.functional as F\n",
    "import torch.optim as optim\n",
    "from torch.optim import lr_scheduler\n",
    "\n",
    "\n",
    "\n",
    "from sklearn import metrics\n",
    "import numpy as np\n",
    "\n",
    "import prismnet.model as arch\n",
    "from prismnet import train, validate, inference, log_print, compute_saliency, compute_saliency_img, compute_high_attention_region\n",
    "#compute_high_attention_region\n",
    "\n",
    "# from prismnet.engine.train_loop import \n",
    "from prismnet.model.utils import GradualWarmupScheduler\n",
    "from prismnet.loader import SeqicSHAPE\n",
    "from prismnet.utils import datautils"
   ]
  },
  {
   "cell_type": "code",
   "execution_count": 3,
   "id": "1218a44d",
   "metadata": {},
   "outputs": [],
   "source": [
    "import pandas as pd\n",
    "outstem = 'K562_rep6'\n",
    "rbp = 'RBFOX2'\n",
    "motif = 'GCATG'\n",
    "megaoutput = pd.read_csv(f'../data/ABC_data/{outstem}.megaoutputs_masked.tsv', sep = '\\t')\n",
    "seq = pd.read_csv(f'../data/ABC_data/tsv/{outstem}.DDX3.tsv', sep = '\\t', names = ['chrom', 'name', \n",
    "                                                                                 'seq', 'struct', 'label', 'start'])"
   ]
  },
  {
   "cell_type": "code",
   "execution_count": 4,
   "id": "791872bc",
   "metadata": {},
   "outputs": [
    {
     "data": {
      "text/html": [
       "<div>\n",
       "<style scoped>\n",
       "    .dataframe tbody tr th:only-of-type {\n",
       "        vertical-align: middle;\n",
       "    }\n",
       "\n",
       "    .dataframe tbody tr th {\n",
       "        vertical-align: top;\n",
       "    }\n",
       "\n",
       "    .dataframe thead th {\n",
       "        text-align: right;\n",
       "    }\n",
       "</style>\n",
       "<table border=\"1\" class=\"dataframe\">\n",
       "  <thead>\n",
       "    <tr style=\"text-align: right;\">\n",
       "      <th></th>\n",
       "      <th>chrom</th>\n",
       "      <th>name</th>\n",
       "      <th>seq</th>\n",
       "      <th>struct</th>\n",
       "      <th>label</th>\n",
       "      <th>start</th>\n",
       "    </tr>\n",
       "  </thead>\n",
       "  <tbody>\n",
       "    <tr>\n",
       "      <th>0</th>\n",
       "      <td>chr1</td>\n",
       "      <td>1</td>\n",
       "      <td>ATTAATCCCCTGGCCCAACCCGTCATCTACTCTACCATCTTTGCAG...</td>\n",
       "      <td>-1.0,-1.0,-1.0,-1.0,-1.0,0.5,0.4,0.2,0.2,0.3,0...</td>\n",
       "      <td>-1</td>\n",
       "      <td>629639</td>\n",
       "    </tr>\n",
       "    <tr>\n",
       "      <th>1</th>\n",
       "      <td>chr1</td>\n",
       "      <td>10</td>\n",
       "      <td>CACCCTCCTTAACCTCTACTTCTACCTGCGCCTAATCTACTCCACC...</td>\n",
       "      <td>0.5,0.1,0.2,0.0,0.0,0.0,0.1,0.0,0.0,0.0,0.3,0....</td>\n",
       "      <td>-1</td>\n",
       "      <td>630493</td>\n",
       "    </tr>\n",
       "    <tr>\n",
       "      <th>2</th>\n",
       "      <td>chr1</td>\n",
       "      <td>100013</td>\n",
       "      <td>GCCCGCCTCTGCCTCCCAAAGTGCTGGGATTACAGGCCTGAGCCAC...</td>\n",
       "      <td>NaN</td>\n",
       "      <td>-1</td>\n",
       "      <td>65435609</td>\n",
       "    </tr>\n",
       "    <tr>\n",
       "      <th>3</th>\n",
       "      <td>chr1</td>\n",
       "      <td>100014</td>\n",
       "      <td>CCAATAGAACCAAAATATTTATGAGGATGCTAGCATTTTCCAAGCA...</td>\n",
       "      <td>NaN</td>\n",
       "      <td>-1</td>\n",
       "      <td>65435708</td>\n",
       "    </tr>\n",
       "    <tr>\n",
       "      <th>4</th>\n",
       "      <td>chr1</td>\n",
       "      <td>100015</td>\n",
       "      <td>TGTGCATTTTAATTTAATTCTCCTTTTTCCATTTTGTCTCATGAAG...</td>\n",
       "      <td>NaN</td>\n",
       "      <td>-1</td>\n",
       "      <td>65435808</td>\n",
       "    </tr>\n",
       "  </tbody>\n",
       "</table>\n",
       "</div>"
      ],
      "text/plain": [
       "  chrom    name                                                seq  \\\n",
       "0  chr1       1  ATTAATCCCCTGGCCCAACCCGTCATCTACTCTACCATCTTTGCAG...   \n",
       "1  chr1      10  CACCCTCCTTAACCTCTACTTCTACCTGCGCCTAATCTACTCCACC...   \n",
       "2  chr1  100013  GCCCGCCTCTGCCTCCCAAAGTGCTGGGATTACAGGCCTGAGCCAC...   \n",
       "3  chr1  100014  CCAATAGAACCAAAATATTTATGAGGATGCTAGCATTTTCCAAGCA...   \n",
       "4  chr1  100015  TGTGCATTTTAATTTAATTCTCCTTTTTCCATTTTGTCTCATGAAG...   \n",
       "\n",
       "                                              struct  label     start  \n",
       "0  -1.0,-1.0,-1.0,-1.0,-1.0,0.5,0.4,0.2,0.2,0.3,0...     -1    629639  \n",
       "1  0.5,0.1,0.2,0.0,0.0,0.0,0.1,0.0,0.0,0.0,0.3,0....     -1    630493  \n",
       "2                                                NaN     -1  65435609  \n",
       "3                                                NaN     -1  65435708  \n",
       "4                                                NaN     -1  65435808  "
      ]
     },
     "execution_count": 4,
     "metadata": {},
     "output_type": "execute_result"
    }
   ],
   "source": [
    "seq.head()"
   ]
  },
  {
   "cell_type": "code",
   "execution_count": 5,
   "id": "aa595cc4",
   "metadata": {},
   "outputs": [],
   "source": [
    "max_length=seq['seq'].str.len().max()"
   ]
  },
  {
   "cell_type": "markdown",
   "id": "55ab7509",
   "metadata": {},
   "source": [
    "# Evaluate training"
   ]
  },
  {
   "cell_type": "code",
   "execution_count": 6,
   "id": "f42590f7",
   "metadata": {},
   "outputs": [],
   "source": [
    "# plot training curve\n",
    "curve = pd.read_csv(f'../data/ABC_data/{outstem}.training_curve.csv')"
   ]
  },
  {
   "cell_type": "code",
   "execution_count": 7,
   "id": "499a7bbc",
   "metadata": {},
   "outputs": [
    {
     "data": {
      "text/plain": [
       "type\n",
       "test     AxesSubplot(0.125,0.125;0.775x0.755)\n",
       "train    AxesSubplot(0.125,0.125;0.775x0.755)\n",
       "Name: loss, dtype: object"
      ]
     },
     "execution_count": 7,
     "metadata": {},
     "output_type": "execute_result"
    },
    {
     "data": {
      "image/png": "[encoded data removed]",
      "text/plain": [
       "<Figure size 432x288 with 1 Axes>"
      ]
     },
     "metadata": {
      "needs_background": "light"
     },
     "output_type": "display_data"
    }
   ],
   "source": [
    "curve.set_index('epoch').groupby(by = 'type')['loss'].plot(legend = True)"
   ]
  },
  {
   "cell_type": "markdown",
   "id": "d00f0a8b",
   "metadata": {},
   "source": [
    "# visualize"
   ]
  },
  {
   "cell_type": "code",
   "execution_count": 8,
   "id": "e21ced47",
   "metadata": {},
   "outputs": [
    {
     "data": {
      "text/plain": [
       "<AxesSubplot:>"
      ]
     },
     "execution_count": 8,
     "metadata": {},
     "output_type": "execute_result"
    },
    {
     "data": {
      "image/png": "[encoded data removed]",
      "text/plain": [
       "<Figure size 432x288 with 1 Axes>"
      ]
     },
     "metadata": {
      "needs_background": "light"
     },
     "output_type": "display_data"
    }
   ],
   "source": [
    "megaoutput[f'logLR:{outstem}.{rbp}'].hist()"
   ]
  },
  {
   "cell_type": "code",
   "execution_count": 9,
   "id": "8b419915",
   "metadata": {},
   "outputs": [],
   "source": [
    "positive = megaoutput.loc[megaoutput[f'logLR:{outstem}.{rbp}']>2]"
   ]
  },
  {
   "cell_type": "code",
   "execution_count": 10,
   "id": "a8b0b266",
   "metadata": {},
   "outputs": [
    {
     "name": "stderr",
     "output_type": "stream",
     "text": [
      "/tmp/ipykernel_115/4225601108.py:1: SettingWithCopyWarning: \n",
      "A value is trying to be set on a copy of a slice from a DataFrame.\n",
      "Try using .loc[row_indexer,col_indexer] = value instead\n",
      "\n",
      "See the caveats in the documentation: https://pandas.pydata.org/pandas-docs/stable/user_guide/indexing.html#returning-a-view-versus-a-copy\n",
      "  positive['logLR_bin'] = pd.cut(positive[f'logLR:{outstem}.{rbp}'], bins = 5)\n"
     ]
    }
   ],
   "source": [
    "positive['logLR_bin'] = pd.cut(positive[f'logLR:{outstem}.{rbp}'], bins = 5)"
   ]
  },
  {
   "cell_type": "code",
   "execution_count": 11,
   "id": "bce37e7b",
   "metadata": {},
   "outputs": [
    {
     "data": {
      "text/plain": [
       "(1.981, 7.018]      6637\n",
       "(7.018, 12.029]     2135\n",
       "(12.029, 17.04]     1064\n",
       "(17.04, 22.052]      301\n",
       "(22.052, 27.063]      51\n",
       "Name: logLR_bin, dtype: int64"
      ]
     },
     "execution_count": 11,
     "metadata": {},
     "output_type": "execute_result"
    }
   ],
   "source": [
    "positive['logLR_bin'].value_counts()"
   ]
  },
  {
   "cell_type": "code",
   "execution_count": 12,
   "id": "def6f217",
   "metadata": {},
   "outputs": [
    {
     "data": {
      "text/plain": [
       "GSE1                             162\n",
       "NEAT1                            130\n",
       "CCDC200                          123\n",
       "PRKCB                             80\n",
       "C22orf34                          73\n",
       "DGCR8                             68\n",
       "RP11-719N9.1                      63\n",
       "DOT1L                             50\n",
       "LRCH4                             42\n",
       "HBG2:CTD-2643I7.5:HBE1:OR51B5     41\n",
       "EPB41                             40\n",
       "DNM2                              37\n",
       "UNKL                              36\n",
       "PFKP                              35\n",
       "SMPD4BP                           33\n",
       "PIEZO1                            33\n",
       "SCARB1                            32\n",
       "CAMK2G                            32\n",
       "PI4KAP2                           32\n",
       "MIR17HG                           30\n",
       "Name: gene_name, dtype: int64"
      ]
     },
     "execution_count": 12,
     "metadata": {},
     "output_type": "execute_result"
    }
   ],
   "source": [
    "positive['gene_name'].value_counts().iloc[:20]"
   ]
  },
  {
   "cell_type": "code",
   "execution_count": 13,
   "id": "d16d2863",
   "metadata": {},
   "outputs": [],
   "source": [
    "# # only plot specific outputs\n",
    "# sample_size = 64\n",
    "# subset = []\n",
    "# # select specific logLR as outputs\n",
    "# #subset = megaoutput.loc[megaoutput[f'{outstem}.{rbp}']].sample(sample_size)\n",
    "# for name,group in positive.groupby(by=['logLR_bin']):\n",
    "#     try:\n",
    "#         subset.append(group.sample(sample_size))\n",
    "#     except:\n",
    "#         subset.append(group)\n",
    "# subset = pd.concat(subset, axis = 0)           \n",
    "# subset[f'logLR:{outstem}.{rbp}'].hist()"
   ]
  },
  {
   "cell_type": "code",
   "execution_count": 14,
   "id": "cea93f75",
   "metadata": {},
   "outputs": [],
   "source": [
    "subset = positive.loc[positive['gene_name']=='C22orf34']"
   ]
  },
  {
   "cell_type": "code",
   "execution_count": 15,
   "id": "3b0696d9",
   "metadata": {},
   "outputs": [],
   "source": [
    "from prismnet.utils import datautils"
   ]
  },
  {
   "cell_type": "code",
   "execution_count": 16,
   "id": "651c1c4e",
   "metadata": {},
   "outputs": [],
   "source": [
    "subset_seq_df = seq.set_index('name').loc[subset['name'].tolist(), ['seq']]"
   ]
  },
  {
   "cell_type": "code",
   "execution_count": 17,
   "id": "bb3ed170",
   "metadata": {},
   "outputs": [
    {
     "data": {
      "text/plain": [
       "(73, 1)"
      ]
     },
     "execution_count": 17,
     "metadata": {},
     "output_type": "execute_result"
    }
   ],
   "source": [
    "subset_seq_df.shape"
   ]
  },
  {
   "cell_type": "code",
   "execution_count": 18,
   "id": "651132bd",
   "metadata": {},
   "outputs": [
    {
     "data": {
      "text/plain": [
       "(73, 4, 100)"
      ]
     },
     "execution_count": 18,
     "metadata": {},
     "output_type": "execute_result"
    }
   ],
   "source": [
    "one_hot = datautils.convert_one_hot(subset_seq_df['seq'].tolist(), max_length)\n",
    "one_hot.shape # N, 4, max_length"
   ]
  },
  {
   "cell_type": "code",
   "execution_count": 19,
   "id": "4f56775e",
   "metadata": {},
   "outputs": [],
   "source": [
    "data = one_hot"
   ]
  },
  {
   "cell_type": "code",
   "execution_count": 20,
   "id": "54c692bb",
   "metadata": {},
   "outputs": [],
   "source": [
    "# targets: predict binary\n",
    "target_col = subset.columns[(subset.columns.str.startswith('logLR'))&(subset.columns.str.contains(outstem))]\n",
    "target_df = subset[target_col]"
   ]
  },
  {
   "cell_type": "code",
   "execution_count": 21,
   "id": "89910e8d",
   "metadata": {},
   "outputs": [
    {
     "data": {
      "text/plain": [
       "(73, 10)"
      ]
     },
     "execution_count": 21,
     "metadata": {},
     "output_type": "execute_result"
    }
   ],
   "source": [
    "targets = target_df.values\n",
    "targets.shape"
   ]
  },
  {
   "cell_type": "code",
   "execution_count": 22,
   "id": "55fd1596",
   "metadata": {},
   "outputs": [],
   "source": [
    "train, test = datautils.split_dataset(data, targets, valid_frac=0.2)\n",
    "\n",
    "target_data_type = np.float32"
   ]
  },
  {
   "cell_type": "code",
   "execution_count": 23,
   "id": "90b10c26",
   "metadata": {},
   "outputs": [],
   "source": [
    "from prismnet.model.PrismNet import *\n",
    "class PrismNet_Multitask(nn.Module):\n",
    "    def __init__(self, mode=\"pu\", output_dim=10):\n",
    "        super(PrismNet_Multitask, self).__init__()\n",
    "        self.mode = mode\n",
    "        h_p, h_k = 2, 5 \n",
    "        if mode==\"pu\":\n",
    "            self.n_features = 5\n",
    "        elif mode==\"seq\":\n",
    "            self.n_features = 4\n",
    "            h_p, h_k = 1, 3 \n",
    "        elif mode==\"str\":\n",
    "            self.n_features = 1\n",
    "            h_p, h_k = 0, 1\n",
    "        else:\n",
    "            raise \"mode error\"\n",
    "        \n",
    "        base_channel = 8\n",
    "        self.conv    = Conv2d(1, base_channel, kernel_size=(11, h_k), bn = True, same_padding=True)\n",
    "        self.se      = SEBlock(base_channel)\n",
    "        self.res2d   = ResidualBlock2D(base_channel, kernel_size=(11, h_k), padding=(5, h_p)) \n",
    "        self.res1d   = ResidualBlock1D(base_channel*4) \n",
    "        self.avgpool = nn.AvgPool2d((1,self.n_features))\n",
    "        self.gpool   = nn.AdaptiveAvgPool1d(1)\n",
    "        self.fc      = nn.Linear(base_channel*4*8, output_dim)\n",
    "        self._initialize_weights()\n",
    "\n",
    "    def _initialize_weights(self):\n",
    "        for m in self.modules():\n",
    "            if isinstance(m, nn.Conv2d):\n",
    "                nn.init.kaiming_normal_(m.weight, mode='fan_out', nonlinearity='relu')\n",
    "                if m.bias is not None:\n",
    "                    nn.init.constant_(m.bias, 0)\n",
    "            elif isinstance(m, nn.Conv1d):\n",
    "                nn.init.kaiming_normal_(m.weight, mode='fan_out', nonlinearity='relu')\n",
    "                if m.bias is not None:\n",
    "                    nn.init.constant_(m.bias, 0)\n",
    "            elif isinstance(m, nn.BatchNorm2d):\n",
    "                nn.init.constant_(m.weight, 1)\n",
    "                nn.init.constant_(m.bias, 0)\n",
    "            elif isinstance(m, nn.BatchNorm1d):\n",
    "                nn.init.constant_(m.weight, 1)\n",
    "                nn.init.constant_(m.bias, 0)\n",
    "            elif isinstance(m, nn.Linear):\n",
    "                nn.init.normal_(m.weight, 0, 0.01)\n",
    "                nn.init.constant_(m.bias, 0)\n",
    "    \n",
    "    def forward(self, input):\n",
    "        \"\"\"[forward]\n",
    "        \n",
    "        Args:\n",
    "            input ([tensor],N,C,W,H): input features\n",
    "        \"\"\"\n",
    "        if self.mode==\"seq\":\n",
    "            input = input[:,:,:,:4]\n",
    "        elif self.mode==\"str\":\n",
    "            input = input[:,:,:,4:]\n",
    "        x = self.conv(input)\n",
    "        x = F.dropout(x, 0.1, training=self.training)\n",
    "        z = self.se(x)\n",
    "        x = self.res2d(x*z)\n",
    "        x = F.dropout(x, 0.5, training=self.training)\n",
    "        x = self.avgpool(x)\n",
    "        x = x.view(x.shape[0], x.shape[1], x.shape[2])\n",
    "        x = self.res1d(x)\n",
    "        x = F.dropout(x, 0.3, training=self.training)\n",
    "        x = self.gpool(x)\n",
    "        x = x.view(x.shape[0], x.shape[1])\n",
    "        x = self.fc(x)\n",
    "        return x"
   ]
  },
  {
   "cell_type": "code",
   "execution_count": 24,
   "id": "d15e2859",
   "metadata": {},
   "outputs": [
    {
     "data": {
      "text/plain": [
       "<All keys matched successfully>"
      ]
     },
     "execution_count": 24,
     "metadata": {},
     "output_type": "execute_result"
    }
   ],
   "source": [
    "model = PrismNet_Multitask(mode = 'seq', output_dim = targets.shape[1])\n",
    "use_cuda = torch.cuda.is_available()\n",
    "device = torch.device(\"cuda\" if use_cuda else \"cpu\")\n",
    "model = model.to(device)\n",
    "model.load_state_dict(torch.load(f'../data/ABC_data/{outstem}.model.pt'))"
   ]
  },
  {
   "cell_type": "code",
   "execution_count": 25,
   "id": "bfcb7fc4",
   "metadata": {},
   "outputs": [],
   "source": [
    "class SeqicSHAPE_Multitask(torch.utils.data.Dataset):\n",
    "    def __init__(self, X, Y, is_infer=False, use_structure=True):\n",
    "        \"\"\"data loader\n",
    "        \n",
    "        Args:\n",
    "            data_path ([str]): h5 file path\n",
    "            is_test (bool, optional): testset or not. Defaults to False.\n",
    "        \"\"\"\n",
    "        if is_infer:\n",
    "            self.dataset = self.__load_infer_data__(data_path, use_structure=use_structure)\n",
    "            print(\"infer data: \", self.__len__(),\" use_structure: \", use_structure)\n",
    "        else:\n",
    "#             dataset = h5py.File(data_path, 'r')\n",
    "#             X_train = np.array(dataset['X_train']).astype(np.float32)\n",
    "#             Y_train = np.array(dataset['Y_train']).astype(np.int32)\n",
    "#             X_test  = np.array(dataset['X_test']).astype(np.float32)\n",
    "#             Y_test  = np.array(dataset['Y_test']).astype(np.int32)\n",
    "            X = np.array(X).astype(np.float32)\n",
    "            Y = np.array(Y).astype(np.float32)\n",
    "#             if len(Y_train.shape) == 1:\n",
    "#                 Y_train = np.expand_dims(Y_train, axis=1)\n",
    "#                 Y_test  = np.expand_dims(Y_test, axis=1)\n",
    "            X = np.expand_dims(X, axis=3).transpose([0, 3, 2, 1]) # N, 1, length, channel\n",
    "            \n",
    "\n",
    "            \n",
    "\n",
    "#             labels, nums = np.unique(Y_train,return_counts=True)\n",
    "#             print(\"train:\", labels, nums)\n",
    "#             labels, nums = np.unique(Y_test,return_counts=True)\n",
    "#             print(\"test:\", labels, nums)\n",
    "\n",
    "#             train = self.__prepare_data__(train)\n",
    "#             test  = self.__prepare_data__(test)\n",
    "\n",
    "            \n",
    "            self.dataset = {'inputs': X, 'targets': Y}\n",
    "            \n",
    "\n",
    "        \n",
    "\n",
    "    def __load_infer_data__(self, data_path, use_structure=True):\n",
    "        from prismnet.utils import datautils\n",
    "        dataset = datautils.load_testset_txt(data_path, use_structure=use_structure, seq_length=101)\n",
    "        return dataset\n",
    "       \n",
    "    \n",
    "    def __prepare_data__(self, data):\n",
    "        inputs    = data['inputs'][:,:,:,:4]\n",
    "        structure = data['inputs'][:,:,:,4:]\n",
    "        structure = np.expand_dims(structure[:,:,:,0], axis=3)\n",
    "        inputs    = np.concatenate([inputs, structure], axis=3)\n",
    "        data['inputs']  = inputs\n",
    "        return data\n",
    "\n",
    "    def __to_sequence__(self, x):\n",
    "        x1 = np.zeros_like(x[0,:,:1])\n",
    "        for i in range(x1.shape[0]):\n",
    "            # import pdb; pdb.set_trace()\n",
    "            x1[i] = np.argmax(x[0,i,:4])\n",
    "            # import pdb; pdb.set_trace()\n",
    "        return x1\n",
    "\n",
    "    def __getitem__(self, index):\n",
    "        \"\"\"\n",
    "        Args:\n",
    "            index (int): Index\n",
    "\n",
    "        Returns:\n",
    "            tuple: (image, target) where target is index of the target class.\n",
    "        \"\"\"\n",
    "        x = self.dataset['inputs'][index]\n",
    "        # x = self.__to_sequence__(x)\n",
    "        y = self.dataset['targets'][index]\n",
    "        return x, y\n",
    "\n",
    "\n",
    "    def __len__(self):\n",
    "        return len(self.dataset['inputs'])\n",
    "\n"
   ]
  },
  {
   "cell_type": "code",
   "execution_count": 26,
   "id": "59e3822a",
   "metadata": {},
   "outputs": [
    {
     "name": "stdout",
     "output_type": "stream",
     "text": [
      "Test  set: 73\n"
     ]
    }
   ],
   "source": [
    "import numpy as np\n",
    "kwargs = {'num_workers': 2, 'pin_memory': True} if use_cuda else {}\n",
    "# train_loader = torch.utils.data.DataLoader(\n",
    "    \n",
    "    \n",
    "#     SeqicSHAPE_Multitask(train[0], train[1], is_infer=False, use_structure=False), \n",
    "# batch_size=64, shuffle=True,  **kwargs)\n",
    "\n",
    "test_loader  = torch.utils.data.DataLoader(\n",
    "    SeqicSHAPE_Multitask(data, targets, is_infer=False, use_structure=False),\n",
    "batch_size=64*8, shuffle=False, **kwargs)\n",
    "\n",
    "#print(\"Train set:\", len(train_loader.dataset)) #X_train (example=91099, ATCGshape=5, length=101)\n",
    "#X_train (example=91099, ATCGshape=5, length=101)\n",
    "#Y_train (example=91099, binary_outcome=1))\n",
    "print(\"Test  set:\", len(test_loader.dataset))"
   ]
  },
  {
   "cell_type": "code",
   "execution_count": 27,
   "id": "e6ae85cf",
   "metadata": {},
   "outputs": [],
   "source": [
    "def train(model, device, train_loader, criterion, optimizer):\n",
    "    ''' train for one epoch'''\n",
    "    model.train()\n",
    "    epoch_loss = 0\n",
    "    for batch_idx, (x0, y0) in enumerate(train_loader):\n",
    "        x, y = x0.float().to(device), y0.to(device).float()\n",
    "        \n",
    "        optimizer.zero_grad()\n",
    "        output = model(x)\n",
    "        \n",
    "        loss = criterion(output, y)\n",
    "        epoch_loss+=loss.item()\n",
    "        loss.backward()\n",
    "        \n",
    "        torch.nn.utils.clip_grad_norm_(model.parameters(), 5)\n",
    "        optimizer.step()\n",
    "\n",
    "    return epoch_loss\n",
    "def validate(model, device, test_loader, criterion):\n",
    "    model.eval()\n",
    "    y_all = []\n",
    "    p_all = []\n",
    "    l_all = []\n",
    "    epoch_loss = 0\n",
    "    with torch.no_grad():\n",
    "        for batch_idx, (x0, y0) in enumerate(test_loader):\n",
    "            x, y = x0.float().to(device), y0.to(device).float()\n",
    "            \n",
    "            \n",
    "            output  = model(x)\n",
    "            loss = criterion(output, y)\n",
    "            \n",
    "            epoch_loss += loss.item()\n",
    "            y_np = output.to(device='cpu', dtype=torch.float32).numpy()\n",
    "            y_all.append(y_np)\n",
    "            \n",
    "\n",
    "    return epoch_loss, y_all"
   ]
  },
  {
   "cell_type": "code",
   "execution_count": 28,
   "id": "04293561",
   "metadata": {},
   "outputs": [],
   "source": [
    "optimizer = torch.optim.Adam(model.parameters(), lr=0.0001, betas=(0.9, 0.999), weight_decay=1e-6)\n",
    "nepoch = 60\n",
    "scheduler = GradualWarmupScheduler(\n",
    "    optimizer, multiplier=8, total_epoch=nepoch, after_scheduler=None)\n",
    "criterion = torch.nn.MSELoss()\n",
    "batch_size= 64"
   ]
  },
  {
   "cell_type": "code",
   "execution_count": 29,
   "id": "614f8678",
   "metadata": {},
   "outputs": [],
   "source": [
    "loss_test, y_test_pred = validate(model, device, test_loader, criterion)"
   ]
  },
  {
   "cell_type": "code",
   "execution_count": 30,
   "id": "544be972",
   "metadata": {},
   "outputs": [
    {
     "data": {
      "text/plain": [
       "(145, 4, 100)"
      ]
     },
     "execution_count": 30,
     "metadata": {},
     "output_type": "execute_result"
    }
   ],
   "source": [
    "test[0].shape"
   ]
  },
  {
   "cell_type": "code",
   "execution_count": 31,
   "id": "a875117e",
   "metadata": {},
   "outputs": [
    {
     "name": "stdout",
     "output_type": "stream",
     "text": [
      "(-0.21668258282281105, 0.08547011781411336)\n"
     ]
    },
    {
     "data": {
      "image/png": "[encoded data removed]",
      "text/plain": [
       "<Figure size 432x288 with 1 Axes>"
      ]
     },
     "metadata": {
      "needs_background": "light"
     },
     "output_type": "display_data"
    },
    {
     "name": "stdout",
     "output_type": "stream",
     "text": [
      "(-0.09011214097415766, 0.4788636361968615)\n"
     ]
    },
    {
     "data": {
      "image/png": "[encoded data removed]",
      "text/plain": [
       "<Figure size 432x288 with 1 Axes>"
      ]
     },
     "metadata": {
      "needs_background": "light"
     },
     "output_type": "display_data"
    },
    {
     "name": "stdout",
     "output_type": "stream",
     "text": [
      "(-0.19316796504566142, 0.12618269105542768)\n"
     ]
    },
    {
     "data": {
      "image/png": "[encoded data removed]",
      "text/plain": [
       "<Figure size 432x288 with 1 Axes>"
      ]
     },
     "metadata": {
      "needs_background": "light"
     },
     "output_type": "display_data"
    },
    {
     "name": "stdout",
     "output_type": "stream",
     "text": [
      "(-0.018419613322074452, 0.8851334257557231)\n"
     ]
    },
    {
     "data": {
      "image/png": "[encoded data removed]",
      "text/plain": [
       "<Figure size 432x288 with 1 Axes>"
      ]
     },
     "metadata": {
      "needs_background": "light"
     },
     "output_type": "display_data"
    },
    {
     "name": "stdout",
     "output_type": "stream",
     "text": [
      "(-0.09546659389639503, 0.45301592539757335)\n"
     ]
    },
    {
     "data": {
      "image/png": "[encoded data removed]",
      "text/plain": [
       "<Figure size 432x288 with 1 Axes>"
      ]
     },
     "metadata": {
      "needs_background": "light"
     },
     "output_type": "display_data"
    },
    {
     "name": "stdout",
     "output_type": "stream",
     "text": [
      "(0.05237933618438974, 0.681029835390644)\n"
     ]
    },
    {
     "data": {
      "image/png": "[encoded data removed]",
      "text/plain": [
       "<Figure size 432x288 with 1 Axes>"
      ]
     },
     "metadata": {
      "needs_background": "light"
     },
     "output_type": "display_data"
    },
    {
     "name": "stdout",
     "output_type": "stream",
     "text": [
      "(-0.039791937695903265, 0.7548999032531852)\n"
     ]
    },
    {
     "data": {
      "image/png": "[encoded data removed]",
      "text/plain": [
       "<Figure size 432x288 with 1 Axes>"
      ]
     },
     "metadata": {
      "needs_background": "light"
     },
     "output_type": "display_data"
    },
    {
     "name": "stdout",
     "output_type": "stream",
     "text": [
      "(-0.12266752820144916, 0.334218332231403)\n"
     ]
    },
    {
     "data": {
      "image/png": "[encoded data removed]",
      "text/plain": [
       "<Figure size 432x288 with 1 Axes>"
      ]
     },
     "metadata": {
      "needs_background": "light"
     },
     "output_type": "display_data"
    },
    {
     "name": "stdout",
     "output_type": "stream",
     "text": [
      "(-0.06512495672411928, 0.6091588760737328)\n"
     ]
    },
    {
     "data": {
      "image/png": "[encoded data removed]",
      "text/plain": [
       "<Figure size 432x288 with 1 Axes>"
      ]
     },
     "metadata": {
      "needs_background": "light"
     },
     "output_type": "display_data"
    },
    {
     "name": "stdout",
     "output_type": "stream",
     "text": [
      "(-0.0694640446453132, 0.5854652024687147)\n"
     ]
    },
    {
     "data": {
      "image/png": "[encoded data removed]",
      "text/plain": [
       "<Figure size 432x288 with 1 Axes>"
      ]
     },
     "metadata": {
      "needs_background": "light"
     },
     "output_type": "display_data"
    }
   ],
   "source": [
    "from scipy.stats import pearsonr\n",
    "import matplotlib.pyplot as plt\n",
    "y_pred=np.concatenate(y_test_pred)\n",
    "for rbp_idx, name in zip(range(test[1].shape[1]), target_df.columns):\n",
    "    plt.scatter(test[1][:64, rbp_idx], y_pred[:64, rbp_idx])\n",
    "    plt.ylabel('Y_pred')\n",
    "    plt.xlabel('test')\n",
    "    print(pearsonr(test[1][:64, rbp_idx],y_pred[:64, rbp_idx]))\n",
    "    plt.title(name)\n",
    "    plt.show()\n",
    "    "
   ]
  },
  {
   "cell_type": "code",
   "execution_count": 32,
   "id": "6d5ac1f1",
   "metadata": {},
   "outputs": [
    {
     "name": "stderr",
     "output_type": "stream",
     "text": [
      "<>:150: SyntaxWarning: \"is\" with a literal. Did you mean \"==\"?\n",
      "<>:150: SyntaxWarning: \"is\" with a literal. Did you mean \"==\"?\n",
      "/tmp/ipykernel_115/2063606002.py:150: SyntaxWarning: \"is\" with a literal. Did you mean \"==\"?\n",
      "  if module.__class__.__name__ is 'ReLU':\n"
     ]
    }
   ],
   "source": [
    "#!/usr/bin/env python\n",
    "# \n",
    "# Kui Xu, xukui.cs@gmail.com\n",
    "# 2019-02-25\n",
    "# ref smoothGrad\n",
    "\n",
    "import torch\n",
    "import torch.nn as nn\n",
    "import torch.nn.functional as F\n",
    "from torch.autograd import grad,Variable\n",
    "import numpy as np\n",
    "\n",
    "class SmoothGrad(object):\n",
    "    def __init__(self, model, device='cpu', only_seq=False, train=False, \n",
    "        x_stddev=0.015, t_stddev=0.015, nsamples=20, magnitude=2):\n",
    "        self.model     = model\n",
    "        self.device    = device\n",
    "        self.train     = train\n",
    "        self.only_seq  = only_seq\n",
    "        self.x_stddev  = x_stddev\n",
    "        self.t_stddev  = t_stddev\n",
    "        self.nsamples  = nsamples\n",
    "        self.magnitude = magnitude\n",
    "        self.features  = model\n",
    "        # import pdb; pdb.set_trace()\n",
    "\n",
    "    def get_gradients(self, z, pred_label=None, rbp_idx = 0):\n",
    "        self.model.eval()\n",
    "        self.model.zero_grad()\n",
    "        z = z.to(self.device)\n",
    "        z.requires_grad=True\n",
    "        output = self.model(z)\n",
    "        \n",
    "        output[:,rbp_idx].backward() # now it is a multioutput.... maybe sum is not the right way tho!\n",
    "        return z.grad\n",
    "\n",
    "    def get_smooth_gradients(self, z, y=None, rbp_idx=0):\n",
    "        return self.__call__(z, y, rbp_idx = rbp_idx)\n",
    "        \n",
    "    def __call__(self, z, y=None,rbp_idx = 0):\n",
    "        \"\"\"[summary]\n",
    "        \n",
    "        Args:\n",
    "            z ([type]): [description] X\n",
    "            y ([type]): [description] Y\n",
    "            x_stddev (float, optional): [description]. Defaults to 0.15.\n",
    "            t_stddev (float, optional): [description]. Defaults to 0.15.\n",
    "            nsamples (int, optional):   [description]. Defaults to 20.\n",
    "            magnitude (int, optional):  magnitude:0,1,2; 0: original gradient, 1: absolute value of the gradient,\n",
    "                                        2: square value of the gradient. Defaults to 2.\n",
    "        \n",
    "        Returns:\n",
    "            [type]: [description]\n",
    "        \"\"\"\n",
    "\n",
    "        # 1. for sequece\n",
    "        x = z[:,:,:,:4] # .data.cpu()\n",
    "        x_stddev   = (self.x_stddev * (x.max()-x.min())).to(self.device).item() \n",
    "\n",
    "        total_grad = torch.zeros(z.shape).to(self.device)\n",
    "        x_noise    = torch.zeros(x.shape).to(self.device)\n",
    "        if not self.only_seq:\n",
    "            # 2. for structure  \n",
    "            t = z[:,:,:,4:] #.data.cpu()\n",
    "            t_stddev = (self.t_stddev * (t.max()-t.min())).to(self.device).item() \n",
    "            #t_total_grad = torch.zeros(t.shape)\n",
    "            t_noise = torch.zeros(t.shape).to(self.device)\n",
    "\n",
    "        for i in range(self.nsamples):\n",
    "            x_plus_noise = x + x_noise.zero_().normal_(0, x_stddev)\n",
    "            if self.only_seq:\n",
    "                z_plus_noise = x_plus_noise\n",
    "            else:\n",
    "                t_plus_noise = t + t_noise.zero_().normal_(0, t_stddev)\n",
    "                z_plus_noise = torch.cat((x_plus_noise, t_plus_noise), dim=3)\n",
    "            #print(\"z_plus_noise:\",z_plus_noise.size())\n",
    "            grad = self.get_gradients(z_plus_noise, y, rbp_idx = rbp_idx)\n",
    "            if self.magnitude == 1:\n",
    "                total_grad += torch.abs(grad)\n",
    "            elif self.magnitude == 2:\n",
    "                total_grad += grad * grad\n",
    "            \n",
    "            # total_grad += grad * grad\n",
    "        total_grad /= self.nsamples\n",
    "        return total_grad\n",
    "\n",
    "    def get_batch_gradients(self, X, Y=None, rbp_idx = 0):\n",
    "        if Y is not None:\n",
    "            assert len(X) == len(Y), \"The size of input {} and target {} are not matched.\".format(len(X), len(Y))\n",
    "        g = torch.zeros_like(X)\n",
    "        for i in range(X.shape[0]):\n",
    "            x        = X[i:i+1]\n",
    "            if Y is not None:\n",
    "                y    = Y[i:i+1]\n",
    "            else:\n",
    "                y    = None\n",
    "            g[i:i+1] =  self.get_smooth_gradients(x, y, rbp_idx = rbp_idx)\n",
    "            # g[i:i+1] =  self.get_gradients(x, y)\n",
    "        return g\n",
    "\n",
    "\n",
    "def generate_saliency(model, x, y=None, smooth=False, nsamples=2, stddev=0.15, only_seq=False, \\\n",
    "    train=False):\n",
    "    saliency = SmoothGrad(model, only_seq, train)\n",
    "    x_grad   = saliency.get_smooth_gradients(x, y, nsamples=nsamples, x_stddev=stddev, t_stddev=stddev)\n",
    "    return x_grad\n",
    "\n",
    "\n",
    "\n",
    "class GuidedBackpropReLU(torch.autograd.Function):\n",
    "\n",
    "    def __init__(self, inplace=False):\n",
    "        super(GuidedBackpropReLU, self).__init__()\n",
    "        self.inplace = inplace\n",
    "\n",
    "    def forward(self, input):\n",
    "        pos_mask = (input > 0).type_as(input)\n",
    "        output = torch.addcmul(\n",
    "            torch.zeros(input.size()).type_as(input),\n",
    "            input,\n",
    "            pos_mask)\n",
    "        self.save_for_backward(input, output)\n",
    "        return output\n",
    "\n",
    "    def backward(self, grad_output):\n",
    "        input, output = self.saved_tensors\n",
    "\n",
    "        pos_mask_1 = (input > 0).type_as(grad_output)\n",
    "        pos_mask_2 = (grad_output > 0).type_as(grad_output)\n",
    "        grad_input = torch.addcmul(\n",
    "            torch.zeros(input.size()).type_as(input),\n",
    "            torch.addcmul(\n",
    "                torch.zeros(input.size()).type_as(input), grad_output, pos_mask_1),\n",
    "                pos_mask_2)\n",
    "\n",
    "        return grad_input\n",
    "\n",
    "    def __repr__(self):\n",
    "        inplace_str = ', inplace' if self.inplace else ''\n",
    "        return self.__class__.__name__ + ' (' \\\n",
    "            + inplace_str + ')'\n",
    "\n",
    "class GuidedBackpropSmoothGrad(SmoothGrad):\n",
    "\n",
    "    def __init__(self, model, device='cpu', only_seq=False, train=False, \n",
    "        x_stddev=0.15, t_stddev=0.15, nsamples=20, magnitude=2):\n",
    "        super(GuidedBackpropSmoothGrad, self).__init__(\n",
    "            model, device, only_seq, train, x_stddev, t_stddev, nsamples, magnitude)\n",
    "        for idx, module in self.features._modules.items():\n",
    "            if module.__class__.__name__ is 'ReLU':\n",
    "                self.features._modules[idx] = GuidedBackpropReLU()\n",
    "\n"
   ]
  },
  {
   "cell_type": "code",
   "execution_count": 33,
   "id": "dc1d8d30",
   "metadata": {},
   "outputs": [],
   "source": [
    "\n",
    "model.eval()\n",
    "sgrad = GuidedBackpropSmoothGrad(model, device=device, only_seq = True)"
   ]
  },
  {
   "cell_type": "code",
   "execution_count": 34,
   "id": "6c3f2221",
   "metadata": {},
   "outputs": [
    {
     "name": "stderr",
     "output_type": "stream",
     "text": [
      "[W pthreadpool-cpp.cc:90] Warning: Leaking Caffe2 thread-pool after fork. (function pthreadpool)\n",
      "[W pthreadpool-cpp.cc:90] Warning: Leaking Caffe2 thread-pool after fork. (function pthreadpool)\n"
     ]
    }
   ],
   "source": [
    "rbp_idx = 1\n",
    "for batch_idx, (x0, y0) in enumerate(test_loader):\n",
    "    X, Y = x0.float().to(device), y0.to(device).float()\n",
    "    output = model(X)\n",
    "    \n",
    "    guided_saliency = sgrad.get_batch_gradients(X, Y, rbp_idx = rbp_idx)\n",
    "    break"
   ]
  },
  {
   "cell_type": "code",
   "execution_count": 35,
   "id": "8d8d5e35",
   "metadata": {},
   "outputs": [
    {
     "data": {
      "text/plain": [
       "torch.Size([73, 1, 100, 4])"
      ]
     },
     "execution_count": 35,
     "metadata": {},
     "output_type": "execute_result"
    }
   ],
   "source": [
    "guided_saliency.shape"
   ]
  },
  {
   "cell_type": "code",
   "execution_count": 36,
   "id": "5b01caca",
   "metadata": {},
   "outputs": [],
   "source": [
    "# dot product of sequence and guided saliency\n",
    "max_saliency = (np.transpose(np.expand_dims(one_hot, axis =1), (0,1,3,2))*guided_saliency.cpu().numpy()\n",
    "               ).sum(axis = -1).max(axis = -1).squeeze(-1)"
   ]
  },
  {
   "cell_type": "code",
   "execution_count": 37,
   "id": "0bb2d376",
   "metadata": {},
   "outputs": [],
   "source": [
    "subset_seq_df['is_motif']=subset_seq_df['seq'].str.contains(motif)\n",
    "subset_seq_df['n_motif']=subset_seq_df['seq'].str.count(motif)\n",
    "subset_seq_df['max_saliency'] = max_saliency\n",
    "subset_seq_df[f'logLR:{outstem}.{rbp}'] = subset.set_index('name')[f'logLR:{outstem}.{rbp}']\n",
    "subset_seq_df['rbp_idx'] = np.arange(subset_seq_df.shape[0])"
   ]
  },
  {
   "cell_type": "code",
   "execution_count": 38,
   "id": "6b3da82b",
   "metadata": {},
   "outputs": [],
   "source": [
    "secondary_motif = ['GCACG', 'GCUUG', 'GAAUG', 'GUUUG', 'GUAUG', 'GUGUG', 'GCCUG']\n",
    "for m in secondary_motif:\n",
    "    subset_seq_df[f'is_{m}']=subset_seq_df['seq'].str.contains(m)\n"
   ]
  },
  {
   "cell_type": "code",
   "execution_count": 39,
   "id": "d5ded0c6",
   "metadata": {},
   "outputs": [
    {
     "data": {
      "text/plain": [
       "True"
      ]
     },
     "execution_count": 39,
     "metadata": {},
     "output_type": "execute_result"
    }
   ],
   "source": [
    "subset_seq_df.index.tolist()==subset['name'].tolist()"
   ]
  },
  {
   "cell_type": "code",
   "execution_count": 40,
   "id": "38f76773",
   "metadata": {},
   "outputs": [
    {
     "data": {
      "text/plain": [
       "array([<AxesSubplot:title={'center':'max_saliency'}, xlabel='is_motif'>,\n",
       "       <AxesSubplot:title={'center':'logLR:K562_rep6.RBFOX2'}, xlabel='is_motif'>],\n",
       "      dtype=object)"
      ]
     },
     "execution_count": 40,
     "metadata": {},
     "output_type": "execute_result"
    },
    {
     "data": {
      "image/png": "[encoded data removed]",
      "text/plain": [
       "<Figure size 432x288 with 2 Axes>"
      ]
     },
     "metadata": {
      "needs_background": "light"
     },
     "output_type": "display_data"
    }
   ],
   "source": [
    "subset_seq_df.boxplot(by = 'is_motif', column = ['max_saliency', f'logLR:{outstem}.{rbp}'])"
   ]
  },
  {
   "cell_type": "code",
   "execution_count": 41,
   "id": "72c5c7d8",
   "metadata": {},
   "outputs": [
    {
     "data": {
      "text/html": [
       "<div>\n",
       "<style scoped>\n",
       "    .dataframe tbody tr th:only-of-type {\n",
       "        vertical-align: middle;\n",
       "    }\n",
       "\n",
       "    .dataframe tbody tr th {\n",
       "        vertical-align: top;\n",
       "    }\n",
       "\n",
       "    .dataframe thead th {\n",
       "        text-align: right;\n",
       "    }\n",
       "</style>\n",
       "<table border=\"1\" class=\"dataframe\">\n",
       "  <thead>\n",
       "    <tr style=\"text-align: right;\">\n",
       "      <th></th>\n",
       "      <th>seq</th>\n",
       "      <th>is_motif</th>\n",
       "      <th>n_motif</th>\n",
       "      <th>max_saliency</th>\n",
       "      <th>logLR:K562_rep6.RBFOX2</th>\n",
       "      <th>rbp_idx</th>\n",
       "      <th>is_GCACG</th>\n",
       "      <th>is_GCUUG</th>\n",
       "      <th>is_GAAUG</th>\n",
       "      <th>is_GUUUG</th>\n",
       "      <th>is_GUAUG</th>\n",
       "      <th>is_GUGUG</th>\n",
       "      <th>is_GCCUG</th>\n",
       "    </tr>\n",
       "    <tr>\n",
       "      <th>name</th>\n",
       "      <th></th>\n",
       "      <th></th>\n",
       "      <th></th>\n",
       "      <th></th>\n",
       "      <th></th>\n",
       "      <th></th>\n",
       "      <th></th>\n",
       "      <th></th>\n",
       "      <th></th>\n",
       "      <th></th>\n",
       "      <th></th>\n",
       "      <th></th>\n",
       "      <th></th>\n",
       "    </tr>\n",
       "  </thead>\n",
       "  <tbody>\n",
       "    <tr>\n",
       "      <th>5679840</th>\n",
       "      <td>AACACCAGTTTGGACAGTGCTCTGAAGGTGTTGTGTAGATATGCTT...</td>\n",
       "      <td>True</td>\n",
       "      <td>1</td>\n",
       "      <td>6.770856</td>\n",
       "      <td>7.687904</td>\n",
       "      <td>0</td>\n",
       "      <td>False</td>\n",
       "      <td>False</td>\n",
       "      <td>False</td>\n",
       "      <td>False</td>\n",
       "      <td>False</td>\n",
       "      <td>False</td>\n",
       "      <td>False</td>\n",
       "    </tr>\n",
       "    <tr>\n",
       "      <th>5681681</th>\n",
       "      <td>TAGAGACACACCCGTAATATACACAAATGGGCACACACATGCATGT...</td>\n",
       "      <td>True</td>\n",
       "      <td>1</td>\n",
       "      <td>14.521306</td>\n",
       "      <td>19.009739</td>\n",
       "      <td>51</td>\n",
       "      <td>False</td>\n",
       "      <td>False</td>\n",
       "      <td>False</td>\n",
       "      <td>False</td>\n",
       "      <td>False</td>\n",
       "      <td>False</td>\n",
       "      <td>False</td>\n",
       "    </tr>\n",
       "    <tr>\n",
       "      <th>5681680</th>\n",
       "      <td>ACATACACGGGCACACATGTACAGACACCCATAATATACACACATG...</td>\n",
       "      <td>True</td>\n",
       "      <td>1</td>\n",
       "      <td>8.339869</td>\n",
       "      <td>17.123624</td>\n",
       "      <td>50</td>\n",
       "      <td>False</td>\n",
       "      <td>False</td>\n",
       "      <td>False</td>\n",
       "      <td>False</td>\n",
       "      <td>False</td>\n",
       "      <td>False</td>\n",
       "      <td>False</td>\n",
       "    </tr>\n",
       "    <tr>\n",
       "      <th>5681679</th>\n",
       "      <td>ACATGTACAGACACACCCATAATATACACACATGGACACACATGTA...</td>\n",
       "      <td>True</td>\n",
       "      <td>1</td>\n",
       "      <td>9.937978</td>\n",
       "      <td>14.049841</td>\n",
       "      <td>49</td>\n",
       "      <td>False</td>\n",
       "      <td>False</td>\n",
       "      <td>False</td>\n",
       "      <td>False</td>\n",
       "      <td>False</td>\n",
       "      <td>False</td>\n",
       "      <td>False</td>\n",
       "    </tr>\n",
       "    <tr>\n",
       "      <th>5681678</th>\n",
       "      <td>CCATAATGTGCACACACAGGCACACACATGCATATACAGGCACACC...</td>\n",
       "      <td>True</td>\n",
       "      <td>1</td>\n",
       "      <td>11.775274</td>\n",
       "      <td>17.556363</td>\n",
       "      <td>48</td>\n",
       "      <td>True</td>\n",
       "      <td>False</td>\n",
       "      <td>False</td>\n",
       "      <td>False</td>\n",
       "      <td>False</td>\n",
       "      <td>False</td>\n",
       "      <td>False</td>\n",
       "    </tr>\n",
       "    <tr>\n",
       "      <th>5681647</th>\n",
       "      <td>GAACGAAATTTACGGGCCCACAGTTCTGGAGGCTGGAAAGTCCAAG...</td>\n",
       "      <td>True</td>\n",
       "      <td>1</td>\n",
       "      <td>4.005956</td>\n",
       "      <td>8.932297</td>\n",
       "      <td>45</td>\n",
       "      <td>False</td>\n",
       "      <td>False</td>\n",
       "      <td>False</td>\n",
       "      <td>False</td>\n",
       "      <td>False</td>\n",
       "      <td>False</td>\n",
       "      <td>False</td>\n",
       "    </tr>\n",
       "    <tr>\n",
       "      <th>5680898</th>\n",
       "      <td>AACACAGCCTTGATTATGGGTTACATGATCCATAGGTAAACCGTGA...</td>\n",
       "      <td>True</td>\n",
       "      <td>1</td>\n",
       "      <td>45.845768</td>\n",
       "      <td>2.776091</td>\n",
       "      <td>36</td>\n",
       "      <td>False</td>\n",
       "      <td>False</td>\n",
       "      <td>False</td>\n",
       "      <td>False</td>\n",
       "      <td>False</td>\n",
       "      <td>False</td>\n",
       "      <td>False</td>\n",
       "    </tr>\n",
       "    <tr>\n",
       "      <th>5681684</th>\n",
       "      <td>AATAATTAGATGAGCTGACGGTGCCGCAGCACATGGCATTTGTTAG...</td>\n",
       "      <td>True</td>\n",
       "      <td>1</td>\n",
       "      <td>10.926226</td>\n",
       "      <td>4.107711</td>\n",
       "      <td>54</td>\n",
       "      <td>False</td>\n",
       "      <td>False</td>\n",
       "      <td>False</td>\n",
       "      <td>False</td>\n",
       "      <td>False</td>\n",
       "      <td>False</td>\n",
       "      <td>False</td>\n",
       "    </tr>\n",
       "    <tr>\n",
       "      <th>5680836</th>\n",
       "      <td>CCTATGTCACGCATCGTGAGTGTACACAGAGCTTGGTGCCTGCACA...</td>\n",
       "      <td>True</td>\n",
       "      <td>1</td>\n",
       "      <td>27.426813</td>\n",
       "      <td>22.949096</td>\n",
       "      <td>13</td>\n",
       "      <td>False</td>\n",
       "      <td>False</td>\n",
       "      <td>False</td>\n",
       "      <td>False</td>\n",
       "      <td>False</td>\n",
       "      <td>False</td>\n",
       "      <td>False</td>\n",
       "    </tr>\n",
       "    <tr>\n",
       "      <th>5680834</th>\n",
       "      <td>TTCAAAAGCCTTCCTGCCCCTGCCAGATAACAGAATCTTAACTGCA...</td>\n",
       "      <td>True</td>\n",
       "      <td>1</td>\n",
       "      <td>3.890322</td>\n",
       "      <td>11.670308</td>\n",
       "      <td>11</td>\n",
       "      <td>False</td>\n",
       "      <td>False</td>\n",
       "      <td>False</td>\n",
       "      <td>False</td>\n",
       "      <td>False</td>\n",
       "      <td>False</td>\n",
       "      <td>False</td>\n",
       "    </tr>\n",
       "    <tr>\n",
       "      <th>5680716</th>\n",
       "      <td>TCCCTCGCCGCATGCACACTGCACACATTCTGGAGAACCCAGGAGC...</td>\n",
       "      <td>True</td>\n",
       "      <td>1</td>\n",
       "      <td>10.145153</td>\n",
       "      <td>14.700870</td>\n",
       "      <td>5</td>\n",
       "      <td>False</td>\n",
       "      <td>False</td>\n",
       "      <td>False</td>\n",
       "      <td>False</td>\n",
       "      <td>False</td>\n",
       "      <td>False</td>\n",
       "      <td>False</td>\n",
       "    </tr>\n",
       "    <tr>\n",
       "      <th>5680213</th>\n",
       "      <td>CTGGGGCTGTATTTTATTCAGAGACCTCAGAAAAATAACACACATG...</td>\n",
       "      <td>True</td>\n",
       "      <td>1</td>\n",
       "      <td>10.075552</td>\n",
       "      <td>3.397599</td>\n",
       "      <td>3</td>\n",
       "      <td>True</td>\n",
       "      <td>False</td>\n",
       "      <td>False</td>\n",
       "      <td>False</td>\n",
       "      <td>False</td>\n",
       "      <td>False</td>\n",
       "      <td>False</td>\n",
       "    </tr>\n",
       "    <tr>\n",
       "      <th>5679843</th>\n",
       "      <td>ACATGGACACACACATATGCATACACATGCATGCACGCACACACAC...</td>\n",
       "      <td>True</td>\n",
       "      <td>1</td>\n",
       "      <td>22.346189</td>\n",
       "      <td>7.527637</td>\n",
       "      <td>1</td>\n",
       "      <td>True</td>\n",
       "      <td>False</td>\n",
       "      <td>False</td>\n",
       "      <td>False</td>\n",
       "      <td>False</td>\n",
       "      <td>False</td>\n",
       "      <td>False</td>\n",
       "    </tr>\n",
       "    <tr>\n",
       "      <th>5681683</th>\n",
       "      <td>CACATACACACATGGGCACACATGCATGTATAGACACACCCATAAT...</td>\n",
       "      <td>True</td>\n",
       "      <td>2</td>\n",
       "      <td>13.176559</td>\n",
       "      <td>11.022742</td>\n",
       "      <td>53</td>\n",
       "      <td>False</td>\n",
       "      <td>False</td>\n",
       "      <td>False</td>\n",
       "      <td>False</td>\n",
       "      <td>False</td>\n",
       "      <td>False</td>\n",
       "      <td>False</td>\n",
       "    </tr>\n",
       "    <tr>\n",
       "      <th>5680851</th>\n",
       "      <td>CGTATATGCACAGGTCAGCATCCTTGCAGGCCCACGTGTACCTCAC...</td>\n",
       "      <td>True</td>\n",
       "      <td>2</td>\n",
       "      <td>11.337814</td>\n",
       "      <td>12.153031</td>\n",
       "      <td>25</td>\n",
       "      <td>True</td>\n",
       "      <td>False</td>\n",
       "      <td>False</td>\n",
       "      <td>False</td>\n",
       "      <td>False</td>\n",
       "      <td>False</td>\n",
       "      <td>False</td>\n",
       "    </tr>\n",
       "    <tr>\n",
       "      <th>5680799</th>\n",
       "      <td>GCTGCTGCTTGTCTGCAGGTGTCAGACATGCCAGCCTCCATGATTG...</td>\n",
       "      <td>True</td>\n",
       "      <td>2</td>\n",
       "      <td>32.655834</td>\n",
       "      <td>9.578946</td>\n",
       "      <td>7</td>\n",
       "      <td>False</td>\n",
       "      <td>False</td>\n",
       "      <td>False</td>\n",
       "      <td>False</td>\n",
       "      <td>False</td>\n",
       "      <td>False</td>\n",
       "      <td>False</td>\n",
       "    </tr>\n",
       "    <tr>\n",
       "      <th>5681682</th>\n",
       "      <td>TGGACACATGCATGTACAGACACACCCATAATATACACACATGGAC...</td>\n",
       "      <td>True</td>\n",
       "      <td>2</td>\n",
       "      <td>11.865846</td>\n",
       "      <td>16.475937</td>\n",
       "      <td>52</td>\n",
       "      <td>True</td>\n",
       "      <td>False</td>\n",
       "      <td>False</td>\n",
       "      <td>False</td>\n",
       "      <td>False</td>\n",
       "      <td>False</td>\n",
       "      <td>False</td>\n",
       "    </tr>\n",
       "    <tr>\n",
       "      <th>5680849</th>\n",
       "      <td>TGTGCGTCTGCATGTTTGTGCATCTGTGTGCATGTTTGTGCGTCTG...</td>\n",
       "      <td>True</td>\n",
       "      <td>3</td>\n",
       "      <td>15.699228</td>\n",
       "      <td>22.629847</td>\n",
       "      <td>23</td>\n",
       "      <td>False</td>\n",
       "      <td>False</td>\n",
       "      <td>False</td>\n",
       "      <td>False</td>\n",
       "      <td>False</td>\n",
       "      <td>False</td>\n",
       "      <td>False</td>\n",
       "    </tr>\n",
       "    <tr>\n",
       "      <th>5680844</th>\n",
       "      <td>TACGTCTGCATGTTTGTGCATCTGTGCATGGTTGTGCATCTGTGTG...</td>\n",
       "      <td>True</td>\n",
       "      <td>3</td>\n",
       "      <td>22.347387</td>\n",
       "      <td>22.057348</td>\n",
       "      <td>18</td>\n",
       "      <td>False</td>\n",
       "      <td>False</td>\n",
       "      <td>False</td>\n",
       "      <td>False</td>\n",
       "      <td>False</td>\n",
       "      <td>False</td>\n",
       "      <td>False</td>\n",
       "    </tr>\n",
       "    <tr>\n",
       "      <th>5680847</th>\n",
       "      <td>CATGTTTGTGTGTCTGTGTGCATGTTTGTGTATCTGCATGTTTGTG...</td>\n",
       "      <td>True</td>\n",
       "      <td>4</td>\n",
       "      <td>32.437328</td>\n",
       "      <td>25.578180</td>\n",
       "      <td>21</td>\n",
       "      <td>False</td>\n",
       "      <td>False</td>\n",
       "      <td>False</td>\n",
       "      <td>False</td>\n",
       "      <td>False</td>\n",
       "      <td>False</td>\n",
       "      <td>False</td>\n",
       "    </tr>\n",
       "    <tr>\n",
       "      <th>5680850</th>\n",
       "      <td>TGTCTGTGCATGTGTGTGCGTGTGCCCATGCGCAGGCTTATGTCTG...</td>\n",
       "      <td>True</td>\n",
       "      <td>4</td>\n",
       "      <td>11.947450</td>\n",
       "      <td>24.588403</td>\n",
       "      <td>24</td>\n",
       "      <td>False</td>\n",
       "      <td>False</td>\n",
       "      <td>False</td>\n",
       "      <td>False</td>\n",
       "      <td>False</td>\n",
       "      <td>False</td>\n",
       "      <td>False</td>\n",
       "    </tr>\n",
       "    <tr>\n",
       "      <th>5680848</th>\n",
       "      <td>CCTGTGCATGTTTGTGTCTCTGTGCATGTTTGTGCGTCTGTGTGCA...</td>\n",
       "      <td>True</td>\n",
       "      <td>4</td>\n",
       "      <td>21.116100</td>\n",
       "      <td>25.780856</td>\n",
       "      <td>22</td>\n",
       "      <td>False</td>\n",
       "      <td>False</td>\n",
       "      <td>False</td>\n",
       "      <td>False</td>\n",
       "      <td>False</td>\n",
       "      <td>False</td>\n",
       "      <td>False</td>\n",
       "    </tr>\n",
       "    <tr>\n",
       "      <th>5680845</th>\n",
       "      <td>TGCATGTTTGTGTGTGCATGTTTGTGCATCTGTGTGCATGTTTGTG...</td>\n",
       "      <td>True</td>\n",
       "      <td>5</td>\n",
       "      <td>14.286995</td>\n",
       "      <td>20.364983</td>\n",
       "      <td>19</td>\n",
       "      <td>False</td>\n",
       "      <td>False</td>\n",
       "      <td>False</td>\n",
       "      <td>False</td>\n",
       "      <td>False</td>\n",
       "      <td>False</td>\n",
       "      <td>False</td>\n",
       "    </tr>\n",
       "    <tr>\n",
       "      <th>5680846</th>\n",
       "      <td>TGCATCTGCATGTTTGTGCTTCTGTGCATGTTTGTGCGTCTGTGTG...</td>\n",
       "      <td>True</td>\n",
       "      <td>5</td>\n",
       "      <td>14.694696</td>\n",
       "      <td>24.063398</td>\n",
       "      <td>20</td>\n",
       "      <td>False</td>\n",
       "      <td>False</td>\n",
       "      <td>False</td>\n",
       "      <td>False</td>\n",
       "      <td>False</td>\n",
       "      <td>False</td>\n",
       "      <td>False</td>\n",
       "    </tr>\n",
       "  </tbody>\n",
       "</table>\n",
       "</div>"
      ],
      "text/plain": [
       "                                                       seq  is_motif  n_motif  \\\n",
       "name                                                                            \n",
       "5679840  AACACCAGTTTGGACAGTGCTCTGAAGGTGTTGTGTAGATATGCTT...      True        1   \n",
       "5681681  TAGAGACACACCCGTAATATACACAAATGGGCACACACATGCATGT...      True        1   \n",
       "5681680  ACATACACGGGCACACATGTACAGACACCCATAATATACACACATG...      True        1   \n",
       "5681679  ACATGTACAGACACACCCATAATATACACACATGGACACACATGTA...      True        1   \n",
       "5681678  CCATAATGTGCACACACAGGCACACACATGCATATACAGGCACACC...      True        1   \n",
       "5681647  GAACGAAATTTACGGGCCCACAGTTCTGGAGGCTGGAAAGTCCAAG...      True        1   \n",
       "5680898  AACACAGCCTTGATTATGGGTTACATGATCCATAGGTAAACCGTGA...      True        1   \n",
       "5681684  AATAATTAGATGAGCTGACGGTGCCGCAGCACATGGCATTTGTTAG...      True        1   \n",
       "5680836  CCTATGTCACGCATCGTGAGTGTACACAGAGCTTGGTGCCTGCACA...      True        1   \n",
       "5680834  TTCAAAAGCCTTCCTGCCCCTGCCAGATAACAGAATCTTAACTGCA...      True        1   \n",
       "5680716  TCCCTCGCCGCATGCACACTGCACACATTCTGGAGAACCCAGGAGC...      True        1   \n",
       "5680213  CTGGGGCTGTATTTTATTCAGAGACCTCAGAAAAATAACACACATG...      True        1   \n",
       "5679843  ACATGGACACACACATATGCATACACATGCATGCACGCACACACAC...      True        1   \n",
       "5681683  CACATACACACATGGGCACACATGCATGTATAGACACACCCATAAT...      True        2   \n",
       "5680851  CGTATATGCACAGGTCAGCATCCTTGCAGGCCCACGTGTACCTCAC...      True        2   \n",
       "5680799  GCTGCTGCTTGTCTGCAGGTGTCAGACATGCCAGCCTCCATGATTG...      True        2   \n",
       "5681682  TGGACACATGCATGTACAGACACACCCATAATATACACACATGGAC...      True        2   \n",
       "5680849  TGTGCGTCTGCATGTTTGTGCATCTGTGTGCATGTTTGTGCGTCTG...      True        3   \n",
       "5680844  TACGTCTGCATGTTTGTGCATCTGTGCATGGTTGTGCATCTGTGTG...      True        3   \n",
       "5680847  CATGTTTGTGTGTCTGTGTGCATGTTTGTGTATCTGCATGTTTGTG...      True        4   \n",
       "5680850  TGTCTGTGCATGTGTGTGCGTGTGCCCATGCGCAGGCTTATGTCTG...      True        4   \n",
       "5680848  CCTGTGCATGTTTGTGTCTCTGTGCATGTTTGTGCGTCTGTGTGCA...      True        4   \n",
       "5680845  TGCATGTTTGTGTGTGCATGTTTGTGCATCTGTGTGCATGTTTGTG...      True        5   \n",
       "5680846  TGCATCTGCATGTTTGTGCTTCTGTGCATGTTTGTGCGTCTGTGTG...      True        5   \n",
       "\n",
       "         max_saliency  logLR:K562_rep6.RBFOX2  rbp_idx  is_GCACG  is_GCUUG  \\\n",
       "name                                                                         \n",
       "5679840      6.770856                7.687904        0     False     False   \n",
       "5681681     14.521306               19.009739       51     False     False   \n",
       "5681680      8.339869               17.123624       50     False     False   \n",
       "5681679      9.937978               14.049841       49     False     False   \n",
       "5681678     11.775274               17.556363       48      True     False   \n",
       "5681647      4.005956                8.932297       45     False     False   \n",
       "5680898     45.845768                2.776091       36     False     False   \n",
       "5681684     10.926226                4.107711       54     False     False   \n",
       "5680836     27.426813               22.949096       13     False     False   \n",
       "5680834      3.890322               11.670308       11     False     False   \n",
       "5680716     10.145153               14.700870        5     False     False   \n",
       "5680213     10.075552                3.397599        3      True     False   \n",
       "5679843     22.346189                7.527637        1      True     False   \n",
       "5681683     13.176559               11.022742       53     False     False   \n",
       "5680851     11.337814               12.153031       25      True     False   \n",
       "5680799     32.655834                9.578946        7     False     False   \n",
       "5681682     11.865846               16.475937       52      True     False   \n",
       "5680849     15.699228               22.629847       23     False     False   \n",
       "5680844     22.347387               22.057348       18     False     False   \n",
       "5680847     32.437328               25.578180       21     False     False   \n",
       "5680850     11.947450               24.588403       24     False     False   \n",
       "5680848     21.116100               25.780856       22     False     False   \n",
       "5680845     14.286995               20.364983       19     False     False   \n",
       "5680846     14.694696               24.063398       20     False     False   \n",
       "\n",
       "         is_GAAUG  is_GUUUG  is_GUAUG  is_GUGUG  is_GCCUG  \n",
       "name                                                       \n",
       "5679840     False     False     False     False     False  \n",
       "5681681     False     False     False     False     False  \n",
       "5681680     False     False     False     False     False  \n",
       "5681679     False     False     False     False     False  \n",
       "5681678     False     False     False     False     False  \n",
       "5681647     False     False     False     False     False  \n",
       "5680898     False     False     False     False     False  \n",
       "5681684     False     False     False     False     False  \n",
       "5680836     False     False     False     False     False  \n",
       "5680834     False     False     False     False     False  \n",
       "5680716     False     False     False     False     False  \n",
       "5680213     False     False     False     False     False  \n",
       "5679843     False     False     False     False     False  \n",
       "5681683     False     False     False     False     False  \n",
       "5680851     False     False     False     False     False  \n",
       "5680799     False     False     False     False     False  \n",
       "5681682     False     False     False     False     False  \n",
       "5680849     False     False     False     False     False  \n",
       "5680844     False     False     False     False     False  \n",
       "5680847     False     False     False     False     False  \n",
       "5680850     False     False     False     False     False  \n",
       "5680848     False     False     False     False     False  \n",
       "5680845     False     False     False     False     False  \n",
       "5680846     False     False     False     False     False  "
      ]
     },
     "execution_count": 41,
     "metadata": {},
     "output_type": "execute_result"
    }
   ],
   "source": [
    "subset_seq_df.loc[(subset_seq_df['is_motif'])].sort_values(by = 'n_motif')"
   ]
  },
  {
   "cell_type": "code",
   "execution_count": 42,
   "id": "e64792ee",
   "metadata": {},
   "outputs": [
    {
     "data": {
      "text/html": [
       "<div>\n",
       "<style scoped>\n",
       "    .dataframe tbody tr th:only-of-type {\n",
       "        vertical-align: middle;\n",
       "    }\n",
       "\n",
       "    .dataframe tbody tr th {\n",
       "        vertical-align: top;\n",
       "    }\n",
       "\n",
       "    .dataframe thead th {\n",
       "        text-align: right;\n",
       "    }\n",
       "</style>\n",
       "<table border=\"1\" class=\"dataframe\">\n",
       "  <thead>\n",
       "    <tr style=\"text-align: right;\">\n",
       "      <th></th>\n",
       "      <th>seq</th>\n",
       "      <th>is_motif</th>\n",
       "      <th>n_motif</th>\n",
       "      <th>max_saliency</th>\n",
       "      <th>logLR:K562_rep6.RBFOX2</th>\n",
       "      <th>rbp_idx</th>\n",
       "      <th>is_GCACG</th>\n",
       "      <th>is_GCUUG</th>\n",
       "      <th>is_GAAUG</th>\n",
       "      <th>is_GUUUG</th>\n",
       "      <th>is_GUAUG</th>\n",
       "      <th>is_GUGUG</th>\n",
       "      <th>is_GCCUG</th>\n",
       "    </tr>\n",
       "    <tr>\n",
       "      <th>name</th>\n",
       "      <th></th>\n",
       "      <th></th>\n",
       "      <th></th>\n",
       "      <th></th>\n",
       "      <th></th>\n",
       "      <th></th>\n",
       "      <th></th>\n",
       "      <th></th>\n",
       "      <th></th>\n",
       "      <th></th>\n",
       "      <th></th>\n",
       "      <th></th>\n",
       "      <th></th>\n",
       "    </tr>\n",
       "  </thead>\n",
       "  <tbody>\n",
       "    <tr>\n",
       "      <th>5681865</th>\n",
       "      <td>TGCACCCCAGCCTCCCTGCTCCAGCCCAGTGCTGTTTGTTCTGTGA...</td>\n",
       "      <td>False</td>\n",
       "      <td>0</td>\n",
       "      <td>6.695062</td>\n",
       "      <td>6.917269</td>\n",
       "      <td>58</td>\n",
       "      <td>True</td>\n",
       "      <td>False</td>\n",
       "      <td>False</td>\n",
       "      <td>False</td>\n",
       "      <td>False</td>\n",
       "      <td>False</td>\n",
       "      <td>False</td>\n",
       "    </tr>\n",
       "  </tbody>\n",
       "</table>\n",
       "</div>"
      ],
      "text/plain": [
       "                                                       seq  is_motif  n_motif  \\\n",
       "name                                                                            \n",
       "5681865  TGCACCCCAGCCTCCCTGCTCCAGCCCAGTGCTGTTTGTTCTGTGA...     False        0   \n",
       "\n",
       "         max_saliency  logLR:K562_rep6.RBFOX2  rbp_idx  is_GCACG  is_GCUUG  \\\n",
       "name                                                                         \n",
       "5681865      6.695062                6.917269       58      True     False   \n",
       "\n",
       "         is_GAAUG  is_GUUUG  is_GUAUG  is_GUGUG  is_GCCUG  \n",
       "name                                                       \n",
       "5681865     False     False     False     False     False  "
      ]
     },
     "execution_count": 42,
     "metadata": {},
     "output_type": "execute_result"
    }
   ],
   "source": [
    "subset_seq_df.loc[(subset_seq_df['max_saliency']>5)&(~subset_seq_df['is_motif'])]"
   ]
  },
  {
   "cell_type": "code",
   "execution_count": 43,
   "id": "8bd28ce0",
   "metadata": {},
   "outputs": [],
   "source": [
    "import pyBigWig\n",
    "import numpy as np\n",
    "\n",
    "class strand_specific_wig:\n",
    "    def __init__(self, plus, minus):\n",
    "        self.plus = pyBigWig.open(plus)\n",
    "        self.minus = pyBigWig.open(minus)\n",
    "        \n",
    "    def fetch(self, chrom = None, start= None, end=None, strand= None, interval = None):\n",
    "        ''' return icSHAPE reacitivity for a bedtool interval or chrom, start, end, strand'''\n",
    "        if interval:\n",
    "            start = interval.start\n",
    "            end = interval.end\n",
    "            strand = interval.strand\n",
    "            chrom = interval.chrom\n",
    "        if strand == '-':\n",
    "            icshape_data = self.minus\n",
    "        else:\n",
    "            icshape_data = self.plus\n",
    "        values = icshape_data.values(chrom, start, end)\n",
    "        if strand == '-':\n",
    "            values = values[::-1]\n",
    "        return np.nan_to_num(np.array(values), 0)"
   ]
  },
  {
   "cell_type": "code",
   "execution_count": 44,
   "id": "17011fec",
   "metadata": {},
   "outputs": [],
   "source": [
    "rbp_wig_cits = strand_specific_wig(f'../data/CITS/{rbp}.pos.bw',\n",
    "                                 f'../data/CITS/{rbp}.neg.bw'\n",
    "                                 )\n",
    "rbp_wig_cov = strand_specific_wig(f'../data/COV/{rbp}.pos.bw',\n",
    "                             f'../data/COV/{rbp}.neg.bw'\n",
    "                             )"
   ]
  },
  {
   "cell_type": "code",
   "execution_count": 45,
   "id": "242b60de",
   "metadata": {},
   "outputs": [],
   "source": [
    "subset_seq_df = subset_seq_df.merge(megaoutput[['name','gene_name', 'feature_type_top', 'start']], left_index = True,\n",
    "                    right_on = 'name')"
   ]
  },
  {
   "cell_type": "code",
   "execution_count": 46,
   "id": "8bd5d49c",
   "metadata": {},
   "outputs": [
    {
     "name": "stderr",
     "output_type": "stream",
     "text": [
      "Unable to revert mtime: /opt/conda/fonts\n"
     ]
    }
   ],
   "source": [
    "import seaborn as sns\n",
    "import logomaker\n",
    "from scipy.ndimage import gaussian_filter1d\n",
    "\n",
    "def plot_saliency(index):\n",
    "    index2seq = 'ACGU'\n",
    "    \n",
    "\n",
    "    # find coverage\n",
    "    window_name = subset_seq_df.loc[subset_seq_df['rbp_idx']==index, 'name'].values[0]\n",
    "    row = megaoutput.loc[megaoutput['name']==window_name].iloc[0]\n",
    "    wig_values = rbp_wig_cov.fetch(row['chrom'], row['start'], row['end'], row['strand'])\n",
    "    wig_values_cits = rbp_wig_cits.fetch(row['chrom'], row['start'], row['end'], row['strand'])\n",
    "\n",
    "    seq_values = one_hot[index,:,:] # [1,4,100]\n",
    "    gradient_values = guided_saliency[index,0,:,:].cpu().numpy() # [1,1,100,4]\n",
    "    saliency_values = gradient_values * seq_values.T # 4*100\n",
    "    saliency_df = pd.DataFrame(saliency_values.T)\n",
    "    saliency_df.index = list(index2seq)\n",
    "\n",
    "    saliency_df = saliency_df.loc[:, seq_values.sum(axis = 0)!=0].T\n",
    "    saliency_df.index = np.arange(saliency_df.shape[0])\n",
    "\n",
    "    f, ax = plt.subplots(2,1, sharex = True, figsize = (12,4))\n",
    "    logomaker.Logo(saliency_df, # only plot places with sequence\n",
    "                              shade_below=.5,\n",
    "                              fade_below=.5,\n",
    "                              font_name='Arial Rounded MT Bold', \n",
    "                  ax = ax[0])\n",
    "\n",
    "\n",
    "    ax[0].set_ylabel('saliency')\n",
    "    ax[1].bar(np.arange(len(wig_values)), wig_values, color = 'lightgrey')\n",
    "    ax[1].set_ylabel('coverage')\n",
    "#     ax[2].bar(np.arange(len(wig_values_cits)), wig_values_cits, color = 'lightgrey')\n",
    "#     ax[2].plot(gaussian_filter1d(wig_values_cits, 3), color = 'tomato', label = 'smoothed CITS')\n",
    "#     ax[2].set_ylabel('#CITS')\n",
    "\n",
    "    ax[0].set_title(row['chrom'] + ':'+str(row['start'])+'-'+str(row['end'])+':'+row['strand'])\n",
    "    sns.despine()"
   ]
  },
  {
   "cell_type": "code",
   "execution_count": 47,
   "id": "b38d0c1d",
   "metadata": {},
   "outputs": [
    {
     "data": {
      "text/html": [
       "<div>\n",
       "<style scoped>\n",
       "    .dataframe tbody tr th:only-of-type {\n",
       "        vertical-align: middle;\n",
       "    }\n",
       "\n",
       "    .dataframe tbody tr th {\n",
       "        vertical-align: top;\n",
       "    }\n",
       "\n",
       "    .dataframe thead th {\n",
       "        text-align: right;\n",
       "    }\n",
       "</style>\n",
       "<table border=\"1\" class=\"dataframe\">\n",
       "  <thead>\n",
       "    <tr style=\"text-align: right;\">\n",
       "      <th></th>\n",
       "      <th>seq</th>\n",
       "      <th>is_motif</th>\n",
       "      <th>n_motif</th>\n",
       "      <th>max_saliency</th>\n",
       "      <th>logLR:K562_rep6.RBFOX2</th>\n",
       "      <th>rbp_idx</th>\n",
       "      <th>is_GCACG</th>\n",
       "      <th>is_GCUUG</th>\n",
       "      <th>is_GAAUG</th>\n",
       "      <th>is_GUUUG</th>\n",
       "      <th>is_GUAUG</th>\n",
       "      <th>is_GUGUG</th>\n",
       "      <th>is_GCCUG</th>\n",
       "      <th>name</th>\n",
       "      <th>gene_name</th>\n",
       "      <th>feature_type_top</th>\n",
       "      <th>start</th>\n",
       "    </tr>\n",
       "  </thead>\n",
       "  <tbody>\n",
       "    <tr>\n",
       "      <th>125456</th>\n",
       "      <td>AACACCAGTTTGGACAGTGCTCTGAAGGTGTTGTGTAGATATGCTT...</td>\n",
       "      <td>True</td>\n",
       "      <td>1</td>\n",
       "      <td>6.770856</td>\n",
       "      <td>7.687904</td>\n",
       "      <td>0</td>\n",
       "      <td>False</td>\n",
       "      <td>False</td>\n",
       "      <td>False</td>\n",
       "      <td>False</td>\n",
       "      <td>False</td>\n",
       "      <td>False</td>\n",
       "      <td>False</td>\n",
       "      <td>5679840</td>\n",
       "      <td>C22orf34</td>\n",
       "      <td>INTRON</td>\n",
       "      <td>49426806</td>\n",
       "    </tr>\n",
       "    <tr>\n",
       "      <th>125457</th>\n",
       "      <td>ACATGGACACACACATATGCATACACATGCATGCACGCACACACAC...</td>\n",
       "      <td>True</td>\n",
       "      <td>1</td>\n",
       "      <td>22.346189</td>\n",
       "      <td>7.527637</td>\n",
       "      <td>1</td>\n",
       "      <td>True</td>\n",
       "      <td>False</td>\n",
       "      <td>False</td>\n",
       "      <td>False</td>\n",
       "      <td>False</td>\n",
       "      <td>False</td>\n",
       "      <td>False</td>\n",
       "      <td>5679843</td>\n",
       "      <td>C22orf34</td>\n",
       "      <td>INTRON</td>\n",
       "      <td>49427105</td>\n",
       "    </tr>\n",
       "    <tr>\n",
       "      <th>125459</th>\n",
       "      <td>CCAGCCCCTCCCAGACAGCACTTGGCTCTCTAAGACACCTGCTCGG...</td>\n",
       "      <td>False</td>\n",
       "      <td>0</td>\n",
       "      <td>3.824937</td>\n",
       "      <td>12.997354</td>\n",
       "      <td>2</td>\n",
       "      <td>False</td>\n",
       "      <td>False</td>\n",
       "      <td>False</td>\n",
       "      <td>False</td>\n",
       "      <td>False</td>\n",
       "      <td>False</td>\n",
       "      <td>False</td>\n",
       "      <td>5680131</td>\n",
       "      <td>C22orf34</td>\n",
       "      <td>INTRON</td>\n",
       "      <td>49455811</td>\n",
       "    </tr>\n",
       "    <tr>\n",
       "      <th>125460</th>\n",
       "      <td>CTGGGGCTGTATTTTATTCAGAGACCTCAGAAAAATAACACACATG...</td>\n",
       "      <td>True</td>\n",
       "      <td>1</td>\n",
       "      <td>10.075552</td>\n",
       "      <td>3.397599</td>\n",
       "      <td>3</td>\n",
       "      <td>True</td>\n",
       "      <td>False</td>\n",
       "      <td>False</td>\n",
       "      <td>False</td>\n",
       "      <td>False</td>\n",
       "      <td>False</td>\n",
       "      <td>False</td>\n",
       "      <td>5680213</td>\n",
       "      <td>C22orf34</td>\n",
       "      <td>INTRON</td>\n",
       "      <td>49464011</td>\n",
       "    </tr>\n",
       "    <tr>\n",
       "      <th>125462</th>\n",
       "      <td>GGGGTAAAATCACAGGGGGTGGAAGCTGAGGTAGCTGGAAAATGGG...</td>\n",
       "      <td>False</td>\n",
       "      <td>0</td>\n",
       "      <td>2.267336</td>\n",
       "      <td>8.570732</td>\n",
       "      <td>4</td>\n",
       "      <td>False</td>\n",
       "      <td>False</td>\n",
       "      <td>False</td>\n",
       "      <td>False</td>\n",
       "      <td>False</td>\n",
       "      <td>False</td>\n",
       "      <td>False</td>\n",
       "      <td>5680710</td>\n",
       "      <td>C22orf34</td>\n",
       "      <td>INTRON</td>\n",
       "      <td>49513709</td>\n",
       "    </tr>\n",
       "    <tr>\n",
       "      <th>...</th>\n",
       "      <td>...</td>\n",
       "      <td>...</td>\n",
       "      <td>...</td>\n",
       "      <td>...</td>\n",
       "      <td>...</td>\n",
       "      <td>...</td>\n",
       "      <td>...</td>\n",
       "      <td>...</td>\n",
       "      <td>...</td>\n",
       "      <td>...</td>\n",
       "      <td>...</td>\n",
       "      <td>...</td>\n",
       "      <td>...</td>\n",
       "      <td>...</td>\n",
       "      <td>...</td>\n",
       "      <td>...</td>\n",
       "      <td>...</td>\n",
       "    </tr>\n",
       "    <tr>\n",
       "      <th>125563</th>\n",
       "      <td>AGCCCGGGGCCAGCTTCACAGCCGGACATCCAGACAGAGCCCTGTG...</td>\n",
       "      <td>False</td>\n",
       "      <td>0</td>\n",
       "      <td>0.667917</td>\n",
       "      <td>3.223329</td>\n",
       "      <td>68</td>\n",
       "      <td>False</td>\n",
       "      <td>False</td>\n",
       "      <td>False</td>\n",
       "      <td>False</td>\n",
       "      <td>False</td>\n",
       "      <td>False</td>\n",
       "      <td>False</td>\n",
       "      <td>5681941</td>\n",
       "      <td>C22orf34</td>\n",
       "      <td>INTRON</td>\n",
       "      <td>49636804</td>\n",
       "    </tr>\n",
       "    <tr>\n",
       "      <th>125565</th>\n",
       "      <td>GTTGGGTGGTGTTGGATGAGGCTGGGCTGATCATTCAGGGAGCTGA...</td>\n",
       "      <td>False</td>\n",
       "      <td>0</td>\n",
       "      <td>2.094129</td>\n",
       "      <td>2.869546</td>\n",
       "      <td>69</td>\n",
       "      <td>False</td>\n",
       "      <td>False</td>\n",
       "      <td>False</td>\n",
       "      <td>False</td>\n",
       "      <td>False</td>\n",
       "      <td>False</td>\n",
       "      <td>False</td>\n",
       "      <td>5681955</td>\n",
       "      <td>C22orf34</td>\n",
       "      <td>INTRON</td>\n",
       "      <td>49638204</td>\n",
       "    </tr>\n",
       "    <tr>\n",
       "      <th>125567</th>\n",
       "      <td>ACTCTGGGGGCTGGGGGCCCTGCACGTGGCTCACTCTGGGTAAGGA...</td>\n",
       "      <td>False</td>\n",
       "      <td>0</td>\n",
       "      <td>4.791893</td>\n",
       "      <td>5.687006</td>\n",
       "      <td>70</td>\n",
       "      <td>True</td>\n",
       "      <td>False</td>\n",
       "      <td>False</td>\n",
       "      <td>False</td>\n",
       "      <td>False</td>\n",
       "      <td>False</td>\n",
       "      <td>False</td>\n",
       "      <td>5681972</td>\n",
       "      <td>C22orf34</td>\n",
       "      <td>INTRON</td>\n",
       "      <td>49639904</td>\n",
       "    </tr>\n",
       "    <tr>\n",
       "      <th>125568</th>\n",
       "      <td>TCCTGTGTTGGCTCAGTGGCAGTCTCCACGCTGTGTCCTAGAGGGT...</td>\n",
       "      <td>False</td>\n",
       "      <td>0</td>\n",
       "      <td>1.897733</td>\n",
       "      <td>3.223329</td>\n",
       "      <td>71</td>\n",
       "      <td>False</td>\n",
       "      <td>False</td>\n",
       "      <td>False</td>\n",
       "      <td>False</td>\n",
       "      <td>False</td>\n",
       "      <td>False</td>\n",
       "      <td>False</td>\n",
       "      <td>5681977</td>\n",
       "      <td>C22orf34</td>\n",
       "      <td>INTRON</td>\n",
       "      <td>49640404</td>\n",
       "    </tr>\n",
       "    <tr>\n",
       "      <th>125571</th>\n",
       "      <td>GCGCGGCCAGCTGGGTTCAGAACCACAGCTGAGGGGTGGGTGGGGC...</td>\n",
       "      <td>False</td>\n",
       "      <td>0</td>\n",
       "      <td>0.441016</td>\n",
       "      <td>2.869546</td>\n",
       "      <td>72</td>\n",
       "      <td>False</td>\n",
       "      <td>False</td>\n",
       "      <td>False</td>\n",
       "      <td>False</td>\n",
       "      <td>False</td>\n",
       "      <td>False</td>\n",
       "      <td>False</td>\n",
       "      <td>5682001</td>\n",
       "      <td>C22orf34</td>\n",
       "      <td>INTRON</td>\n",
       "      <td>49642804</td>\n",
       "    </tr>\n",
       "  </tbody>\n",
       "</table>\n",
       "<p>73 rows × 17 columns</p>\n",
       "</div>"
      ],
      "text/plain": [
       "                                                      seq  is_motif  n_motif  \\\n",
       "125456  AACACCAGTTTGGACAGTGCTCTGAAGGTGTTGTGTAGATATGCTT...      True        1   \n",
       "125457  ACATGGACACACACATATGCATACACATGCATGCACGCACACACAC...      True        1   \n",
       "125459  CCAGCCCCTCCCAGACAGCACTTGGCTCTCTAAGACACCTGCTCGG...     False        0   \n",
       "125460  CTGGGGCTGTATTTTATTCAGAGACCTCAGAAAAATAACACACATG...      True        1   \n",
       "125462  GGGGTAAAATCACAGGGGGTGGAAGCTGAGGTAGCTGGAAAATGGG...     False        0   \n",
       "...                                                   ...       ...      ...   \n",
       "125563  AGCCCGGGGCCAGCTTCACAGCCGGACATCCAGACAGAGCCCTGTG...     False        0   \n",
       "125565  GTTGGGTGGTGTTGGATGAGGCTGGGCTGATCATTCAGGGAGCTGA...     False        0   \n",
       "125567  ACTCTGGGGGCTGGGGGCCCTGCACGTGGCTCACTCTGGGTAAGGA...     False        0   \n",
       "125568  TCCTGTGTTGGCTCAGTGGCAGTCTCCACGCTGTGTCCTAGAGGGT...     False        0   \n",
       "125571  GCGCGGCCAGCTGGGTTCAGAACCACAGCTGAGGGGTGGGTGGGGC...     False        0   \n",
       "\n",
       "        max_saliency  logLR:K562_rep6.RBFOX2  rbp_idx  is_GCACG  is_GCUUG  \\\n",
       "125456      6.770856                7.687904        0     False     False   \n",
       "125457     22.346189                7.527637        1      True     False   \n",
       "125459      3.824937               12.997354        2     False     False   \n",
       "125460     10.075552                3.397599        3      True     False   \n",
       "125462      2.267336                8.570732        4     False     False   \n",
       "...              ...                     ...      ...       ...       ...   \n",
       "125563      0.667917                3.223329       68     False     False   \n",
       "125565      2.094129                2.869546       69     False     False   \n",
       "125567      4.791893                5.687006       70      True     False   \n",
       "125568      1.897733                3.223329       71     False     False   \n",
       "125571      0.441016                2.869546       72     False     False   \n",
       "\n",
       "        is_GAAUG  is_GUUUG  is_GUAUG  is_GUGUG  is_GCCUG     name gene_name  \\\n",
       "125456     False     False     False     False     False  5679840  C22orf34   \n",
       "125457     False     False     False     False     False  5679843  C22orf34   \n",
       "125459     False     False     False     False     False  5680131  C22orf34   \n",
       "125460     False     False     False     False     False  5680213  C22orf34   \n",
       "125462     False     False     False     False     False  5680710  C22orf34   \n",
       "...          ...       ...       ...       ...       ...      ...       ...   \n",
       "125563     False     False     False     False     False  5681941  C22orf34   \n",
       "125565     False     False     False     False     False  5681955  C22orf34   \n",
       "125567     False     False     False     False     False  5681972  C22orf34   \n",
       "125568     False     False     False     False     False  5681977  C22orf34   \n",
       "125571     False     False     False     False     False  5682001  C22orf34   \n",
       "\n",
       "       feature_type_top     start  \n",
       "125456           INTRON  49426806  \n",
       "125457           INTRON  49427105  \n",
       "125459           INTRON  49455811  \n",
       "125460           INTRON  49464011  \n",
       "125462           INTRON  49513709  \n",
       "...                 ...       ...  \n",
       "125563           INTRON  49636804  \n",
       "125565           INTRON  49638204  \n",
       "125567           INTRON  49639904  \n",
       "125568           INTRON  49640404  \n",
       "125571           INTRON  49642804  \n",
       "\n",
       "[73 rows x 17 columns]"
      ]
     },
     "execution_count": 47,
     "metadata": {},
     "output_type": "execute_result"
    }
   ],
   "source": [
    "subset_seq_df"
   ]
  },
  {
   "cell_type": "code",
   "execution_count": 48,
   "id": "2c285249",
   "metadata": {},
   "outputs": [
    {
     "data": {
      "text/plain": [
       "C22orf34    73\n",
       "Name: gene_name, dtype: int64"
      ]
     },
     "execution_count": 48,
     "metadata": {},
     "output_type": "execute_result"
    }
   ],
   "source": [
    "subset_seq_df['gene_name'].value_counts()"
   ]
  },
  {
   "cell_type": "code",
   "execution_count": 49,
   "id": "54aac750",
   "metadata": {},
   "outputs": [
    {
     "data": {
      "text/html": [
       "<div>\n",
       "<style scoped>\n",
       "    .dataframe tbody tr th:only-of-type {\n",
       "        vertical-align: middle;\n",
       "    }\n",
       "\n",
       "    .dataframe tbody tr th {\n",
       "        vertical-align: top;\n",
       "    }\n",
       "\n",
       "    .dataframe thead th {\n",
       "        text-align: right;\n",
       "    }\n",
       "</style>\n",
       "<table border=\"1\" class=\"dataframe\">\n",
       "  <thead>\n",
       "    <tr style=\"text-align: right;\">\n",
       "      <th></th>\n",
       "      <th>seq</th>\n",
       "      <th>is_motif</th>\n",
       "      <th>n_motif</th>\n",
       "      <th>max_saliency</th>\n",
       "      <th>logLR:K562_rep6.RBFOX2</th>\n",
       "      <th>rbp_idx</th>\n",
       "      <th>is_GCACG</th>\n",
       "      <th>is_GCUUG</th>\n",
       "      <th>is_GAAUG</th>\n",
       "      <th>is_GUUUG</th>\n",
       "      <th>is_GUAUG</th>\n",
       "      <th>is_GUGUG</th>\n",
       "      <th>is_GCCUG</th>\n",
       "      <th>name</th>\n",
       "      <th>gene_name</th>\n",
       "      <th>feature_type_top</th>\n",
       "      <th>start</th>\n",
       "    </tr>\n",
       "  </thead>\n",
       "  <tbody>\n",
       "    <tr>\n",
       "      <th>125456</th>\n",
       "      <td>AACACCAGTTTGGACAGTGCTCTGAAGGTGTTGTGTAGATATGCTT...</td>\n",
       "      <td>True</td>\n",
       "      <td>1</td>\n",
       "      <td>6.770856</td>\n",
       "      <td>7.687904</td>\n",
       "      <td>0</td>\n",
       "      <td>False</td>\n",
       "      <td>False</td>\n",
       "      <td>False</td>\n",
       "      <td>False</td>\n",
       "      <td>False</td>\n",
       "      <td>False</td>\n",
       "      <td>False</td>\n",
       "      <td>5679840</td>\n",
       "      <td>C22orf34</td>\n",
       "      <td>INTRON</td>\n",
       "      <td>49426806</td>\n",
       "    </tr>\n",
       "    <tr>\n",
       "      <th>125457</th>\n",
       "      <td>ACATGGACACACACATATGCATACACATGCATGCACGCACACACAC...</td>\n",
       "      <td>True</td>\n",
       "      <td>1</td>\n",
       "      <td>22.346189</td>\n",
       "      <td>7.527637</td>\n",
       "      <td>1</td>\n",
       "      <td>True</td>\n",
       "      <td>False</td>\n",
       "      <td>False</td>\n",
       "      <td>False</td>\n",
       "      <td>False</td>\n",
       "      <td>False</td>\n",
       "      <td>False</td>\n",
       "      <td>5679843</td>\n",
       "      <td>C22orf34</td>\n",
       "      <td>INTRON</td>\n",
       "      <td>49427105</td>\n",
       "    </tr>\n",
       "    <tr>\n",
       "      <th>125459</th>\n",
       "      <td>CCAGCCCCTCCCAGACAGCACTTGGCTCTCTAAGACACCTGCTCGG...</td>\n",
       "      <td>False</td>\n",
       "      <td>0</td>\n",
       "      <td>3.824937</td>\n",
       "      <td>12.997354</td>\n",
       "      <td>2</td>\n",
       "      <td>False</td>\n",
       "      <td>False</td>\n",
       "      <td>False</td>\n",
       "      <td>False</td>\n",
       "      <td>False</td>\n",
       "      <td>False</td>\n",
       "      <td>False</td>\n",
       "      <td>5680131</td>\n",
       "      <td>C22orf34</td>\n",
       "      <td>INTRON</td>\n",
       "      <td>49455811</td>\n",
       "    </tr>\n",
       "    <tr>\n",
       "      <th>125460</th>\n",
       "      <td>CTGGGGCTGTATTTTATTCAGAGACCTCAGAAAAATAACACACATG...</td>\n",
       "      <td>True</td>\n",
       "      <td>1</td>\n",
       "      <td>10.075552</td>\n",
       "      <td>3.397599</td>\n",
       "      <td>3</td>\n",
       "      <td>True</td>\n",
       "      <td>False</td>\n",
       "      <td>False</td>\n",
       "      <td>False</td>\n",
       "      <td>False</td>\n",
       "      <td>False</td>\n",
       "      <td>False</td>\n",
       "      <td>5680213</td>\n",
       "      <td>C22orf34</td>\n",
       "      <td>INTRON</td>\n",
       "      <td>49464011</td>\n",
       "    </tr>\n",
       "    <tr>\n",
       "      <th>125462</th>\n",
       "      <td>GGGGTAAAATCACAGGGGGTGGAAGCTGAGGTAGCTGGAAAATGGG...</td>\n",
       "      <td>False</td>\n",
       "      <td>0</td>\n",
       "      <td>2.267336</td>\n",
       "      <td>8.570732</td>\n",
       "      <td>4</td>\n",
       "      <td>False</td>\n",
       "      <td>False</td>\n",
       "      <td>False</td>\n",
       "      <td>False</td>\n",
       "      <td>False</td>\n",
       "      <td>False</td>\n",
       "      <td>False</td>\n",
       "      <td>5680710</td>\n",
       "      <td>C22orf34</td>\n",
       "      <td>INTRON</td>\n",
       "      <td>49513709</td>\n",
       "    </tr>\n",
       "    <tr>\n",
       "      <th>...</th>\n",
       "      <td>...</td>\n",
       "      <td>...</td>\n",
       "      <td>...</td>\n",
       "      <td>...</td>\n",
       "      <td>...</td>\n",
       "      <td>...</td>\n",
       "      <td>...</td>\n",
       "      <td>...</td>\n",
       "      <td>...</td>\n",
       "      <td>...</td>\n",
       "      <td>...</td>\n",
       "      <td>...</td>\n",
       "      <td>...</td>\n",
       "      <td>...</td>\n",
       "      <td>...</td>\n",
       "      <td>...</td>\n",
       "      <td>...</td>\n",
       "    </tr>\n",
       "    <tr>\n",
       "      <th>125563</th>\n",
       "      <td>AGCCCGGGGCCAGCTTCACAGCCGGACATCCAGACAGAGCCCTGTG...</td>\n",
       "      <td>False</td>\n",
       "      <td>0</td>\n",
       "      <td>0.667917</td>\n",
       "      <td>3.223329</td>\n",
       "      <td>68</td>\n",
       "      <td>False</td>\n",
       "      <td>False</td>\n",
       "      <td>False</td>\n",
       "      <td>False</td>\n",
       "      <td>False</td>\n",
       "      <td>False</td>\n",
       "      <td>False</td>\n",
       "      <td>5681941</td>\n",
       "      <td>C22orf34</td>\n",
       "      <td>INTRON</td>\n",
       "      <td>49636804</td>\n",
       "    </tr>\n",
       "    <tr>\n",
       "      <th>125565</th>\n",
       "      <td>GTTGGGTGGTGTTGGATGAGGCTGGGCTGATCATTCAGGGAGCTGA...</td>\n",
       "      <td>False</td>\n",
       "      <td>0</td>\n",
       "      <td>2.094129</td>\n",
       "      <td>2.869546</td>\n",
       "      <td>69</td>\n",
       "      <td>False</td>\n",
       "      <td>False</td>\n",
       "      <td>False</td>\n",
       "      <td>False</td>\n",
       "      <td>False</td>\n",
       "      <td>False</td>\n",
       "      <td>False</td>\n",
       "      <td>5681955</td>\n",
       "      <td>C22orf34</td>\n",
       "      <td>INTRON</td>\n",
       "      <td>49638204</td>\n",
       "    </tr>\n",
       "    <tr>\n",
       "      <th>125567</th>\n",
       "      <td>ACTCTGGGGGCTGGGGGCCCTGCACGTGGCTCACTCTGGGTAAGGA...</td>\n",
       "      <td>False</td>\n",
       "      <td>0</td>\n",
       "      <td>4.791893</td>\n",
       "      <td>5.687006</td>\n",
       "      <td>70</td>\n",
       "      <td>True</td>\n",
       "      <td>False</td>\n",
       "      <td>False</td>\n",
       "      <td>False</td>\n",
       "      <td>False</td>\n",
       "      <td>False</td>\n",
       "      <td>False</td>\n",
       "      <td>5681972</td>\n",
       "      <td>C22orf34</td>\n",
       "      <td>INTRON</td>\n",
       "      <td>49639904</td>\n",
       "    </tr>\n",
       "    <tr>\n",
       "      <th>125568</th>\n",
       "      <td>TCCTGTGTTGGCTCAGTGGCAGTCTCCACGCTGTGTCCTAGAGGGT...</td>\n",
       "      <td>False</td>\n",
       "      <td>0</td>\n",
       "      <td>1.897733</td>\n",
       "      <td>3.223329</td>\n",
       "      <td>71</td>\n",
       "      <td>False</td>\n",
       "      <td>False</td>\n",
       "      <td>False</td>\n",
       "      <td>False</td>\n",
       "      <td>False</td>\n",
       "      <td>False</td>\n",
       "      <td>False</td>\n",
       "      <td>5681977</td>\n",
       "      <td>C22orf34</td>\n",
       "      <td>INTRON</td>\n",
       "      <td>49640404</td>\n",
       "    </tr>\n",
       "    <tr>\n",
       "      <th>125571</th>\n",
       "      <td>GCGCGGCCAGCTGGGTTCAGAACCACAGCTGAGGGGTGGGTGGGGC...</td>\n",
       "      <td>False</td>\n",
       "      <td>0</td>\n",
       "      <td>0.441016</td>\n",
       "      <td>2.869546</td>\n",
       "      <td>72</td>\n",
       "      <td>False</td>\n",
       "      <td>False</td>\n",
       "      <td>False</td>\n",
       "      <td>False</td>\n",
       "      <td>False</td>\n",
       "      <td>False</td>\n",
       "      <td>False</td>\n",
       "      <td>5682001</td>\n",
       "      <td>C22orf34</td>\n",
       "      <td>INTRON</td>\n",
       "      <td>49642804</td>\n",
       "    </tr>\n",
       "  </tbody>\n",
       "</table>\n",
       "<p>73 rows × 17 columns</p>\n",
       "</div>"
      ],
      "text/plain": [
       "                                                      seq  is_motif  n_motif  \\\n",
       "125456  AACACCAGTTTGGACAGTGCTCTGAAGGTGTTGTGTAGATATGCTT...      True        1   \n",
       "125457  ACATGGACACACACATATGCATACACATGCATGCACGCACACACAC...      True        1   \n",
       "125459  CCAGCCCCTCCCAGACAGCACTTGGCTCTCTAAGACACCTGCTCGG...     False        0   \n",
       "125460  CTGGGGCTGTATTTTATTCAGAGACCTCAGAAAAATAACACACATG...      True        1   \n",
       "125462  GGGGTAAAATCACAGGGGGTGGAAGCTGAGGTAGCTGGAAAATGGG...     False        0   \n",
       "...                                                   ...       ...      ...   \n",
       "125563  AGCCCGGGGCCAGCTTCACAGCCGGACATCCAGACAGAGCCCTGTG...     False        0   \n",
       "125565  GTTGGGTGGTGTTGGATGAGGCTGGGCTGATCATTCAGGGAGCTGA...     False        0   \n",
       "125567  ACTCTGGGGGCTGGGGGCCCTGCACGTGGCTCACTCTGGGTAAGGA...     False        0   \n",
       "125568  TCCTGTGTTGGCTCAGTGGCAGTCTCCACGCTGTGTCCTAGAGGGT...     False        0   \n",
       "125571  GCGCGGCCAGCTGGGTTCAGAACCACAGCTGAGGGGTGGGTGGGGC...     False        0   \n",
       "\n",
       "        max_saliency  logLR:K562_rep6.RBFOX2  rbp_idx  is_GCACG  is_GCUUG  \\\n",
       "125456      6.770856                7.687904        0     False     False   \n",
       "125457     22.346189                7.527637        1      True     False   \n",
       "125459      3.824937               12.997354        2     False     False   \n",
       "125460     10.075552                3.397599        3      True     False   \n",
       "125462      2.267336                8.570732        4     False     False   \n",
       "...              ...                     ...      ...       ...       ...   \n",
       "125563      0.667917                3.223329       68     False     False   \n",
       "125565      2.094129                2.869546       69     False     False   \n",
       "125567      4.791893                5.687006       70      True     False   \n",
       "125568      1.897733                3.223329       71     False     False   \n",
       "125571      0.441016                2.869546       72     False     False   \n",
       "\n",
       "        is_GAAUG  is_GUUUG  is_GUAUG  is_GUGUG  is_GCCUG     name gene_name  \\\n",
       "125456     False     False     False     False     False  5679840  C22orf34   \n",
       "125457     False     False     False     False     False  5679843  C22orf34   \n",
       "125459     False     False     False     False     False  5680131  C22orf34   \n",
       "125460     False     False     False     False     False  5680213  C22orf34   \n",
       "125462     False     False     False     False     False  5680710  C22orf34   \n",
       "...          ...       ...       ...       ...       ...      ...       ...   \n",
       "125563     False     False     False     False     False  5681941  C22orf34   \n",
       "125565     False     False     False     False     False  5681955  C22orf34   \n",
       "125567     False     False     False     False     False  5681972  C22orf34   \n",
       "125568     False     False     False     False     False  5681977  C22orf34   \n",
       "125571     False     False     False     False     False  5682001  C22orf34   \n",
       "\n",
       "       feature_type_top     start  \n",
       "125456           INTRON  49426806  \n",
       "125457           INTRON  49427105  \n",
       "125459           INTRON  49455811  \n",
       "125460           INTRON  49464011  \n",
       "125462           INTRON  49513709  \n",
       "...                 ...       ...  \n",
       "125563           INTRON  49636804  \n",
       "125565           INTRON  49638204  \n",
       "125567           INTRON  49639904  \n",
       "125568           INTRON  49640404  \n",
       "125571           INTRON  49642804  \n",
       "\n",
       "[73 rows x 17 columns]"
      ]
     },
     "execution_count": 49,
     "metadata": {},
     "output_type": "execute_result"
    }
   ],
   "source": [
    "subset_seq_df.loc[subset_seq_df['gene_name']=='C22orf34']"
   ]
  },
  {
   "cell_type": "code",
   "execution_count": 50,
   "id": "7554ef2d",
   "metadata": {},
   "outputs": [
    {
     "data": {
      "text/plain": [
       "INTRON    73\n",
       "Name: feature_type_top, dtype: int64"
      ]
     },
     "execution_count": 50,
     "metadata": {},
     "output_type": "execute_result"
    }
   ],
   "source": [
    "subset_seq_df['feature_type_top'].value_counts()"
   ]
  },
  {
   "cell_type": "code",
   "execution_count": 51,
   "id": "f6d5ab33",
   "metadata": {},
   "outputs": [
    {
     "data": {
      "text/plain": [
       "<AxesSubplot:xlabel='start', ylabel='logLR:K562_rep6.RBFOX2'>"
      ]
     },
     "execution_count": 51,
     "metadata": {},
     "output_type": "execute_result"
    },
    {
     "data": {
      "image/png": "[encoded data removed]",
      "text/plain": [
       "<Figure size 432x288 with 1 Axes>"
      ]
     },
     "metadata": {
      "needs_background": "light"
     },
     "output_type": "display_data"
    }
   ],
   "source": [
    "subset_seq_df.plot.scatter(x = 'start', y = f'logLR:{outstem}.RBFOX2')"
   ]
  },
  {
   "cell_type": "code",
   "execution_count": 52,
   "id": "db997ea9",
   "metadata": {},
   "outputs": [
    {
     "data": {
      "text/html": [
       "<div>\n",
       "<style scoped>\n",
       "    .dataframe tbody tr th:only-of-type {\n",
       "        vertical-align: middle;\n",
       "    }\n",
       "\n",
       "    .dataframe tbody tr th {\n",
       "        vertical-align: top;\n",
       "    }\n",
       "\n",
       "    .dataframe thead th {\n",
       "        text-align: right;\n",
       "    }\n",
       "</style>\n",
       "<table border=\"1\" class=\"dataframe\">\n",
       "  <thead>\n",
       "    <tr style=\"text-align: right;\">\n",
       "      <th></th>\n",
       "      <th>seq</th>\n",
       "      <th>is_motif</th>\n",
       "      <th>n_motif</th>\n",
       "      <th>max_saliency</th>\n",
       "      <th>logLR:K562_rep6.RBFOX2</th>\n",
       "      <th>rbp_idx</th>\n",
       "      <th>is_GCACG</th>\n",
       "      <th>is_GCUUG</th>\n",
       "      <th>is_GAAUG</th>\n",
       "      <th>is_GUUUG</th>\n",
       "      <th>is_GUAUG</th>\n",
       "      <th>is_GUGUG</th>\n",
       "      <th>is_GCCUG</th>\n",
       "      <th>name</th>\n",
       "      <th>gene_name</th>\n",
       "      <th>feature_type_top</th>\n",
       "      <th>start</th>\n",
       "    </tr>\n",
       "  </thead>\n",
       "  <tbody>\n",
       "    <tr>\n",
       "      <th>125545</th>\n",
       "      <td>CCCCTGAGTTCCCTGGCAGGGATGACCCATGTTCCTGGGCGGTGCC...</td>\n",
       "      <td>False</td>\n",
       "      <td>0</td>\n",
       "      <td>2.470832</td>\n",
       "      <td>2.102203</td>\n",
       "      <td>57</td>\n",
       "      <td>False</td>\n",
       "      <td>False</td>\n",
       "      <td>False</td>\n",
       "      <td>False</td>\n",
       "      <td>False</td>\n",
       "      <td>False</td>\n",
       "      <td>False</td>\n",
       "      <td>5681849</td>\n",
       "      <td>C22orf34</td>\n",
       "      <td>INTRON</td>\n",
       "      <td>49627605</td>\n",
       "    </tr>\n",
       "    <tr>\n",
       "      <th>125515</th>\n",
       "      <td>GGATTTCCTCCTGAAGATGCATTGTGCCTTCAGTGGGGAAGCTAGG...</td>\n",
       "      <td>False</td>\n",
       "      <td>0</td>\n",
       "      <td>4.132022</td>\n",
       "      <td>2.418185</td>\n",
       "      <td>43</td>\n",
       "      <td>False</td>\n",
       "      <td>False</td>\n",
       "      <td>False</td>\n",
       "      <td>False</td>\n",
       "      <td>False</td>\n",
       "      <td>False</td>\n",
       "      <td>False</td>\n",
       "      <td>5681510</td>\n",
       "      <td>C22orf34</td>\n",
       "      <td>INTRON</td>\n",
       "      <td>49593706</td>\n",
       "    </tr>\n",
       "    <tr>\n",
       "      <th>125511</th>\n",
       "      <td>GGAGTCTCGGCTGTGCTGCTTGTCACCTTTAAACAGTCTGGACACT...</td>\n",
       "      <td>False</td>\n",
       "      <td>0</td>\n",
       "      <td>2.652842</td>\n",
       "      <td>2.418185</td>\n",
       "      <td>40</td>\n",
       "      <td>False</td>\n",
       "      <td>False</td>\n",
       "      <td>False</td>\n",
       "      <td>False</td>\n",
       "      <td>False</td>\n",
       "      <td>False</td>\n",
       "      <td>False</td>\n",
       "      <td>5681410</td>\n",
       "      <td>C22orf34</td>\n",
       "      <td>INTRON</td>\n",
       "      <td>49583706</td>\n",
       "    </tr>\n",
       "    <tr>\n",
       "      <th>125508</th>\n",
       "      <td>GTCACAGTCTGCAAAACATTTAGGATCCTAAACATAAGAGAAAAAG...</td>\n",
       "      <td>False</td>\n",
       "      <td>0</td>\n",
       "      <td>0.157365</td>\n",
       "      <td>2.418185</td>\n",
       "      <td>39</td>\n",
       "      <td>False</td>\n",
       "      <td>False</td>\n",
       "      <td>False</td>\n",
       "      <td>False</td>\n",
       "      <td>False</td>\n",
       "      <td>False</td>\n",
       "      <td>False</td>\n",
       "      <td>5681344</td>\n",
       "      <td>C22orf34</td>\n",
       "      <td>INTRON</td>\n",
       "      <td>49577106</td>\n",
       "    </tr>\n",
       "    <tr>\n",
       "      <th>125506</th>\n",
       "      <td>ACAGGCCTGGTCCTGGGGAAAGAGCGCAGCCCTCAGCACAGTCCTT...</td>\n",
       "      <td>False</td>\n",
       "      <td>0</td>\n",
       "      <td>0.617674</td>\n",
       "      <td>2.418185</td>\n",
       "      <td>38</td>\n",
       "      <td>False</td>\n",
       "      <td>False</td>\n",
       "      <td>False</td>\n",
       "      <td>False</td>\n",
       "      <td>False</td>\n",
       "      <td>False</td>\n",
       "      <td>False</td>\n",
       "      <td>5681331</td>\n",
       "      <td>C22orf34</td>\n",
       "      <td>INTRON</td>\n",
       "      <td>49575807</td>\n",
       "    </tr>\n",
       "    <tr>\n",
       "      <th>...</th>\n",
       "      <td>...</td>\n",
       "      <td>...</td>\n",
       "      <td>...</td>\n",
       "      <td>...</td>\n",
       "      <td>...</td>\n",
       "      <td>...</td>\n",
       "      <td>...</td>\n",
       "      <td>...</td>\n",
       "      <td>...</td>\n",
       "      <td>...</td>\n",
       "      <td>...</td>\n",
       "      <td>...</td>\n",
       "      <td>...</td>\n",
       "      <td>...</td>\n",
       "      <td>...</td>\n",
       "      <td>...</td>\n",
       "      <td>...</td>\n",
       "    </tr>\n",
       "    <tr>\n",
       "      <th>125474</th>\n",
       "      <td>CCTATGTCACGCATCGTGAGTGTACACAGAGCTTGGTGCCTGCACA...</td>\n",
       "      <td>True</td>\n",
       "      <td>1</td>\n",
       "      <td>27.426813</td>\n",
       "      <td>22.949096</td>\n",
       "      <td>13</td>\n",
       "      <td>False</td>\n",
       "      <td>False</td>\n",
       "      <td>False</td>\n",
       "      <td>False</td>\n",
       "      <td>False</td>\n",
       "      <td>False</td>\n",
       "      <td>False</td>\n",
       "      <td>5680836</td>\n",
       "      <td>C22orf34</td>\n",
       "      <td>INTRON</td>\n",
       "      <td>49526308</td>\n",
       "    </tr>\n",
       "    <tr>\n",
       "      <th>125481</th>\n",
       "      <td>TGCATCTGCATGTTTGTGCTTCTGTGCATGTTTGTGCGTCTGTGTG...</td>\n",
       "      <td>True</td>\n",
       "      <td>5</td>\n",
       "      <td>14.694696</td>\n",
       "      <td>24.063398</td>\n",
       "      <td>20</td>\n",
       "      <td>False</td>\n",
       "      <td>False</td>\n",
       "      <td>False</td>\n",
       "      <td>False</td>\n",
       "      <td>False</td>\n",
       "      <td>False</td>\n",
       "      <td>False</td>\n",
       "      <td>5680846</td>\n",
       "      <td>C22orf34</td>\n",
       "      <td>INTRON</td>\n",
       "      <td>49527308</td>\n",
       "    </tr>\n",
       "    <tr>\n",
       "      <th>125485</th>\n",
       "      <td>TGTCTGTGCATGTGTGTGCGTGTGCCCATGCGCAGGCTTATGTCTG...</td>\n",
       "      <td>True</td>\n",
       "      <td>4</td>\n",
       "      <td>11.947450</td>\n",
       "      <td>24.588403</td>\n",
       "      <td>24</td>\n",
       "      <td>False</td>\n",
       "      <td>False</td>\n",
       "      <td>False</td>\n",
       "      <td>False</td>\n",
       "      <td>False</td>\n",
       "      <td>False</td>\n",
       "      <td>False</td>\n",
       "      <td>5680850</td>\n",
       "      <td>C22orf34</td>\n",
       "      <td>INTRON</td>\n",
       "      <td>49527708</td>\n",
       "    </tr>\n",
       "    <tr>\n",
       "      <th>125482</th>\n",
       "      <td>CATGTTTGTGTGTCTGTGTGCATGTTTGTGTATCTGCATGTTTGTG...</td>\n",
       "      <td>True</td>\n",
       "      <td>4</td>\n",
       "      <td>32.437328</td>\n",
       "      <td>25.578180</td>\n",
       "      <td>21</td>\n",
       "      <td>False</td>\n",
       "      <td>False</td>\n",
       "      <td>False</td>\n",
       "      <td>False</td>\n",
       "      <td>False</td>\n",
       "      <td>False</td>\n",
       "      <td>False</td>\n",
       "      <td>5680847</td>\n",
       "      <td>C22orf34</td>\n",
       "      <td>INTRON</td>\n",
       "      <td>49527408</td>\n",
       "    </tr>\n",
       "    <tr>\n",
       "      <th>125483</th>\n",
       "      <td>CCTGTGCATGTTTGTGTCTCTGTGCATGTTTGTGCGTCTGTGTGCA...</td>\n",
       "      <td>True</td>\n",
       "      <td>4</td>\n",
       "      <td>21.116100</td>\n",
       "      <td>25.780856</td>\n",
       "      <td>22</td>\n",
       "      <td>False</td>\n",
       "      <td>False</td>\n",
       "      <td>False</td>\n",
       "      <td>False</td>\n",
       "      <td>False</td>\n",
       "      <td>False</td>\n",
       "      <td>False</td>\n",
       "      <td>5680848</td>\n",
       "      <td>C22orf34</td>\n",
       "      <td>INTRON</td>\n",
       "      <td>49527508</td>\n",
       "    </tr>\n",
       "  </tbody>\n",
       "</table>\n",
       "<p>73 rows × 17 columns</p>\n",
       "</div>"
      ],
      "text/plain": [
       "                                                      seq  is_motif  n_motif  \\\n",
       "125545  CCCCTGAGTTCCCTGGCAGGGATGACCCATGTTCCTGGGCGGTGCC...     False        0   \n",
       "125515  GGATTTCCTCCTGAAGATGCATTGTGCCTTCAGTGGGGAAGCTAGG...     False        0   \n",
       "125511  GGAGTCTCGGCTGTGCTGCTTGTCACCTTTAAACAGTCTGGACACT...     False        0   \n",
       "125508  GTCACAGTCTGCAAAACATTTAGGATCCTAAACATAAGAGAAAAAG...     False        0   \n",
       "125506  ACAGGCCTGGTCCTGGGGAAAGAGCGCAGCCCTCAGCACAGTCCTT...     False        0   \n",
       "...                                                   ...       ...      ...   \n",
       "125474  CCTATGTCACGCATCGTGAGTGTACACAGAGCTTGGTGCCTGCACA...      True        1   \n",
       "125481  TGCATCTGCATGTTTGTGCTTCTGTGCATGTTTGTGCGTCTGTGTG...      True        5   \n",
       "125485  TGTCTGTGCATGTGTGTGCGTGTGCCCATGCGCAGGCTTATGTCTG...      True        4   \n",
       "125482  CATGTTTGTGTGTCTGTGTGCATGTTTGTGTATCTGCATGTTTGTG...      True        4   \n",
       "125483  CCTGTGCATGTTTGTGTCTCTGTGCATGTTTGTGCGTCTGTGTGCA...      True        4   \n",
       "\n",
       "        max_saliency  logLR:K562_rep6.RBFOX2  rbp_idx  is_GCACG  is_GCUUG  \\\n",
       "125545      2.470832                2.102203       57     False     False   \n",
       "125515      4.132022                2.418185       43     False     False   \n",
       "125511      2.652842                2.418185       40     False     False   \n",
       "125508      0.157365                2.418185       39     False     False   \n",
       "125506      0.617674                2.418185       38     False     False   \n",
       "...              ...                     ...      ...       ...       ...   \n",
       "125474     27.426813               22.949096       13     False     False   \n",
       "125481     14.694696               24.063398       20     False     False   \n",
       "125485     11.947450               24.588403       24     False     False   \n",
       "125482     32.437328               25.578180       21     False     False   \n",
       "125483     21.116100               25.780856       22     False     False   \n",
       "\n",
       "        is_GAAUG  is_GUUUG  is_GUAUG  is_GUGUG  is_GCCUG     name gene_name  \\\n",
       "125545     False     False     False     False     False  5681849  C22orf34   \n",
       "125515     False     False     False     False     False  5681510  C22orf34   \n",
       "125511     False     False     False     False     False  5681410  C22orf34   \n",
       "125508     False     False     False     False     False  5681344  C22orf34   \n",
       "125506     False     False     False     False     False  5681331  C22orf34   \n",
       "...          ...       ...       ...       ...       ...      ...       ...   \n",
       "125474     False     False     False     False     False  5680836  C22orf34   \n",
       "125481     False     False     False     False     False  5680846  C22orf34   \n",
       "125485     False     False     False     False     False  5680850  C22orf34   \n",
       "125482     False     False     False     False     False  5680847  C22orf34   \n",
       "125483     False     False     False     False     False  5680848  C22orf34   \n",
       "\n",
       "       feature_type_top     start  \n",
       "125545           INTRON  49627605  \n",
       "125515           INTRON  49593706  \n",
       "125511           INTRON  49583706  \n",
       "125508           INTRON  49577106  \n",
       "125506           INTRON  49575807  \n",
       "...                 ...       ...  \n",
       "125474           INTRON  49526308  \n",
       "125481           INTRON  49527308  \n",
       "125485           INTRON  49527708  \n",
       "125482           INTRON  49527408  \n",
       "125483           INTRON  49527508  \n",
       "\n",
       "[73 rows x 17 columns]"
      ]
     },
     "execution_count": 52,
     "metadata": {},
     "output_type": "execute_result"
    }
   ],
   "source": [
    " subset_seq_df.loc[subset_seq_df['gene_name']=='C22orf34'].sort_values(by = f'logLR:{outstem}.RBFOX2')"
   ]
  },
  {
   "cell_type": "code",
   "execution_count": 53,
   "id": "b8b52c01",
   "metadata": {},
   "outputs": [
    {
     "name": "stderr",
     "output_type": "stream",
     "text": [
      "findfont: Font family ['Arial Rounded MT Bold'] not found. Falling back to DejaVu Sans.\n"
     ]
    },
    {
     "data": {
      "image/png": "[encoded data removed]",
      "text/plain": [
       "<Figure size 864x288 with 2 Axes>"
      ]
     },
     "metadata": {
      "needs_background": "light"
     },
     "output_type": "display_data"
    }
   ],
   "source": [
    "plot_saliency(20)"
   ]
  },
  {
   "cell_type": "code",
   "execution_count": 54,
   "id": "695acbad",
   "metadata": {},
   "outputs": [
    {
     "data": {
      "image/png": "[encoded data removed]",
      "text/plain": [
       "<Figure size 864x288 with 2 Axes>"
      ]
     },
     "metadata": {
      "needs_background": "light"
     },
     "output_type": "display_data"
    }
   ],
   "source": [
    "plot_saliency(21)"
   ]
  },
  {
   "cell_type": "code",
   "execution_count": 55,
   "id": "1b69d2a2",
   "metadata": {},
   "outputs": [
    {
     "data": {
      "image/png": "[encoded data removed]",
      "text/plain": [
       "<Figure size 864x288 with 2 Axes>"
      ]
     },
     "metadata": {
      "needs_background": "light"
     },
     "output_type": "display_data"
    }
   ],
   "source": [
    "plot_saliency(22)"
   ]
  },
  {
   "cell_type": "code",
   "execution_count": 56,
   "id": "c22f860c",
   "metadata": {},
   "outputs": [
    {
     "data": {
      "image/png": "[encoded data removed]",
      "text/plain": [
       "<Figure size 864x288 with 2 Axes>"
      ]
     },
     "metadata": {
      "needs_background": "light"
     },
     "output_type": "display_data"
    }
   ],
   "source": [
    "plot_saliency(23)"
   ]
  },
  {
   "cell_type": "code",
   "execution_count": 57,
   "id": "951c769a",
   "metadata": {},
   "outputs": [
    {
     "data": {
      "image/png": "[encoded data removed]",
      "text/plain": [
       "<Figure size 864x288 with 2 Axes>"
      ]
     },
     "metadata": {
      "needs_background": "light"
     },
     "output_type": "display_data"
    }
   ],
   "source": [
    "plot_saliency(24)"
   ]
  },
  {
   "cell_type": "code",
   "execution_count": 58,
   "id": "9ec8a36f",
   "metadata": {},
   "outputs": [],
   "source": [
    "def plot_saliency(indices):\n",
    "    index2seq = 'ACGU'\n",
    "    \n",
    "\n",
    "    # find coverage\n",
    "    all_wig_value = []\n",
    "    all_saliency_values = []\n",
    "    window_names = subset_seq_df.loc[subset_seq_df['rbp_idx'].isin(indices), 'name']\n",
    "    sub = megaoutput.loc[megaoutput['name'].isin(window_names)].iloc[0]\n",
    "    for index in indices:\n",
    "        window_name = subset_seq_df.loc[subset_seq_df['rbp_idx']==index, 'name'].values[0]\n",
    "        row = megaoutput.loc[megaoutput['name']==window_name].iloc[0]\n",
    "        wig_values = rbp_wig_cov.fetch(row['chrom'], row['start'], row['end'], row['strand'])\n",
    "        wig_values_cits = rbp_wig_cits.fetch(row['chrom'], row['start'], row['end'], row['strand'])\n",
    "\n",
    "        seq_values = one_hot[index,:,:] # [1,4,100]\n",
    "        gradient_values = guided_saliency[index,0,:,:].cpu().numpy() # [1,1,100,4]\n",
    "        saliency_values = gradient_values * seq_values.T # 4*100\n",
    "        saliency_df = pd.DataFrame(saliency_values.T)\n",
    "        saliency_df.index = list(index2seq)\n",
    "\n",
    "        saliency_df = saliency_df.loc[:, seq_values.sum(axis = 0)!=0].T\n",
    "        saliency_df.index = np.arange(saliency_df.shape[0])\n",
    "        \n",
    "        all_wig_value.append(wig_values)\n",
    "        all_saliency_values.append(saliency_df)\n",
    "        \n",
    "    \n",
    "    all_wig_value = np.concatenate(all_wig_value)\n",
    "    all_saliency_df = pd.concat(all_saliency_values, axis = 0, ignore_index = True)\n",
    "    print(all_saliency_df)\n",
    "    \n",
    "    f, ax = plt.subplots(2,1, sharex = True, figsize = (60,4))\n",
    "    logomaker.Logo(all_saliency_df, # only plot places with sequence\n",
    "                              shade_below=.5,\n",
    "                              fade_below=.5,\n",
    "                              font_name='Arial Rounded MT Bold', \n",
    "                  ax = ax[0])\n",
    "\n",
    "\n",
    "    ax[0].set_ylabel('saliency')\n",
    "    ax[1].bar(np.arange(len(all_wig_value)), all_wig_value, color = 'lightgrey')\n",
    "    ax[1].set_ylabel('coverage')\n",
    "    \n",
    "\n",
    "    ax[0].set_title(row['chrom'] + ':'+str(sub['start'].min())+'-'+str(sub['end'].max())+':'+row['strand'])\n",
    "    sns.despine()"
   ]
  },
  {
   "cell_type": "code",
   "execution_count": 61,
   "id": "9f2b7cf0",
   "metadata": {},
   "outputs": [
    {
     "name": "stdout",
     "output_type": "stream",
     "text": [
      "            A        C          G         U\n",
      "0    0.000000  0.00000   0.000000  1.025870\n",
      "1    0.000000  0.00000   6.099309  0.000000\n",
      "2    0.000000  1.25661   0.000000  0.000000\n",
      "3    2.015038  0.00000   0.000000  0.000000\n",
      "4    0.000000  0.00000   0.000000  0.787118\n",
      "..        ...      ...        ...       ...\n",
      "195  0.000000  0.00000  32.437328  0.000000\n",
      "196  0.000000  0.00000   0.000000  2.306863\n",
      "197  0.000000  0.00000   0.000000  1.458072\n",
      "198  0.000000  0.00000   0.000000  4.720290\n",
      "199  0.000000  0.00000   2.840872  0.000000\n",
      "\n",
      "[200 rows x 4 columns]\n"
     ]
    },
    {
     "data": {
      "image/png": "[encoded data removed]",
      "text/plain": [
       "<Figure size 4320x288 with 2 Axes>"
      ]
     },
     "metadata": {
      "needs_background": "light"
     },
     "output_type": "display_data"
    }
   ],
   "source": [
    "plt.rcParams['pdf.fonttype'] = 42\n",
    "plot_saliency([20,21])\n",
    "plt.suptitle('C22orf34 INTRON')\n",
    "plt.savefig('C22orf34_RBFOX2.pdf')"
   ]
  },
  {
   "cell_type": "code",
   "execution_count": 62,
   "id": "4003c013",
   "metadata": {},
   "outputs": [
    {
     "name": "stdout",
     "output_type": "stream",
     "text": [
      "            A         C         G         U\n",
      "0    0.000000  0.574435  0.000000  0.000000\n",
      "1    0.000000  2.066050  0.000000  0.000000\n",
      "2    0.000000  0.000000  0.000000  1.470813\n",
      "3    0.000000  0.000000  3.677982  0.000000\n",
      "4    0.000000  0.000000  0.000000  1.853727\n",
      "..        ...       ...       ...       ...\n",
      "195  0.000000  0.000000  0.718826  0.000000\n",
      "196  0.000000  0.000000  0.000000  0.532313\n",
      "197  0.000000  0.000000  0.506107  0.000000\n",
      "198  0.000000  1.753877  0.000000  0.000000\n",
      "199  0.914112  0.000000  0.000000  0.000000\n",
      "\n",
      "[200 rows x 4 columns]\n"
     ]
    },
    {
     "data": {
      "image/png": "[encoded data removed]",
      "text/plain": [
       "<Figure size 4320x288 with 2 Axes>"
      ]
     },
     "metadata": {
      "needs_background": "light"
     },
     "output_type": "display_data"
    }
   ],
   "source": [
    "plt.rcParams['pdf.fonttype'] = 42\n",
    "plot_saliency([22,23])\n",
    "plt.suptitle('C22orf34 INTRON')\n",
    "plt.savefig('C22orf34_RBFOX2_2.pdf')"
   ]
  },
  {
   "cell_type": "code",
   "execution_count": null,
   "id": "b0823ab2",
   "metadata": {},
   "outputs": [],
   "source": []
  }
 ],
 "metadata": {
  "kernelspec": {
   "display_name": "Python 3 (ipykernel)",
   "language": "python",
   "name": "python3"
  },
  "language_info": {
   "codemirror_mode": {
    "name": "ipython",
    "version": 3
   },
   "file_extension": ".py",
   "mimetype": "text/x-python",
   "name": "python",
   "nbconvert_exporter": "python",
   "pygments_lexer": "ipython3",
   "version": "3.9.5"
  }
 },
 "nbformat": 4,
 "nbformat_minor": 5
}
