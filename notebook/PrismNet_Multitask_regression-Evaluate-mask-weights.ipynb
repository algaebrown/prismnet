{
 "cells": [
  {
   "cell_type": "markdown",
   "id": "b649278e",
   "metadata": {},
   "source": [
    "#follow this to install prismnet\n",
    "https://github.com/kuixu/PrismNet"
   ]
  },
  {
   "cell_type": "code",
   "execution_count": 1,
   "id": "0e17a279",
   "metadata": {},
   "outputs": [],
   "source": [
    "import argparse, os, random\n",
    "import torch\n",
    "import torch.nn as nn\n",
    "import torch.nn.functional as F\n",
    "import torch.optim as optim\n",
    "from torch.optim import lr_scheduler\n",
    "\n",
    "\n",
    "\n",
    "from sklearn import metrics\n",
    "import numpy as np\n",
    "\n",
    "import prismnet.model as arch\n",
    "from prismnet import train, validate, inference, log_print, compute_saliency, compute_saliency_img, compute_high_attention_region\n",
    "#compute_high_attention_region\n",
    "\n",
    "# from prismnet.engine.train_loop import \n",
    "from prismnet.model.utils import GradualWarmupScheduler\n",
    "from prismnet.loader import SeqicSHAPE\n",
    "from prismnet.utils import datautils"
   ]
  },
  {
   "cell_type": "code",
   "execution_count": 2,
   "id": "f0830b22",
   "metadata": {},
   "outputs": [],
   "source": [
    "# # out dir\n",
    "\n",
    "# identity   = args.p_name+'_'+args.arch+\"_\"+args.mode # 441_PUM2_K562_sub4509_PrismNet_pu.metrics\n",
    "# datautils.make_directory(args.out_dir,\"out/\")\n",
    "# model_dir  = datautils.make_directory(args.out_dir,\"out/models\")\n",
    "# model_path = os.path.join(model_dir, identity+\"_{}.pth\")\n",
    "\n",
    "# if args.tfboard:\n",
    "#     tfb_dir  = datautils.make_directory(args.out_dir,\"out/tfb\")\n",
    "#     writer = SummaryWriter(tfb_dir)\n",
    "# else:\n",
    "#     writer = None\n",
    "# # fix random seed\n",
    "# fix_seed(args.seed)"
   ]
  },
  {
   "cell_type": "code",
   "execution_count": 3,
   "id": "1218a44d",
   "metadata": {},
   "outputs": [],
   "source": [
    "import pandas as pd\n",
    "outstem = 'K562_rep6'\n",
    "outstem2 = 'K562_rep6.region_type'\n",
    "megaoutput = pd.read_csv(f'../data/ABC_data/{outstem}.megaoutputs_masked.tsv', sep = '\\t')\n",
    "seq = pd.read_csv(f'../data/ABC_data/tsv/{outstem}.DDX3.tsv', sep = '\\t', names = ['chrom', 'name', \n",
    "                                                                                 'seq', 'struct', 'label', 'start'])"
   ]
  },
  {
   "cell_type": "code",
   "execution_count": 4,
   "id": "aa595cc4",
   "metadata": {},
   "outputs": [],
   "source": [
    "max_length=seq['seq'].str.len().max()"
   ]
  },
  {
   "cell_type": "code",
   "execution_count": 5,
   "id": "3b0696d9",
   "metadata": {},
   "outputs": [],
   "source": [
    "from prismnet.utils import datautils"
   ]
  },
  {
   "cell_type": "code",
   "execution_count": 6,
   "id": "651132bd",
   "metadata": {},
   "outputs": [],
   "source": [
    "one_hot = datautils.convert_one_hot(seq['seq'], max_length)"
   ]
  },
  {
   "cell_type": "code",
   "execution_count": 7,
   "id": "c1d53633",
   "metadata": {},
   "outputs": [
    {
     "data": {
      "text/plain": [
       "(138498, 4, 100)"
      ]
     },
     "execution_count": 7,
     "metadata": {},
     "output_type": "execute_result"
    }
   ],
   "source": [
    "one_hot.shape # N, 4, max_length"
   ]
  },
  {
   "cell_type": "code",
   "execution_count": 8,
   "id": "4f56775e",
   "metadata": {},
   "outputs": [],
   "source": [
    "data = one_hot"
   ]
  },
  {
   "cell_type": "code",
   "execution_count": 9,
   "id": "54c692bb",
   "metadata": {},
   "outputs": [],
   "source": [
    "# targets: predict binary\n",
    "target_col = megaoutput.columns[(megaoutput.columns.str.startswith('logLR'))&(megaoutput.columns.str.contains(outstem))]\n",
    "target_df = megaoutput[target_col]"
   ]
  },
  {
   "cell_type": "code",
   "execution_count": 10,
   "id": "d56a7f25",
   "metadata": {},
   "outputs": [
    {
     "data": {
      "text/plain": [
       "<AxesSubplot:>"
      ]
     },
     "execution_count": 10,
     "metadata": {},
     "output_type": "execute_result"
    },
    {
     "data": {
      "image/png": "[encoded data removed]",
      "text/plain": [
       "<Figure size 432x288 with 1 Axes>"
      ]
     },
     "metadata": {
      "needs_background": "light"
     },
     "output_type": "display_data"
    }
   ],
   "source": [
    "target_df[f'logLR:{outstem}.IGF2BP2'].hist()"
   ]
  },
  {
   "cell_type": "code",
   "execution_count": 11,
   "id": "8641f12d",
   "metadata": {},
   "outputs": [
    {
     "data": {
      "text/plain": [
       "<AxesSubplot:>"
      ]
     },
     "execution_count": 11,
     "metadata": {},
     "output_type": "execute_result"
    },
    {
     "data": {
      "image/png": "[encoded data removed]",
      "text/plain": [
       "<Figure size 432x288 with 1 Axes>"
      ]
     },
     "metadata": {
      "needs_background": "light"
     },
     "output_type": "display_data"
    }
   ],
   "source": [
    "target_df[f'logLR:{outstem}.PUM2'].hist()"
   ]
  },
  {
   "cell_type": "code",
   "execution_count": 12,
   "id": "89910e8d",
   "metadata": {},
   "outputs": [
    {
     "data": {
      "text/plain": [
       "(138498, 10)"
      ]
     },
     "execution_count": 12,
     "metadata": {},
     "output_type": "execute_result"
    }
   ],
   "source": [
    "targets = target_df.values\n",
    "targets.shape"
   ]
  },
  {
   "cell_type": "code",
   "execution_count": 13,
   "id": "2731898a",
   "metadata": {},
   "outputs": [],
   "source": [
    "train, test = datautils.split_dataset(data, targets, valid_frac=0.2)\n",
    "\n",
    "target_data_type = np.float32"
   ]
  },
  {
   "cell_type": "code",
   "execution_count": 14,
   "id": "73f7fdba",
   "metadata": {},
   "outputs": [
    {
     "data": {
      "text/plain": [
       "((1107985, 4, 100), (1107985, 10), (276995, 4, 100), (276995, 10))"
      ]
     },
     "execution_count": 14,
     "metadata": {},
     "output_type": "execute_result"
    }
   ],
   "source": [
    "train[0].shape, train[1].shape, test[0].shape, test[1].shape"
   ]
  },
  {
   "cell_type": "code",
   "execution_count": 15,
   "id": "90b10c26",
   "metadata": {},
   "outputs": [],
   "source": [
    "from prismnet.model.PrismNet import *\n",
    "class PrismNet_Multitask(nn.Module):\n",
    "    def __init__(self, mode=\"pu\", output_dim=10):\n",
    "        super(PrismNet_Multitask, self).__init__()\n",
    "        self.mode = mode\n",
    "        h_p, h_k = 2, 5 \n",
    "        if mode==\"pu\":\n",
    "            self.n_features = 5\n",
    "        elif mode==\"seq\":\n",
    "            self.n_features = 4\n",
    "            h_p, h_k = 1, 3 \n",
    "        elif mode==\"str\":\n",
    "            self.n_features = 1\n",
    "            h_p, h_k = 0, 1\n",
    "        else:\n",
    "            raise \"mode error\"\n",
    "        \n",
    "        base_channel = 8\n",
    "        self.conv    = Conv2d(1, base_channel, kernel_size=(11, h_k), bn = True, same_padding=True)\n",
    "        self.se      = SEBlock(base_channel)\n",
    "        self.res2d   = ResidualBlock2D(base_channel, kernel_size=(11, h_k), padding=(5, h_p)) \n",
    "        self.res1d   = ResidualBlock1D(base_channel*4) \n",
    "        self.avgpool = nn.AvgPool2d((1,self.n_features))\n",
    "        self.gpool   = nn.AdaptiveAvgPool1d(1)\n",
    "        self.fc      = nn.Linear(base_channel*4*8, output_dim)\n",
    "        self._initialize_weights()\n",
    "\n",
    "    def _initialize_weights(self):\n",
    "        for m in self.modules():\n",
    "            if isinstance(m, nn.Conv2d):\n",
    "                nn.init.kaiming_normal_(m.weight, mode='fan_out', nonlinearity='relu')\n",
    "                if m.bias is not None:\n",
    "                    nn.init.constant_(m.bias, 0)\n",
    "            elif isinstance(m, nn.Conv1d):\n",
    "                nn.init.kaiming_normal_(m.weight, mode='fan_out', nonlinearity='relu')\n",
    "                if m.bias is not None:\n",
    "                    nn.init.constant_(m.bias, 0)\n",
    "            elif isinstance(m, nn.BatchNorm2d):\n",
    "                nn.init.constant_(m.weight, 1)\n",
    "                nn.init.constant_(m.bias, 0)\n",
    "            elif isinstance(m, nn.BatchNorm1d):\n",
    "                nn.init.constant_(m.weight, 1)\n",
    "                nn.init.constant_(m.bias, 0)\n",
    "            elif isinstance(m, nn.Linear):\n",
    "                nn.init.normal_(m.weight, 0, 0.01)\n",
    "                nn.init.constant_(m.bias, 0)\n",
    "    \n",
    "    def forward(self, input):\n",
    "        \"\"\"[forward]\n",
    "        \n",
    "        Args:\n",
    "            input ([tensor],N,C,W,H): input features\n",
    "        \"\"\"\n",
    "        if self.mode==\"seq\":\n",
    "            input = input[:,:,:,:4]\n",
    "        elif self.mode==\"str\":\n",
    "            input = input[:,:,:,4:]\n",
    "        x = self.conv(input)\n",
    "        x = F.dropout(x, 0.1, training=self.training)\n",
    "        z = self.se(x)\n",
    "        x = self.res2d(x*z)\n",
    "        x = F.dropout(x, 0.5, training=self.training)\n",
    "        x = self.avgpool(x)\n",
    "        x = x.view(x.shape[0], x.shape[1], x.shape[2])\n",
    "        x = self.res1d(x)\n",
    "        x = F.dropout(x, 0.3, training=self.training)\n",
    "        x = self.gpool(x)\n",
    "        x = x.view(x.shape[0], x.shape[1])\n",
    "        x = self.fc(x)\n",
    "        return x\n"
   ]
  },
  {
   "cell_type": "code",
   "execution_count": 16,
   "id": "d15e2859",
   "metadata": {},
   "outputs": [],
   "source": [
    "model = PrismNet_Multitask(mode = 'seq', output_dim = targets.shape[1])\n"
   ]
  },
  {
   "cell_type": "code",
   "execution_count": 17,
   "id": "718ce62d",
   "metadata": {},
   "outputs": [],
   "source": [
    "use_cuda = torch.cuda.is_available()\n",
    "device = torch.device(\"cuda\" if use_cuda else \"cpu\")"
   ]
  },
  {
   "cell_type": "code",
   "execution_count": 18,
   "id": "fe567b2a",
   "metadata": {},
   "outputs": [],
   "source": [
    "model = model.to(device)"
   ]
  },
  {
   "cell_type": "code",
   "execution_count": 19,
   "id": "bfcb7fc4",
   "metadata": {},
   "outputs": [],
   "source": [
    "class SeqicSHAPE_Multitask(torch.utils.data.Dataset):\n",
    "    def __init__(self, X, Y, is_infer=False, use_structure=True):\n",
    "        \"\"\"data loader\n",
    "        \n",
    "        Args:\n",
    "            data_path ([str]): h5 file path\n",
    "            is_test (bool, optional): testset or not. Defaults to False.\n",
    "        \"\"\"\n",
    "        if is_infer:\n",
    "            self.dataset = self.__load_infer_data__(data_path, use_structure=use_structure)\n",
    "            print(\"infer data: \", self.__len__(),\" use_structure: \", use_structure)\n",
    "        else:\n",
    "#             dataset = h5py.File(data_path, 'r')\n",
    "#             X_train = np.array(dataset['X_train']).astype(np.float32)\n",
    "#             Y_train = np.array(dataset['Y_train']).astype(np.int32)\n",
    "#             X_test  = np.array(dataset['X_test']).astype(np.float32)\n",
    "#             Y_test  = np.array(dataset['Y_test']).astype(np.int32)\n",
    "            X = np.array(X).astype(np.float32)\n",
    "            Y = np.array(Y).astype(np.float32)\n",
    "#             if len(Y_train.shape) == 1:\n",
    "#                 Y_train = np.expand_dims(Y_train, axis=1)\n",
    "#                 Y_test  = np.expand_dims(Y_test, axis=1)\n",
    "            X = np.expand_dims(X, axis=3).transpose([0, 3, 2, 1]) # N, 1, length, channel\n",
    "            \n",
    "\n",
    "            \n",
    "\n",
    "#             labels, nums = np.unique(Y_train,return_counts=True)\n",
    "#             print(\"train:\", labels, nums)\n",
    "#             labels, nums = np.unique(Y_test,return_counts=True)\n",
    "#             print(\"test:\", labels, nums)\n",
    "\n",
    "#             train = self.__prepare_data__(train)\n",
    "#             test  = self.__prepare_data__(test)\n",
    "\n",
    "            \n",
    "            self.dataset = {'inputs': X, 'targets': Y}\n",
    "            \n",
    "\n",
    "        \n",
    "\n",
    "    def __load_infer_data__(self, data_path, use_structure=True):\n",
    "        from prismnet.utils import datautils\n",
    "        dataset = datautils.load_testset_txt(data_path, use_structure=use_structure, seq_length=101)\n",
    "        return dataset\n",
    "       \n",
    "    \n",
    "    def __prepare_data__(self, data):\n",
    "        inputs    = data['inputs'][:,:,:,:4]\n",
    "        structure = data['inputs'][:,:,:,4:]\n",
    "        structure = np.expand_dims(structure[:,:,:,0], axis=3)\n",
    "        inputs    = np.concatenate([inputs, structure], axis=3)\n",
    "        data['inputs']  = inputs\n",
    "        return data\n",
    "\n",
    "    def __to_sequence__(self, x):\n",
    "        x1 = np.zeros_like(x[0,:,:1])\n",
    "        for i in range(x1.shape[0]):\n",
    "            # import pdb; pdb.set_trace()\n",
    "            x1[i] = np.argmax(x[0,i,:4])\n",
    "            # import pdb; pdb.set_trace()\n",
    "        return x1\n",
    "\n",
    "    def __getitem__(self, index):\n",
    "        \"\"\"\n",
    "        Args:\n",
    "            index (int): Index\n",
    "\n",
    "        Returns:\n",
    "            tuple: (image, target) where target is index of the target class.\n",
    "        \"\"\"\n",
    "        x = self.dataset['inputs'][index]\n",
    "        # x = self.__to_sequence__(x)\n",
    "        y = self.dataset['targets'][index]\n",
    "        return x, y\n",
    "\n",
    "\n",
    "    def __len__(self):\n",
    "        return len(self.dataset['inputs'])\n",
    "\n"
   ]
  },
  {
   "cell_type": "code",
   "execution_count": 20,
   "id": "e34e572a",
   "metadata": {},
   "outputs": [
    {
     "data": {
      "text/plain": [
       "(300, 4, 100)"
      ]
     },
     "execution_count": 20,
     "metadata": {},
     "output_type": "execute_result"
    }
   ],
   "source": [
    "train[0][:300].shape"
   ]
  },
  {
   "cell_type": "code",
   "execution_count": 21,
   "id": "59e3822a",
   "metadata": {},
   "outputs": [
    {
     "name": "stdout",
     "output_type": "stream",
     "text": [
      "Train set: 1107985\n",
      "Test  set: 276995\n"
     ]
    }
   ],
   "source": [
    "kwargs = {'num_workers': 2, 'pin_memory': True} if use_cuda else {}\n",
    "train_loader = torch.utils.data.DataLoader(\n",
    "    \n",
    "    \n",
    "    SeqicSHAPE_Multitask(train[0], train[1], is_infer=False, use_structure=False), \n",
    "batch_size=64, shuffle=True,  **kwargs)\n",
    "\n",
    "test_loader  = torch.utils.data.DataLoader(\n",
    "    SeqicSHAPE_Multitask(test[0], test[1], is_infer=False, use_structure=False),\n",
    "batch_size=64*8, shuffle=False, **kwargs)\n",
    "\n",
    "print(\"Train set:\", len(train_loader.dataset)) #X_train (example=91099, ATCGshape=5, length=101)\n",
    "#X_train (example=91099, ATCGshape=5, length=101)\n",
    "#Y_train (example=91099, binary_outcome=1))\n",
    "print(\"Test  set:\", len(test_loader.dataset))"
   ]
  },
  {
   "cell_type": "code",
   "execution_count": 22,
   "id": "e6ae85cf",
   "metadata": {},
   "outputs": [],
   "source": [
    "def train(model, device, train_loader, criterion, optimizer):\n",
    "    ''' train for one epoch'''\n",
    "    model.train()\n",
    "    epoch_loss = 0\n",
    "    for batch_idx, (x0, y0) in enumerate(train_loader):\n",
    "        x, y = x0.float().to(device), y0.to(device).float()\n",
    "        \n",
    "        optimizer.zero_grad()\n",
    "        output = model(x)\n",
    "        \n",
    "        loss = criterion(output, y)\n",
    "        epoch_loss+=loss.item()\n",
    "        loss.backward()\n",
    "        \n",
    "        torch.nn.utils.clip_grad_norm_(model.parameters(), 5)\n",
    "        optimizer.step()\n",
    "\n",
    "    return epoch_loss\n",
    "def validate(model, device, test_loader, criterion):\n",
    "    model.eval()\n",
    "    y_all = []\n",
    "    p_all = []\n",
    "    l_all = []\n",
    "    epoch_loss = 0\n",
    "    with torch.no_grad():\n",
    "        for batch_idx, (x0, y0) in enumerate(test_loader):\n",
    "            x, y = x0.float().to(device), y0.to(device).float()\n",
    "            \n",
    "            \n",
    "            output  = model(x)\n",
    "            loss = criterion(output, y)\n",
    "            \n",
    "            epoch_loss += loss.item()\n",
    "            y_np = output.to(device='cpu', dtype=torch.float32).numpy()\n",
    "            y_all.append(y_np)\n",
    "            \n",
    "\n",
    "    return epoch_loss, y_all"
   ]
  },
  {
   "cell_type": "code",
   "execution_count": null,
   "id": "389dabb9",
   "metadata": {},
   "outputs": [],
   "source": []
  },
  {
   "cell_type": "code",
   "execution_count": 23,
   "id": "f0ca275a",
   "metadata": {},
   "outputs": [],
   "source": [
    "# #from prismnet.utils import metrics\n",
    "# optimizer = torch.optim.Adam(model.parameters(), lr=0.0001, betas=(0.9, 0.999), weight_decay=1e-6)\n",
    "# nepoch = 60\n",
    "# scheduler = GradualWarmupScheduler(\n",
    "#     optimizer, multiplier=8, total_epoch=nepoch, after_scheduler=None)\n",
    "# criterion = torch.nn.MSELoss()\n",
    "# batch_size= 64\n",
    "\n",
    "# best_test_loss = np.inf\n",
    "\n",
    "# metric = []\n",
    "# current_epoch = 0\n",
    "\n",
    "# best_test_loss = np.inf\n",
    "# epoch = 0\n",
    "# current_epoch = epoch\n",
    "# for epoch in range(current_epoch, current_epoch + nepoch + 1):\n",
    "#     print(f'At epoch {epoch}')\n",
    "#     train_loss = train(model, device, train_loader, criterion, optimizer)\n",
    "#     metric.append(['train', epoch, train_loss])\n",
    "    \n",
    "#     test_loss, y_pred = validate(model, device, test_loader, criterion)\n",
    "#     metric.append(['test', epoch, test_loss])\n",
    "\n",
    "#     if test_loss < best_test_loss:\n",
    "#         filename = f'../data/ABC_data/{outstem}.model.pt'\n",
    "#         torch.save(model.state_dict(), filename)\n",
    "#         best_test_loss = test_loss\n",
    "        \n",
    "#     metric_df = pd.DataFrame(metric, columns = ['type', 'epoch', 'loss'])\n",
    "#     metric_df.to_csv(f'../data/ABC_data/{outstem}.training_curve.csv')\n",
    "    \n",
    "#     if epoch % 5 == 0:\n",
    "#         metric_df.groupby(by = 'type').plot(x = 'epoch', y = 'loss', subplots = False)\n",
    "    \n",
    "    "
   ]
  },
  {
   "cell_type": "code",
   "execution_count": 24,
   "id": "3a531187",
   "metadata": {},
   "outputs": [
    {
     "data": {
      "text/plain": [
       "<All keys matched successfully>"
      ]
     },
     "execution_count": 24,
     "metadata": {},
     "output_type": "execute_result"
    }
   ],
   "source": [
    "model.load_state_dict(torch.load(f'../data/ABC_data/{outstem}.maskw.model.pt'))"
   ]
  },
  {
   "cell_type": "code",
   "execution_count": 25,
   "id": "fcd39f39",
   "metadata": {},
   "outputs": [],
   "source": [
    "#metric = pd.DataFrame(metric, columns = ['type', 'epoch', 'loss'])"
   ]
  },
  {
   "cell_type": "code",
   "execution_count": 26,
   "id": "3cf891c3",
   "metadata": {},
   "outputs": [
    {
     "data": {
      "text/plain": [
       "type\n",
       "test     AxesSubplot(0.125,0.125;0.775x0.755)\n",
       "train    AxesSubplot(0.125,0.125;0.775x0.755)\n",
       "Name: loss, dtype: object"
      ]
     },
     "execution_count": 26,
     "metadata": {},
     "output_type": "execute_result"
    },
    {
     "data": {
      "image/png": "[encoded data removed]",
      "text/plain": [
       "<Figure size 432x288 with 1 Axes>"
      ]
     },
     "metadata": {
      "needs_background": "light"
     },
     "output_type": "display_data"
    }
   ],
   "source": [
    "import pandas as pd\n",
    "outstem = 'K562_rep6'\n",
    "try:\n",
    "    metric=pd.read_csv(f'../data/ABC_data/{outstem}.maskw.training_curve.csv', index_col = 0)\n",
    "except:\n",
    "    pass\n",
    "metric.set_index('epoch').groupby(by = 'type')['loss'].plot(legend = True)"
   ]
  },
  {
   "cell_type": "code",
   "execution_count": 27,
   "id": "7255281a",
   "metadata": {},
   "outputs": [
    {
     "data": {
      "text/plain": [
       "<AxesSubplot:xlabel='epoch'>"
      ]
     },
     "execution_count": 27,
     "metadata": {},
     "output_type": "execute_result"
    },
    {
     "data": {
      "image/png": "[encoded data removed]",
      "text/plain": [
       "<Figure size 432x288 with 1 Axes>"
      ]
     },
     "metadata": {
      "needs_background": "light"
     },
     "output_type": "display_data"
    }
   ],
   "source": [
    "metric.loc[metric['type']=='test'].set_index('epoch')['loss'].plot()"
   ]
  },
  {
   "cell_type": "code",
   "execution_count": 28,
   "id": "271927bb",
   "metadata": {},
   "outputs": [
    {
     "data": {
      "text/plain": [
       "<AxesSubplot:xlabel='epoch'>"
      ]
     },
     "execution_count": 28,
     "metadata": {},
     "output_type": "execute_result"
    },
    {
     "data": {
      "image/png": "[encoded data removed]",
      "text/plain": [
       "<Figure size 432x288 with 1 Axes>"
      ]
     },
     "metadata": {
      "needs_background": "light"
     },
     "output_type": "display_data"
    }
   ],
   "source": [
    "metric.loc[metric['type']=='train'].set_index('epoch')['loss'].plot()"
   ]
  },
  {
   "cell_type": "code",
   "execution_count": 29,
   "id": "a0f323ca",
   "metadata": {},
   "outputs": [],
   "source": [
    "#metric.to_csv(f'../data/ABC_data/{outstem}.training_curve.csv')"
   ]
  },
  {
   "cell_type": "code",
   "execution_count": 30,
   "id": "9784c9ba",
   "metadata": {},
   "outputs": [],
   "source": [
    "optimizer = torch.optim.Adam(model.parameters(), lr=0.0001, betas=(0.9, 0.999), weight_decay=1e-6)\n",
    "nepoch = 60\n",
    "scheduler = GradualWarmupScheduler(\n",
    "    optimizer, multiplier=8, total_epoch=nepoch, after_scheduler=None)\n",
    "criterion = torch.nn.MSELoss()\n",
    "batch_size= 64"
   ]
  },
  {
   "cell_type": "code",
   "execution_count": 31,
   "id": "614f8678",
   "metadata": {},
   "outputs": [],
   "source": [
    "loss_test, y_test_pred = validate(model, device, test_loader, criterion)"
   ]
  },
  {
   "cell_type": "code",
   "execution_count": 32,
   "id": "a7e4ce05",
   "metadata": {},
   "outputs": [],
   "source": [
    "# filename = f'../data/ABC_data/{outstem}.model.pt'\n",
    "# torch.save(model.state_dict(), filename)"
   ]
  },
  {
   "cell_type": "code",
   "execution_count": 35,
   "id": "a875117e",
   "metadata": {},
   "outputs": [
    {
     "data": {
      "image/png": "[encoded data removed]",
      "text/plain": [
       "<Figure size 1080x432 with 10 Axes>"
      ]
     },
     "metadata": {},
     "output_type": "display_data"
    }
   ],
   "source": [
    "from scipy.stats import pearsonr\n",
    "import seaborn as sns\n",
    "import matplotlib.pyplot as plt\n",
    "plt.style.use('seaborn-white')\n",
    "plt.rcParams['pdf.fonttype'] = 42\n",
    "f, axes = plt.subplots(2,5, figsize = (15,6))\n",
    "pearsondf = []\n",
    "y_pred=np.concatenate(y_test_pred)\n",
    "for rbp_idx, name, ax in zip(range(test[1].shape[1]), target_df.columns, axes.flatten()):\n",
    "    ytest = test[1][:1000, rbp_idx]\n",
    "    yhat = y_pred[:1000, rbp_idx]\n",
    "    min_val = min(ytest.min(), yhat.min())-1\n",
    "    max_val = max(ytest.max(), yhat.max())+1\n",
    "    ax.scatter(test[1][:1000, rbp_idx], y_pred[:1000, rbp_idx], color = 'grey', marker = '+')\n",
    "    rbp = name.split('.')[-1]\n",
    "    ax.set_xlabel(f'logLR:{rbp}')\n",
    "    ax.set_ylabel(f'PredictedlogLR:{rbp}')\n",
    "#     ax.set_xlim(min_val, max_val)\n",
    "#     ax.set_ylim(min_val, max_val)\n",
    "#     ax.plot([min_val, max_val],[min_val, max_val], '--', color = 'black')\n",
    "    r,p=pearsonr(test[1][:1000, rbp_idx],y_pred[:1000, rbp_idx])\n",
    "    ax.set_title(f'pearson={r:.2f}')\n",
    "    pearsondf.append([name, r, p])\n",
    "pearsondf = pd.DataFrame(pearsondf, columns = ['RBP', 'pearsonr', 'pvalue'])\n",
    "pearsondf.to_csv(f'../data/ABC_data/{outstem}.maskw.pearsonr.csv')\n",
    "sns.despine()\n",
    "plt.tight_layout()\n",
    "plt.savefig('pearsonr.pdf')"
   ]
  },
  {
   "cell_type": "code",
   "execution_count": 36,
   "id": "a715bf4c",
   "metadata": {},
   "outputs": [],
   "source": [
    "pearsondf_region = pd.read_csv(f'../data/ABC_data/{outstem}.mask.pearsonr.csv')"
   ]
  },
  {
   "cell_type": "code",
   "execution_count": 37,
   "id": "f9696f74",
   "metadata": {},
   "outputs": [
    {
     "data": {
      "image/png": "[encoded data removed]",
      "text/plain": [
       "<Figure size 432x288 with 1 Axes>"
      ]
     },
     "metadata": {},
     "output_type": "display_data"
    }
   ],
   "source": [
    "import seaborn as sns\n",
    "pearsondf_region.merge(pearsondf, left_on = ['RBP'], right_on = ['RBP'], suffixes = ('', '_masked')\n",
    "                      ).plot.scatter(x = 'pearsonr', y = 'pearsonr_masked')\n",
    "plt.plot([0,1], [0,1])\n",
    "sns.despine()"
   ]
  },
  {
   "cell_type": "code",
   "execution_count": 38,
   "id": "8247744c",
   "metadata": {},
   "outputs": [
    {
     "data": {
      "text/html": [
       "<div>\n",
       "<style scoped>\n",
       "    .dataframe tbody tr th:only-of-type {\n",
       "        vertical-align: middle;\n",
       "    }\n",
       "\n",
       "    .dataframe tbody tr th {\n",
       "        vertical-align: top;\n",
       "    }\n",
       "\n",
       "    .dataframe thead th {\n",
       "        text-align: right;\n",
       "    }\n",
       "</style>\n",
       "<table border=\"1\" class=\"dataframe\">\n",
       "  <thead>\n",
       "    <tr style=\"text-align: right;\">\n",
       "      <th></th>\n",
       "      <th>Unnamed: 0</th>\n",
       "      <th>RBP</th>\n",
       "      <th>pearsonr</th>\n",
       "      <th>pvalue</th>\n",
       "      <th>pearsonr_masked</th>\n",
       "      <th>pvalue_masked</th>\n",
       "    </tr>\n",
       "  </thead>\n",
       "  <tbody>\n",
       "    <tr>\n",
       "      <th>0</th>\n",
       "      <td>0</td>\n",
       "      <td>logLR:K562_rep6.IGF2BP2</td>\n",
       "      <td>0.386286</td>\n",
       "      <td>6.200882e-37</td>\n",
       "      <td>0.409573</td>\n",
       "      <td>9.875231e-42</td>\n",
       "    </tr>\n",
       "    <tr>\n",
       "      <th>1</th>\n",
       "      <td>1</td>\n",
       "      <td>logLR:K562_rep6.RBFOX2</td>\n",
       "      <td>0.649053</td>\n",
       "      <td>1.160830e-120</td>\n",
       "      <td>0.494548</td>\n",
       "      <td>8.381709e-63</td>\n",
       "    </tr>\n",
       "    <tr>\n",
       "      <th>2</th>\n",
       "      <td>2</td>\n",
       "      <td>logLR:K562_rep6.PUM2</td>\n",
       "      <td>0.086411</td>\n",
       "      <td>6.252270e-03</td>\n",
       "      <td>0.163900</td>\n",
       "      <td>1.870449e-07</td>\n",
       "    </tr>\n",
       "    <tr>\n",
       "      <th>3</th>\n",
       "      <td>3</td>\n",
       "      <td>logLR:K562_rep6.FAM120A</td>\n",
       "      <td>0.743211</td>\n",
       "      <td>2.201693e-176</td>\n",
       "      <td>0.721088</td>\n",
       "      <td>3.144752e-161</td>\n",
       "    </tr>\n",
       "    <tr>\n",
       "      <th>4</th>\n",
       "      <td>4</td>\n",
       "      <td>logLR:K562_rep6.DDX3</td>\n",
       "      <td>0.460109</td>\n",
       "      <td>1.536987e-53</td>\n",
       "      <td>0.505701</td>\n",
       "      <td>4.894626e-66</td>\n",
       "    </tr>\n",
       "    <tr>\n",
       "      <th>5</th>\n",
       "      <td>5</td>\n",
       "      <td>logLR:K562_rep6.ZC3H11A</td>\n",
       "      <td>0.250918</td>\n",
       "      <td>8.014517e-16</td>\n",
       "      <td>0.331443</td>\n",
       "      <td>4.564518e-27</td>\n",
       "    </tr>\n",
       "    <tr>\n",
       "      <th>6</th>\n",
       "      <td>6</td>\n",
       "      <td>logLR:K562_rep6.EIF3G</td>\n",
       "      <td>0.385004</td>\n",
       "      <td>1.110860e-36</td>\n",
       "      <td>0.278983</td>\n",
       "      <td>2.466486e-19</td>\n",
       "    </tr>\n",
       "    <tr>\n",
       "      <th>7</th>\n",
       "      <td>7</td>\n",
       "      <td>logLR:K562_rep6.PRPF8</td>\n",
       "      <td>0.633387</td>\n",
       "      <td>2.957932e-113</td>\n",
       "      <td>0.657057</td>\n",
       "      <td>1.286003e-124</td>\n",
       "    </tr>\n",
       "    <tr>\n",
       "      <th>8</th>\n",
       "      <td>8</td>\n",
       "      <td>logLR:K562_rep6.LIN28B</td>\n",
       "      <td>0.434923</td>\n",
       "      <td>2.095555e-47</td>\n",
       "      <td>0.382793</td>\n",
       "      <td>3.017659e-36</td>\n",
       "    </tr>\n",
       "    <tr>\n",
       "      <th>9</th>\n",
       "      <td>9</td>\n",
       "      <td>logLR:K562_rep6.SF3B4</td>\n",
       "      <td>0.616172</td>\n",
       "      <td>1.352735e-105</td>\n",
       "      <td>0.555483</td>\n",
       "      <td>4.941349e-82</td>\n",
       "    </tr>\n",
       "  </tbody>\n",
       "</table>\n",
       "</div>"
      ],
      "text/plain": [
       "   Unnamed: 0                      RBP  pearsonr         pvalue  \\\n",
       "0           0  logLR:K562_rep6.IGF2BP2  0.386286   6.200882e-37   \n",
       "1           1   logLR:K562_rep6.RBFOX2  0.649053  1.160830e-120   \n",
       "2           2     logLR:K562_rep6.PUM2  0.086411   6.252270e-03   \n",
       "3           3  logLR:K562_rep6.FAM120A  0.743211  2.201693e-176   \n",
       "4           4     logLR:K562_rep6.DDX3  0.460109   1.536987e-53   \n",
       "5           5  logLR:K562_rep6.ZC3H11A  0.250918   8.014517e-16   \n",
       "6           6    logLR:K562_rep6.EIF3G  0.385004   1.110860e-36   \n",
       "7           7    logLR:K562_rep6.PRPF8  0.633387  2.957932e-113   \n",
       "8           8   logLR:K562_rep6.LIN28B  0.434923   2.095555e-47   \n",
       "9           9    logLR:K562_rep6.SF3B4  0.616172  1.352735e-105   \n",
       "\n",
       "   pearsonr_masked  pvalue_masked  \n",
       "0         0.409573   9.875231e-42  \n",
       "1         0.494548   8.381709e-63  \n",
       "2         0.163900   1.870449e-07  \n",
       "3         0.721088  3.144752e-161  \n",
       "4         0.505701   4.894626e-66  \n",
       "5         0.331443   4.564518e-27  \n",
       "6         0.278983   2.466486e-19  \n",
       "7         0.657057  1.286003e-124  \n",
       "8         0.382793   3.017659e-36  \n",
       "9         0.555483   4.941349e-82  "
      ]
     },
     "execution_count": 38,
     "metadata": {},
     "output_type": "execute_result"
    }
   ],
   "source": [
    "pearsondf_region.merge(pearsondf, left_on = ['RBP'], right_on = ['RBP'], suffixes = ('', '_masked')\n",
    "                      )"
   ]
  },
  {
   "cell_type": "code",
   "execution_count": null,
   "id": "adb61fb0",
   "metadata": {},
   "outputs": [],
   "source": []
  }
 ],
 "metadata": {
  "kernelspec": {
   "display_name": "Python 3 (ipykernel)",
   "language": "python",
   "name": "python3"
  },
  "language_info": {
   "codemirror_mode": {
    "name": "ipython",
    "version": 3
   },
   "file_extension": ".py",
   "mimetype": "text/x-python",
   "name": "python",
   "nbconvert_exporter": "python",
   "pygments_lexer": "ipython3",
   "version": "3.9.5"
  }
 },
 "nbformat": 4,
 "nbformat_minor": 5
}
