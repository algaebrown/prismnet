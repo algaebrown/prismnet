{
 "cells": [
  {
   "cell_type": "code",
   "execution_count": 1,
   "id": "907ceb0a",
   "metadata": {},
   "outputs": [],
   "source": [
    "import os\n",
    "indir = '/home/hsher/bin/PrismNet/results/pos_weight'\n",
    "weights = os.listdir(indir)"
   ]
  },
  {
   "cell_type": "code",
   "execution_count": 2,
   "id": "c744b51f",
   "metadata": {},
   "outputs": [
    {
     "data": {
      "text/plain": [
       "['1', '15', '2', '5', '20', '10']"
      ]
     },
     "execution_count": 2,
     "metadata": {},
     "output_type": "execute_result"
    }
   ],
   "source": [
    "weights"
   ]
  },
  {
   "cell_type": "code",
   "execution_count": 3,
   "id": "2775d139",
   "metadata": {},
   "outputs": [],
   "source": [
    "import pandas as pd\n",
    "alldata = []\n",
    "for w in weights:\n",
    "    file = os.path.join(indir, w, 'out', 'evals', '441_PUM2_K562_PrismNet_pu.metrics')\n",
    "    data = pd.read_csv(file, sep = '\\t', header = None, names = ['accuracy','AUROC', 'AUPRC', 'TP', 'TN', 'FP', 'FN']\n",
    "                )\n",
    "    data['pos_weight'] = int(w)\n",
    "    alldata.append(data)"
   ]
  },
  {
   "cell_type": "code",
   "execution_count": 4,
   "id": "ce73cda1",
   "metadata": {},
   "outputs": [
    {
     "data": {
      "text/html": [
       "<div>\n",
       "<style scoped>\n",
       "    .dataframe tbody tr th:only-of-type {\n",
       "        vertical-align: middle;\n",
       "    }\n",
       "\n",
       "    .dataframe tbody tr th {\n",
       "        vertical-align: top;\n",
       "    }\n",
       "\n",
       "    .dataframe thead th {\n",
       "        text-align: right;\n",
       "    }\n",
       "</style>\n",
       "<table border=\"1\" class=\"dataframe\">\n",
       "  <thead>\n",
       "    <tr style=\"text-align: right;\">\n",
       "      <th></th>\n",
       "      <th>accuracy</th>\n",
       "      <th>AUROC</th>\n",
       "      <th>AUPRC</th>\n",
       "      <th>TP</th>\n",
       "      <th>TN</th>\n",
       "      <th>FP</th>\n",
       "      <th>FN</th>\n",
       "      <th>pos_weight</th>\n",
       "    </tr>\n",
       "  </thead>\n",
       "  <tbody>\n",
       "    <tr>\n",
       "      <th>441_PUM2_K562</th>\n",
       "      <td>0.779</td>\n",
       "      <td>0.982</td>\n",
       "      <td>0.894</td>\n",
       "      <td>891</td>\n",
       "      <td>7003</td>\n",
       "      <td>2227</td>\n",
       "      <td>10</td>\n",
       "      <td>10</td>\n",
       "    </tr>\n",
       "  </tbody>\n",
       "</table>\n",
       "</div>"
      ],
      "text/plain": [
       "               accuracy  AUROC  AUPRC   TP    TN    FP  FN  pos_weight\n",
       "441_PUM2_K562     0.779  0.982  0.894  891  7003  2227  10          10"
      ]
     },
     "execution_count": 4,
     "metadata": {},
     "output_type": "execute_result"
    }
   ],
   "source": [
    "data"
   ]
  },
  {
   "cell_type": "code",
   "execution_count": 5,
   "id": "17e7ff1a",
   "metadata": {},
   "outputs": [],
   "source": [
    "alldf = pd.concat(alldata, axis = 0)"
   ]
  },
  {
   "cell_type": "code",
   "execution_count": 6,
   "id": "3639e0a1",
   "metadata": {},
   "outputs": [
    {
     "data": {
      "text/html": [
       "<div>\n",
       "<style scoped>\n",
       "    .dataframe tbody tr th:only-of-type {\n",
       "        vertical-align: middle;\n",
       "    }\n",
       "\n",
       "    .dataframe tbody tr th {\n",
       "        vertical-align: top;\n",
       "    }\n",
       "\n",
       "    .dataframe thead th {\n",
       "        text-align: right;\n",
       "    }\n",
       "</style>\n",
       "<table border=\"1\" class=\"dataframe\">\n",
       "  <thead>\n",
       "    <tr style=\"text-align: right;\">\n",
       "      <th></th>\n",
       "      <th>accuracy</th>\n",
       "      <th>AUROC</th>\n",
       "      <th>AUPRC</th>\n",
       "      <th>TP</th>\n",
       "      <th>TN</th>\n",
       "      <th>FP</th>\n",
       "      <th>FN</th>\n",
       "      <th>pos_weight</th>\n",
       "    </tr>\n",
       "  </thead>\n",
       "  <tbody>\n",
       "    <tr>\n",
       "      <th>441_PUM2_K562</th>\n",
       "      <td>0.854</td>\n",
       "      <td>0.965</td>\n",
       "      <td>0.789</td>\n",
       "      <td>852</td>\n",
       "      <td>7799</td>\n",
       "      <td>1431</td>\n",
       "      <td>49</td>\n",
       "      <td>1</td>\n",
       "    </tr>\n",
       "    <tr>\n",
       "      <th>441_PUM2_K562</th>\n",
       "      <td>0.948</td>\n",
       "      <td>0.974</td>\n",
       "      <td>0.853</td>\n",
       "      <td>796</td>\n",
       "      <td>8808</td>\n",
       "      <td>422</td>\n",
       "      <td>105</td>\n",
       "      <td>2</td>\n",
       "    </tr>\n",
       "    <tr>\n",
       "      <th>441_PUM2_K562</th>\n",
       "      <td>0.807</td>\n",
       "      <td>0.976</td>\n",
       "      <td>0.867</td>\n",
       "      <td>877</td>\n",
       "      <td>7302</td>\n",
       "      <td>1928</td>\n",
       "      <td>24</td>\n",
       "      <td>5</td>\n",
       "    </tr>\n",
       "    <tr>\n",
       "      <th>441_PUM2_K562</th>\n",
       "      <td>0.779</td>\n",
       "      <td>0.982</td>\n",
       "      <td>0.894</td>\n",
       "      <td>891</td>\n",
       "      <td>7003</td>\n",
       "      <td>2227</td>\n",
       "      <td>10</td>\n",
       "      <td>10</td>\n",
       "    </tr>\n",
       "    <tr>\n",
       "      <th>441_PUM2_K562</th>\n",
       "      <td>0.734</td>\n",
       "      <td>0.979</td>\n",
       "      <td>0.872</td>\n",
       "      <td>889</td>\n",
       "      <td>6545</td>\n",
       "      <td>2685</td>\n",
       "      <td>12</td>\n",
       "      <td>15</td>\n",
       "    </tr>\n",
       "    <tr>\n",
       "      <th>441_PUM2_K562</th>\n",
       "      <td>0.719</td>\n",
       "      <td>0.980</td>\n",
       "      <td>0.871</td>\n",
       "      <td>892</td>\n",
       "      <td>6391</td>\n",
       "      <td>2839</td>\n",
       "      <td>9</td>\n",
       "      <td>20</td>\n",
       "    </tr>\n",
       "  </tbody>\n",
       "</table>\n",
       "</div>"
      ],
      "text/plain": [
       "               accuracy  AUROC  AUPRC   TP    TN    FP   FN  pos_weight\n",
       "441_PUM2_K562     0.854  0.965  0.789  852  7799  1431   49           1\n",
       "441_PUM2_K562     0.948  0.974  0.853  796  8808   422  105           2\n",
       "441_PUM2_K562     0.807  0.976  0.867  877  7302  1928   24           5\n",
       "441_PUM2_K562     0.779  0.982  0.894  891  7003  2227   10          10\n",
       "441_PUM2_K562     0.734  0.979  0.872  889  6545  2685   12          15\n",
       "441_PUM2_K562     0.719  0.980  0.871  892  6391  2839    9          20"
      ]
     },
     "execution_count": 6,
     "metadata": {},
     "output_type": "execute_result"
    }
   ],
   "source": [
    "alldf.sort_values(by = 'pos_weight')"
   ]
  },
  {
   "cell_type": "code",
   "execution_count": 11,
   "id": "b01e70eb",
   "metadata": {},
   "outputs": [
    {
     "data": {
      "text/plain": [
       "Text(0.5, 1.0, 'Trying different weight for positive labels')"
      ]
     },
     "execution_count": 11,
     "metadata": {},
     "output_type": "execute_result"
    },
    {
     "data": {
      "image/png": "[encoded data removed]",
      "text/plain": [
       "<Figure size 432x288 with 1 Axes>"
      ]
     },
     "metadata": {
      "needs_background": "light"
     },
     "output_type": "display_data"
    }
   ],
   "source": [
    "import matplotlib.pyplot as plt\n",
    "alldf.sort_values(by = 'pos_weight').plot(x = 'pos_weight', y = 'AUPRC')\n",
    "plt.ylabel('AUPRC')\n",
    "\n",
    "plt.title('Trying different weight for positive labels')"
   ]
  },
  {
   "cell_type": "code",
   "execution_count": null,
   "id": "b64c07f9",
   "metadata": {},
   "outputs": [],
   "source": []
  }
 ],
 "metadata": {
  "kernelspec": {
   "display_name": "Python 3 (clean)",
   "language": "python",
   "name": "python3_clean"
  },
  "language_info": {
   "codemirror_mode": {
    "name": "ipython",
    "version": 3
   },
   "file_extension": ".py",
   "mimetype": "text/x-python",
   "name": "python",
   "nbconvert_exporter": "python",
   "pygments_lexer": "ipython3",
   "version": "3.9.5"
  }
 },
 "nbformat": 4,
 "nbformat_minor": 5
}
