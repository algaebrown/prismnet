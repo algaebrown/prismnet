{
 "cells": [
  {
   "cell_type": "markdown",
   "id": "b649278e",
   "metadata": {},
   "source": [
    "#follow this to install prismnet\n",
    "https://github.com/kuixu/PrismNet"
   ]
  },
  {
   "cell_type": "code",
   "execution_count": 1,
   "id": "100ca6f3",
   "metadata": {},
   "outputs": [
    {
     "name": "stdout",
     "output_type": "stream",
     "text": [
      "Requirement already satisfied: logomaker in /opt/conda/lib/python3.9/site-packages (0.8)\n",
      "Requirement already satisfied: numpy in /home/hsher/.local/lib/python3.9/site-packages (from logomaker) (1.22.2)\n",
      "Requirement already satisfied: pandas in /opt/conda/lib/python3.9/site-packages (from logomaker) (1.3.4)\n",
      "Requirement already satisfied: matplotlib in /opt/conda/lib/python3.9/site-packages (from logomaker) (3.4.2)\n",
      "Requirement already satisfied: kiwisolver>=1.0.1 in /opt/conda/lib/python3.9/site-packages (from matplotlib->logomaker) (1.3.1)\n",
      "Requirement already satisfied: cycler>=0.10 in /opt/conda/lib/python3.9/site-packages (from matplotlib->logomaker) (0.10.0)\n",
      "Requirement already satisfied: pyparsing>=2.2.1 in /opt/conda/lib/python3.9/site-packages (from matplotlib->logomaker) (2.4.7)\n",
      "Requirement already satisfied: pillow>=6.2.0 in /opt/conda/lib/python3.9/site-packages (from matplotlib->logomaker) (6.2.2)\n",
      "Requirement already satisfied: python-dateutil>=2.7 in /opt/conda/lib/python3.9/site-packages (from matplotlib->logomaker) (2.8.2)\n",
      "Requirement already satisfied: pytz>=2017.3 in /opt/conda/lib/python3.9/site-packages (from pandas->logomaker) (2021.1)\n",
      "Requirement already satisfied: six in /opt/conda/lib/python3.9/site-packages (from cycler>=0.10->matplotlib->logomaker) (1.15.0)\n",
      "\u001b[33mWARNING: You are using pip version 22.0.3; however, version 23.2.1 is available.\n",
      "You should consider upgrading via the '/opt/conda/bin/python3.9 -m pip install --upgrade pip' command.\u001b[0m\u001b[33m\n",
      "\u001b[0mRequirement already satisfied: pyBigWig in /opt/conda/lib/python3.9/site-packages (0.3.22)\n",
      "\u001b[33mWARNING: You are using pip version 22.0.3; however, version 23.2.1 is available.\n",
      "You should consider upgrading via the '/opt/conda/bin/python3.9 -m pip install --upgrade pip' command.\u001b[0m\u001b[33m\n",
      "\u001b[0m"
     ]
    }
   ],
   "source": [
    "!pip install logomaker\n",
    "!pip install pyBigWig"
   ]
  },
  {
   "cell_type": "code",
   "execution_count": 2,
   "id": "0e17a279",
   "metadata": {},
   "outputs": [],
   "source": [
    "import argparse, os, random\n",
    "import torch\n",
    "import torch.nn as nn\n",
    "import torch.nn.functional as F\n",
    "import torch.optim as optim\n",
    "from torch.optim import lr_scheduler\n",
    "\n",
    "\n",
    "\n",
    "from sklearn import metrics\n",
    "import numpy as np\n",
    "\n",
    "import prismnet.model as arch\n",
    "from prismnet import train, validate, inference, log_print, compute_saliency, compute_saliency_img, compute_high_attention_region\n",
    "#compute_high_attention_region\n",
    "\n",
    "# from prismnet.engine.train_loop import \n",
    "from prismnet.model.utils import GradualWarmupScheduler\n",
    "from prismnet.loader import SeqicSHAPE\n",
    "from prismnet.utils import datautils"
   ]
  },
  {
   "cell_type": "code",
   "execution_count": 3,
   "id": "1218a44d",
   "metadata": {},
   "outputs": [],
   "source": [
    "import pandas as pd\n",
    "outstem = 'K562_rep6'\n",
    "rbp = 'SF3B4'\n",
    "motif = 'GGAG'\n",
    "megaoutput = pd.read_csv(f'../data/ABC_data/{outstem}.megaoutputs_masked.tsv', sep = '\\t')\n",
    "seq = pd.read_csv(f'../data/ABC_data/tsv/{outstem}.DDX3.tsv', sep = '\\t', names = ['chrom', 'name', \n",
    "                                                                                 'seq', 'struct', 'label', 'start'])"
   ]
  },
  {
   "cell_type": "code",
   "execution_count": 4,
   "id": "791872bc",
   "metadata": {},
   "outputs": [
    {
     "data": {
      "text/html": [
       "<div>\n",
       "<style scoped>\n",
       "    .dataframe tbody tr th:only-of-type {\n",
       "        vertical-align: middle;\n",
       "    }\n",
       "\n",
       "    .dataframe tbody tr th {\n",
       "        vertical-align: top;\n",
       "    }\n",
       "\n",
       "    .dataframe thead th {\n",
       "        text-align: right;\n",
       "    }\n",
       "</style>\n",
       "<table border=\"1\" class=\"dataframe\">\n",
       "  <thead>\n",
       "    <tr style=\"text-align: right;\">\n",
       "      <th></th>\n",
       "      <th>chrom</th>\n",
       "      <th>name</th>\n",
       "      <th>seq</th>\n",
       "      <th>struct</th>\n",
       "      <th>label</th>\n",
       "      <th>start</th>\n",
       "    </tr>\n",
       "  </thead>\n",
       "  <tbody>\n",
       "    <tr>\n",
       "      <th>0</th>\n",
       "      <td>chr1</td>\n",
       "      <td>1</td>\n",
       "      <td>ATTAATCCCCTGGCCCAACCCGTCATCTACTCTACCATCTTTGCAG...</td>\n",
       "      <td>-1.0,-1.0,-1.0,-1.0,-1.0,0.5,0.4,0.2,0.2,0.3,0...</td>\n",
       "      <td>-1</td>\n",
       "      <td>629639</td>\n",
       "    </tr>\n",
       "    <tr>\n",
       "      <th>1</th>\n",
       "      <td>chr1</td>\n",
       "      <td>10</td>\n",
       "      <td>CACCCTCCTTAACCTCTACTTCTACCTGCGCCTAATCTACTCCACC...</td>\n",
       "      <td>0.5,0.1,0.2,0.0,0.0,0.0,0.1,0.0,0.0,0.0,0.3,0....</td>\n",
       "      <td>-1</td>\n",
       "      <td>630493</td>\n",
       "    </tr>\n",
       "    <tr>\n",
       "      <th>2</th>\n",
       "      <td>chr1</td>\n",
       "      <td>100013</td>\n",
       "      <td>GCCCGCCTCTGCCTCCCAAAGTGCTGGGATTACAGGCCTGAGCCAC...</td>\n",
       "      <td>NaN</td>\n",
       "      <td>-1</td>\n",
       "      <td>65435609</td>\n",
       "    </tr>\n",
       "    <tr>\n",
       "      <th>3</th>\n",
       "      <td>chr1</td>\n",
       "      <td>100014</td>\n",
       "      <td>CCAATAGAACCAAAATATTTATGAGGATGCTAGCATTTTCCAAGCA...</td>\n",
       "      <td>NaN</td>\n",
       "      <td>-1</td>\n",
       "      <td>65435708</td>\n",
       "    </tr>\n",
       "    <tr>\n",
       "      <th>4</th>\n",
       "      <td>chr1</td>\n",
       "      <td>100015</td>\n",
       "      <td>TGTGCATTTTAATTTAATTCTCCTTTTTCCATTTTGTCTCATGAAG...</td>\n",
       "      <td>NaN</td>\n",
       "      <td>-1</td>\n",
       "      <td>65435808</td>\n",
       "    </tr>\n",
       "  </tbody>\n",
       "</table>\n",
       "</div>"
      ],
      "text/plain": [
       "  chrom    name                                                seq  \\\n",
       "0  chr1       1  ATTAATCCCCTGGCCCAACCCGTCATCTACTCTACCATCTTTGCAG...   \n",
       "1  chr1      10  CACCCTCCTTAACCTCTACTTCTACCTGCGCCTAATCTACTCCACC...   \n",
       "2  chr1  100013  GCCCGCCTCTGCCTCCCAAAGTGCTGGGATTACAGGCCTGAGCCAC...   \n",
       "3  chr1  100014  CCAATAGAACCAAAATATTTATGAGGATGCTAGCATTTTCCAAGCA...   \n",
       "4  chr1  100015  TGTGCATTTTAATTTAATTCTCCTTTTTCCATTTTGTCTCATGAAG...   \n",
       "\n",
       "                                              struct  label     start  \n",
       "0  -1.0,-1.0,-1.0,-1.0,-1.0,0.5,0.4,0.2,0.2,0.3,0...     -1    629639  \n",
       "1  0.5,0.1,0.2,0.0,0.0,0.0,0.1,0.0,0.0,0.0,0.3,0....     -1    630493  \n",
       "2                                                NaN     -1  65435609  \n",
       "3                                                NaN     -1  65435708  \n",
       "4                                                NaN     -1  65435808  "
      ]
     },
     "execution_count": 4,
     "metadata": {},
     "output_type": "execute_result"
    }
   ],
   "source": [
    "seq.head()"
   ]
  },
  {
   "cell_type": "code",
   "execution_count": 5,
   "id": "aa595cc4",
   "metadata": {},
   "outputs": [],
   "source": [
    "max_length=seq['seq'].str.len().max()"
   ]
  },
  {
   "cell_type": "markdown",
   "id": "55ab7509",
   "metadata": {},
   "source": [
    "# Evaluate training"
   ]
  },
  {
   "cell_type": "code",
   "execution_count": 6,
   "id": "f42590f7",
   "metadata": {},
   "outputs": [],
   "source": [
    "# plot training curve\n",
    "curve = pd.read_csv(f'../data/ABC_data/{outstem}.training_curve.csv')"
   ]
  },
  {
   "cell_type": "code",
   "execution_count": 7,
   "id": "499a7bbc",
   "metadata": {},
   "outputs": [
    {
     "data": {
      "text/plain": [
       "type\n",
       "test     AxesSubplot(0.125,0.125;0.775x0.755)\n",
       "train    AxesSubplot(0.125,0.125;0.775x0.755)\n",
       "Name: loss, dtype: object"
      ]
     },
     "execution_count": 7,
     "metadata": {},
     "output_type": "execute_result"
    },
    {
     "data": {
      "image/png": "[encoded data removed]",
      "text/plain": [
       "<Figure size 432x288 with 1 Axes>"
      ]
     },
     "metadata": {
      "needs_background": "light"
     },
     "output_type": "display_data"
    }
   ],
   "source": [
    "curve.set_index('epoch').groupby(by = 'type')['loss'].plot(legend = True)"
   ]
  },
  {
   "cell_type": "markdown",
   "id": "d00f0a8b",
   "metadata": {},
   "source": [
    "# visualize"
   ]
  },
  {
   "cell_type": "code",
   "execution_count": 8,
   "id": "e21ced47",
   "metadata": {},
   "outputs": [
    {
     "data": {
      "text/plain": [
       "<AxesSubplot:>"
      ]
     },
     "execution_count": 8,
     "metadata": {},
     "output_type": "execute_result"
    },
    {
     "data": {
      "image/png": "[encoded data removed]",
      "text/plain": [
       "<Figure size 432x288 with 1 Axes>"
      ]
     },
     "metadata": {
      "needs_background": "light"
     },
     "output_type": "display_data"
    }
   ],
   "source": [
    "megaoutput[f'logLR:{outstem}.{rbp}'].hist()"
   ]
  },
  {
   "cell_type": "code",
   "execution_count": 9,
   "id": "8b419915",
   "metadata": {},
   "outputs": [],
   "source": [
    "positive = megaoutput.loc[megaoutput[f'logLR:{outstem}.{rbp}']>2]"
   ]
  },
  {
   "cell_type": "code",
   "execution_count": 10,
   "id": "a8b0b266",
   "metadata": {},
   "outputs": [
    {
     "name": "stderr",
     "output_type": "stream",
     "text": [
      "/tmp/ipykernel_13507/4225601108.py:1: SettingWithCopyWarning: \n",
      "A value is trying to be set on a copy of a slice from a DataFrame.\n",
      "Try using .loc[row_indexer,col_indexer] = value instead\n",
      "\n",
      "See the caveats in the documentation: https://pandas.pydata.org/pandas-docs/stable/user_guide/indexing.html#returning-a-view-versus-a-copy\n",
      "  positive['logLR_bin'] = pd.cut(positive[f'logLR:{outstem}.{rbp}'], bins = 5)\n"
     ]
    }
   ],
   "source": [
    "positive['logLR_bin'] = pd.cut(positive[f'logLR:{outstem}.{rbp}'], bins = 5)"
   ]
  },
  {
   "cell_type": "code",
   "execution_count": 11,
   "id": "bce37e7b",
   "metadata": {},
   "outputs": [
    {
     "data": {
      "text/plain": [
       "(1.997, 6.551]      5330\n",
       "(6.551, 11.082]     1511\n",
       "(11.082, 15.614]     502\n",
       "(15.614, 20.145]      89\n",
       "(20.145, 24.677]       7\n",
       "Name: logLR_bin, dtype: int64"
      ]
     },
     "execution_count": 11,
     "metadata": {},
     "output_type": "execute_result"
    }
   ],
   "source": [
    "positive['logLR_bin'].value_counts()"
   ]
  },
  {
   "cell_type": "code",
   "execution_count": 12,
   "id": "d16d2863",
   "metadata": {},
   "outputs": [
    {
     "data": {
      "text/plain": [
       "<AxesSubplot:>"
      ]
     },
     "execution_count": 12,
     "metadata": {},
     "output_type": "execute_result"
    },
    {
     "data": {
      "image/png": "[encoded data removed]",
      "text/plain": [
       "<Figure size 432x288 with 1 Axes>"
      ]
     },
     "metadata": {
      "needs_background": "light"
     },
     "output_type": "display_data"
    }
   ],
   "source": [
    "# only plot specific outputs\n",
    "sample_size = 64\n",
    "subset = []\n",
    "# select specific logLR as outputs\n",
    "#subset = megaoutput.loc[megaoutput[f'{outstem}.{rbp}']].sample(sample_size)\n",
    "for name,group in positive.groupby(by=['logLR_bin']):\n",
    "    try:\n",
    "        subset.append(group.sample(sample_size))\n",
    "    except:\n",
    "        subset.append(group)\n",
    "subset = pd.concat(subset, axis = 0)           \n",
    "subset[f'logLR:{outstem}.{rbp}'].hist()"
   ]
  },
  {
   "cell_type": "code",
   "execution_count": 13,
   "id": "3b0696d9",
   "metadata": {},
   "outputs": [],
   "source": [
    "from prismnet.utils import datautils"
   ]
  },
  {
   "cell_type": "code",
   "execution_count": 14,
   "id": "651c1c4e",
   "metadata": {},
   "outputs": [],
   "source": [
    "subset_seq_df = seq.set_index('name').loc[subset['name'].tolist(), ['seq']]"
   ]
  },
  {
   "cell_type": "code",
   "execution_count": 15,
   "id": "bb3ed170",
   "metadata": {},
   "outputs": [
    {
     "data": {
      "text/plain": [
       "(263, 1)"
      ]
     },
     "execution_count": 15,
     "metadata": {},
     "output_type": "execute_result"
    }
   ],
   "source": [
    "subset_seq_df.shape"
   ]
  },
  {
   "cell_type": "code",
   "execution_count": 16,
   "id": "651132bd",
   "metadata": {},
   "outputs": [
    {
     "data": {
      "text/plain": [
       "(263, 4, 100)"
      ]
     },
     "execution_count": 16,
     "metadata": {},
     "output_type": "execute_result"
    }
   ],
   "source": [
    "one_hot = datautils.convert_one_hot(subset_seq_df['seq'].tolist(), max_length)\n",
    "one_hot.shape # N, 4, max_length"
   ]
  },
  {
   "cell_type": "code",
   "execution_count": 17,
   "id": "4f56775e",
   "metadata": {},
   "outputs": [],
   "source": [
    "data = one_hot"
   ]
  },
  {
   "cell_type": "code",
   "execution_count": 18,
   "id": "54c692bb",
   "metadata": {},
   "outputs": [],
   "source": [
    "# targets: predict binary\n",
    "target_col = subset.columns[(subset.columns.str.startswith('logLR'))&(subset.columns.str.contains(outstem))]\n",
    "target_df = subset[target_col]"
   ]
  },
  {
   "cell_type": "code",
   "execution_count": 19,
   "id": "89910e8d",
   "metadata": {},
   "outputs": [
    {
     "data": {
      "text/plain": [
       "(263, 10)"
      ]
     },
     "execution_count": 19,
     "metadata": {},
     "output_type": "execute_result"
    }
   ],
   "source": [
    "targets = target_df.values\n",
    "targets.shape"
   ]
  },
  {
   "cell_type": "code",
   "execution_count": 20,
   "id": "901d5d3d",
   "metadata": {},
   "outputs": [],
   "source": [
    "rbp_idx=np.where(target_col.str.contains(rbp))[0][0]"
   ]
  },
  {
   "cell_type": "code",
   "execution_count": 21,
   "id": "55fd1596",
   "metadata": {},
   "outputs": [],
   "source": [
    "train, test = datautils.split_dataset(data, targets, valid_frac=0.2)\n",
    "\n",
    "target_data_type = np.float32"
   ]
  },
  {
   "cell_type": "code",
   "execution_count": 22,
   "id": "90b10c26",
   "metadata": {},
   "outputs": [],
   "source": [
    "from prismnet.model.PrismNet import *\n",
    "class PrismNet_Multitask(nn.Module):\n",
    "    def __init__(self, mode=\"pu\", output_dim=10):\n",
    "        super(PrismNet_Multitask, self).__init__()\n",
    "        self.mode = mode\n",
    "        h_p, h_k = 2, 5 \n",
    "        if mode==\"pu\":\n",
    "            self.n_features = 5\n",
    "        elif mode==\"seq\":\n",
    "            self.n_features = 4\n",
    "            h_p, h_k = 1, 3 \n",
    "        elif mode==\"str\":\n",
    "            self.n_features = 1\n",
    "            h_p, h_k = 0, 1\n",
    "        else:\n",
    "            raise \"mode error\"\n",
    "        \n",
    "        base_channel = 8\n",
    "        self.conv    = Conv2d(1, base_channel, kernel_size=(11, h_k), bn = True, same_padding=True)\n",
    "        self.se      = SEBlock(base_channel)\n",
    "        self.res2d   = ResidualBlock2D(base_channel, kernel_size=(11, h_k), padding=(5, h_p)) \n",
    "        self.res1d   = ResidualBlock1D(base_channel*4) \n",
    "        self.avgpool = nn.AvgPool2d((1,self.n_features))\n",
    "        self.gpool   = nn.AdaptiveAvgPool1d(1)\n",
    "        self.fc      = nn.Linear(base_channel*4*8, output_dim)\n",
    "        self._initialize_weights()\n",
    "\n",
    "    def _initialize_weights(self):\n",
    "        for m in self.modules():\n",
    "            if isinstance(m, nn.Conv2d):\n",
    "                nn.init.kaiming_normal_(m.weight, mode='fan_out', nonlinearity='relu')\n",
    "                if m.bias is not None:\n",
    "                    nn.init.constant_(m.bias, 0)\n",
    "            elif isinstance(m, nn.Conv1d):\n",
    "                nn.init.kaiming_normal_(m.weight, mode='fan_out', nonlinearity='relu')\n",
    "                if m.bias is not None:\n",
    "                    nn.init.constant_(m.bias, 0)\n",
    "            elif isinstance(m, nn.BatchNorm2d):\n",
    "                nn.init.constant_(m.weight, 1)\n",
    "                nn.init.constant_(m.bias, 0)\n",
    "            elif isinstance(m, nn.BatchNorm1d):\n",
    "                nn.init.constant_(m.weight, 1)\n",
    "                nn.init.constant_(m.bias, 0)\n",
    "            elif isinstance(m, nn.Linear):\n",
    "                nn.init.normal_(m.weight, 0, 0.01)\n",
    "                nn.init.constant_(m.bias, 0)\n",
    "    \n",
    "    def forward(self, input):\n",
    "        \"\"\"[forward]\n",
    "        \n",
    "        Args:\n",
    "            input ([tensor],N,C,W,H): input features\n",
    "        \"\"\"\n",
    "        if self.mode==\"seq\":\n",
    "            input = input[:,:,:,:4]\n",
    "        elif self.mode==\"str\":\n",
    "            input = input[:,:,:,4:]\n",
    "        x = self.conv(input)\n",
    "        x = F.dropout(x, 0.1, training=self.training)\n",
    "        z = self.se(x)\n",
    "        x = self.res2d(x*z)\n",
    "        x = F.dropout(x, 0.5, training=self.training)\n",
    "        x = self.avgpool(x)\n",
    "        x = x.view(x.shape[0], x.shape[1], x.shape[2])\n",
    "        x = self.res1d(x)\n",
    "        x = F.dropout(x, 0.3, training=self.training)\n",
    "        x = self.gpool(x)\n",
    "        x = x.view(x.shape[0], x.shape[1])\n",
    "        x = self.fc(x)\n",
    "        return x"
   ]
  },
  {
   "cell_type": "code",
   "execution_count": 23,
   "id": "d15e2859",
   "metadata": {},
   "outputs": [
    {
     "data": {
      "text/plain": [
       "<All keys matched successfully>"
      ]
     },
     "execution_count": 23,
     "metadata": {},
     "output_type": "execute_result"
    }
   ],
   "source": [
    "model = PrismNet_Multitask(mode = 'seq', output_dim = targets.shape[1])\n",
    "use_cuda = torch.cuda.is_available()\n",
    "device = torch.device(\"cuda\" if use_cuda else \"cpu\")\n",
    "model = model.to(device)\n",
    "model.load_state_dict(torch.load(f'../data/ABC_data/{outstem}.mask.model.pt'))"
   ]
  },
  {
   "cell_type": "code",
   "execution_count": 24,
   "id": "bfcb7fc4",
   "metadata": {},
   "outputs": [],
   "source": [
    "class SeqicSHAPE_Multitask(torch.utils.data.Dataset):\n",
    "    def __init__(self, X, Y, is_infer=False, use_structure=True):\n",
    "        \"\"\"data loader\n",
    "        \n",
    "        Args:\n",
    "            data_path ([str]): h5 file path\n",
    "            is_test (bool, optional): testset or not. Defaults to False.\n",
    "        \"\"\"\n",
    "        if is_infer:\n",
    "            self.dataset = self.__load_infer_data__(data_path, use_structure=use_structure)\n",
    "            print(\"infer data: \", self.__len__(),\" use_structure: \", use_structure)\n",
    "        else:\n",
    "#             dataset = h5py.File(data_path, 'r')\n",
    "#             X_train = np.array(dataset['X_train']).astype(np.float32)\n",
    "#             Y_train = np.array(dataset['Y_train']).astype(np.int32)\n",
    "#             X_test  = np.array(dataset['X_test']).astype(np.float32)\n",
    "#             Y_test  = np.array(dataset['Y_test']).astype(np.int32)\n",
    "            X = np.array(X).astype(np.float32)\n",
    "            Y = np.array(Y).astype(np.float32)\n",
    "#             if len(Y_train.shape) == 1:\n",
    "#                 Y_train = np.expand_dims(Y_train, axis=1)\n",
    "#                 Y_test  = np.expand_dims(Y_test, axis=1)\n",
    "            X = np.expand_dims(X, axis=3).transpose([0, 3, 2, 1]) # N, 1, length, channel\n",
    "            \n",
    "\n",
    "            \n",
    "\n",
    "#             labels, nums = np.unique(Y_train,return_counts=True)\n",
    "#             print(\"train:\", labels, nums)\n",
    "#             labels, nums = np.unique(Y_test,return_counts=True)\n",
    "#             print(\"test:\", labels, nums)\n",
    "\n",
    "#             train = self.__prepare_data__(train)\n",
    "#             test  = self.__prepare_data__(test)\n",
    "\n",
    "            \n",
    "            self.dataset = {'inputs': X, 'targets': Y}\n",
    "            \n",
    "\n",
    "        \n",
    "\n",
    "    def __load_infer_data__(self, data_path, use_structure=True):\n",
    "        from prismnet.utils import datautils\n",
    "        dataset = datautils.load_testset_txt(data_path, use_structure=use_structure, seq_length=101)\n",
    "        return dataset\n",
    "       \n",
    "    \n",
    "    def __prepare_data__(self, data):\n",
    "        inputs    = data['inputs'][:,:,:,:4]\n",
    "        structure = data['inputs'][:,:,:,4:]\n",
    "        structure = np.expand_dims(structure[:,:,:,0], axis=3)\n",
    "        inputs    = np.concatenate([inputs, structure], axis=3)\n",
    "        data['inputs']  = inputs\n",
    "        return data\n",
    "\n",
    "    def __to_sequence__(self, x):\n",
    "        x1 = np.zeros_like(x[0,:,:1])\n",
    "        for i in range(x1.shape[0]):\n",
    "            # import pdb; pdb.set_trace()\n",
    "            x1[i] = np.argmax(x[0,i,:4])\n",
    "            # import pdb; pdb.set_trace()\n",
    "        return x1\n",
    "\n",
    "    def __getitem__(self, index):\n",
    "        \"\"\"\n",
    "        Args:\n",
    "            index (int): Index\n",
    "\n",
    "        Returns:\n",
    "            tuple: (image, target) where target is index of the target class.\n",
    "        \"\"\"\n",
    "        x = self.dataset['inputs'][index]\n",
    "        # x = self.__to_sequence__(x)\n",
    "        y = self.dataset['targets'][index]\n",
    "        return x, y\n",
    "\n",
    "\n",
    "    def __len__(self):\n",
    "        return len(self.dataset['inputs'])\n",
    "\n"
   ]
  },
  {
   "cell_type": "code",
   "execution_count": 25,
   "id": "59e3822a",
   "metadata": {},
   "outputs": [
    {
     "name": "stdout",
     "output_type": "stream",
     "text": [
      "Test  set: 263\n"
     ]
    }
   ],
   "source": [
    "import numpy as np\n",
    "kwargs = {'num_workers': 2, 'pin_memory': True} if use_cuda else {}\n",
    "# train_loader = torch.utils.data.DataLoader(\n",
    "    \n",
    "    \n",
    "#     SeqicSHAPE_Multitask(train[0], train[1], is_infer=False, use_structure=False), \n",
    "# batch_size=64, shuffle=True,  **kwargs)\n",
    "\n",
    "test_loader  = torch.utils.data.DataLoader(\n",
    "    SeqicSHAPE_Multitask(data, targets, is_infer=False, use_structure=False),\n",
    "batch_size=64*8, shuffle=False, **kwargs)\n",
    "\n",
    "#print(\"Train set:\", len(train_loader.dataset)) #X_train (example=91099, ATCGshape=5, length=101)\n",
    "#X_train (example=91099, ATCGshape=5, length=101)\n",
    "#Y_train (example=91099, binary_outcome=1))\n",
    "print(\"Test  set:\", len(test_loader.dataset))"
   ]
  },
  {
   "cell_type": "code",
   "execution_count": 26,
   "id": "e6ae85cf",
   "metadata": {},
   "outputs": [],
   "source": [
    "def train(model, device, train_loader, criterion, optimizer):\n",
    "    ''' train for one epoch'''\n",
    "    model.train()\n",
    "    epoch_loss = 0\n",
    "    for batch_idx, (x0, y0) in enumerate(train_loader):\n",
    "        x, y = x0.float().to(device), y0.to(device).float()\n",
    "        \n",
    "        optimizer.zero_grad()\n",
    "        output = model(x)\n",
    "        \n",
    "        loss = criterion(output, y)\n",
    "        epoch_loss+=loss.item()\n",
    "        loss.backward()\n",
    "        \n",
    "        torch.nn.utils.clip_grad_norm_(model.parameters(), 5)\n",
    "        optimizer.step()\n",
    "\n",
    "    return epoch_loss\n",
    "def validate(model, device, test_loader, criterion):\n",
    "    model.eval()\n",
    "    y_all = []\n",
    "    p_all = []\n",
    "    l_all = []\n",
    "    epoch_loss = 0\n",
    "    with torch.no_grad():\n",
    "        for batch_idx, (x0, y0) in enumerate(test_loader):\n",
    "            x, y = x0.float().to(device), y0.to(device).float()\n",
    "            \n",
    "            \n",
    "            output  = model(x)\n",
    "            loss = criterion(output, y)\n",
    "            \n",
    "            epoch_loss += loss.item()\n",
    "            y_np = output.to(device='cpu', dtype=torch.float32).numpy()\n",
    "            y_all.append(y_np)\n",
    "            \n",
    "\n",
    "    return epoch_loss, y_all"
   ]
  },
  {
   "cell_type": "code",
   "execution_count": 27,
   "id": "04293561",
   "metadata": {},
   "outputs": [],
   "source": [
    "optimizer = torch.optim.Adam(model.parameters(), lr=0.0001, betas=(0.9, 0.999), weight_decay=1e-6)\n",
    "nepoch = 60\n",
    "scheduler = GradualWarmupScheduler(\n",
    "    optimizer, multiplier=8, total_epoch=nepoch, after_scheduler=None)\n",
    "criterion = torch.nn.MSELoss()\n",
    "batch_size= 64"
   ]
  },
  {
   "cell_type": "code",
   "execution_count": 28,
   "id": "614f8678",
   "metadata": {},
   "outputs": [],
   "source": [
    "loss_test, y_test_pred = validate(model, device, test_loader, criterion)"
   ]
  },
  {
   "cell_type": "code",
   "execution_count": 29,
   "id": "544be972",
   "metadata": {},
   "outputs": [
    {
     "data": {
      "text/plain": [
       "(525, 4, 100)"
      ]
     },
     "execution_count": 29,
     "metadata": {},
     "output_type": "execute_result"
    }
   ],
   "source": [
    "test[0].shape"
   ]
  },
  {
   "cell_type": "code",
   "execution_count": 30,
   "id": "a875117e",
   "metadata": {},
   "outputs": [
    {
     "name": "stdout",
     "output_type": "stream",
     "text": [
      "(-0.11882133089775863, 0.3497088367484752)\n"
     ]
    },
    {
     "data": {
      "image/png": "[encoded data removed]",
      "text/plain": [
       "<Figure size 432x288 with 1 Axes>"
      ]
     },
     "metadata": {
      "needs_background": "light"
     },
     "output_type": "display_data"
    },
    {
     "name": "stdout",
     "output_type": "stream",
     "text": [
      "(-0.1478641230331873, 0.24360577057122446)\n"
     ]
    },
    {
     "data": {
      "image/png": "[encoded data removed]",
      "text/plain": [
       "<Figure size 432x288 with 1 Axes>"
      ]
     },
     "metadata": {
      "needs_background": "light"
     },
     "output_type": "display_data"
    },
    {
     "name": "stdout",
     "output_type": "stream",
     "text": [
      "(0.1295806000199098, 0.3074800720921381)\n"
     ]
    },
    {
     "data": {
      "image/png": "[encoded data removed]",
      "text/plain": [
       "<Figure size 432x288 with 1 Axes>"
      ]
     },
     "metadata": {
      "needs_background": "light"
     },
     "output_type": "display_data"
    },
    {
     "name": "stdout",
     "output_type": "stream",
     "text": [
      "(-0.07450378985599476, 0.5584823906447326)\n"
     ]
    },
    {
     "data": {
      "image/png": "[encoded data removed]",
      "text/plain": [
       "<Figure size 432x288 with 1 Axes>"
      ]
     },
     "metadata": {
      "needs_background": "light"
     },
     "output_type": "display_data"
    },
    {
     "name": "stdout",
     "output_type": "stream",
     "text": [
      "(-0.008351917833698937, 0.9477762389179947)\n"
     ]
    },
    {
     "data": {
      "image/png": "[encoded data removed]",
      "text/plain": [
       "<Figure size 432x288 with 1 Axes>"
      ]
     },
     "metadata": {
      "needs_background": "light"
     },
     "output_type": "display_data"
    },
    {
     "name": "stdout",
     "output_type": "stream",
     "text": [
      "(0.05772396274784302, 0.6504995896755357)\n"
     ]
    },
    {
     "data": {
      "image/png": "[encoded data removed]",
      "text/plain": [
       "<Figure size 432x288 with 1 Axes>"
      ]
     },
     "metadata": {
      "needs_background": "light"
     },
     "output_type": "display_data"
    },
    {
     "name": "stdout",
     "output_type": "stream",
     "text": [
      "(-0.11264593290567065, 0.3754928063149087)\n"
     ]
    },
    {
     "data": {
      "image/png": "[encoded data removed]",
      "text/plain": [
       "<Figure size 432x288 with 1 Axes>"
      ]
     },
     "metadata": {
      "needs_background": "light"
     },
     "output_type": "display_data"
    },
    {
     "name": "stdout",
     "output_type": "stream",
     "text": [
      "(0.3145808309752077, 0.011351871443872842)\n"
     ]
    },
    {
     "data": {
      "image/png": "[encoded data removed]",
      "text/plain": [
       "<Figure size 432x288 with 1 Axes>"
      ]
     },
     "metadata": {
      "needs_background": "light"
     },
     "output_type": "display_data"
    },
    {
     "name": "stdout",
     "output_type": "stream",
     "text": [
      "(-0.08062411403792363, 0.5265293423808419)\n"
     ]
    },
    {
     "data": {
      "image/png": "[encoded data removed]",
      "text/plain": [
       "<Figure size 432x288 with 1 Axes>"
      ]
     },
     "metadata": {
      "needs_background": "light"
     },
     "output_type": "display_data"
    },
    {
     "name": "stdout",
     "output_type": "stream",
     "text": [
      "(-0.0017755376547828466, 0.9888903343045483)\n"
     ]
    },
    {
     "data": {
      "image/png": "[encoded data removed]",
      "text/plain": [
       "<Figure size 432x288 with 1 Axes>"
      ]
     },
     "metadata": {
      "needs_background": "light"
     },
     "output_type": "display_data"
    }
   ],
   "source": [
    "from scipy.stats import pearsonr\n",
    "import matplotlib.pyplot as plt\n",
    "y_pred=np.concatenate(y_test_pred)\n",
    "for rbp_idx, name in zip(range(test[1].shape[1]), target_df.columns):\n",
    "    plt.scatter(test[1][:64, rbp_idx], y_pred[:64, rbp_idx])\n",
    "    plt.ylabel('Y_pred')\n",
    "    plt.xlabel('test')\n",
    "    print(pearsonr(test[1][:64, rbp_idx],y_pred[:64, rbp_idx]))\n",
    "    plt.title(name)\n",
    "    plt.show()\n",
    "    "
   ]
  },
  {
   "cell_type": "code",
   "execution_count": 31,
   "id": "6d5ac1f1",
   "metadata": {},
   "outputs": [
    {
     "name": "stderr",
     "output_type": "stream",
     "text": [
      "<>:150: SyntaxWarning: \"is\" with a literal. Did you mean \"==\"?\n",
      "<>:150: SyntaxWarning: \"is\" with a literal. Did you mean \"==\"?\n",
      "/tmp/ipykernel_13507/2063606002.py:150: SyntaxWarning: \"is\" with a literal. Did you mean \"==\"?\n",
      "  if module.__class__.__name__ is 'ReLU':\n"
     ]
    }
   ],
   "source": [
    "#!/usr/bin/env python\n",
    "# \n",
    "# Kui Xu, xukui.cs@gmail.com\n",
    "# 2019-02-25\n",
    "# ref smoothGrad\n",
    "\n",
    "import torch\n",
    "import torch.nn as nn\n",
    "import torch.nn.functional as F\n",
    "from torch.autograd import grad,Variable\n",
    "import numpy as np\n",
    "\n",
    "class SmoothGrad(object):\n",
    "    def __init__(self, model, device='cpu', only_seq=False, train=False, \n",
    "        x_stddev=0.015, t_stddev=0.015, nsamples=20, magnitude=2):\n",
    "        self.model     = model\n",
    "        self.device    = device\n",
    "        self.train     = train\n",
    "        self.only_seq  = only_seq\n",
    "        self.x_stddev  = x_stddev\n",
    "        self.t_stddev  = t_stddev\n",
    "        self.nsamples  = nsamples\n",
    "        self.magnitude = magnitude\n",
    "        self.features  = model\n",
    "        # import pdb; pdb.set_trace()\n",
    "\n",
    "    def get_gradients(self, z, pred_label=None, rbp_idx = 0):\n",
    "        self.model.eval()\n",
    "        self.model.zero_grad()\n",
    "        z = z.to(self.device)\n",
    "        z.requires_grad=True\n",
    "        output = self.model(z)\n",
    "        \n",
    "        output[:,rbp_idx].backward() # now it is a multioutput.... maybe sum is not the right way tho!\n",
    "        return z.grad\n",
    "\n",
    "    def get_smooth_gradients(self, z, y=None, rbp_idx=0):\n",
    "        return self.__call__(z, y, rbp_idx = rbp_idx)\n",
    "        \n",
    "    def __call__(self, z, y=None,rbp_idx = 0):\n",
    "        \"\"\"[summary]\n",
    "        \n",
    "        Args:\n",
    "            z ([type]): [description] X\n",
    "            y ([type]): [description] Y\n",
    "            x_stddev (float, optional): [description]. Defaults to 0.15.\n",
    "            t_stddev (float, optional): [description]. Defaults to 0.15.\n",
    "            nsamples (int, optional):   [description]. Defaults to 20.\n",
    "            magnitude (int, optional):  magnitude:0,1,2; 0: original gradient, 1: absolute value of the gradient,\n",
    "                                        2: square value of the gradient. Defaults to 2.\n",
    "        \n",
    "        Returns:\n",
    "            [type]: [description]\n",
    "        \"\"\"\n",
    "\n",
    "        # 1. for sequece\n",
    "        x = z[:,:,:,:4] # .data.cpu()\n",
    "        x_stddev   = (self.x_stddev * (x.max()-x.min())).to(self.device).item() \n",
    "\n",
    "        total_grad = torch.zeros(z.shape).to(self.device)\n",
    "        x_noise    = torch.zeros(x.shape).to(self.device)\n",
    "        if not self.only_seq:\n",
    "            # 2. for structure  \n",
    "            t = z[:,:,:,4:] #.data.cpu()\n",
    "            t_stddev = (self.t_stddev * (t.max()-t.min())).to(self.device).item() \n",
    "            #t_total_grad = torch.zeros(t.shape)\n",
    "            t_noise = torch.zeros(t.shape).to(self.device)\n",
    "\n",
    "        for i in range(self.nsamples):\n",
    "            x_plus_noise = x + x_noise.zero_().normal_(0, x_stddev)\n",
    "            if self.only_seq:\n",
    "                z_plus_noise = x_plus_noise\n",
    "            else:\n",
    "                t_plus_noise = t + t_noise.zero_().normal_(0, t_stddev)\n",
    "                z_plus_noise = torch.cat((x_plus_noise, t_plus_noise), dim=3)\n",
    "            #print(\"z_plus_noise:\",z_plus_noise.size())\n",
    "            grad = self.get_gradients(z_plus_noise, y, rbp_idx = rbp_idx)\n",
    "            if self.magnitude == 1:\n",
    "                total_grad += torch.abs(grad)\n",
    "            elif self.magnitude == 2:\n",
    "                total_grad += grad * grad\n",
    "            \n",
    "            # total_grad += grad * grad\n",
    "        total_grad /= self.nsamples\n",
    "        return total_grad\n",
    "\n",
    "    def get_batch_gradients(self, X, Y=None, rbp_idx = 0):\n",
    "        if Y is not None:\n",
    "            assert len(X) == len(Y), \"The size of input {} and target {} are not matched.\".format(len(X), len(Y))\n",
    "        g = torch.zeros_like(X)\n",
    "        for i in range(X.shape[0]):\n",
    "            x        = X[i:i+1]\n",
    "            if Y is not None:\n",
    "                y    = Y[i:i+1]\n",
    "            else:\n",
    "                y    = None\n",
    "            g[i:i+1] =  self.get_smooth_gradients(x, y, rbp_idx = rbp_idx)\n",
    "            # g[i:i+1] =  self.get_gradients(x, y)\n",
    "        return g\n",
    "\n",
    "\n",
    "def generate_saliency(model, x, y=None, smooth=False, nsamples=2, stddev=0.15, only_seq=False, \\\n",
    "    train=False):\n",
    "    saliency = SmoothGrad(model, only_seq, train)\n",
    "    x_grad   = saliency.get_smooth_gradients(x, y, nsamples=nsamples, x_stddev=stddev, t_stddev=stddev)\n",
    "    return x_grad\n",
    "\n",
    "\n",
    "\n",
    "class GuidedBackpropReLU(torch.autograd.Function):\n",
    "\n",
    "    def __init__(self, inplace=False):\n",
    "        super(GuidedBackpropReLU, self).__init__()\n",
    "        self.inplace = inplace\n",
    "\n",
    "    def forward(self, input):\n",
    "        pos_mask = (input > 0).type_as(input)\n",
    "        output = torch.addcmul(\n",
    "            torch.zeros(input.size()).type_as(input),\n",
    "            input,\n",
    "            pos_mask)\n",
    "        self.save_for_backward(input, output)\n",
    "        return output\n",
    "\n",
    "    def backward(self, grad_output):\n",
    "        input, output = self.saved_tensors\n",
    "\n",
    "        pos_mask_1 = (input > 0).type_as(grad_output)\n",
    "        pos_mask_2 = (grad_output > 0).type_as(grad_output)\n",
    "        grad_input = torch.addcmul(\n",
    "            torch.zeros(input.size()).type_as(input),\n",
    "            torch.addcmul(\n",
    "                torch.zeros(input.size()).type_as(input), grad_output, pos_mask_1),\n",
    "                pos_mask_2)\n",
    "\n",
    "        return grad_input\n",
    "\n",
    "    def __repr__(self):\n",
    "        inplace_str = ', inplace' if self.inplace else ''\n",
    "        return self.__class__.__name__ + ' (' \\\n",
    "            + inplace_str + ')'\n",
    "\n",
    "class GuidedBackpropSmoothGrad(SmoothGrad):\n",
    "\n",
    "    def __init__(self, model, device='cpu', only_seq=False, train=False, \n",
    "        x_stddev=0.15, t_stddev=0.15, nsamples=20, magnitude=2):\n",
    "        super(GuidedBackpropSmoothGrad, self).__init__(\n",
    "            model, device, only_seq, train, x_stddev, t_stddev, nsamples, magnitude)\n",
    "        for idx, module in self.features._modules.items():\n",
    "            if module.__class__.__name__ is 'ReLU':\n",
    "                self.features._modules[idx] = GuidedBackpropReLU()\n",
    "\n"
   ]
  },
  {
   "cell_type": "code",
   "execution_count": 32,
   "id": "dc1d8d30",
   "metadata": {},
   "outputs": [],
   "source": [
    "\n",
    "model.eval()\n",
    "sgrad = GuidedBackpropSmoothGrad(model, device=device, only_seq = True)"
   ]
  },
  {
   "cell_type": "code",
   "execution_count": null,
   "id": "7bc68fe8",
   "metadata": {},
   "outputs": [],
   "source": []
  },
  {
   "cell_type": "code",
   "execution_count": 33,
   "id": "6c3f2221",
   "metadata": {},
   "outputs": [
    {
     "name": "stderr",
     "output_type": "stream",
     "text": [
      "[W pthreadpool-cpp.cc:90] Warning: Leaking Caffe2 thread-pool after fork. (function pthreadpool)\n",
      "[W pthreadpool-cpp.cc:90] Warning: Leaking Caffe2 thread-pool after fork. (function pthreadpool)\n"
     ]
    }
   ],
   "source": [
    "\n",
    "for batch_idx, (x0, y0) in enumerate(test_loader):\n",
    "    X, Y = x0.float().to(device), y0.to(device).float()\n",
    "    output = model(X)\n",
    "    \n",
    "    guided_saliency = sgrad.get_batch_gradients(X, Y, rbp_idx = rbp_idx)\n",
    "    break"
   ]
  },
  {
   "cell_type": "code",
   "execution_count": 34,
   "id": "5b01caca",
   "metadata": {},
   "outputs": [],
   "source": [
    "# dot product of sequence and guided saliency\n",
    "max_saliency = (np.transpose(np.expand_dims(one_hot, axis =1), (0,1,3,2))*guided_saliency.cpu().numpy()\n",
    "               ).sum(axis = -1).max(axis = -1).squeeze(-1)"
   ]
  },
  {
   "cell_type": "code",
   "execution_count": 35,
   "id": "0bb2d376",
   "metadata": {},
   "outputs": [],
   "source": [
    "subset_seq_df['is_motif']=subset_seq_df['seq'].str.contains(motif)\n",
    "subset_seq_df['n_motif']=subset_seq_df['seq'].str.count(motif)\n",
    "subset_seq_df['max_saliency'] = max_saliency\n",
    "subset_seq_df[f'logLR:{outstem}.{rbp}'] = subset.set_index('name')[f'logLR:{outstem}.{rbp}']\n",
    "subset_seq_df['rbp_idx'] = np.arange(subset_seq_df.shape[0])"
   ]
  },
  {
   "cell_type": "code",
   "execution_count": 36,
   "id": "6b3da82b",
   "metadata": {},
   "outputs": [],
   "source": [
    "# secondary_motif = ['GCACG', 'GCUUG', 'GAAUG', 'GUUUG', 'GUAUG', 'GUGUG', 'GCCUG']\n",
    "# for m in secondary_motif:\n",
    "#     subset_seq_df[f'is_{m}']=subset_seq_df['seq'].str.contains(m)\n"
   ]
  },
  {
   "cell_type": "code",
   "execution_count": 37,
   "id": "d5ded0c6",
   "metadata": {},
   "outputs": [
    {
     "data": {
      "text/plain": [
       "True"
      ]
     },
     "execution_count": 37,
     "metadata": {},
     "output_type": "execute_result"
    }
   ],
   "source": [
    "subset_seq_df.index.tolist()==subset['name'].tolist()"
   ]
  },
  {
   "cell_type": "code",
   "execution_count": 38,
   "id": "38f76773",
   "metadata": {},
   "outputs": [
    {
     "data": {
      "text/plain": [
       "array([<AxesSubplot:title={'center':'max_saliency'}, xlabel='is_motif'>,\n",
       "       <AxesSubplot:title={'center':'logLR:K562_rep6.SF3B4'}, xlabel='is_motif'>],\n",
       "      dtype=object)"
      ]
     },
     "execution_count": 38,
     "metadata": {},
     "output_type": "execute_result"
    },
    {
     "data": {
      "image/png": "[encoded data removed]",
      "text/plain": [
       "<Figure size 432x288 with 2 Axes>"
      ]
     },
     "metadata": {
      "needs_background": "light"
     },
     "output_type": "display_data"
    }
   ],
   "source": [
    "subset_seq_df.boxplot(by = 'is_motif', column = ['max_saliency', f'logLR:{outstem}.{rbp}'])"
   ]
  },
  {
   "cell_type": "code",
   "execution_count": 39,
   "id": "2cef6463",
   "metadata": {},
   "outputs": [
    {
     "data": {
      "text/html": [
       "<div>\n",
       "<style scoped>\n",
       "    .dataframe tbody tr th:only-of-type {\n",
       "        vertical-align: middle;\n",
       "    }\n",
       "\n",
       "    .dataframe tbody tr th {\n",
       "        vertical-align: top;\n",
       "    }\n",
       "\n",
       "    .dataframe thead th {\n",
       "        text-align: right;\n",
       "    }\n",
       "</style>\n",
       "<table border=\"1\" class=\"dataframe\">\n",
       "  <thead>\n",
       "    <tr style=\"text-align: right;\">\n",
       "      <th></th>\n",
       "      <th>seq</th>\n",
       "      <th>is_motif</th>\n",
       "      <th>n_motif</th>\n",
       "      <th>max_saliency</th>\n",
       "      <th>logLR:K562_rep6.SF3B4</th>\n",
       "      <th>rbp_idx</th>\n",
       "    </tr>\n",
       "    <tr>\n",
       "      <th>name</th>\n",
       "      <th></th>\n",
       "      <th></th>\n",
       "      <th></th>\n",
       "      <th></th>\n",
       "      <th></th>\n",
       "      <th></th>\n",
       "    </tr>\n",
       "  </thead>\n",
       "  <tbody>\n",
       "    <tr>\n",
       "      <th>2262535</th>\n",
       "      <td>GTGCCTGCGGAAGAAGGAGGAGGAGGGCTGGCGATGAGAAGCAGCA...</td>\n",
       "      <td>True</td>\n",
       "      <td>2</td>\n",
       "      <td>0.147688</td>\n",
       "      <td>2.076006</td>\n",
       "      <td>0</td>\n",
       "    </tr>\n",
       "    <tr>\n",
       "      <th>5104759</th>\n",
       "      <td>GTGCGCCTTCCCTCCAGACGGGGCTGGGGCGGGCTCTGGGAAGAGC...</td>\n",
       "      <td>False</td>\n",
       "      <td>0</td>\n",
       "      <td>0.119216</td>\n",
       "      <td>4.615396</td>\n",
       "      <td>1</td>\n",
       "    </tr>\n",
       "    <tr>\n",
       "      <th>5290309</th>\n",
       "      <td>GTGAGTGGCCCCTACCCAGCCCCTCCCTGAGCCACTGGAGCCCCCT...</td>\n",
       "      <td>True</td>\n",
       "      <td>1</td>\n",
       "      <td>0.127485</td>\n",
       "      <td>2.924894</td>\n",
       "      <td>2</td>\n",
       "    </tr>\n",
       "    <tr>\n",
       "      <th>4025014</th>\n",
       "      <td>GCCGCCTGGGTTACAGACCTCCCCACAGCCTCATCTCGACTTACCT...</td>\n",
       "      <td>False</td>\n",
       "      <td>0</td>\n",
       "      <td>0.588584</td>\n",
       "      <td>3.617420</td>\n",
       "      <td>3</td>\n",
       "    </tr>\n",
       "    <tr>\n",
       "      <th>3012724</th>\n",
       "      <td>GTGCCGCTCCTGCAGGTGTCCGGGCCGCTCCTGGTGGTGCAGCTGC...</td>\n",
       "      <td>True</td>\n",
       "      <td>1</td>\n",
       "      <td>0.101262</td>\n",
       "      <td>2.364004</td>\n",
       "      <td>4</td>\n",
       "    </tr>\n",
       "    <tr>\n",
       "      <th>...</th>\n",
       "      <td>...</td>\n",
       "      <td>...</td>\n",
       "      <td>...</td>\n",
       "      <td>...</td>\n",
       "      <td>...</td>\n",
       "      <td>...</td>\n",
       "    </tr>\n",
       "    <tr>\n",
       "      <th>2593093</th>\n",
       "      <td>ATGGTAGGTAGGAAGTAAATGTTTAATGAGTGAATATTGTCTTTTT...</td>\n",
       "      <td>False</td>\n",
       "      <td>0</td>\n",
       "      <td>147.729767</td>\n",
       "      <td>20.466374</td>\n",
       "      <td>258</td>\n",
       "    </tr>\n",
       "    <tr>\n",
       "      <th>2866739</th>\n",
       "      <td>TGTGCATGTGTGCGGGTCTGTGCGCCTGTGCGGGCCTGTGCGCGTG...</td>\n",
       "      <td>False</td>\n",
       "      <td>0</td>\n",
       "      <td>0.380982</td>\n",
       "      <td>24.676701</td>\n",
       "      <td>259</td>\n",
       "    </tr>\n",
       "    <tr>\n",
       "      <th>4876959</th>\n",
       "      <td>AATCTTAATTAAATTTAGCAGTTTTAGTATAAGATGTGCCATTTTG...</td>\n",
       "      <td>False</td>\n",
       "      <td>0</td>\n",
       "      <td>16.765108</td>\n",
       "      <td>20.500501</td>\n",
       "      <td>260</td>\n",
       "    </tr>\n",
       "    <tr>\n",
       "      <th>674163</th>\n",
       "      <td>AATTATTGAAACCACTCTGTCTAAATATTATTTTCCCTTATTTTTC...</td>\n",
       "      <td>False</td>\n",
       "      <td>0</td>\n",
       "      <td>58.828411</td>\n",
       "      <td>20.735762</td>\n",
       "      <td>261</td>\n",
       "    </tr>\n",
       "    <tr>\n",
       "      <th>942934</th>\n",
       "      <td>CTAGATAACTTTAAATGAAGGCTCTAGATGTTAAGTGGTTTATATG...</td>\n",
       "      <td>False</td>\n",
       "      <td>0</td>\n",
       "      <td>166.344254</td>\n",
       "      <td>20.181074</td>\n",
       "      <td>262</td>\n",
       "    </tr>\n",
       "  </tbody>\n",
       "</table>\n",
       "<p>263 rows × 6 columns</p>\n",
       "</div>"
      ],
      "text/plain": [
       "                                                       seq  is_motif  n_motif  \\\n",
       "name                                                                            \n",
       "2262535  GTGCCTGCGGAAGAAGGAGGAGGAGGGCTGGCGATGAGAAGCAGCA...      True        2   \n",
       "5104759  GTGCGCCTTCCCTCCAGACGGGGCTGGGGCGGGCTCTGGGAAGAGC...     False        0   \n",
       "5290309  GTGAGTGGCCCCTACCCAGCCCCTCCCTGAGCCACTGGAGCCCCCT...      True        1   \n",
       "4025014  GCCGCCTGGGTTACAGACCTCCCCACAGCCTCATCTCGACTTACCT...     False        0   \n",
       "3012724  GTGCCGCTCCTGCAGGTGTCCGGGCCGCTCCTGGTGGTGCAGCTGC...      True        1   \n",
       "...                                                    ...       ...      ...   \n",
       "2593093  ATGGTAGGTAGGAAGTAAATGTTTAATGAGTGAATATTGTCTTTTT...     False        0   \n",
       "2866739  TGTGCATGTGTGCGGGTCTGTGCGCCTGTGCGGGCCTGTGCGCGTG...     False        0   \n",
       "4876959  AATCTTAATTAAATTTAGCAGTTTTAGTATAAGATGTGCCATTTTG...     False        0   \n",
       "674163   AATTATTGAAACCACTCTGTCTAAATATTATTTTCCCTTATTTTTC...     False        0   \n",
       "942934   CTAGATAACTTTAAATGAAGGCTCTAGATGTTAAGTGGTTTATATG...     False        0   \n",
       "\n",
       "         max_saliency  logLR:K562_rep6.SF3B4  rbp_idx  \n",
       "name                                                   \n",
       "2262535      0.147688               2.076006        0  \n",
       "5104759      0.119216               4.615396        1  \n",
       "5290309      0.127485               2.924894        2  \n",
       "4025014      0.588584               3.617420        3  \n",
       "3012724      0.101262               2.364004        4  \n",
       "...               ...                    ...      ...  \n",
       "2593093    147.729767              20.466374      258  \n",
       "2866739      0.380982              24.676701      259  \n",
       "4876959     16.765108              20.500501      260  \n",
       "674163      58.828411              20.735762      261  \n",
       "942934     166.344254              20.181074      262  \n",
       "\n",
       "[263 rows x 6 columns]"
      ]
     },
     "execution_count": 39,
     "metadata": {},
     "output_type": "execute_result"
    }
   ],
   "source": [
    "subset_seq_df"
   ]
  },
  {
   "cell_type": "code",
   "execution_count": 40,
   "id": "72c5c7d8",
   "metadata": {},
   "outputs": [
    {
     "data": {
      "text/html": [
       "<div>\n",
       "<style scoped>\n",
       "    .dataframe tbody tr th:only-of-type {\n",
       "        vertical-align: middle;\n",
       "    }\n",
       "\n",
       "    .dataframe tbody tr th {\n",
       "        vertical-align: top;\n",
       "    }\n",
       "\n",
       "    .dataframe thead th {\n",
       "        text-align: right;\n",
       "    }\n",
       "</style>\n",
       "<table border=\"1\" class=\"dataframe\">\n",
       "  <thead>\n",
       "    <tr style=\"text-align: right;\">\n",
       "      <th></th>\n",
       "      <th>seq</th>\n",
       "      <th>is_motif</th>\n",
       "      <th>n_motif</th>\n",
       "      <th>max_saliency</th>\n",
       "      <th>logLR:K562_rep6.SF3B4</th>\n",
       "      <th>rbp_idx</th>\n",
       "    </tr>\n",
       "    <tr>\n",
       "      <th>name</th>\n",
       "      <th></th>\n",
       "      <th></th>\n",
       "      <th></th>\n",
       "      <th></th>\n",
       "      <th></th>\n",
       "      <th></th>\n",
       "    </tr>\n",
       "  </thead>\n",
       "  <tbody>\n",
       "    <tr>\n",
       "      <th>3223087</th>\n",
       "      <td>GTGTGTTAGAACCTAACCAAATGTTAGAGAGATAAACTTTACATAG...</td>\n",
       "      <td>True</td>\n",
       "      <td>1</td>\n",
       "      <td>17.272051</td>\n",
       "      <td>7.524962</td>\n",
       "      <td>97</td>\n",
       "    </tr>\n",
       "    <tr>\n",
       "      <th>5627085</th>\n",
       "      <td>TCCACCGGCGGCTCTTAAACCGGGGAAGCAGCCCTTCCTCCGGCTT...</td>\n",
       "      <td>True</td>\n",
       "      <td>1</td>\n",
       "      <td>0.130422</td>\n",
       "      <td>11.341007</td>\n",
       "      <td>151</td>\n",
       "    </tr>\n",
       "    <tr>\n",
       "      <th>3135379</th>\n",
       "      <td>GGAGGTGCACACAAGGTCTTGTTGGCTGCCCCTGCAGGTCCCTGTC...</td>\n",
       "      <td>True</td>\n",
       "      <td>1</td>\n",
       "      <td>0.373986</td>\n",
       "      <td>11.514798</td>\n",
       "      <td>149</td>\n",
       "    </tr>\n",
       "    <tr>\n",
       "      <th>1680090</th>\n",
       "      <td>CAGCATTAAAAATGCTCGTTTACGTTACTACTCTTGTCTTTTTTTA...</td>\n",
       "      <td>True</td>\n",
       "      <td>1</td>\n",
       "      <td>65.167213</td>\n",
       "      <td>12.405917</td>\n",
       "      <td>146</td>\n",
       "    </tr>\n",
       "    <tr>\n",
       "      <th>2264894</th>\n",
       "      <td>TGGGACTCTGTATGGGCAAGGCCTCACTGGAGCCCTGGGTGTCTGC...</td>\n",
       "      <td>True</td>\n",
       "      <td>1</td>\n",
       "      <td>28.746435</td>\n",
       "      <td>11.514798</td>\n",
       "      <td>145</td>\n",
       "    </tr>\n",
       "    <tr>\n",
       "      <th>...</th>\n",
       "      <td>...</td>\n",
       "      <td>...</td>\n",
       "      <td>...</td>\n",
       "      <td>...</td>\n",
       "      <td>...</td>\n",
       "      <td>...</td>\n",
       "    </tr>\n",
       "    <tr>\n",
       "      <th>3706409</th>\n",
       "      <td>GGGCTTTCTGGAGGAGGTGTTGCATGAGGAGCCTAGGGCCAGGAGA...</td>\n",
       "      <td>True</td>\n",
       "      <td>3</td>\n",
       "      <td>32.507908</td>\n",
       "      <td>3.079421</td>\n",
       "      <td>44</td>\n",
       "    </tr>\n",
       "    <tr>\n",
       "      <th>3298299</th>\n",
       "      <td>TATCCCATCGGGACCCAGATTGCTTGGGGGCAGGGGGAATTGGAGT...</td>\n",
       "      <td>True</td>\n",
       "      <td>3</td>\n",
       "      <td>0.329585</td>\n",
       "      <td>8.001872</td>\n",
       "      <td>120</td>\n",
       "    </tr>\n",
       "    <tr>\n",
       "      <th>920928</th>\n",
       "      <td>CATGGGGCCGCCTCTCACAGTGAAGCCGGAGTGTCCCACCAAGGGG...</td>\n",
       "      <td>True</td>\n",
       "      <td>3</td>\n",
       "      <td>1.222312</td>\n",
       "      <td>2.119650</td>\n",
       "      <td>19</td>\n",
       "    </tr>\n",
       "    <tr>\n",
       "      <th>5355366</th>\n",
       "      <td>CAGGAGCTGGGGGCTCAGATCAGCCTGTGCAGTCAGGAGGGAGGGA...</td>\n",
       "      <td>True</td>\n",
       "      <td>4</td>\n",
       "      <td>28.303776</td>\n",
       "      <td>16.514578</td>\n",
       "      <td>238</td>\n",
       "    </tr>\n",
       "    <tr>\n",
       "      <th>5212219</th>\n",
       "      <td>CTTCCTAGGGGCTGTGGCTGTTTCCGGGGAGGCCGGGAGGGGCAGC...</td>\n",
       "      <td>True</td>\n",
       "      <td>4</td>\n",
       "      <td>5.575112</td>\n",
       "      <td>16.514578</td>\n",
       "      <td>201</td>\n",
       "    </tr>\n",
       "  </tbody>\n",
       "</table>\n",
       "<p>87 rows × 6 columns</p>\n",
       "</div>"
      ],
      "text/plain": [
       "                                                       seq  is_motif  n_motif  \\\n",
       "name                                                                            \n",
       "3223087  GTGTGTTAGAACCTAACCAAATGTTAGAGAGATAAACTTTACATAG...      True        1   \n",
       "5627085  TCCACCGGCGGCTCTTAAACCGGGGAAGCAGCCCTTCCTCCGGCTT...      True        1   \n",
       "3135379  GGAGGTGCACACAAGGTCTTGTTGGCTGCCCCTGCAGGTCCCTGTC...      True        1   \n",
       "1680090  CAGCATTAAAAATGCTCGTTTACGTTACTACTCTTGTCTTTTTTTA...      True        1   \n",
       "2264894  TGGGACTCTGTATGGGCAAGGCCTCACTGGAGCCCTGGGTGTCTGC...      True        1   \n",
       "...                                                    ...       ...      ...   \n",
       "3706409  GGGCTTTCTGGAGGAGGTGTTGCATGAGGAGCCTAGGGCCAGGAGA...      True        3   \n",
       "3298299  TATCCCATCGGGACCCAGATTGCTTGGGGGCAGGGGGAATTGGAGT...      True        3   \n",
       "920928   CATGGGGCCGCCTCTCACAGTGAAGCCGGAGTGTCCCACCAAGGGG...      True        3   \n",
       "5355366  CAGGAGCTGGGGGCTCAGATCAGCCTGTGCAGTCAGGAGGGAGGGA...      True        4   \n",
       "5212219  CTTCCTAGGGGCTGTGGCTGTTTCCGGGGAGGCCGGGAGGGGCAGC...      True        4   \n",
       "\n",
       "         max_saliency  logLR:K562_rep6.SF3B4  rbp_idx  \n",
       "name                                                   \n",
       "3223087     17.272051               7.524962       97  \n",
       "5627085      0.130422              11.341007      151  \n",
       "3135379      0.373986              11.514798      149  \n",
       "1680090     65.167213              12.405917      146  \n",
       "2264894     28.746435              11.514798      145  \n",
       "...               ...                    ...      ...  \n",
       "3706409     32.507908               3.079421       44  \n",
       "3298299      0.329585               8.001872      120  \n",
       "920928       1.222312               2.119650       19  \n",
       "5355366     28.303776              16.514578      238  \n",
       "5212219      5.575112              16.514578      201  \n",
       "\n",
       "[87 rows x 6 columns]"
      ]
     },
     "execution_count": 40,
     "metadata": {},
     "output_type": "execute_result"
    }
   ],
   "source": [
    "subset_seq_df.loc[(subset_seq_df['is_motif'])].sort_values(by = 'n_motif')"
   ]
  },
  {
   "cell_type": "code",
   "execution_count": 41,
   "id": "e64792ee",
   "metadata": {},
   "outputs": [
    {
     "data": {
      "text/html": [
       "<div>\n",
       "<style scoped>\n",
       "    .dataframe tbody tr th:only-of-type {\n",
       "        vertical-align: middle;\n",
       "    }\n",
       "\n",
       "    .dataframe tbody tr th {\n",
       "        vertical-align: top;\n",
       "    }\n",
       "\n",
       "    .dataframe thead th {\n",
       "        text-align: right;\n",
       "    }\n",
       "</style>\n",
       "<table border=\"1\" class=\"dataframe\">\n",
       "  <thead>\n",
       "    <tr style=\"text-align: right;\">\n",
       "      <th></th>\n",
       "      <th>seq</th>\n",
       "      <th>is_motif</th>\n",
       "      <th>n_motif</th>\n",
       "      <th>max_saliency</th>\n",
       "      <th>logLR:K562_rep6.SF3B4</th>\n",
       "      <th>rbp_idx</th>\n",
       "    </tr>\n",
       "    <tr>\n",
       "      <th>name</th>\n",
       "      <th></th>\n",
       "      <th></th>\n",
       "      <th></th>\n",
       "      <th></th>\n",
       "      <th></th>\n",
       "      <th></th>\n",
       "    </tr>\n",
       "  </thead>\n",
       "  <tbody>\n",
       "    <tr>\n",
       "      <th>12015</th>\n",
       "      <td>AAAGATAGGGGTTGGTGTCTATGGGTATGTTGGTGTCTATGGGTAT...</td>\n",
       "      <td>False</td>\n",
       "      <td>0</td>\n",
       "      <td>81.243416</td>\n",
       "      <td>3.769348</td>\n",
       "      <td>20</td>\n",
       "    </tr>\n",
       "    <tr>\n",
       "      <th>3270666</th>\n",
       "      <td>ATATCTTTAAGTTAATAAAAGGTATTAACATGCAGTTTCTAGGATA...</td>\n",
       "      <td>False</td>\n",
       "      <td>0</td>\n",
       "      <td>139.924973</td>\n",
       "      <td>5.482430</td>\n",
       "      <td>32</td>\n",
       "    </tr>\n",
       "    <tr>\n",
       "      <th>5666657</th>\n",
       "      <td>TGGCTTGTCTGGCTTGAGGATCCCTAGATGAGTGGCCCCCACCCCC...</td>\n",
       "      <td>False</td>\n",
       "      <td>0</td>\n",
       "      <td>5.553038</td>\n",
       "      <td>2.364004</td>\n",
       "      <td>43</td>\n",
       "    </tr>\n",
       "    <tr>\n",
       "      <th>1518135</th>\n",
       "      <td>ATATGTATGTGAATGAAATAGACCACATGATACTGTTTTGAGATTT...</td>\n",
       "      <td>False</td>\n",
       "      <td>0</td>\n",
       "      <td>32.725430</td>\n",
       "      <td>3.335490</td>\n",
       "      <td>46</td>\n",
       "    </tr>\n",
       "    <tr>\n",
       "      <th>3249542</th>\n",
       "      <td>GGCTAGCTAGTTTTATTGTCATATCTAGACAGTTGTTACTTTCACA...</td>\n",
       "      <td>False</td>\n",
       "      <td>0</td>\n",
       "      <td>47.452393</td>\n",
       "      <td>6.266882</td>\n",
       "      <td>49</td>\n",
       "    </tr>\n",
       "    <tr>\n",
       "      <th>...</th>\n",
       "      <td>...</td>\n",
       "      <td>...</td>\n",
       "      <td>...</td>\n",
       "      <td>...</td>\n",
       "      <td>...</td>\n",
       "      <td>...</td>\n",
       "    </tr>\n",
       "    <tr>\n",
       "      <th>2195701</th>\n",
       "      <td>TCAACGCATTTGAATGATAGTAGTTATTTTCATTGTCAGCAAATAA...</td>\n",
       "      <td>False</td>\n",
       "      <td>0</td>\n",
       "      <td>127.312943</td>\n",
       "      <td>20.877181</td>\n",
       "      <td>257</td>\n",
       "    </tr>\n",
       "    <tr>\n",
       "      <th>2593093</th>\n",
       "      <td>ATGGTAGGTAGGAAGTAAATGTTTAATGAGTGAATATTGTCTTTTT...</td>\n",
       "      <td>False</td>\n",
       "      <td>0</td>\n",
       "      <td>147.729767</td>\n",
       "      <td>20.466374</td>\n",
       "      <td>258</td>\n",
       "    </tr>\n",
       "    <tr>\n",
       "      <th>4876959</th>\n",
       "      <td>AATCTTAATTAAATTTAGCAGTTTTAGTATAAGATGTGCCATTTTG...</td>\n",
       "      <td>False</td>\n",
       "      <td>0</td>\n",
       "      <td>16.765108</td>\n",
       "      <td>20.500501</td>\n",
       "      <td>260</td>\n",
       "    </tr>\n",
       "    <tr>\n",
       "      <th>674163</th>\n",
       "      <td>AATTATTGAAACCACTCTGTCTAAATATTATTTTCCCTTATTTTTC...</td>\n",
       "      <td>False</td>\n",
       "      <td>0</td>\n",
       "      <td>58.828411</td>\n",
       "      <td>20.735762</td>\n",
       "      <td>261</td>\n",
       "    </tr>\n",
       "    <tr>\n",
       "      <th>942934</th>\n",
       "      <td>CTAGATAACTTTAAATGAAGGCTCTAGATGTTAAGTGGTTTATATG...</td>\n",
       "      <td>False</td>\n",
       "      <td>0</td>\n",
       "      <td>166.344254</td>\n",
       "      <td>20.181074</td>\n",
       "      <td>262</td>\n",
       "    </tr>\n",
       "  </tbody>\n",
       "</table>\n",
       "<p>102 rows × 6 columns</p>\n",
       "</div>"
      ],
      "text/plain": [
       "                                                       seq  is_motif  n_motif  \\\n",
       "name                                                                            \n",
       "12015    AAAGATAGGGGTTGGTGTCTATGGGTATGTTGGTGTCTATGGGTAT...     False        0   \n",
       "3270666  ATATCTTTAAGTTAATAAAAGGTATTAACATGCAGTTTCTAGGATA...     False        0   \n",
       "5666657  TGGCTTGTCTGGCTTGAGGATCCCTAGATGAGTGGCCCCCACCCCC...     False        0   \n",
       "1518135  ATATGTATGTGAATGAAATAGACCACATGATACTGTTTTGAGATTT...     False        0   \n",
       "3249542  GGCTAGCTAGTTTTATTGTCATATCTAGACAGTTGTTACTTTCACA...     False        0   \n",
       "...                                                    ...       ...      ...   \n",
       "2195701  TCAACGCATTTGAATGATAGTAGTTATTTTCATTGTCAGCAAATAA...     False        0   \n",
       "2593093  ATGGTAGGTAGGAAGTAAATGTTTAATGAGTGAATATTGTCTTTTT...     False        0   \n",
       "4876959  AATCTTAATTAAATTTAGCAGTTTTAGTATAAGATGTGCCATTTTG...     False        0   \n",
       "674163   AATTATTGAAACCACTCTGTCTAAATATTATTTTCCCTTATTTTTC...     False        0   \n",
       "942934   CTAGATAACTTTAAATGAAGGCTCTAGATGTTAAGTGGTTTATATG...     False        0   \n",
       "\n",
       "         max_saliency  logLR:K562_rep6.SF3B4  rbp_idx  \n",
       "name                                                   \n",
       "12015       81.243416               3.769348       20  \n",
       "3270666    139.924973               5.482430       32  \n",
       "5666657      5.553038               2.364004       43  \n",
       "1518135     32.725430               3.335490       46  \n",
       "3249542     47.452393               6.266882       49  \n",
       "...               ...                    ...      ...  \n",
       "2195701    127.312943              20.877181      257  \n",
       "2593093    147.729767              20.466374      258  \n",
       "4876959     16.765108              20.500501      260  \n",
       "674163      58.828411              20.735762      261  \n",
       "942934     166.344254              20.181074      262  \n",
       "\n",
       "[102 rows x 6 columns]"
      ]
     },
     "execution_count": 41,
     "metadata": {},
     "output_type": "execute_result"
    }
   ],
   "source": [
    "subset_seq_df.loc[(subset_seq_df['max_saliency']>5)&(~subset_seq_df['is_motif'])]"
   ]
  },
  {
   "cell_type": "code",
   "execution_count": 42,
   "id": "180d04e1",
   "metadata": {},
   "outputs": [
    {
     "data": {
      "text/html": [
       "<div>\n",
       "<style scoped>\n",
       "    .dataframe tbody tr th:only-of-type {\n",
       "        vertical-align: middle;\n",
       "    }\n",
       "\n",
       "    .dataframe tbody tr th {\n",
       "        vertical-align: top;\n",
       "    }\n",
       "\n",
       "    .dataframe thead th {\n",
       "        text-align: right;\n",
       "    }\n",
       "</style>\n",
       "<table border=\"1\" class=\"dataframe\">\n",
       "  <thead>\n",
       "    <tr style=\"text-align: right;\">\n",
       "      <th></th>\n",
       "      <th>seq</th>\n",
       "      <th>is_motif</th>\n",
       "      <th>n_motif</th>\n",
       "      <th>max_saliency</th>\n",
       "      <th>logLR:K562_rep6.SF3B4</th>\n",
       "      <th>rbp_idx</th>\n",
       "    </tr>\n",
       "    <tr>\n",
       "      <th>name</th>\n",
       "      <th></th>\n",
       "      <th></th>\n",
       "      <th></th>\n",
       "      <th></th>\n",
       "      <th></th>\n",
       "      <th></th>\n",
       "    </tr>\n",
       "  </thead>\n",
       "  <tbody>\n",
       "    <tr>\n",
       "      <th>3227960</th>\n",
       "      <td>CCTCCACCCTTCCCGGTGCCATGGGAGGCAGACACCAAGGCAGCAA...</td>\n",
       "      <td>True</td>\n",
       "      <td>1</td>\n",
       "      <td>37.761242</td>\n",
       "      <td>5.482430</td>\n",
       "      <td>16</td>\n",
       "    </tr>\n",
       "    <tr>\n",
       "      <th>69033</th>\n",
       "      <td>AAGCTTGAAGAAACACCCTGACTGGAGGCCCCTCAGGGACAGGCTA...</td>\n",
       "      <td>True</td>\n",
       "      <td>1</td>\n",
       "      <td>15.333066</td>\n",
       "      <td>3.251164</td>\n",
       "      <td>18</td>\n",
       "    </tr>\n",
       "    <tr>\n",
       "      <th>2633501</th>\n",
       "      <td>CCATAGCTGTGGTAACATTTGTTGCATGAATGGACCGTTGAAATAG...</td>\n",
       "      <td>True</td>\n",
       "      <td>1</td>\n",
       "      <td>22.893242</td>\n",
       "      <td>6.318511</td>\n",
       "      <td>36</td>\n",
       "    </tr>\n",
       "    <tr>\n",
       "      <th>4983116</th>\n",
       "      <td>CACGCGAAAGGCCCTTTCTAAGGTGGGCGGAGAGGAGTCCCTTTTC...</td>\n",
       "      <td>True</td>\n",
       "      <td>2</td>\n",
       "      <td>5.129692</td>\n",
       "      <td>5.017340</td>\n",
       "      <td>38</td>\n",
       "    </tr>\n",
       "    <tr>\n",
       "      <th>4340910</th>\n",
       "      <td>ACACATATCATTGACCCTGTCATGCGGCATGTGATTTTCATATCTT...</td>\n",
       "      <td>True</td>\n",
       "      <td>1</td>\n",
       "      <td>228.616776</td>\n",
       "      <td>5.017340</td>\n",
       "      <td>39</td>\n",
       "    </tr>\n",
       "    <tr>\n",
       "      <th>5279032</th>\n",
       "      <td>CTGGGCAGGATTCCTGGGAGGCCTGGGAGAGCAAGGGAAGCGCCAA...</td>\n",
       "      <td>True</td>\n",
       "      <td>2</td>\n",
       "      <td>69.350098</td>\n",
       "      <td>2.076006</td>\n",
       "      <td>40</td>\n",
       "    </tr>\n",
       "    <tr>\n",
       "      <th>3706409</th>\n",
       "      <td>GGGCTTTCTGGAGGAGGTGTTGCATGAGGAGCCTAGGGCCAGGAGA...</td>\n",
       "      <td>True</td>\n",
       "      <td>3</td>\n",
       "      <td>32.507908</td>\n",
       "      <td>3.079421</td>\n",
       "      <td>44</td>\n",
       "    </tr>\n",
       "    <tr>\n",
       "      <th>4759930</th>\n",
       "      <td>CGGGCCCAGTGTCCTCCATCAGGGACTCGAGTTGCCATGGGGCCTG...</td>\n",
       "      <td>True</td>\n",
       "      <td>1</td>\n",
       "      <td>12.447258</td>\n",
       "      <td>3.079421</td>\n",
       "      <td>61</td>\n",
       "    </tr>\n",
       "    <tr>\n",
       "      <th>173360</th>\n",
       "      <td>AAAGTTAGGTGGTGGTTGGAAATGGGAGAGAGCAAGGAGAAAACTC...</td>\n",
       "      <td>True</td>\n",
       "      <td>2</td>\n",
       "      <td>42.633877</td>\n",
       "      <td>9.978894</td>\n",
       "      <td>67</td>\n",
       "    </tr>\n",
       "    <tr>\n",
       "      <th>1206900</th>\n",
       "      <td>CACCTGTAGTAGCGATGAAGTAGGGCAGGGCAACGGGACTTCCCAG...</td>\n",
       "      <td>True</td>\n",
       "      <td>1</td>\n",
       "      <td>40.561741</td>\n",
       "      <td>6.808930</td>\n",
       "      <td>80</td>\n",
       "    </tr>\n",
       "    <tr>\n",
       "      <th>4421566</th>\n",
       "      <td>GAAAAAAAGAAAAGAAATTGGTATATTAGTATCTAAACATTTTTGG...</td>\n",
       "      <td>True</td>\n",
       "      <td>1</td>\n",
       "      <td>33.214287</td>\n",
       "      <td>7.639529</td>\n",
       "      <td>84</td>\n",
       "    </tr>\n",
       "    <tr>\n",
       "      <th>5700396</th>\n",
       "      <td>CGCCACCCCGCCCGCCCGCCCCATTCCGTTCCCCTGAGCTGGCCGG...</td>\n",
       "      <td>True</td>\n",
       "      <td>1</td>\n",
       "      <td>12.242914</td>\n",
       "      <td>7.856638</td>\n",
       "      <td>85</td>\n",
       "    </tr>\n",
       "    <tr>\n",
       "      <th>3223087</th>\n",
       "      <td>GTGTGTTAGAACCTAACCAAATGTTAGAGAGATAAACTTTACATAG...</td>\n",
       "      <td>True</td>\n",
       "      <td>1</td>\n",
       "      <td>17.272051</td>\n",
       "      <td>7.524962</td>\n",
       "      <td>97</td>\n",
       "    </tr>\n",
       "    <tr>\n",
       "      <th>3697542</th>\n",
       "      <td>CTAAAAAAAAAAAAAAAAAAAGTACTCTATGGGTGTCCTGAGATGC...</td>\n",
       "      <td>True</td>\n",
       "      <td>1</td>\n",
       "      <td>94.056618</td>\n",
       "      <td>6.594363</td>\n",
       "      <td>98</td>\n",
       "    </tr>\n",
       "    <tr>\n",
       "      <th>5605332</th>\n",
       "      <td>CACTCCTCTCCCACTCCTGACCACACCTTTGCCAGGGTCAGGAGTG...</td>\n",
       "      <td>True</td>\n",
       "      <td>1</td>\n",
       "      <td>75.028740</td>\n",
       "      <td>8.351256</td>\n",
       "      <td>105</td>\n",
       "    </tr>\n",
       "    <tr>\n",
       "      <th>2735268</th>\n",
       "      <td>GGGGCAGACAGGGAGGCTGAGGCAGGAAACCTCGTGAGTCCAGGCT...</td>\n",
       "      <td>True</td>\n",
       "      <td>1</td>\n",
       "      <td>166.832520</td>\n",
       "      <td>10.703356</td>\n",
       "      <td>127</td>\n",
       "    </tr>\n",
       "    <tr>\n",
       "      <th>2043159</th>\n",
       "      <td>CTGAGGAGCCCTCTGAGACCTGCACACCCACCCCAGGGAGCGCCCC...</td>\n",
       "      <td>True</td>\n",
       "      <td>2</td>\n",
       "      <td>11.033316</td>\n",
       "      <td>14.466805</td>\n",
       "      <td>129</td>\n",
       "    </tr>\n",
       "    <tr>\n",
       "      <th>5645238</th>\n",
       "      <td>GAAGCAGATATGGGCTCGGGCTGGCAGCTGAGGGGGCTCCTAGAAG...</td>\n",
       "      <td>True</td>\n",
       "      <td>1</td>\n",
       "      <td>9.190867</td>\n",
       "      <td>14.387900</td>\n",
       "      <td>130</td>\n",
       "    </tr>\n",
       "    <tr>\n",
       "      <th>4915579</th>\n",
       "      <td>ACCACACTCACCTGCTATTCAGCTTGGGTGGAGGCTGATTGGCCAC...</td>\n",
       "      <td>True</td>\n",
       "      <td>1</td>\n",
       "      <td>71.555138</td>\n",
       "      <td>11.514798</td>\n",
       "      <td>140</td>\n",
       "    </tr>\n",
       "    <tr>\n",
       "      <th>2264894</th>\n",
       "      <td>TGGGACTCTGTATGGGCAAGGCCTCACTGGAGCCCTGGGTGTCTGC...</td>\n",
       "      <td>True</td>\n",
       "      <td>1</td>\n",
       "      <td>28.746435</td>\n",
       "      <td>11.514798</td>\n",
       "      <td>145</td>\n",
       "    </tr>\n",
       "    <tr>\n",
       "      <th>1680090</th>\n",
       "      <td>CAGCATTAAAAATGCTCGTTTACGTTACTACTCTTGTCTTTTTTTA...</td>\n",
       "      <td>True</td>\n",
       "      <td>1</td>\n",
       "      <td>65.167213</td>\n",
       "      <td>12.405917</td>\n",
       "      <td>146</td>\n",
       "    </tr>\n",
       "    <tr>\n",
       "      <th>1571738</th>\n",
       "      <td>CTGCGCTTGCCCGGGGGCGTCAGGAGCAGCGAGGCCGCAGCAGCAG...</td>\n",
       "      <td>True</td>\n",
       "      <td>1</td>\n",
       "      <td>5.697597</td>\n",
       "      <td>12.553077</td>\n",
       "      <td>152</td>\n",
       "    </tr>\n",
       "    <tr>\n",
       "      <th>4935051</th>\n",
       "      <td>GTAGTTCTATATTAGTGAGATTTTATAGTAGAAAAAGTCTTTAAAT...</td>\n",
       "      <td>True</td>\n",
       "      <td>1</td>\n",
       "      <td>38.428783</td>\n",
       "      <td>12.254064</td>\n",
       "      <td>156</td>\n",
       "    </tr>\n",
       "    <tr>\n",
       "      <th>1734436</th>\n",
       "      <td>TGTGTGTTAGAGGCTGTGGGCCTTGGGCAGGAGGGGTGAGTGTTGG...</td>\n",
       "      <td>True</td>\n",
       "      <td>1</td>\n",
       "      <td>9.865617</td>\n",
       "      <td>13.878273</td>\n",
       "      <td>158</td>\n",
       "    </tr>\n",
       "    <tr>\n",
       "      <th>4847427</th>\n",
       "      <td>GTAGTGGCCTGTAGGAGCACTGGGGGCTTGTCATGGCTGGGGCAGC...</td>\n",
       "      <td>True</td>\n",
       "      <td>2</td>\n",
       "      <td>134.958694</td>\n",
       "      <td>13.334238</td>\n",
       "      <td>161</td>\n",
       "    </tr>\n",
       "    <tr>\n",
       "      <th>3825250</th>\n",
       "      <td>CTAAAACACATCAGAGATTGGGGTTGGAGAGGTCATCTGTATAGTC...</td>\n",
       "      <td>True</td>\n",
       "      <td>1</td>\n",
       "      <td>64.879593</td>\n",
       "      <td>12.553077</td>\n",
       "      <td>162</td>\n",
       "    </tr>\n",
       "    <tr>\n",
       "      <th>1784679</th>\n",
       "      <td>AGATTTTGCTATGGGAGAATGTCTTTCTACCTCTCCTTCATCATAG...</td>\n",
       "      <td>True</td>\n",
       "      <td>1</td>\n",
       "      <td>17.845894</td>\n",
       "      <td>12.254064</td>\n",
       "      <td>164</td>\n",
       "    </tr>\n",
       "    <tr>\n",
       "      <th>1228224</th>\n",
       "      <td>GGCAGAAGCTGCCTGCACTGGGGCCCTGGCTCTCTGAGTGGGAGGT...</td>\n",
       "      <td>True</td>\n",
       "      <td>1</td>\n",
       "      <td>36.978992</td>\n",
       "      <td>11.514798</td>\n",
       "      <td>168</td>\n",
       "    </tr>\n",
       "    <tr>\n",
       "      <th>21923</th>\n",
       "      <td>AGTGGGAGGCGGAGGCACTACCCCCTGGCTCTGGGGTGGGGTGTGG...</td>\n",
       "      <td>True</td>\n",
       "      <td>2</td>\n",
       "      <td>33.960297</td>\n",
       "      <td>12.405917</td>\n",
       "      <td>174</td>\n",
       "    </tr>\n",
       "    <tr>\n",
       "      <th>1227334</th>\n",
       "      <td>GATTCATTTTGTAAAAACTTTTTTGGAGGCCAAGAAATGAAGTTGT...</td>\n",
       "      <td>True</td>\n",
       "      <td>1</td>\n",
       "      <td>108.536392</td>\n",
       "      <td>13.334238</td>\n",
       "      <td>175</td>\n",
       "    </tr>\n",
       "    <tr>\n",
       "      <th>4031016</th>\n",
       "      <td>GTGCTCCCTTTCAGCCCCGGAGCCCGTCTGCTGTGTATTCGGCCGG...</td>\n",
       "      <td>True</td>\n",
       "      <td>1</td>\n",
       "      <td>58.657257</td>\n",
       "      <td>13.412930</td>\n",
       "      <td>178</td>\n",
       "    </tr>\n",
       "    <tr>\n",
       "      <th>5601785</th>\n",
       "      <td>GCTTGGCCTTGCCTCTCCAGGAGCCACCGTCACAGACCTGGGGTGG...</td>\n",
       "      <td>True</td>\n",
       "      <td>2</td>\n",
       "      <td>115.007401</td>\n",
       "      <td>11.341007</td>\n",
       "      <td>179</td>\n",
       "    </tr>\n",
       "    <tr>\n",
       "      <th>385416</th>\n",
       "      <td>GATATTTCAATAAATGTTTATATTGTTATTTATTCTTGTTTGGGAG...</td>\n",
       "      <td>True</td>\n",
       "      <td>2</td>\n",
       "      <td>73.777580</td>\n",
       "      <td>14.620042</td>\n",
       "      <td>182</td>\n",
       "    </tr>\n",
       "    <tr>\n",
       "      <th>3956252</th>\n",
       "      <td>CCACTGCATGCCATGCCCGGTTCTGTCTGTCTGTGGTGGTCTGGGT...</td>\n",
       "      <td>True</td>\n",
       "      <td>1</td>\n",
       "      <td>117.762184</td>\n",
       "      <td>11.320927</td>\n",
       "      <td>184</td>\n",
       "    </tr>\n",
       "    <tr>\n",
       "      <th>5212219</th>\n",
       "      <td>CTTCCTAGGGGCTGTGGCTGTTTCCGGGGAGGCCGGGAGGGGCAGC...</td>\n",
       "      <td>True</td>\n",
       "      <td>4</td>\n",
       "      <td>5.575112</td>\n",
       "      <td>16.514578</td>\n",
       "      <td>201</td>\n",
       "    </tr>\n",
       "    <tr>\n",
       "      <th>3126161</th>\n",
       "      <td>GGGAGGAGAGAAACTTTGGCTTAGAAACACAATCAGTGGAAATGTA...</td>\n",
       "      <td>True</td>\n",
       "      <td>1</td>\n",
       "      <td>37.517017</td>\n",
       "      <td>16.491432</td>\n",
       "      <td>220</td>\n",
       "    </tr>\n",
       "    <tr>\n",
       "      <th>3957752</th>\n",
       "      <td>TTCTTCCTCCACAAAATTCCTCCTTCCTGACTCTGACTGAGACCCC...</td>\n",
       "      <td>True</td>\n",
       "      <td>1</td>\n",
       "      <td>58.569611</td>\n",
       "      <td>15.755689</td>\n",
       "      <td>233</td>\n",
       "    </tr>\n",
       "    <tr>\n",
       "      <th>76863</th>\n",
       "      <td>CCCTCAGGATTTTGAAGTCATAAATGTGGGCATTTGGGAGGGTAGC...</td>\n",
       "      <td>True</td>\n",
       "      <td>1</td>\n",
       "      <td>35.789513</td>\n",
       "      <td>17.831295</td>\n",
       "      <td>236</td>\n",
       "    </tr>\n",
       "    <tr>\n",
       "      <th>5355366</th>\n",
       "      <td>CAGGAGCTGGGGGCTCAGATCAGCCTGTGCAGTCAGGAGGGAGGGA...</td>\n",
       "      <td>True</td>\n",
       "      <td>4</td>\n",
       "      <td>28.303776</td>\n",
       "      <td>16.514578</td>\n",
       "      <td>238</td>\n",
       "    </tr>\n",
       "    <tr>\n",
       "      <th>5286505</th>\n",
       "      <td>GCGGCGTCCACATGGGCAGGGATGGGTGGGGGAGGGTGGGCAGGGC...</td>\n",
       "      <td>True</td>\n",
       "      <td>1</td>\n",
       "      <td>10.228362</td>\n",
       "      <td>17.295177</td>\n",
       "      <td>252</td>\n",
       "    </tr>\n",
       "    <tr>\n",
       "      <th>5409291</th>\n",
       "      <td>AGGGATGGCGAGGGCAGAAAGAGTGGGACCTGGCTGGTTGAGGCTG...</td>\n",
       "      <td>True</td>\n",
       "      <td>1</td>\n",
       "      <td>22.111511</td>\n",
       "      <td>15.793405</td>\n",
       "      <td>254</td>\n",
       "    </tr>\n",
       "  </tbody>\n",
       "</table>\n",
       "</div>"
      ],
      "text/plain": [
       "                                                       seq  is_motif  n_motif  \\\n",
       "name                                                                            \n",
       "3227960  CCTCCACCCTTCCCGGTGCCATGGGAGGCAGACACCAAGGCAGCAA...      True        1   \n",
       "69033    AAGCTTGAAGAAACACCCTGACTGGAGGCCCCTCAGGGACAGGCTA...      True        1   \n",
       "2633501  CCATAGCTGTGGTAACATTTGTTGCATGAATGGACCGTTGAAATAG...      True        1   \n",
       "4983116  CACGCGAAAGGCCCTTTCTAAGGTGGGCGGAGAGGAGTCCCTTTTC...      True        2   \n",
       "4340910  ACACATATCATTGACCCTGTCATGCGGCATGTGATTTTCATATCTT...      True        1   \n",
       "5279032  CTGGGCAGGATTCCTGGGAGGCCTGGGAGAGCAAGGGAAGCGCCAA...      True        2   \n",
       "3706409  GGGCTTTCTGGAGGAGGTGTTGCATGAGGAGCCTAGGGCCAGGAGA...      True        3   \n",
       "4759930  CGGGCCCAGTGTCCTCCATCAGGGACTCGAGTTGCCATGGGGCCTG...      True        1   \n",
       "173360   AAAGTTAGGTGGTGGTTGGAAATGGGAGAGAGCAAGGAGAAAACTC...      True        2   \n",
       "1206900  CACCTGTAGTAGCGATGAAGTAGGGCAGGGCAACGGGACTTCCCAG...      True        1   \n",
       "4421566  GAAAAAAAGAAAAGAAATTGGTATATTAGTATCTAAACATTTTTGG...      True        1   \n",
       "5700396  CGCCACCCCGCCCGCCCGCCCCATTCCGTTCCCCTGAGCTGGCCGG...      True        1   \n",
       "3223087  GTGTGTTAGAACCTAACCAAATGTTAGAGAGATAAACTTTACATAG...      True        1   \n",
       "3697542  CTAAAAAAAAAAAAAAAAAAAGTACTCTATGGGTGTCCTGAGATGC...      True        1   \n",
       "5605332  CACTCCTCTCCCACTCCTGACCACACCTTTGCCAGGGTCAGGAGTG...      True        1   \n",
       "2735268  GGGGCAGACAGGGAGGCTGAGGCAGGAAACCTCGTGAGTCCAGGCT...      True        1   \n",
       "2043159  CTGAGGAGCCCTCTGAGACCTGCACACCCACCCCAGGGAGCGCCCC...      True        2   \n",
       "5645238  GAAGCAGATATGGGCTCGGGCTGGCAGCTGAGGGGGCTCCTAGAAG...      True        1   \n",
       "4915579  ACCACACTCACCTGCTATTCAGCTTGGGTGGAGGCTGATTGGCCAC...      True        1   \n",
       "2264894  TGGGACTCTGTATGGGCAAGGCCTCACTGGAGCCCTGGGTGTCTGC...      True        1   \n",
       "1680090  CAGCATTAAAAATGCTCGTTTACGTTACTACTCTTGTCTTTTTTTA...      True        1   \n",
       "1571738  CTGCGCTTGCCCGGGGGCGTCAGGAGCAGCGAGGCCGCAGCAGCAG...      True        1   \n",
       "4935051  GTAGTTCTATATTAGTGAGATTTTATAGTAGAAAAAGTCTTTAAAT...      True        1   \n",
       "1734436  TGTGTGTTAGAGGCTGTGGGCCTTGGGCAGGAGGGGTGAGTGTTGG...      True        1   \n",
       "4847427  GTAGTGGCCTGTAGGAGCACTGGGGGCTTGTCATGGCTGGGGCAGC...      True        2   \n",
       "3825250  CTAAAACACATCAGAGATTGGGGTTGGAGAGGTCATCTGTATAGTC...      True        1   \n",
       "1784679  AGATTTTGCTATGGGAGAATGTCTTTCTACCTCTCCTTCATCATAG...      True        1   \n",
       "1228224  GGCAGAAGCTGCCTGCACTGGGGCCCTGGCTCTCTGAGTGGGAGGT...      True        1   \n",
       "21923    AGTGGGAGGCGGAGGCACTACCCCCTGGCTCTGGGGTGGGGTGTGG...      True        2   \n",
       "1227334  GATTCATTTTGTAAAAACTTTTTTGGAGGCCAAGAAATGAAGTTGT...      True        1   \n",
       "4031016  GTGCTCCCTTTCAGCCCCGGAGCCCGTCTGCTGTGTATTCGGCCGG...      True        1   \n",
       "5601785  GCTTGGCCTTGCCTCTCCAGGAGCCACCGTCACAGACCTGGGGTGG...      True        2   \n",
       "385416   GATATTTCAATAAATGTTTATATTGTTATTTATTCTTGTTTGGGAG...      True        2   \n",
       "3956252  CCACTGCATGCCATGCCCGGTTCTGTCTGTCTGTGGTGGTCTGGGT...      True        1   \n",
       "5212219  CTTCCTAGGGGCTGTGGCTGTTTCCGGGGAGGCCGGGAGGGGCAGC...      True        4   \n",
       "3126161  GGGAGGAGAGAAACTTTGGCTTAGAAACACAATCAGTGGAAATGTA...      True        1   \n",
       "3957752  TTCTTCCTCCACAAAATTCCTCCTTCCTGACTCTGACTGAGACCCC...      True        1   \n",
       "76863    CCCTCAGGATTTTGAAGTCATAAATGTGGGCATTTGGGAGGGTAGC...      True        1   \n",
       "5355366  CAGGAGCTGGGGGCTCAGATCAGCCTGTGCAGTCAGGAGGGAGGGA...      True        4   \n",
       "5286505  GCGGCGTCCACATGGGCAGGGATGGGTGGGGGAGGGTGGGCAGGGC...      True        1   \n",
       "5409291  AGGGATGGCGAGGGCAGAAAGAGTGGGACCTGGCTGGTTGAGGCTG...      True        1   \n",
       "\n",
       "         max_saliency  logLR:K562_rep6.SF3B4  rbp_idx  \n",
       "name                                                   \n",
       "3227960     37.761242               5.482430       16  \n",
       "69033       15.333066               3.251164       18  \n",
       "2633501     22.893242               6.318511       36  \n",
       "4983116      5.129692               5.017340       38  \n",
       "4340910    228.616776               5.017340       39  \n",
       "5279032     69.350098               2.076006       40  \n",
       "3706409     32.507908               3.079421       44  \n",
       "4759930     12.447258               3.079421       61  \n",
       "173360      42.633877               9.978894       67  \n",
       "1206900     40.561741               6.808930       80  \n",
       "4421566     33.214287               7.639529       84  \n",
       "5700396     12.242914               7.856638       85  \n",
       "3223087     17.272051               7.524962       97  \n",
       "3697542     94.056618               6.594363       98  \n",
       "5605332     75.028740               8.351256      105  \n",
       "2735268    166.832520              10.703356      127  \n",
       "2043159     11.033316              14.466805      129  \n",
       "5645238      9.190867              14.387900      130  \n",
       "4915579     71.555138              11.514798      140  \n",
       "2264894     28.746435              11.514798      145  \n",
       "1680090     65.167213              12.405917      146  \n",
       "1571738      5.697597              12.553077      152  \n",
       "4935051     38.428783              12.254064      156  \n",
       "1734436      9.865617              13.878273      158  \n",
       "4847427    134.958694              13.334238      161  \n",
       "3825250     64.879593              12.553077      162  \n",
       "1784679     17.845894              12.254064      164  \n",
       "1228224     36.978992              11.514798      168  \n",
       "21923       33.960297              12.405917      174  \n",
       "1227334    108.536392              13.334238      175  \n",
       "4031016     58.657257              13.412930      178  \n",
       "5601785    115.007401              11.341007      179  \n",
       "385416      73.777580              14.620042      182  \n",
       "3956252    117.762184              11.320927      184  \n",
       "5212219      5.575112              16.514578      201  \n",
       "3126161     37.517017              16.491432      220  \n",
       "3957752     58.569611              15.755689      233  \n",
       "76863       35.789513              17.831295      236  \n",
       "5355366     28.303776              16.514578      238  \n",
       "5286505     10.228362              17.295177      252  \n",
       "5409291     22.111511              15.793405      254  "
      ]
     },
     "execution_count": 42,
     "metadata": {},
     "output_type": "execute_result"
    }
   ],
   "source": [
    "subset_seq_df.loc[(subset_seq_df['max_saliency']>5)&(subset_seq_df['is_motif'])]"
   ]
  },
  {
   "cell_type": "code",
   "execution_count": 43,
   "id": "8bd28ce0",
   "metadata": {},
   "outputs": [],
   "source": [
    "import pyBigWig\n",
    "import numpy as np\n",
    "\n",
    "class strand_specific_wig:\n",
    "    def __init__(self, plus, minus):\n",
    "        self.plus = pyBigWig.open(plus)\n",
    "        self.minus = pyBigWig.open(minus)\n",
    "        \n",
    "    def fetch(self, chrom = None, start= None, end=None, strand= None, interval = None):\n",
    "        ''' return icSHAPE reacitivity for a bedtool interval or chrom, start, end, strand'''\n",
    "        if interval:\n",
    "            start = interval.start\n",
    "            end = interval.end\n",
    "            strand = interval.strand\n",
    "            chrom = interval.chrom\n",
    "        if strand == '-':\n",
    "            icshape_data = self.minus\n",
    "        else:\n",
    "            icshape_data = self.plus\n",
    "        values = icshape_data.values(chrom, start, end)\n",
    "        if strand == '-':\n",
    "            values = values[::-1]\n",
    "        return np.nan_to_num(np.array(values), 0)"
   ]
  },
  {
   "cell_type": "code",
   "execution_count": 44,
   "id": "17011fec",
   "metadata": {},
   "outputs": [],
   "source": [
    "rbp_wig_cits = strand_specific_wig(f'../data/CITS/{rbp}.pos.bw',\n",
    "                                 f'../data/CITS/{rbp}.neg.bw'\n",
    "                                 )\n",
    "rbp_wig_cov = strand_specific_wig(f'../data/COV/{rbp}.pos.bw',\n",
    "                             f'../data/COV/{rbp}.neg.bw'\n",
    "                             )"
   ]
  },
  {
   "cell_type": "code",
   "execution_count": 45,
   "id": "242b60de",
   "metadata": {},
   "outputs": [],
   "source": [
    "subset_seq_df = subset_seq_df.merge(megaoutput[['name','gene_name', 'feature_type_top']], left_index = True,\n",
    "                    right_on = 'name')"
   ]
  },
  {
   "cell_type": "code",
   "execution_count": 46,
   "id": "0482b522",
   "metadata": {},
   "outputs": [
    {
     "data": {
      "text/plain": [
       "True"
      ]
     },
     "execution_count": 46,
     "metadata": {},
     "output_type": "execute_result"
    }
   ],
   "source": [
    "3123461 in megaoutput['name'].tolist()"
   ]
  },
  {
   "cell_type": "code",
   "execution_count": 48,
   "id": "8bd5d49c",
   "metadata": {},
   "outputs": [],
   "source": [
    "import seaborn as sns\n",
    "import logomaker\n",
    "from scipy.ndimage import gaussian_filter1d\n",
    "\n",
    "def plot_saliency(index):\n",
    "    index2seq = 'ACGU'\n",
    "    \n",
    "\n",
    "    # find coverage\n",
    "    window_name = subset_seq_df.loc[subset_seq_df['rbp_idx']==index, 'name'].values[0]\n",
    "    row = megaoutput.loc[megaoutput['name']==window_name].iloc[0]\n",
    "    wig_values = rbp_wig_cov.fetch(row['chrom'], row['start'], row['end'], row['strand'])\n",
    "    wig_values_cits = rbp_wig_cits.fetch(row['chrom'], row['start'], row['end'], row['strand'])\n",
    "\n",
    "    seq_values = one_hot[index,:,:] # [1,4,100]\n",
    "    gradient_values = guided_saliency[index,0,:,:].cpu().numpy() # [1,1,100,4]\n",
    "    saliency_values = gradient_values * seq_values.T # 4*100\n",
    "    saliency_df = pd.DataFrame(saliency_values.T)\n",
    "    saliency_df.index = list(index2seq)\n",
    "\n",
    "    saliency_df = saliency_df.loc[:, seq_values.sum(axis = 0)!=0].T\n",
    "    saliency_df.index = np.arange(saliency_df.shape[0])\n",
    "\n",
    "    f, ax = plt.subplots(3,1, sharex = True, figsize = (12,4))\n",
    "    logomaker.Logo(saliency_df, # only plot places with sequence\n",
    "                              shade_below=.5,\n",
    "                              fade_below=.5,\n",
    "                              font_name='Arial Rounded MT Bold', \n",
    "                  ax = ax[0])\n",
    "\n",
    "\n",
    "    ax[0].set_ylabel('saliency')\n",
    "    ax[1].bar(np.arange(len(wig_values)), wig_values, color = 'lightgrey')\n",
    "    ax[1].set_ylabel('coverage')\n",
    "    ax[2].bar(np.arange(len(wig_values_cits)), wig_values_cits, color = 'lightgrey')\n",
    "    ax[2].plot(gaussian_filter1d(wig_values_cits, 3), color = 'tomato', label = 'smoothed CITS')\n",
    "    ax[2].set_ylabel('#CITS')\n",
    "\n",
    "\n",
    "    sns.despine()"
   ]
  },
  {
   "cell_type": "code",
   "execution_count": 49,
   "id": "5aa38605",
   "metadata": {},
   "outputs": [
    {
     "data": {
      "text/plain": [
       "52906      16\n",
       "132983     18\n",
       "4303       20\n",
       "54339      32\n",
       "110605     35\n",
       "         ... \n",
       "115914    254\n",
       "86699     255\n",
       "25907     257\n",
       "132711    261\n",
       "137549    262\n",
       "Name: rbp_idx, Length: 129, dtype: int64"
      ]
     },
     "execution_count": 49,
     "metadata": {},
     "output_type": "execute_result"
    }
   ],
   "source": [
    "subset_seq_df.loc[subset_seq_df['feature_type_top']=='SS3_ADJ', 'rbp_idx']"
   ]
  },
  {
   "cell_type": "code",
   "execution_count": 50,
   "id": "85b00f7e",
   "metadata": {},
   "outputs": [
    {
     "name": "stderr",
     "output_type": "stream",
     "text": [
      "findfont: Font family ['Arial Rounded MT Bold'] not found. Falling back to DejaVu Sans.\n"
     ]
    },
    {
     "data": {
      "image/png": "[encoded data removed]",
      "text/plain": [
       "<Figure size 864x288 with 3 Axes>"
      ]
     },
     "metadata": {
      "needs_background": "light"
     },
     "output_type": "display_data"
    },
    {
     "data": {
      "image/png": "[encoded data removed]",
      "text/plain": [
       "<Figure size 864x288 with 3 Axes>"
      ]
     },
     "metadata": {
      "needs_background": "light"
     },
     "output_type": "display_data"
    },
    {
     "data": {
      "image/png": "[encoded data removed]",
      "text/plain": [
       "<Figure size 864x288 with 3 Axes>"
      ]
     },
     "metadata": {
      "needs_background": "light"
     },
     "output_type": "display_data"
    },
    {
     "data": {
      "image/png": "[encoded data removed]",
      "text/plain": [
       "<Figure size 864x288 with 3 Axes>"
      ]
     },
     "metadata": {
      "needs_background": "light"
     },
     "output_type": "display_data"
    },
    {
     "data": {
      "image/png": "[encoded data removed]",
      "text/plain": [
       "<Figure size 864x288 with 3 Axes>"
      ]
     },
     "metadata": {
      "needs_background": "light"
     },
     "output_type": "display_data"
    },
    {
     "data": {
      "image/png": "[encoded data removed]",
      "text/plain": [
       "<Figure size 864x288 with 3 Axes>"
      ]
     },
     "metadata": {
      "needs_background": "light"
     },
     "output_type": "display_data"
    },
    {
     "data": {
      "image/png": "[encoded data removed]",
      "text/plain": [
       "<Figure size 864x288 with 3 Axes>"
      ]
     },
     "metadata": {
      "needs_background": "light"
     },
     "output_type": "display_data"
    },
    {
     "data": {
      "image/png": "[encoded data removed]",
      "text/plain": [
       "<Figure size 864x288 with 3 Axes>"
      ]
     },
     "metadata": {
      "needs_background": "light"
     },
     "output_type": "display_data"
    },
    {
     "data": {
      "image/png": "[encoded data removed]",
      "text/plain": [
       "<Figure size 864x288 with 3 Axes>"
      ]
     },
     "metadata": {
      "needs_background": "light"
     },
     "output_type": "display_data"
    },
    {
     "data": {
      "image/png": "[encoded data removed]",
      "text/plain": [
       "<Figure size 864x288 with 3 Axes>"
      ]
     },
     "metadata": {
      "needs_background": "light"
     },
     "output_type": "display_data"
    },
    {
     "data": {
      "image/png": "[encoded data removed]",
      "text/plain": [
       "<Figure size 864x288 with 3 Axes>"
      ]
     },
     "metadata": {
      "needs_background": "light"
     },
     "output_type": "display_data"
    },
    {
     "data": {
      "image/png": "[encoded data removed]",
      "text/plain": [
       "<Figure size 864x288 with 3 Axes>"
      ]
     },
     "metadata": {
      "needs_background": "light"
     },
     "output_type": "display_data"
    },
    {
     "data": {
      "image/png": "[encoded data removed]",
      "text/plain": [
       "<Figure size 864x288 with 3 Axes>"
      ]
     },
     "metadata": {
      "needs_background": "light"
     },
     "output_type": "display_data"
    },
    {
     "data": {
      "image/png": "[encoded data removed]",
      "text/plain": [
       "<Figure size 864x288 with 3 Axes>"
      ]
     },
     "metadata": {
      "needs_background": "light"
     },
     "output_type": "display_data"
    },
    {
     "data": {
      "image/png": "[encoded data removed]",
      "text/plain": [
       "<Figure size 864x288 with 3 Axes>"
      ]
     },
     "metadata": {
      "needs_background": "light"
     },
     "output_type": "display_data"
    },
    {
     "data": {
      "image/png": "[encoded data removed]",
      "text/plain": [
       "<Figure size 864x288 with 3 Axes>"
      ]
     },
     "metadata": {
      "needs_background": "light"
     },
     "output_type": "display_data"
    },
    {
     "data": {
      "image/png": "[encoded data removed]",
      "text/plain": [
       "<Figure size 864x288 with 3 Axes>"
      ]
     },
     "metadata": {
      "needs_background": "light"
     },
     "output_type": "display_data"
    },
    {
     "data": {
      "image/png": "[encoded data removed]",
      "text/plain": [
       "<Figure size 864x288 with 3 Axes>"
      ]
     },
     "metadata": {
      "needs_background": "light"
     },
     "output_type": "display_data"
    },
    {
     "data": {
      "image/png": "[encoded data removed]",
      "text/plain": [
       "<Figure size 864x288 with 3 Axes>"
      ]
     },
     "metadata": {
      "needs_background": "light"
     },
     "output_type": "display_data"
    },
    {
     "data": {
      "image/png": "[encoded data removed]",
      "text/plain": [
       "<Figure size 864x288 with 3 Axes>"
      ]
     },
     "metadata": {
      "needs_background": "light"
     },
     "output_type": "display_data"
    }
   ],
   "source": [
    "for idx in subset_seq_df.loc[subset_seq_df['feature_type_top']=='SS3_ADJ', 'rbp_idx'].iloc[:20]:\n",
    "    plot_saliency(idx)"
   ]
  },
  {
   "cell_type": "code",
   "execution_count": null,
   "id": "d79f367c",
   "metadata": {},
   "outputs": [],
   "source": []
  }
 ],
 "metadata": {
  "kernelspec": {
   "display_name": "Python 3 (ipykernel)",
   "language": "python",
   "name": "python3"
  },
  "language_info": {
   "codemirror_mode": {
    "name": "ipython",
    "version": 3
   },
   "file_extension": ".py",
   "mimetype": "text/x-python",
   "name": "python",
   "nbconvert_exporter": "python",
   "pygments_lexer": "ipython3",
   "version": "3.9.5"
  }
 },
 "nbformat": 4,
 "nbformat_minor": 5
}
